{
 "cells": [
  {
   "cell_type": "markdown",
   "id": "related-output",
   "metadata": {},
   "source": [
    "# 사람이 말하는 단어를 인공지능 모델로 구분해보자"
   ]
  },
  {
   "cell_type": "markdown",
   "id": "essential-creativity",
   "metadata": {},
   "source": [
    "2차원 Spectrogram 데이터를 입력받아 모델을 아래 제시된 단계와 같이 수행해 보겠습니다.  \n",
    "기본 버전과 Skip-connection 버전으로 나누어 각각 진행해 보겠습니다."
   ]
  },
  {
   "cell_type": "markdown",
   "id": "speaking-headset",
   "metadata": {},
   "source": [
    "이제 오늘 만들어볼 음성인식 모델을 위한 학습데이터를 분석해 보겠습니다.  \n",
    "아래와 같이 환경을 구성한 후, 데이터 다운로드를 진행해 주세요.  \n",
    "**(주의 : 1.6GB의 대용량 데이터입니다. 다운로드에 시간이 오래걸릴 수 있으니 주의해 주세요.)**"
   ]
  },
  {
   "cell_type": "markdown",
   "id": "wireless-validity",
   "metadata": {},
   "source": [
    "- mkdir -p ~/aiffel/speech_recognition/data  \n",
    "- mkdir -p ~/aiffel/speech_recognition/models  \n",
    "- wget https://aiffelstaticdev.blob.core.windows.net/dataset/speech_wav_8000.npz -P ~/aiffel/speech_recognition/data"
   ]
  },
  {
   "cell_type": "markdown",
   "id": "fundamental-kingston",
   "metadata": {},
   "source": [
    "### 이렇게 다운로드받은 waveform 형태의 데이터에 대해 좀더 자세한 정보를 정리해 봅시다.\n",
    "\n",
    "**Wave 데이터 형식 뜯어보기**  \n",
    "Audio 데이터는 이미지 데이터보다 낮은 차원의 데이터를 다룹니다. 1개의 wav 파일은 1차원으로 이루어진 시계열 데이터입니다. 실제로는 여러 소리 파형이 합쳐진 복합파라고 보아야 합니다.\n",
    "\n",
    "**간단한 단어 인식을 위한 훈련데이터셋**  \n",
    "짧은 단어의 라벨이 달려 있어, 음성들을 텍스트로 구분하는 모델 혹은 간단한 명령어를 구별하는 모델로도 학습이 가능합니다.\n",
    "\n",
    "**Bits per sample**  \n",
    "샘플 하나마다 소리의 세기를 몇 비트로 저장했는지를 나타냅니다.\n",
    "값이 커질 수록 세기를 정확하게 저장할 수 있습니다.\n",
    "예를 들어, Bits rate가 16 bits 라면, 소리의 세기를 \n",
    "2  16, 즉 65,536 단계로 표현할 수 있습니다.\n",
    "4 bits / 8 bits unsigned int / 16 bits int / 24 bits / 32 bits float 등의 자료형으로 표현됩니다.\n",
    "\n",
    "**Sampling frequency**  \n",
    "샘플링 주파수라는 단어입니다. 소리로부터 초당 샘플링한 횟수를 의미합니다.\n",
    "샘플링은 원래 신호를 다시 복원할 수 있는 나이퀴스트(Nyquist) 샘플링 룰에 따라서, 복원해야 할 신호 주파수의 2배 이상으로 샘플링 해야합니다.\n",
    "가청 주파수 20 ~ 24 kHz를 복원하기 위해 사용하며, 음원에서 많이 쓰이는 값은 44.1 kHz입니다.\n",
    "\n",
    "**Channel**  \n",
    "각 채널별로 샘플링된 데이터가 따로 저장되어 있습니다.\n",
    "2채널(Stereo) 음원을 재생하면 왼쪽(L)과 오른쪽(R) 스피커에 다른 값이 출력됩니다.\n",
    "1채널(Mono) 음원의 경우 왼쪽(L) 데이터만 있으며, 재생시엔 왼쪽(L)과 오른쪽(R) 스피커에 같은 값이 출력됩니다."
   ]
  },
  {
   "cell_type": "code",
   "execution_count": 1,
   "id": "grand-reception",
   "metadata": {},
   "outputs": [],
   "source": [
    "import numpy as np\n",
    "import os\n",
    "import IPython.display as ipd\n",
    "import random\n",
    "import tensorflow as tf\n",
    "from sklearn.model_selection import train_test_split\n",
    "import librosa\n",
    "import librosa.display\n",
    "import matplotlib.pyplot as plt"
   ]
  },
  {
   "cell_type": "markdown",
   "id": "divided-christmas",
   "metadata": {},
   "source": [
    "사용할 모듈들 입니다."
   ]
  },
  {
   "cell_type": "code",
   "execution_count": 2,
   "id": "foreign-vanilla",
   "metadata": {},
   "outputs": [
    {
     "name": "stdout",
     "output_type": "stream",
     "text": [
      "✅\n"
     ]
    }
   ],
   "source": [
    "# import numpy as np\n",
    "# import os\n",
    "\n",
    "data_path = os.getenv(\"HOME\")+'/aiffel/speech_recognition/data/speech_wav_8000.npz'\n",
    "speech_data = np.load(data_path)\n",
    "\n",
    "print(\"✅\")"
   ]
  },
  {
   "cell_type": "markdown",
   "id": "understood-elizabeth",
   "metadata": {},
   "source": [
    "**데이터셋 살펴보기 : npz 파일로 이뤄진 데이터이며, 각각 데이터는 \"wav_vals\", \"label_vals\"로 저장되어있습니다.**"
   ]
  },
  {
   "cell_type": "code",
   "execution_count": 3,
   "id": "damaged-roberts",
   "metadata": {},
   "outputs": [
    {
     "name": "stdout",
     "output_type": "stream",
     "text": [
      "Wave data shape :  (50620, 8000)\n",
      "Label data shape :  (50620, 1)\n",
      "✅\n"
     ]
    }
   ],
   "source": [
    "print(\"Wave data shape : \", speech_data[\"wav_vals\"].shape)\n",
    "print(\"Label data shape : \", speech_data[\"label_vals\"].shape)\n",
    "print(\"✅\")"
   ]
  },
  {
   "cell_type": "markdown",
   "id": "criminal-daniel",
   "metadata": {},
   "source": [
    "- 데이터셋은 1초 길이의 오디오 음성데이터 **50620개**로 이뤄져 있습니다.  \n",
    "- 데이터셋은 캐글의 음성 인식 챌린지의 데이터입니다.  \n",
    "- 주어진 데이터의 원래 Sample rate는 16000이지만, 8000으로 re-sampling해 사용하겠습니다.  \n",
    "- 모두 1초의 길이를 가지는 오디오 음성데이터이여서 각각 **8000개**의 sample data를 가지고 있습니다."
   ]
  },
  {
   "cell_type": "markdown",
   "id": "vietnamese-curve",
   "metadata": {},
   "source": [
    "위에서 설명한 데이터가 맞는지 확인해봅시다."
   ]
  },
  {
   "cell_type": "code",
   "execution_count": 4,
   "id": "federal-independence",
   "metadata": {},
   "outputs": [
    {
     "name": "stdout",
     "output_type": "stream",
     "text": [
      "rand num :  42065\n",
      "Wave data shape :  (8000,)\n",
      "label :  ['yes']\n"
     ]
    },
    {
     "data": {
      "text/html": [
       "\n",
       "                <audio  controls=\"controls\" >\n",
       "                    <source src=\"data:audio/wav;base64,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\" type=\"audio/wav\" />\n",
       "                    Your browser does not support the audio element.\n",
       "                </audio>\n",
       "              "
      ],
      "text/plain": [
       "<IPython.lib.display.Audio object>"
      ]
     },
     "execution_count": 4,
     "metadata": {},
     "output_type": "execute_result"
    }
   ],
   "source": [
    "# import IPython.display as ipd\n",
    "# import random\n",
    "\n",
    "# 데이터 선택 (랜덤하게 선택하고 있으니, 여러번 실행해 보세요)\n",
    "rand = random.randint(0, len(speech_data[\"wav_vals\"]))\n",
    "print(\"rand num : \", rand)\n",
    "\n",
    "sr = 8000 # 1초동안 재생되는 샘플의 갯수\n",
    "data = speech_data[\"wav_vals\"][rand]\n",
    "print(\"Wave data shape : \", data.shape)\n",
    "print(\"label : \", speech_data[\"label_vals\"][rand])\n",
    "\n",
    "ipd.Audio(data, rate=sr)  # 음성을 들을 수 있게 해주는 코드"
   ]
  },
  {
   "cell_type": "markdown",
   "id": "meaning-logan",
   "metadata": {},
   "source": [
    "## 1. 데이터 처리와 분류"
   ]
  },
  {
   "cell_type": "markdown",
   "id": "linear-render",
   "metadata": {},
   "source": [
    "**Label data 처리 : 학습을 위해서는 Text 데이터를 학습가능한 형태로 만들어줘야 합니다.**"
   ]
  },
  {
   "cell_type": "markdown",
   "id": "blank-meeting",
   "metadata": {},
   "source": [
    "아래는 구분해야할 label 목록입니다.\n",
    "\n",
    "['yes', 'no', 'up', 'down', 'left', 'right', 'on', 'off', 'stop', 'go' ]\n",
    "\n",
    "이외 데이터들은 'unknown', 'silence'로 분류되어 있습니다."
   ]
  },
  {
   "cell_type": "code",
   "execution_count": 5,
   "id": "operational-objective",
   "metadata": {},
   "outputs": [
    {
     "name": "stdout",
     "output_type": "stream",
     "text": [
      "LABEL :  ['yes', 'no', 'up', 'down', 'left', 'right', 'on', 'off', 'stop', 'go', 'unknown', 'silence']\n",
      "Indexed LABEL :  {'yes': 0, 'no': 1, 'up': 2, 'down': 3, 'left': 4, 'right': 5, 'on': 6, 'off': 7, 'stop': 8, 'go': 9, 'unknown': 10, 'silence': 11}\n"
     ]
    }
   ],
   "source": [
    "target_list = ['yes', 'no', 'up', 'down', 'left', 'right', 'on', 'off', 'stop', 'go']\n",
    "\n",
    "label_value = target_list\n",
    "label_value.append('unknown')\n",
    "label_value.append('silence')\n",
    "\n",
    "print('LABEL : ', label_value)\n",
    "\n",
    "new_label_value = dict()\n",
    "for i, l in enumerate(label_value):\n",
    "    new_label_value[l] = i\n",
    "label_value = new_label_value\n",
    "\n",
    "print('Indexed LABEL : ', new_label_value)"
   ]
  },
  {
   "cell_type": "markdown",
   "id": "composed-radius",
   "metadata": {},
   "source": [
    "Text로 이루어진 라벨 데이터를 학습에 사용하기 위해서 index 형태로 바꿔주는 작업을 하였습니다.\n",
    "\n",
    "int로 이뤄진 index 작업을 통해서 Label data를 더 쉽게 사용할 수 있습니다."
   ]
  },
  {
   "cell_type": "code",
   "execution_count": 6,
   "id": "french-blake",
   "metadata": {},
   "outputs": [
    {
     "data": {
      "text/plain": [
       "array([ 3,  3,  3, ..., 11, 11, 11])"
      ]
     },
     "execution_count": 6,
     "metadata": {},
     "output_type": "execute_result"
    }
   ],
   "source": [
    "temp = []\n",
    "for v in speech_data[\"label_vals\"]:  # label_val : 타겟값\n",
    "    temp.append(label_value[v[0]])\n",
    "label_data = np.array(temp)\n",
    "\n",
    "label_data"
   ]
  },
  {
   "cell_type": "markdown",
   "id": "backed-reasoning",
   "metadata": {},
   "source": [
    "**학습을 위한 데이터 분리 : sklearn의 train_test_split 함수를 이용해 train data와 test data를 분리**"
   ]
  },
  {
   "cell_type": "code",
   "execution_count": 7,
   "id": "arbitrary-still",
   "metadata": {},
   "outputs": [
    {
     "name": "stdout",
     "output_type": "stream",
     "text": [
      "[[ 7.81660947e-06 -5.97482085e-06 -3.24129360e-05 ... -5.14028841e-07\n",
      "   1.17602576e-04  1.56978582e-04]\n",
      " [-3.14194732e-03 -6.20333850e-03 -6.80950703e-03 ...  2.74934131e-03\n",
      "   2.19548657e-03  5.30202268e-03]\n",
      " [ 3.26142134e-03  4.76182159e-03  1.15054965e-04 ...  2.62106187e-03\n",
      "   2.08210852e-03 -1.80397951e-03]\n",
      " ...\n",
      " [ 3.08633782e-03  4.34793904e-03 -4.18288080e-04 ...  2.74584163e-03\n",
      "   1.92458800e-03 -1.29721151e-03]\n",
      " [-6.01143241e-02  2.38282382e-02 -4.38359380e-02 ... -1.85854640e-02\n",
      "  -4.28747497e-02 -6.56643137e-03]\n",
      " [-1.70227066e-02 -3.09291817e-02 -2.95980070e-02 ...  4.68188040e-02\n",
      "   3.86227183e-02  3.37119997e-02]]\n",
      "✅\n"
     ]
    }
   ],
   "source": [
    "# from sklearn.model_selection import train_test_split\n",
    "\n",
    "sr = 8000\n",
    "train_wav, test_wav, train_label, test_label = train_test_split(speech_data[\"wav_vals\"], \n",
    "                                                                label_data, \n",
    "                                                                test_size=0.2,  # test_size의 인자를 조절해주면, 설정해 준 값만큼 Test dataset의 비율을 조정할 수 있음!\n",
    "                                                                shuffle=True)\n",
    "print(train_wav)\n",
    "\n",
    "train_wav = train_wav.reshape([-1, sr, 1]) # add channel for CNN\n",
    "test_wav = test_wav.reshape([-1, sr, 1])\n",
    "print(\"✅\")"
   ]
  },
  {
   "cell_type": "code",
   "execution_count": null,
   "id": "tribal-mounting",
   "metadata": {},
   "outputs": [],
   "source": []
  },
  {
   "cell_type": "code",
   "execution_count": null,
   "id": "moving-stewart",
   "metadata": {},
   "outputs": [],
   "source": []
  },
  {
   "cell_type": "code",
   "execution_count": null,
   "id": "leading-harvest",
   "metadata": {},
   "outputs": [],
   "source": []
  },
  {
   "cell_type": "markdown",
   "id": "industrial-tsunami",
   "metadata": {},
   "source": [
    "나눠진 데이터셋을 확인해 볼까요?"
   ]
  },
  {
   "cell_type": "code",
   "execution_count": 8,
   "id": "freelance-instrument",
   "metadata": {},
   "outputs": [
    {
     "name": "stdout",
     "output_type": "stream",
     "text": [
      "train data :  (40496, 8000, 1)\n",
      "train labels :  (40496,)\n",
      "test data :  (10124, 8000, 1)\n",
      "test labels :  (10124,)\n",
      "✅\n"
     ]
    }
   ],
   "source": [
    "print(\"train data : \", train_wav.shape)\n",
    "print(\"train labels : \", train_label.shape)\n",
    "print(\"test data : \", test_wav.shape)\n",
    "print(\"test labels : \", test_label.shape)\n",
    "print(\"✅\")"
   ]
  },
  {
   "cell_type": "markdown",
   "id": "tested-brazil",
   "metadata": {},
   "source": [
    "## 2. 학습을 위한 하이퍼파라미터 설정"
   ]
  },
  {
   "cell_type": "markdown",
   "id": "appreciated-cosmetic",
   "metadata": {},
   "source": [
    "모델 체크포인트 저장을 위한 체크포인트의 경로를 설정해줍니다.  \n",
    "후에 모델 체크포인트 Callback 함수를 설정하거나, 모델을 불러올때 사용합니다."
   ]
  },
  {
   "cell_type": "code",
   "execution_count": 9,
   "id": "acting-firmware",
   "metadata": {},
   "outputs": [
    {
     "data": {
      "text/plain": [
       "'/home/aiffel-dj49/aiffel/speech_recognition/models/wav'"
      ]
     },
     "execution_count": 9,
     "metadata": {},
     "output_type": "execute_result"
    }
   ],
   "source": [
    "batch_size = 32\n",
    "max_epochs = 10\n",
    "\n",
    "# the save point\n",
    "checkpoint_dir = os.getenv('HOME')+'/aiffel/speech_recognition/models/wav'\n",
    "\n",
    "checkpoint_dir"
   ]
  },
  {
   "cell_type": "markdown",
   "id": "charming-blair",
   "metadata": {},
   "source": [
    "## 3. 데이터셋 구성"
   ]
  },
  {
   "cell_type": "markdown",
   "id": "moving-glasgow",
   "metadata": {},
   "source": [
    "map 함수는 dataset이 데이터를 불러올때마다 동작시킬 데이터 전처리 함수를 매핑해 주는 역할을 합니다. 첫번째 map 함수는 from_tensor_slice 에 입력한 튜플 형태로 데이터를 받으며 return 값으로 어떤 데이터를 반환할지 결정합니다.\n",
    "map 함수는 중첩해서 사용이 가능합니다.\n",
    "\n",
    "아래와 같이, map 함수에 넘겨줄 데이터 전처리 함수를 작성해 봅시다."
   ]
  },
  {
   "cell_type": "code",
   "execution_count": 10,
   "id": "worse-bible",
   "metadata": {},
   "outputs": [
    {
     "name": "stdout",
     "output_type": "stream",
     "text": [
      "✅\n"
     ]
    }
   ],
   "source": [
    "def one_hot_label(wav, label):\n",
    "    label = tf.one_hot(label, depth=12)\n",
    "    return wav, label\n",
    "print(\"✅\")"
   ]
  },
  {
   "cell_type": "markdown",
   "id": "worth-teach",
   "metadata": {},
   "source": [
    "tf.data.Dataset 함수를 이용해서 데이터셋을 구성하겠습니다.  \n",
    "Tensorflow에 포함된 이 데이터셋 관리 패키지는 데이터셋 전처리, 배치처리 등을 쉽게 할 수 있도록 해 줍니다. 자주 사용하게 되니 사용법을 잘 익혀 둡시다."
   ]
  },
  {
   "cell_type": "code",
   "execution_count": 11,
   "id": "blond-involvement",
   "metadata": {},
   "outputs": [
    {
     "name": "stdout",
     "output_type": "stream",
     "text": [
      "<BatchDataset shapes: ((None, 8000, 1), (None, 12)), types: (tf.float32, tf.float32)>\n",
      "<BatchDataset shapes: ((None, 8000, 1), (None, 12)), types: (tf.float32, tf.float32)>\n",
      "✅\n"
     ]
    }
   ],
   "source": [
    "# import tensorflow as tf\n",
    "\n",
    "# for train\n",
    "train_dataset = tf.data.Dataset.from_tensor_slices((train_wav, train_label))  # return 받길 원하는 데이터를 튜플 (data, label) 형태로 넣어서 사용할 수 있습니다.\n",
    "train_dataset = train_dataset.map(one_hot_label)\n",
    "train_dataset = train_dataset.repeat().batch(batch_size=batch_size)\n",
    "print(train_dataset)\n",
    "\n",
    "# for test\n",
    "test_dataset = tf.data.Dataset.from_tensor_slices((test_wav, test_label))  # return 받길 원하는 데이터를 튜플 (data, label) 형태로 넣어서 사용할 수 있습니다.\n",
    "test_dataset = test_dataset.map(one_hot_label)\n",
    "test_dataset = test_dataset.batch(batch_size=batch_size)  # dataset에서 제공하는 튜플 형태의 데이터를 얼마나 가져올지 결정하는 함수\n",
    "print(test_dataset)\n",
    "print(\"✅\")"
   ]
  },
  {
   "cell_type": "markdown",
   "id": "neural-sunrise",
   "metadata": {},
   "source": [
    "- 주의 : waveform을 spectrogram으로 변환하기 위해 추가로 사용하는 메모리 때문에 이후 메모리 부족 현상을 겪게 될수도 있습니다.\n",
    "- tf.data.Dataset이 생성된 이후, 아래 예시와 같이 wav 데이터나 spectrogram 데이터를 담아둔 메모리 버퍼를 비워 주면 도움이 됩니다."
   ]
  },
  {
   "cell_type": "code",
   "execution_count": 12,
   "id": "least-garden",
   "metadata": {},
   "outputs": [],
   "source": [
    "# del speech_data  \n",
    "# del spec_data"
   ]
  },
  {
   "cell_type": "markdown",
   "id": "renewable-purple",
   "metadata": {},
   "source": [
    "## 4. 2차원 Spectrogram 데이터를 처리하는 모델 구성"
   ]
  },
  {
   "cell_type": "markdown",
   "id": "second-pregnancy",
   "metadata": {},
   "source": [
    "- 2차원 Spectrogram 데이터의 시간축 방향으로 Conv1D layer를 적용, 혹은 Conv2D layer를 적용 가능\n",
    "- batchnorm, dropout, dense layer 등을 이용\n",
    "- 12개의 단어 class를 구분하는 loss를 사용하고 Adam optimizer를 사용\n",
    "- 모델 가중치를 저장하는 checkpoint callback 함수 추가\n",
    "- 다양한 모델의 실험을 진행해 보시기 바랍니다."
   ]
  },
  {
   "cell_type": "markdown",
   "id": "diverse-source",
   "metadata": {},
   "source": [
    "**Spectrogram이란?**\n",
    "\n",
    "wav 데이터를 해석하는 방법 중 하나로, 일정 시간동안 wav 데이터 안의 다양한 주파수들이 얼마나 포함되어 있는 지를 보여줍니다.\n",
    "이 Spectrogram을 그리는 방법이 바로 위에 소개한 STFT 입니다."
   ]
  },
  {
   "cell_type": "markdown",
   "id": "provincial-carpet",
   "metadata": {},
   "source": [
    "X축은 시간, Y축은 주파수를 나타내며, 해당 시간/주파수에서의 음파 강도에 따라 밝은색으로 표현됩니다.\n",
    "wav 데이터가 단위 시간만큼 Short Time Fourier Transform을 진행해 매 순간의 주파수 데이터들을 얻어서 Spectrogram을 완성합니다.\n",
    "\n",
    "Step2에서 사용한 샘플데이터를 이용하여 스펙트로그램을 생성해 봅시다.\n",
    "\n",
    "먼저 파이썬에서 제공하는 FFT 관련 라이브러리인 librosa를 설치합니다."
   ]
  },
  {
   "cell_type": "markdown",
   "id": "perceived-classics",
   "metadata": {},
   "source": [
    "pip install librosa"
   ]
  },
  {
   "cell_type": "code",
   "execution_count": 13,
   "id": "emerging-colleague",
   "metadata": {},
   "outputs": [
    {
     "name": "stdout",
     "output_type": "stream",
     "text": [
      "✅\n"
     ]
    }
   ],
   "source": [
    "# import librosa\n",
    "\n",
    "def wav2spec(wav, fft_size=258): # spectrogram shape을 맞추기위해서 size 변형\n",
    "    D = np.abs(librosa.stft(wav, n_fft=fft_size))\n",
    "    return D\n",
    "print(\"✅\")"
   ]
  },
  {
   "cell_type": "code",
   "execution_count": 14,
   "id": "precise-junior",
   "metadata": {},
   "outputs": [
    {
     "name": "stdout",
     "output_type": "stream",
     "text": [
      "Waveform shape :  (8000,)\n",
      "Spectrogram shape :  (130, 126)\n"
     ]
    }
   ],
   "source": [
    "# 위에서 뽑았던 sample data\n",
    "spec = wav2spec(data)\n",
    "print(\"Waveform shape : \",data.shape)\n",
    "print(\"Spectrogram shape : \",spec.shape)"
   ]
  },
  {
   "cell_type": "markdown",
   "id": "otherwise-wrestling",
   "metadata": {},
   "source": [
    "어떻습니까? 1차원의 Waveform 데이터가 2차원의 Spectrogram 데이터로 변환되었습니다.\n",
    "\n",
    "그렇다면 방금 변환된 Spectrogram을 출력해보겠습니다.\n",
    "\n",
    "만약에, 우리가 Waveform 데이터 대신 이 Spectrogram 포맷으로 모든 음성 데이터를 변환한 후 음성인식 모델을 학습시킨다면, 과연 Waveform과 비교했을 때 더 나은 성능을 기대할 수 있을까요?"
   ]
  },
  {
   "cell_type": "code",
   "execution_count": 15,
   "id": "recognized-liberty",
   "metadata": {},
   "outputs": [
    {
     "data": {
      "image/png": "[encoded data removed]",
      "text/plain": [
       "<Figure size 432x288 with 2 Axes>"
      ]
     },
     "metadata": {
      "needs_background": "light"
     },
     "output_type": "display_data"
    }
   ],
   "source": [
    "# import librosa.display\n",
    "# import matplotlib.pyplot as plt\n",
    "\n",
    "librosa.display.specshow(librosa.amplitude_to_db(spec, ref=np.max), x_axis='time')\n",
    "plt.title('Power spectrogram')\n",
    "plt.colorbar(format='%+2.0f dB')\n",
    "plt.xticks(range(0, 1))\n",
    "plt.tight_layout()\n",
    "plt.show()"
   ]
  },
  {
   "cell_type": "markdown",
   "id": "awful-bloom",
   "metadata": {},
   "source": [
    "## 5. 학습 후, 학습이 어떻게 진행됐는지 그래프로 출력"
   ]
  },
  {
   "cell_type": "markdown",
   "id": "registered-screen",
   "metadata": {},
   "source": [
    "###### loss, accuracy를 그래프로 표현"
   ]
  },
  {
   "cell_type": "code",
   "execution_count": 16,
   "id": "copyrighted-hungarian",
   "metadata": {},
   "outputs": [],
   "source": [
    "'''train_wav = train_wav.reshape(-1, sr, 126, 1)\n",
    "#위의 batch된 데이터들과 맞춰준다\n",
    "#-1옵션은 size를 기반으로 row의 개수를 선정한다\n",
    "test_wav = test_wav.reshape(-1, sr, 126, 1)'''\n",
    "\n",
    "from tensorflow.keras import layers\n",
    "input_tensor = layers.Input(shape=(sr, 126, 1))\n",
    "\n",
    "\n",
    "x = layers.Conv2D(32, (3,3), padding='same', activation='relu')(input_tensor)\n",
    "x = layers.Conv2D(32, (3,3), padding='same', activation='relu')(x)\n",
    "skip_1 = layers.MaxPool2D()(x)\n",
    "\n",
    "x = layers.Conv2D(64, (3,3), padding='same', activation='relu')(skip_1)\n",
    "x = layers.Conv2D(64, (3,3), padding='same', activation='relu')(x)\n",
    "x = tf.concat([x, skip_1], -1)\n",
    "skip_2 = layers.MaxPool2D()(x)\n",
    "\n",
    "x = layers.Conv2D(128, (3,3), padding='same', activation='relu')(skip_2)\n",
    "x = layers.Conv2D(128, (3,3), padding='same', activation='relu')(x)\n",
    "x = layers.Conv2D(128, (3,3), padding='same', activation='relu')(x)\n",
    "x = tf.concat([x, skip_2], -1)\n",
    "skip_3 = layers.MaxPool2D()(x)\n",
    "\n",
    "x = layers.Conv2D(256, (3,3), padding='same', activation='relu')(skip_3)\n",
    "x = layers.Conv2D(256, (3,3), padding='same', activation='relu')(x)\n",
    "x = layers.Conv2D(256, (3,3), padding='same', activation='relu')(x)\n",
    "x = tf.concat([x, skip_3], -1)\n",
    "x = layers.MaxPool2D()(x)\n",
    "x = layers.Dropout(0.3)(x)\n",
    "\n",
    "x = layers.Flatten()(x)\n",
    "x = layers.Dense(256)(x)\n",
    "x = layers.BatchNormalization()(x)\n",
    "x = layers.Activation('relu')(x)\n",
    "\n",
    "output_tensor = layers.Dense(12)(x)\n",
    "\n",
    "model_wav = tf.keras.Model(input_tensor, output_tensor)\n",
    "\n",
    "model_wav.compile(loss=tf.keras.losses.CategoricalCrossentropy(from_logits=True),\n",
    "                  optimizer=tf.keras.optimizers.Adam(1e-4),\n",
    "                  metrics=['accuracy'])\n",
    "\n",
    "cp_callback = tf.keras.callbacks.ModelCheckpoint(checkpoint_dir,#checkpoint의 가중치\n",
    "                                                 save_weights_only=True,\n",
    "                                                 monitor='val_loss',\n",
    "                                                 mode='auto',\n",
    "                                                 save_best_only=True,\n",
    "                                                 verbose=1)"
   ]
  },
  {
   "cell_type": "code",
   "execution_count": 17,
   "id": "elder-paper",
   "metadata": {},
   "outputs": [
    {
     "ename": "NameError",
     "evalue": "name 'model_wav_skip' is not defined",
     "output_type": "error",
     "traceback": [
      "\u001b[0;31m---------------------------------------------------------------------------\u001b[0m",
      "\u001b[0;31mNameError\u001b[0m                                 Traceback (most recent call last)",
      "\u001b[0;32m<ipython-input-17-b733b68d43c5>\u001b[0m in \u001b[0;36m<module>\u001b[0;34m\u001b[0m\n\u001b[1;32m      1\u001b[0m \u001b[0moptimizer\u001b[0m\u001b[0;34m=\u001b[0m\u001b[0mtf\u001b[0m\u001b[0;34m.\u001b[0m\u001b[0mkeras\u001b[0m\u001b[0;34m.\u001b[0m\u001b[0moptimizers\u001b[0m\u001b[0;34m.\u001b[0m\u001b[0mAdam\u001b[0m\u001b[0;34m(\u001b[0m\u001b[0;36m1e-4\u001b[0m\u001b[0;34m)\u001b[0m\u001b[0;34m\u001b[0m\u001b[0;34m\u001b[0m\u001b[0m\n\u001b[0;32m----> 2\u001b[0;31m model_wav_skip.compile(loss=tf.keras.losses.CategoricalCrossentropy(from_logits=True),\n\u001b[0m\u001b[1;32m      3\u001b[0m              \u001b[0moptimizer\u001b[0m\u001b[0;34m=\u001b[0m\u001b[0moptimizer\u001b[0m\u001b[0;34m,\u001b[0m\u001b[0;34m\u001b[0m\u001b[0;34m\u001b[0m\u001b[0m\n\u001b[1;32m      4\u001b[0m              metrics=['accuracy'])\n\u001b[1;32m      5\u001b[0m \u001b[0mprint\u001b[0m\u001b[0;34m(\u001b[0m\u001b[0;34m\"✅\"\u001b[0m\u001b[0;34m)\u001b[0m\u001b[0;34m\u001b[0m\u001b[0;34m\u001b[0m\u001b[0m\n",
      "\u001b[0;31mNameError\u001b[0m: name 'model_wav_skip' is not defined"
     ]
    }
   ],
   "source": [
    "optimizer=tf.keras.optimizers.Adam(1e-4)\n",
    "model_wav_skip.compile(loss=tf.keras.losses.CategoricalCrossentropy(from_logits=True),\n",
    "             optimizer=optimizer,\n",
    "             metrics=['accuracy'])\n",
    "print(\"✅\")"
   ]
  },
  {
   "cell_type": "code",
   "execution_count": null,
   "id": "classified-clothing",
   "metadata": {},
   "outputs": [],
   "source": [
    "# the save point\n",
    "checkpoint_dir = os.getenv('HOME')+'/aiffel/speech_recognition/models/wav_skip'\n",
    "\n",
    "cp_callback = tf.keras.callbacks.ModelCheckpoint(checkpoint_dir,\n",
    "                                                 save_weights_only=True,\n",
    "                                                 monitor='val_loss',\n",
    "                                                 mode='auto',\n",
    "                                                 save_best_only=True,\n",
    "                                                 verbose=1)\n",
    "print(\"✅\")"
   ]
  },
  {
   "cell_type": "code",
   "execution_count": null,
   "id": "dominican-tragedy",
   "metadata": {},
   "outputs": [],
   "source": [
    "#30분 내외 소요\n",
    "history_wav_skip = model_wav_skip.fit(train_dataset, epochs=max_epochs,\n",
    "                    steps_per_epoch=len(train_wav) // batch_size,\n",
    "                    validation_data=test_dataset,\n",
    "                    validation_steps=len(test_wav) // batch_size,\n",
    "                    callbacks=[cp_callback]\n",
    "                    )\n",
    "print(\"✅\")"
   ]
  },
  {
   "cell_type": "code",
   "execution_count": null,
   "id": "imported-flavor",
   "metadata": {},
   "outputs": [],
   "source": [
    "# import matplotlib.pyplot as plt\n",
    "\n",
    "acc = history_wav_skip.history['accuracy']\n",
    "val_acc = history_wav_skip.history['val_accuracy']\n",
    "\n",
    "loss=history_wav_skip.history['loss']\n",
    "val_loss=history_wav_skip.history['val_loss']\n",
    "\n",
    "epochs_range = range(len(acc))\n",
    "\n",
    "plt.figure(figsize=(8, 8))\n",
    "plt.subplot(1, 2, 1)\n",
    "plt.plot(epochs_range, acc, label='Training Accuracy')\n",
    "plt.plot(epochs_range, val_acc, label='Validation Accuracy')\n",
    "plt.legend(loc='lower right')\n",
    "plt.title('Training and Validation Accuracy')\n",
    "\n",
    "plt.subplot(1, 2, 2)\n",
    "plt.plot(epochs_range, loss, label='Training Loss')\n",
    "plt.plot(epochs_range, val_loss, label='Validation Loss')\n",
    "plt.legend(loc='upper right')\n",
    "plt.title('Training and Validation Loss')\n",
    "plt.show()\n",
    "print(\"✅\")"
   ]
  },
  {
   "cell_type": "markdown",
   "id": "ignored-juice",
   "metadata": {},
   "source": [
    "## 6. Test dataset을 이용해서 모델의 성능을 평가"
   ]
  },
  {
   "cell_type": "code",
   "execution_count": null,
   "id": "prospective-brooks",
   "metadata": {},
   "outputs": [],
   "source": [
    "# Evaluation \n",
    "\n",
    "model_wav_skip.load_weights(checkpoint_dir)\n",
    "results = model_wav_skip.evaluate(test_dataset)\n",
    "\n",
    "# loss\n",
    "print(\"loss value: {:.3f}\".format(results[0]))\n",
    "# accuracy\n",
    "print(\"accuracy value: {:.4f}%\".format(results[1]*100))\n",
    "print(\"✅\")"
   ]
  },
  {
   "cell_type": "code",
   "execution_count": null,
   "id": "warming-apparatus",
   "metadata": {},
   "outputs": [],
   "source": [
    "# Test \n",
    "\n",
    "inv_label_value = {v: k for k, v in label_value.items()}\n",
    "batch_index = np.random.choice(len(test_wav), size=1, replace=False)\n",
    "\n",
    "batch_xs = test_wav[batch_index]\n",
    "batch_ys = test_label[batch_index]\n",
    "y_pred_ = model_wav_skip(batch_xs, training=False)\n",
    "\n",
    "print(\"label : \", str(inv_label_value[batch_ys[0]]))\n",
    "\n",
    "ipd.Audio(batch_xs.reshape(8000,), rate=8000)"
   ]
  },
  {
   "cell_type": "markdown",
   "id": "advised-motel",
   "metadata": {},
   "source": [
    "- 저장한 weight 불러오기\n",
    "- 모델의 예측값과 정답값이 얼마나 일치하는지 확인"
   ]
  },
  {
   "cell_type": "code",
   "execution_count": null,
   "id": "awful-reflection",
   "metadata": {},
   "outputs": [],
   "source": [
    "if np.argmax(y_pred_) == batch_ys[0]:\n",
    "    print(\"y_pred: \" + str(inv_label_value[np.argmax(y_pred_)]) + '(Correct!)')\n",
    "else:\n",
    "    print(\"y_pred: \" + str(inv_label_value[np.argmax(y_pred_)]) + '(Incorrect!)')\n",
    "print(\"✅\")"
   ]
  },
  {
   "cell_type": "markdown",
   "id": "ordinary-retirement",
   "metadata": {},
   "source": []
  },
  {
   "cell_type": "markdown",
   "id": "institutional-vermont",
   "metadata": {},
   "source": [
    "## 루브릭 평가"
   ]
  },
  {
   "cell_type": "markdown",
   "id": "developing-daniel",
   "metadata": {},
   "source": [
    "1. 음성데이터를 2차원 Spectrogram 으로 변환하여 데이터셋을 구성하였다."
   ]
  },
  {
   "cell_type": "markdown",
   "id": "molecular-agenda",
   "metadata": {},
   "source": [
    "스펙트로그램 시각화 및 train/test 데이터셋 구성이 정상진행되었다."
   ]
  },
  {
   "cell_type": "markdown",
   "id": "infrared-crazy",
   "metadata": {},
   "source": [
    "2. 1,2차원 데이터를 처리하는 음성인식 모델이 정상 작동한다."
   ]
  },
  {
   "cell_type": "markdown",
   "id": "mobile-draft",
   "metadata": {},
   "source": [
    "스펙트로그램을 입력받은 모델이 학습과정에서 안정적으로 수렴하며, evaluation/test 단계를 무리없이 진행가능하다."
   ]
  },
  {
   "cell_type": "markdown",
   "id": "satisfactory-causing",
   "metadata": {},
   "source": [
    "3. 테스트셋 수행결과 음성인식 모델의 Accuracy가 일정 수준에 도달하였다."
   ]
  },
  {
   "cell_type": "markdown",
   "id": "compatible-roberts",
   "metadata": {},
   "source": [
    "evaluation 결과 75% 이상의 정확도를 달성하는 모델이 하나 이상 존재한다."
   ]
  }
 ],
 "metadata": {
  "kernelspec": {
   "display_name": "Python 3",
   "language": "python",
   "name": "python3"
  },
  "language_info": {
   "codemirror_mode": {
    "name": "ipython",
    "version": 3
   },
   "file_extension": ".py",
   "mimetype": "text/x-python",
   "name": "python",
   "nbconvert_exporter": "python",
   "pygments_lexer": "ipython3",
   "version": "3.7.9"
  }
 },
 "nbformat": 4,
 "nbformat_minor": 5
}
