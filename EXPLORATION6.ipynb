{
 "cells": [
  {
   "cell_type": "markdown",
   "id": "superb-vampire",
   "metadata": {},
   "source": [
    "# <center>멋진 인공지능 작사가 만들기</center>"
   ]
  },
  {
   "cell_type": "markdown",
   "id": "pending-chain",
   "metadata": {},
   "source": [
    "작곡언어는 (아쉽게도)영어입니다. 다음과 같은 순서로 만들어 볼 수 있습니다!"
   ]
  },
  {
   "cell_type": "markdown",
   "id": "joint-grove",
   "metadata": {},
   "source": [
    "> **Step 1. 데이터 다운로드  \n",
    "Step 2. 데이터 읽어오기  \n",
    "Step 3. 데이터 정제  \n",
    "Step 4. 평가 데이터셋 분리  \n",
    "Step 5. 인공지능 만들기**"
   ]
  },
  {
   "cell_type": "markdown",
   "id": "tropical-looking",
   "metadata": {},
   "source": [
    "그럼 시작해볼까요?"
   ]
  },
  {
   "cell_type": "markdown",
   "id": "inside-twist",
   "metadata": {},
   "source": [
    "### Step 1. 데이터 다운로드"
   ]
  },
  {
   "cell_type": "markdown",
   "id": "liable-canyon",
   "metadata": {},
   "source": [
    "> 먼저 아래 링크에서 Song Lyrics 데이터를 다운로드해 주세요!<br>저장된 파일을 압축 해제한 후, 모든 txt 파일을 lyrics 폴더를 만들어 그 속에 저장해주세요!<br>아니면 그 아래의 명령어를 실행하셔도 됩니다."
   ]
  },
  {
   "cell_type": "markdown",
   "id": "fabulous-bernard",
   "metadata": {},
   "source": [
    "- https://www.kaggle.com/paultimothymooney/poetry/data"
   ]
  },
  {
   "cell_type": "code",
   "execution_count": 3,
   "id": "worldwide-reach",
   "metadata": {},
   "outputs": [],
   "source": [
    "# $ wget https://aiffelstaticprd.blob.core.windows.net/media/documents/song_lyrics.zip\n",
    "# $ unzip song_lyrics.zip -d ~/aiffel/lyricist/data/lyrics  #lyrics 폴더에 압축풀기"
   ]
  },
  {
   "cell_type": "markdown",
   "id": "ranging-riverside",
   "metadata": {},
   "source": [
    "### Step 2. 데이터 읽어오기"
   ]
  },
  {
   "cell_type": "code",
   "execution_count": null,
   "id": "adjacent-solomon",
   "metadata": {},
   "outputs": [],
   "source": []
  },
  {
   "cell_type": "markdown",
   "id": "analyzed-authorization",
   "metadata": {},
   "source": [
    "### Step 3. 데이터 정제"
   ]
  },
  {
   "cell_type": "code",
   "execution_count": null,
   "id": "threaded-examination",
   "metadata": {},
   "outputs": [],
   "source": []
  },
  {
   "cell_type": "markdown",
   "id": "nervous-biology",
   "metadata": {},
   "source": [
    "### Step 4. 평가 데이터셋 분리"
   ]
  },
  {
   "cell_type": "code",
   "execution_count": null,
   "id": "touched-letters",
   "metadata": {},
   "outputs": [],
   "source": []
  },
  {
   "cell_type": "markdown",
   "id": "sophisticated-coordinator",
   "metadata": {},
   "source": [
    "### Step 5. 인공지능 만들기"
   ]
  },
  {
   "cell_type": "code",
   "execution_count": null,
   "id": "industrial-approach",
   "metadata": {},
   "outputs": [],
   "source": []
  },
  {
   "cell_type": "markdown",
   "id": "critical-stretch",
   "metadata": {},
   "source": [
    "## 루브릭"
   ]
  },
  {
   "cell_type": "markdown",
   "id": "tropical-gauge",
   "metadata": {},
   "source": [
    "1. 가사 텍스트 생성 모델이 정상적으로 동작하는가?\n",
    "\n",
    "텍스트 제너레이션 결과가 그럴듯한 문장으로 생성되는가?"
   ]
  },
  {
   "cell_type": "markdown",
   "id": "relative-paraguay",
   "metadata": {},
   "source": [
    "2. 데이터의 전처리와 데이터셋 구성 과정이 체계적으로 진행되었는가?\n",
    "\n",
    "특수문자 제거, 토크나이저 생성, 패딩처리 등의 과정이 빠짐없이 진행되었는가?"
   ]
  },
  {
   "cell_type": "markdown",
   "id": "comprehensive-allowance",
   "metadata": {},
   "source": [
    "3. 텍스트 생성모델이 안정적으로 학습되었는가?\n",
    "\n",
    "텍스트 생성모델의 validation loss가 2.2 이하로 낮아졌는가?"
   ]
  },
  {
   "cell_type": "markdown",
   "id": "previous-hundred",
   "metadata": {},
   "source": [
    "## 회고"
   ]
  },
  {
   "cell_type": "markdown",
   "id": "broad-timber",
   "metadata": {},
   "source": []
  },
  {
   "cell_type": "markdown",
   "id": "geological-layer",
   "metadata": {},
   "source": []
  }
 ],
 "metadata": {
  "kernelspec": {
   "display_name": "Python 3",
   "language": "python",
   "name": "python3"
  },
  "language_info": {
   "codemirror_mode": {
    "name": "ipython",
    "version": 3
   },
   "file_extension": ".py",
   "mimetype": "text/x-python",
   "name": "python",
   "nbconvert_exporter": "python",
   "pygments_lexer": "ipython3",
   "version": "3.7.9"
  }
 },
 "nbformat": 4,
 "nbformat_minor": 5
}
