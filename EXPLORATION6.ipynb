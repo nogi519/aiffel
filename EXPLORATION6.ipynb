{
 "cells": [
  {
   "cell_type": "markdown",
   "id": "geological-stereo",
   "metadata": {},
   "source": [
    "# 멋진 인공지능 작사가 만들기"
   ]
  },
  {
   "cell_type": "markdown",
   "id": "constant-waters",
   "metadata": {},
   "source": [
    "작곡언어는 (아쉽게도)영어입니다. 다음과 같은 순서로 만들어 볼 수 있습니다.😊"
   ]
  },
  {
   "cell_type": "markdown",
   "id": "modified-piano",
   "metadata": {},
   "source": [
    "> **Step 1. 데이터 다운로드  \n",
    "Step 2. 데이터 읽어오기  \n",
    "Step 3. 데이터 정제  \n",
    "Step 4. 평가 데이터셋 분리  \n",
    "Step 5. 인공지능 만들기**"
   ]
  },
  {
   "cell_type": "markdown",
   "id": "standard-harvey",
   "metadata": {},
   "source": [
    "그럼 시작해볼까요?"
   ]
  },
  {
   "cell_type": "markdown",
   "id": "afraid-knight",
   "metadata": {},
   "source": [
    "### Step 1. 데이터 다운로드"
   ]
  },
  {
   "cell_type": "markdown",
   "id": "cubic-revolution",
   "metadata": {},
   "source": [
    "> 먼저 아래 링크에서 Song Lyrics 데이터를 다운로드해 주세요!<br>저장된 파일을 압축 해제한 후, 모든 txt 파일을 lyrics 폴더를 만들어 그 속에 저장해주세요!<br>아니면 그 아래의 명령어를 실행하셔도 됩니다."
   ]
  },
  {
   "cell_type": "markdown",
   "id": "dynamic-toilet",
   "metadata": {},
   "source": [
    "- https://www.kaggle.com/paultimothymooney/poetry/data"
   ]
  },
  {
   "cell_type": "markdown",
   "id": "severe-optimization",
   "metadata": {},
   "source": [
    "1. wget https://aiffelstaticprd.blob.core.windows.net/media/documents/song_lyrics.zip\n",
    "2. unzip song_lyrics.zip -d ~/aiffel/lyricist/data/lyrics  <span style=\"color:green\">#lyrics 폴더에 압축풀기</span>"
   ]
  },
  {
   "cell_type": "markdown",
   "id": "black-wilson",
   "metadata": {},
   "source": [
    "### Step 2. 데이터 읽어오기"
   ]
  },
  {
   "cell_type": "markdown",
   "id": "contained-pepper",
   "metadata": {},
   "source": [
    "glob 모듈을 사용하면 파일을 읽어오는 작업을 하기가 아주 용이해요.  \n",
    "glob 를 활용하여 모든 txt 파일을 읽어온 후, raw_corpus 리스트에 문장 단위로 저장하도록 할게요!"
   ]
  },
  {
   "cell_type": "code",
   "execution_count": 1,
   "id": "medical-trunk",
   "metadata": {},
   "outputs": [
    {
     "name": "stdout",
     "output_type": "stream",
     "text": [
      "데이터 크기: 187088\n",
      "Examples:\n",
      " ['', '', \"Jesus died for somebody's sins but not mine\"]\n"
     ]
    }
   ],
   "source": [
    "import re                  # 정규표현식을 위한 Regex 지원 모듈 (문장 데이터를 정돈하기 위해) \n",
    "import numpy as np         # 변환된 문장 데이터(행렬)을 편하게 처리하기 위해\n",
    "import tensorflow as tf    # 대망의 텐서플로우!\n",
    "import glob                # 파일들의 리스트를 뽑을 때 사용\n",
    "import os                  # 운영 체제의 환경 변수 값을 읽어올 수 있음!\n",
    "\n",
    "# 파일을 읽기모드로 열어 봅니다.\n",
    "txt_file_path = os.getenv('HOME')+'/aiffel/lyricist/data/lyrics/*'  # * : all\n",
    "txt_list = glob.glob(txt_file_path)\n",
    "\n",
    "raw_corpus = []  # 여러개의 txt 파일을 모두 읽어서 raw_corpus에 담습니다.\n",
    "for txt_file in txt_list:\n",
    "    with open(txt_file, \"r\") as f:\n",
    "        raw = f.read().splitlines()\n",
    "        raw_corpus.extend(raw)\n",
    "\n",
    "print(\"데이터 크기:\", len(raw_corpus))\n",
    "print(\"Examples:\\n\", raw_corpus[:3])"
   ]
  },
  {
   "cell_type": "markdown",
   "id": "attractive-correspondence",
   "metadata": {},
   "source": [
    "### Step 3. 데이터 정제"
   ]
  },
  {
   "cell_type": "markdown",
   "id": "varied-information",
   "metadata": {},
   "source": [
    "##### 이번 스텝에서 데이터셋을 생성하기 위해 거칠 과정입니다. \n",
    "\n",
    ">- 정규표현식을 이용한 corpus 생성\n",
    ">- tf.keras.preprocessing.text.Tokenizer를 이용해 corpus를 텐서로 변환\n",
    ">- tf.data.Dataset.from_tensor_slices()를 이용해 corpus 텐서를 tf.data.Dataset객체로 변환\n",
    "\n",
    "dataset을 얻으면 데이터 다듬기 과정은 끝납니다.<br>\n",
    "tf.data.Dataset에서 제공하는 shuffle(), batch() 등 다양한 데이터셋 관련 기능을 손쉽게 이용할 수 있게 되었군요.\n",
    "\n",
    "이 모든 일련의 과정을 텐서플로우에서의 **데이터 전처리**라 칭합니다!"
   ]
  },
  {
   "cell_type": "markdown",
   "id": "blank-operation",
   "metadata": {},
   "source": [
    "**문장 생성에 적합한 모양새로 데이터를 정제하세요!**\n",
    "\n",
    "preprocess_sentence() 함수를 만든 것을 기억하시죠? 이를 활용해 데이터를 정제하도록 하겠습니다.\n",
    "\n",
    "추가로 지나치게 긴 문장은 다른 데이터들이 과도한 Padding을 갖게 하므로 제거합니다. 너무 긴 문장은 노래가사 작사하기에 어울리지 않을수도 있겠죠.\n",
    "그래서 이번에는 문장을 **토큰화** 했을 때 토큰의 개수가 15개를 넘어가는 문장을 학습데이터에서 제외하겠습니다."
   ]
  },
  {
   "cell_type": "markdown",
   "id": "bridal-parameter",
   "metadata": {},
   "source": [
    "가장 심플한 방법은 띄어쓰기를 기준으로 나누는 방법이지만 이 방법에는 몇가지 문제가 있습니다.\n",
    "\n",
    "##### 몇 가지 문제 케이스\n",
    "1. Hi, my name is John. *(\"Hi,\" \"my\", …, \"john.\" 으로 분리됨) -문장부호\n",
    "2. First, open the first chapter. *(First와 first를 다른 단어로 인식) -대소문자\n",
    "3. He is a ten-year-old boy. *(ten-year-old를 한 단어로 인식) -특수문자\n",
    "\n",
    "\"1.\" 을 막기 위해 문장 부호 양쪽에 공백을 추가 할 거고요,<br>\n",
    "\"2.\" 를 막기 위해 모든 문자들을 소문자로 변환할 겁니다.<br>\n",
    "\"3.\" 을 막기 위해 특수문자들은 모두 제거하도록 하죠!\n",
    "\n",
    "이런 전처리를 위해 정규표현식(Regex)을 이용한 필터링이 유용하게 사용됩니다."
   ]
  },
  {
   "cell_type": "code",
   "execution_count": 2,
   "id": "alpha-drive",
   "metadata": {},
   "outputs": [
    {
     "name": "stdout",
     "output_type": "stream",
     "text": [
      "<start> this is sample sentence . <end>\n"
     ]
    }
   ],
   "source": [
    "def preprocess_sentence(sentence):\n",
    "    sentence = sentence.lower().strip()       # 소문자로 바꾸고 양쪽 공백을 삭제\n",
    "  \n",
    "    # 아래 3단계를 거쳐 sentence는 스페이스 1개를 delimeter로 하는 소문자 단어 시퀀스로 바뀝니다.\n",
    "    sentence = re.sub(r\"([?.!,¿])\", r\" \\1 \", sentence)        # 패턴의 특수문자를 만나면 특수문자 양쪽에 공백을 추가\n",
    "    sentence = re.sub(r'[\" \"]+', \" \", sentence)                  # 공백 패턴을 만나면 스페이스 1개로 치환\n",
    "    sentence = re.sub(r\"[^a-zA-Z?.!,¿]+\", \" \", sentence)  # a-zA-Z?.!,¿ 패턴을 제외한 모든 문자(공백문자까지도)를 스페이스 1개로 치환\n",
    "\n",
    "    sentence = sentence.strip()\n",
    "\n",
    "    sentence = '<start> ' + sentence + ' <end>'      # 이전 스텝에서 본 것처럼 문장 앞뒤로 <start>와 <end>를 단어처럼 붙여 줍니다\n",
    "    \n",
    "    return sentence\n",
    "\n",
    "print(preprocess_sentence(\"This @_is ;;;sample        sentence.\"))   # 이 문장이 어떻게 필터링되는지 확인해 보세요."
   ]
  },
  {
   "cell_type": "markdown",
   "id": "aware-weekly",
   "metadata": {},
   "source": [
    "짜잔, 지저분한 문장을 넣어도 예쁘게 변환해주는 정제 함수가 완성되었습니다!<br>보너스로 start, end 도 추가했습니다.  \n",
    "\n",
    "자연어처리 분야에서 모델의 입력이 되는 문장을 소스 문장(Source Sentence), 정답 역할을 하게 될 모델의 출력 문장을 타겟 문장(Target Sentence)라고 관례적으로 부릅니다. 각각 X_train, y_train 에 해당한다고 할 수 있겠죠?\n",
    "\n",
    "그렇다면 우리는 위에서 만든 정제 함수를 통해 만든 데이터셋에서 토큰화를 진행한 후 끝 단어 <end>를 없애면 소스 문장, 첫 단어 <start>를 없애면 타겟 문장이 되겠죠? 이 정제 함수를 활용해서 아래와 같이 정제 데이터를 구축합니다!"
   ]
  },
  {
   "cell_type": "code",
   "execution_count": 3,
   "id": "tutorial-portable",
   "metadata": {},
   "outputs": [
    {
     "name": "stdout",
     "output_type": "stream",
     "text": [
      "or how things used to be And I had to tell Willy every look stand out \n"
     ]
    }
   ],
   "source": [
    "corpus = []\n",
    "\n",
    "for sentence in raw_corpus:\n",
    "    if len(sentence) == 0 or len(sentence) > 15: continue\n",
    "    if sentence[-1] == \":\": continue\n",
    "        \n",
    "    corpus.append(preprocess_sentence(sentence))\n",
    "        \n",
    "corpus[:10]\n",
    "\n",
    "print(sentence)"
   ]
  },
  {
   "cell_type": "markdown",
   "id": "dietary-personality",
   "metadata": {},
   "source": [
    "이제 데이터는 완벽하게 준비가 된 것 같네요!<br>\n",
    "\n",
    "텐서플로우는 자연어 처리를 위한 여러 가지 모듈을 제공하는데, 우리도 그 모듈을 십분 활용할 겁니다!<br>\n",
    "아래에서 활용하게 될 **tf.keras.preprocessing.text.Tokenizer 패키지**는 정제된 데이터를 토큰화하고, 단어 사전(vocabulary 또는 dictionary라고 칭함)을 만들어주며, 데이터를 숫자로 변환까지 한 방에 해줍니다.<br>\n",
    "이 과정을 벡터화(vectorize) 라 하며, 숫자로 변환된 데이터를 텐서(tensor) 라고 칭합니다.<br>\n",
    "우리가 사용하는 텐서플로우로 만든 모델의 입출력 데이터는 실제로는 모두 이런 텐서로 변환되어 처리되는 것입니다."
   ]
  },
  {
   "cell_type": "code",
   "execution_count": 4,
   "id": "coordinate-attendance",
   "metadata": {},
   "outputs": [
    {
     "name": "stdout",
     "output_type": "stream",
     "text": [
      "[[   2   15 1908 ...    0    0    0]\n",
      " [   2   70   56 ...    0    0    0]\n",
      " [   2   70   56 ...    0    0    0]\n",
      " ...\n",
      " [   2 1001 3416 ...    0    0    0]\n",
      " [   2  138  138 ...    0    0    0]\n",
      " [   2  138  138 ...    0    0    0]] <keras_preprocessing.text.Tokenizer object at 0x7ff0c2883b90>\n"
     ]
    }
   ],
   "source": [
    "def tokenize(corpus):\n",
    "    # 텐서플로우에서 제공하는 Tokenizer 패키지를 생성\n",
    "    tokenizer = tf.keras.preprocessing.text.Tokenizer(\n",
    "        num_words=7000,  # 전체 단어의 개수 \n",
    "        filters=' ',    # 별도로 전처리 로직을 추가할 수 있습니다. 이번에는 사용하지 않겠습니다.\n",
    "        oov_token=\"<unk>\"  # out-of-vocabulary, 사전에 없었던 단어는 어떤 토큰으로 대체할지\n",
    "    )\n",
    "    tokenizer.fit_on_texts(corpus)   # 우리가 구축한 corpus로부터 Tokenizer가 사전을 자동구축하게 됩니다.\n",
    "\n",
    "    # 이후 tokenizer를 활용하여 모델에 입력할 데이터셋을 구축하게 됩니다.\n",
    "    tensor = tokenizer.texts_to_sequences(corpus)   # tokenizer는 구축한 사전으로부터 corpus를 해석해 Tensor로 변환합니다.\n",
    "\n",
    "    # 입력 데이터의 시퀀스 길이를 일정하게 맞추기 위한 padding  메소드를 제공합니다.\n",
    "    # maxlen의 디폴트값은 None입니다. 이 경우 corpus의 가장 긴 문장을 기준으로 시퀀스 길이가 맞춰집니다.\n",
    "    tensor = tf.keras.preprocessing.sequence.pad_sequences(tensor, padding='post')  \n",
    "\n",
    "    print(tensor,tokenizer)\n",
    "    return tensor, tokenizer\n",
    "\n",
    "tensor, tokenizer = tokenize(corpus)"
   ]
  },
  {
   "cell_type": "markdown",
   "id": "basic-gateway",
   "metadata": {},
   "source": [
    "텐서 데이터는 모두 정수로 이루어져 있습니다.<br>\n",
    "이 숫자는 다름 아니라, tokenizer에 구축된 단어 사전의 인덱스입니다.<br>\n",
    "단어 사전이 어떻게 구축되었는지 아래와 같이 확인해 봅시다."
   ]
  },
  {
   "cell_type": "code",
   "execution_count": 5,
   "id": "dominant-portrait",
   "metadata": {},
   "outputs": [
    {
     "name": "stdout",
     "output_type": "stream",
     "text": [
      "1 : <unk>\n",
      "2 : <start>\n",
      "3 : <end>\n",
      "4 : i\n",
      "5 : ,\n",
      "6 : .\n",
      "7 : you\n",
      "8 : oh\n",
      "9 : it\n",
      "10 : me\n"
     ]
    }
   ],
   "source": [
    "for idx in tokenizer.index_word:\n",
    "    print(idx, \":\", tokenizer.index_word[idx])\n",
    "\n",
    "    if idx >= 10: break"
   ]
  },
  {
   "cell_type": "markdown",
   "id": "laden-collaboration",
   "metadata": {},
   "source": [
    "어떻습니까? 2번 인덱스가 바로 **start**였습니다.<br>\n",
    "왜 모든 행이 2로 시작하는지 이해할 수 있겠습니다.\n",
    "\n",
    "이제 생성된 텐서를 소스와 타겟으로 분리하여 모델이 학습할 수 있게 하겠습니다.<br>\n",
    "이 과정도텐서플로우가 제공하는 모듈을 사용할 것이니, 어떻게 사용하는지만 눈여겨 봐둡시다.\n",
    "\n",
    "텐서 출력부에서 행 뒤쪽에 0이 많이 나온 부분은 정해진 입력 시퀀스 길이보다 문장이 짧을 경우 0으로 패딩(padding)을 채워넣은 것입니다.<br>\n",
    "사전에는 없지만 0은 바로 패딩 문자 **pad**가 될 것입니다."
   ]
  },
  {
   "cell_type": "code",
   "execution_count": 6,
   "id": "current-swaziland",
   "metadata": {},
   "outputs": [
    {
     "name": "stdout",
     "output_type": "stream",
     "text": [
      "[   2   15 1908   15  522    3    0    0    0    0    0    0]\n",
      "[  15 1908   15  522    3    0    0    0    0    0    0    0]\n"
     ]
    }
   ],
   "source": [
    "src_input = tensor[:, :-1]  # tensor에서 마지막 토큰을 잘라내서 소스 문장을 생성합니다. 마지막 토큰은 <end>가 아니라 <pad>일 가능성이 높습니다.\n",
    "tgt_input = tensor[:, 1:]    # tensor에서 <start>를 잘라내서 타겟 문장을 생성합니다.\n",
    "\n",
    "print(src_input[0])\n",
    "print(tgt_input[0])"
   ]
  },
  {
   "cell_type": "markdown",
   "id": "incorporated-gentleman",
   "metadata": {},
   "source": [
    "마지막으로 데이터셋 객체를 생성할 것입니다.<br>\n",
    "텐서플로우를 활용할 경우 텐서로 생성된 데이터를 이용해 tf.data.Dataset객체를 생성하는 방법을 흔히 사용합니다.<br>\n",
    "tf.data.Dataset객체는 텐서플로우에서 사용할 경우 데이터 입력 파이프라인을 통한 속도 개선 및 각종 편의기능을 제공하므로 꼭 사용법을 알아 두는것을 권장합니다.<br>\n",
    "이미 위에서 데이터셋을 텐서 형태로 생성해 두었으므로, tf.data.Dataset.from_tensor_slices() 메소드를 이용해 tf.data.Dataset객체를 생성할 것입니다."
   ]
  },
  {
   "cell_type": "code",
   "execution_count": 7,
   "id": "returning-syndicate",
   "metadata": {},
   "outputs": [
    {
     "data": {
      "text/plain": [
       "<BatchDataset shapes: ((256, 12), (256, 12)), types: (tf.int32, tf.int32)>"
      ]
     },
     "execution_count": 7,
     "metadata": {},
     "output_type": "execute_result"
    }
   ],
   "source": [
    "BUFFER_SIZE = len(src_input)\n",
    "BATCH_SIZE = 256\n",
    "steps_per_epoch = len(src_input) // BATCH_SIZE\n",
    "\n",
    "VOCAB_SIZE = tokenizer.num_words + 1    # tokenizer가 구축한 단어사전 내 7000개와, 여기 포함되지 않은 0:<pad>를 포함하여 7001개\n",
    "\n",
    "dataset = tf.data.Dataset.from_tensor_slices((src_input, tgt_input)).shuffle(BUFFER_SIZE)\n",
    "dataset = dataset.batch(BATCH_SIZE, drop_remainder=True)\n",
    "dataset"
   ]
  },
  {
   "cell_type": "markdown",
   "id": "editorial-interface",
   "metadata": {},
   "source": [
    "### Step 4. 평가 데이터셋 분리"
   ]
  },
  {
   "cell_type": "markdown",
   "id": "rough-computer",
   "metadata": {},
   "source": [
    "**훈련 데이터와 평가 데이터를 분리하세요!**\n",
    "\n",
    "tokenize() 함수로 데이터를 Tensor로 변환한 후, sklearn 모듈의 train_test_split() 함수를 사용해 훈련 데이터와 평가 데이터를 분리하도록 하겠습니다.  \n",
    "단어장의 크기는 12,000 이상으로 설정하세요!  \n",
    "\n",
    "총 데이터의 **20%** 를 평가 데이터셋으로 사용하겠습니다."
   ]
  },
  {
   "cell_type": "code",
   "execution_count": 8,
   "id": "incoming-productivity",
   "metadata": {},
   "outputs": [
    {
     "name": "stdout",
     "output_type": "stream",
     "text": [
      "Source Train: (11296, 12)\n",
      "Target Train: (11296, 12)\n"
     ]
    }
   ],
   "source": [
    "from sklearn.model_selection import train_test_split\n",
    "\n",
    "enc_train, enc_val, dec_train, dec_val = train_test_split(src_input, tgt_input, test_size = 0.2)\n",
    "\n",
    "print(\"Source Train:\", enc_train.shape)\n",
    "print(\"Target Train:\", dec_train.shape)"
   ]
  },
  {
   "cell_type": "markdown",
   "id": "precise-account",
   "metadata": {},
   "source": [
    "만약 학습데이터 갯수가 124960보다 크다면 위 Step 3.의 데이터 정제 과정을 다시한번 검토해 보세요!"
   ]
  },
  {
   "cell_type": "markdown",
   "id": "raised-commons",
   "metadata": {},
   "source": [
    "### Step 5. 인공지능 만들기"
   ]
  },
  {
   "cell_type": "markdown",
   "id": "primary-navigation",
   "metadata": {},
   "source": [
    "모델의 **Embedding Size**와 **Hidden Size**를 조절하며 **10 Epoch** 안에 **val_loss 값을 2.2 수준**으로 줄일 수 있는 모델을 설계하세요!  \n",
    "(Loss는 아래 제시된 Loss 함수를 그대로 사용!)"
   ]
  },
  {
   "cell_type": "code",
   "execution_count": 9,
   "id": "elect-cooper",
   "metadata": {},
   "outputs": [],
   "source": [
    "# Loss 함수\n",
    "\n",
    "# loss = tf.keras.losses.SparseCategoricalCrossentropy(\n",
    "#     from_logits=True, reduction='none')"
   ]
  },
  {
   "cell_type": "markdown",
   "id": "permanent-mandate",
   "metadata": {},
   "source": [
    "\"\"\"\"\"\", '''''' 로 줄 주석처리 하려니 안되네요..  \n",
    "주석을 하고 싶은 부분들을 드래그 해서 영역을 선택한 후 Ctrl + / 를 누르면 된다길래 해보니 #으로 줄마다 주석처리 됩니다.🤔🤔🤔\n",
    "이 부분은 추후 다시 알아보기로.....🧐"
   ]
  },
  {
   "cell_type": "code",
   "execution_count": 10,
   "id": "recorded-dakota",
   "metadata": {},
   "outputs": [],
   "source": [
    "class TextGenerator(tf.keras.Model):\n",
    "    def __init__(self, vocab_size, embedding_size, hidden_size):\n",
    "        super(TextGenerator, self).__init__()\n",
    "        \n",
    "        self.embedding = tf.keras.layers.Embedding(vocab_size, embedding_size)\n",
    "        self.rnn_1 = tf.keras.layers.LSTM(hidden_size, return_sequences=True)\n",
    "        self.rnn_2 = tf.keras.layers.LSTM(hidden_size, return_sequences=True)\n",
    "        self.linear = tf.keras.layers.Dense(vocab_size)\n",
    "        \n",
    "    def call(self, x):\n",
    "        out = self.embedding(x)\n",
    "        out = self.rnn_1(out)\n",
    "        out = self.rnn_2(out)\n",
    "        out = self.linear(out)\n",
    "        \n",
    "        return out\n",
    "    \n",
    "embedding_size = 256\n",
    "hidden_size = 1024\n",
    "model = TextGenerator(tokenizer.num_words + 1, embedding_size , hidden_size)"
   ]
  },
  {
   "cell_type": "code",
   "execution_count": 11,
   "id": "prospective-fraud",
   "metadata": {},
   "outputs": [
    {
     "data": {
      "text/plain": [
       "<tf.Tensor: shape=(256, 12, 7001), dtype=float32, numpy=\n",
       "array([[[-1.5630612e-04, -2.1479298e-04,  4.7894078e-04, ...,\n",
       "         -5.5313401e-04, -5.6747791e-05,  1.4602030e-05],\n",
       "        [-2.0139404e-04, -6.6264608e-04,  1.8932828e-04, ...,\n",
       "         -1.1565241e-03,  1.5133073e-05, -1.6830349e-04],\n",
       "        [-2.5849909e-04, -7.7325472e-04,  1.2038055e-05, ...,\n",
       "         -1.0125804e-03,  1.8405824e-04, -5.3904357e-04],\n",
       "        ...,\n",
       "        [ 3.5242317e-03,  1.7246478e-03,  8.5587282e-04, ...,\n",
       "         -1.9012154e-03,  2.7056127e-05,  9.5006684e-04],\n",
       "        [ 4.1646911e-03,  2.1634460e-03,  1.1990423e-03, ...,\n",
       "         -2.0568324e-03,  5.3903928e-05,  1.1703369e-03],\n",
       "        [ 4.7409656e-03,  2.5637052e-03,  1.5439735e-03, ...,\n",
       "         -2.1806376e-03,  5.6141813e-05,  1.3372115e-03]],\n",
       "\n",
       "       [[-1.5630612e-04, -2.1479298e-04,  4.7894078e-04, ...,\n",
       "         -5.5313401e-04, -5.6747791e-05,  1.4602030e-05],\n",
       "        [-5.1237922e-04, -3.9897300e-04,  6.8201660e-04, ...,\n",
       "         -7.6508749e-04, -2.5922109e-04,  2.9711300e-04],\n",
       "        [-5.5576651e-04, -4.4431939e-04,  6.1630859e-04, ...,\n",
       "         -1.0284091e-03, -7.7318202e-04,  2.3160210e-04],\n",
       "        ...,\n",
       "        [ 3.8977903e-03,  2.5076531e-03,  1.8976004e-03, ...,\n",
       "         -2.4826997e-03, -5.1990146e-04,  1.7902314e-03],\n",
       "        [ 4.5214631e-03,  2.8635836e-03,  2.1723078e-03, ...,\n",
       "         -2.5667308e-03, -4.4663067e-04,  1.8525427e-03],\n",
       "        [ 5.0698342e-03,  3.1797988e-03,  2.4401976e-03, ...,\n",
       "         -2.6152076e-03, -3.9783449e-04,  1.8850341e-03]],\n",
       "\n",
       "       [[-1.5630612e-04, -2.1479298e-04,  4.7894078e-04, ...,\n",
       "         -5.5313401e-04, -5.6747791e-05,  1.4602030e-05],\n",
       "        [-5.0401967e-04, -5.8407249e-04,  6.9987384e-04, ...,\n",
       "         -5.9602427e-04, -4.9588874e-05, -3.0222620e-04],\n",
       "        [-4.9512793e-04, -7.0657616e-04,  6.1148801e-04, ...,\n",
       "         -7.6515088e-04, -4.1928704e-04, -6.3239102e-04],\n",
       "        ...,\n",
       "        [ 4.0416368e-03,  2.3594850e-03,  1.7830939e-03, ...,\n",
       "         -2.2971486e-03, -2.1747241e-04,  1.2966642e-03],\n",
       "        [ 4.6440475e-03,  2.7389824e-03,  2.0568459e-03, ...,\n",
       "         -2.4063704e-03, -1.9520604e-04,  1.4329929e-03],\n",
       "        [ 5.1711970e-03,  3.0765580e-03,  2.3254280e-03, ...,\n",
       "         -2.4762845e-03, -1.9448251e-04,  1.5296759e-03]],\n",
       "\n",
       "       ...,\n",
       "\n",
       "       [[-1.5630612e-04, -2.1479298e-04,  4.7894078e-04, ...,\n",
       "         -5.5313401e-04, -5.6747791e-05,  1.4602030e-05],\n",
       "        [-4.2037331e-04, -2.5561903e-04,  9.6807058e-04, ...,\n",
       "         -5.9313618e-04, -2.2778916e-04,  6.5407294e-05],\n",
       "        [-4.6677279e-04,  3.4137222e-05,  1.2325167e-03, ...,\n",
       "         -3.2277557e-04, -3.2806088e-04,  2.3083738e-04],\n",
       "        ...,\n",
       "        [ 1.7932968e-03,  1.3039856e-03,  1.0206837e-03, ...,\n",
       "         -1.0094164e-03, -8.9595490e-04,  1.6443052e-03],\n",
       "        [ 2.4684181e-03,  1.7558883e-03,  1.1874133e-03, ...,\n",
       "         -1.3859567e-03, -7.8200310e-04,  1.8182923e-03],\n",
       "        [ 3.1268043e-03,  2.1750012e-03,  1.4068638e-03, ...,\n",
       "         -1.7169002e-03, -6.8043330e-04,  1.9301210e-03]],\n",
       "\n",
       "       [[-1.5630612e-04, -2.1479298e-04,  4.7894078e-04, ...,\n",
       "         -5.5313401e-04, -5.6747791e-05,  1.4602030e-05],\n",
       "        [-3.6445481e-04, -3.3522650e-04,  4.1821817e-04, ...,\n",
       "         -6.7537889e-04,  1.0400027e-04, -2.3185520e-04],\n",
       "        [-6.1062595e-04, -4.9791340e-04,  3.5953865e-04, ...,\n",
       "         -4.1074978e-04,  2.2533124e-04, -2.9200179e-04],\n",
       "        ...,\n",
       "        [ 2.8253859e-03,  1.3828625e-03,  1.2464977e-03, ...,\n",
       "         -1.8990134e-03, -3.0817455e-04,  4.2864069e-04],\n",
       "        [ 3.5642099e-03,  1.8087784e-03,  1.5421839e-03, ...,\n",
       "         -2.0846613e-03, -2.8185284e-04,  6.8430434e-04],\n",
       "        [ 4.2376844e-03,  2.1973234e-03,  1.8460384e-03, ...,\n",
       "         -2.2306596e-03, -2.6551550e-04,  8.9156721e-04]],\n",
       "\n",
       "       [[-1.5630612e-04, -2.1479298e-04,  4.7894078e-04, ...,\n",
       "         -5.5313401e-04, -5.6747791e-05,  1.4602030e-05],\n",
       "        [-9.4741721e-05, -3.7796432e-04,  8.7885297e-04, ...,\n",
       "         -9.9733821e-04,  7.4214411e-05, -2.9498275e-04],\n",
       "        [ 9.4426839e-05, -4.7334284e-04,  9.8026975e-04, ...,\n",
       "         -9.3696319e-04,  2.3618696e-04, -4.3183300e-04],\n",
       "        ...,\n",
       "        [ 3.8431222e-03,  1.8227332e-03,  1.6863194e-03, ...,\n",
       "         -2.3394884e-03, -7.4542790e-05,  9.7196922e-04],\n",
       "        [ 4.4117696e-03,  2.2093586e-03,  1.9479269e-03, ...,\n",
       "         -2.4411189e-03, -3.9046703e-05,  1.1688846e-03],\n",
       "        [ 4.9253902e-03,  2.5653408e-03,  2.2119468e-03, ...,\n",
       "         -2.5059809e-03, -2.4163030e-05,  1.3193979e-03]]], dtype=float32)>"
      ]
     },
     "execution_count": 11,
     "metadata": {},
     "output_type": "execute_result"
    }
   ],
   "source": [
    "for src_sample, tgt_sample in dataset.take(1): break\n",
    "model(src_sample)"
   ]
  },
  {
   "cell_type": "markdown",
   "id": "ecological-rouge",
   "metadata": {},
   "source": [
    "ResourceExhaustedError: OOM when allocating tensor with shape[88576,7001] and type float on /job:localhost/replica:0/task:0/device:GPU:0 by allocator GPU_0_bfc [Op:MatMul] 에러가 발목을 잡는당.....ㅠㅠㅠㅠ"
   ]
  },
  {
   "cell_type": "markdown",
   "id": "marked-resolution",
   "metadata": {},
   "source": [
    "model의 input shape가 결정되면서 model.build()가 자동으로 호출됩니다."
   ]
  },
  {
   "cell_type": "code",
   "execution_count": 12,
   "id": "pretty-charity",
   "metadata": {},
   "outputs": [
    {
     "name": "stdout",
     "output_type": "stream",
     "text": [
      "Model: \"text_generator\"\n",
      "_________________________________________________________________\n",
      "Layer (type)                 Output Shape              Param #   \n",
      "=================================================================\n",
      "embedding (Embedding)        multiple                  1792256   \n",
      "_________________________________________________________________\n",
      "lstm (LSTM)                  multiple                  5246976   \n",
      "_________________________________________________________________\n",
      "lstm_1 (LSTM)                multiple                  8392704   \n",
      "_________________________________________________________________\n",
      "dense (Dense)                multiple                  7176025   \n",
      "=================================================================\n",
      "Total params: 22,607,961\n",
      "Trainable params: 22,607,961\n",
      "Non-trainable params: 0\n",
      "_________________________________________________________________\n"
     ]
    }
   ],
   "source": [
    "model.summary()"
   ]
  },
  {
   "cell_type": "markdown",
   "id": "visible-mirror",
   "metadata": {},
   "source": [
    "이제 모델이 학습할 준비가 완료되었습니다.<br>\n",
    "아래 코드를 실행해 모델을 학습시켜보세요!<br>\n",
    "학습엔 10분 정도 소요됩니다(GPU 환경 기준)<br>\n",
    "혹시라도 학습에 지나치게 많은 시간이 소요된다면 tf.test.is_gpu_available() 소스를 실행해 텐서플로우가 GPU를 잘 사용하고 있는지 확인하시길 바랍니다!"
   ]
  },
  {
   "cell_type": "code",
   "execution_count": 19,
   "id": "canadian-pendant",
   "metadata": {},
   "outputs": [
    {
     "name": "stdout",
     "output_type": "stream",
     "text": [
      "Epoch 1/10\n",
      "55/55 [==============================] - 5s 90ms/step - loss: 0.8971\n",
      "Epoch 2/10\n",
      "55/55 [==============================] - 5s 90ms/step - loss: 0.8626\n",
      "Epoch 3/10\n",
      "55/55 [==============================] - 5s 86ms/step - loss: 0.8490\n",
      "Epoch 4/10\n",
      "55/55 [==============================] - 5s 89ms/step - loss: 0.8393\n",
      "Epoch 5/10\n",
      "55/55 [==============================] - 5s 86ms/step - loss: 0.8288\n",
      "Epoch 6/10\n",
      "55/55 [==============================] - 5s 85ms/step - loss: 0.8208\n",
      "Epoch 7/10\n",
      "55/55 [==============================] - 5s 84ms/step - loss: 0.8130\n",
      "Epoch 8/10\n",
      "55/55 [==============================] - 5s 89ms/step - loss: 0.8061\n",
      "Epoch 9/10\n",
      "55/55 [==============================] - 5s 88ms/step - loss: 0.7990\n",
      "Epoch 10/10\n",
      "55/55 [==============================] - 5s 88ms/step - loss: 0.7933\n"
     ]
    },
    {
     "data": {
      "text/plain": [
       "<tensorflow.python.keras.callbacks.History at 0x7fefa9e69150>"
      ]
     },
     "execution_count": 19,
     "metadata": {},
     "output_type": "execute_result"
    }
   ],
   "source": [
    "optimizer = tf.keras.optimizers.Adam()\n",
    "loss = tf.keras.losses.SparseCategoricalCrossentropy(\n",
    "    from_logits=True,\n",
    "    reduction='none'\n",
    ")\n",
    "\n",
    "model.compile(loss=loss, optimizer=optimizer)\n",
    "model.fit(dataset, epochs=10)"
   ]
  },
  {
   "cell_type": "code",
   "execution_count": 14,
   "id": "devoted-comment",
   "metadata": {},
   "outputs": [],
   "source": [
    "def generate_text(model, tokenizer, init_sentence=\"<start>\", max_len=20):\n",
    "    test_input = tokenizer.texts_to_sequences([init_sentence])\n",
    "    test_tensor = tf.convert_to_tensor(test_input, dtype=tf.int64)\n",
    "    end_token = tokenizer.word_index[\"<end>\"]\n",
    "\n",
    "    while True:\n",
    "        predict = model(test_tensor)\n",
    "        predict_word = tf.argmax(tf.nn.softmax(predict, axis=-1), axis=-1)[:, -1]  \n",
    " \n",
    "        test_tensor = tf.concat([test_tensor, \n",
    "                                tf.expand_dims(predict_word, axis=0)], axis=-1)\n",
    "        \n",
    "        if predict_word.numpy()[0] == end_token: break\n",
    "        if test_tensor.shape[1] >= max_len: break\n",
    "\n",
    "    generated = \"\"\n",
    "    \n",
    "    for word_index in test_tensor[0].numpy():\n",
    "        generated += tokenizer.index_word[word_index] + \" \"\n",
    "\n",
    "    return generated   # 문장 반환"
   ]
  },
  {
   "cell_type": "code",
   "execution_count": 15,
   "id": "spectacular-veteran",
   "metadata": {},
   "outputs": [],
   "source": [
    "def generate_text(model, tokenizer, init_sentence=\"<start>\", max_len=20):\n",
    "    # 테스트를 위해서 입력받은 init_sentence도 일단 텐서로 변환합니다.\n",
    "    test_input = tokenizer.texts_to_sequences([init_sentence])\n",
    "    test_tensor = tf.convert_to_tensor(test_input, dtype=tf.int64)\n",
    "    end_token = tokenizer.word_index[\"<end>\"]\n",
    "\n",
    "    # 텍스트를 실제로 생성할때는 루프를 돌면서 단어 하나씩 생성해야 합니다. \n",
    "    while True:\n",
    "        predict = model(test_tensor)  # 입력받은 문장의 텐서를 입력합니다. \n",
    "        predict_word = tf.argmax(tf.nn.softmax(predict, axis=-1), axis=-1)[:, -1]   # 우리 모델이 예측한 마지막 단어가 바로 새롭게 생성한 단어가 됩니다. \n",
    "\n",
    "        # 우리 모델이 새롭게 예측한 단어를 입력 문장의 뒤에 붙여 줍니다. \n",
    "        test_tensor = tf.concat([test_tensor, \n",
    "                                 tf.expand_dims(predict_word, axis=0)], axis=-1)\n",
    "\n",
    "        # 우리 모델이 <end>를 예측했거나, max_len에 도달하지 않았다면  while 루프를 또 돌면서 다음 단어를 예측해야 합니다.\n",
    "        if predict_word.numpy()[0] == end_token: break\n",
    "        if test_tensor.shape[1] >= max_len: break\n",
    "\n",
    "    generated = \"\"\n",
    "    # 생성된 tensor 안에 있는 word index를 tokenizer.index_word 사전을 통해 실제 단어로 하나씩 변환합니다. \n",
    "    for word_index in test_tensor[0].numpy():\n",
    "        generated += tokenizer.index_word[word_index] + \" \"\n",
    "\n",
    "    return generated   # 이것이 최종적으로 모델이 생성한 자연어 문장입니다."
   ]
  },
  {
   "cell_type": "markdown",
   "id": "powerful-flower",
   "metadata": {},
   "source": [
    "모델이 생성한 가사 한 줄을 확인해보겠습니다."
   ]
  },
  {
   "cell_type": "code",
   "execution_count": 18,
   "id": "checked-traffic",
   "metadata": {},
   "outputs": [
    {
     "data": {
      "text/plain": [
       "'<start> i love you <end> '"
      ]
     },
     "execution_count": 18,
     "metadata": {},
     "output_type": "execute_result"
    }
   ],
   "source": [
    "generate_text(model, tokenizer, init_sentence=\"<start> i love\", max_len=15)"
   ]
  },
  {
   "cell_type": "markdown",
   "id": "weird-survival",
   "metadata": {},
   "source": [
    "라 그럴듯하죠? ㅎㅎㅎ"
   ]
  },
  {
   "cell_type": "markdown",
   "id": "occasional-appendix",
   "metadata": {},
   "source": [
    "## 루브릭"
   ]
  },
  {
   "cell_type": "markdown",
   "id": "cardiac-labor",
   "metadata": {},
   "source": [
    "1. 가사 텍스트 생성 모델이 정상적으로 동작하는가?\n",
    "\n",
    "텍스트 제너레이션 결과가 그럴듯한 문장으로 생성되는가? 넵!"
   ]
  },
  {
   "cell_type": "markdown",
   "id": "arctic-function",
   "metadata": {},
   "source": [
    "2. 데이터의 전처리와 데이터셋 구성 과정이 체계적으로 진행되었는가?\n",
    "\n",
    "특수문자 제거, 토크나이저 생성, 패딩처리 등의 과정이 빠짐없이 진행되었는가? 넵!"
   ]
  },
  {
   "cell_type": "markdown",
   "id": "strategic-might",
   "metadata": {},
   "source": [
    "3. 텍스트 생성모델이 안정적으로 학습되었는가?\n",
    "\n",
    "텍스트 생성모델의 validation loss가 2.2 이하로 낮아졌는가?"
   ]
  },
  {
   "cell_type": "markdown",
   "id": "intensive-museum",
   "metadata": {},
   "source": [
    "## 회고"
   ]
  },
  {
   "cell_type": "markdown",
   "id": "amber-clear",
   "metadata": {},
   "source": [
    "빡센 저번주의 노드보다 훨씬 간결해서 이게 맞나...? 했는데 조원들과 얘기해보니 저번주 노드과제들이 난도가 높았다는 걸 새삼 느꼈다.  \n",
    "아무래도 🇰🇷한국어보다 공개된 🇺🇸영어데이터가 많아 아쉽긴하지만 이번주 노드는 좀 더 재밌게 할 수 있었다.  \n",
    "다만 영어공부도 다시 해야...할 필요성을 계속 느끼고 있어서 계획을 세워봐야겠다."
   ]
  }
 ],
 "metadata": {
  "kernelspec": {
   "display_name": "Python 3",
   "language": "python",
   "name": "python3"
  },
  "language_info": {
   "codemirror_mode": {
    "name": "ipython",
    "version": 3
   },
   "file_extension": ".py",
   "mimetype": "text/x-python",
   "name": "python",
   "nbconvert_exporter": "python",
   "pygments_lexer": "ipython3",
   "version": "3.7.9"
  }
 },
 "nbformat": 4,
 "nbformat_minor": 5
}
