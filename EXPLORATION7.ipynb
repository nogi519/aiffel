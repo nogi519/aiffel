{
 "cells": [
  {
   "cell_type": "markdown",
   "id": "modular-madness",
   "metadata": {},
   "source": [
    "# 나랑 닮은 연예인을 찾아보자!"
   ]
  },
  {
   "cell_type": "markdown",
   "id": "entertaining-necklace",
   "metadata": {},
   "source": [
    "## 실습목표\n",
    "\n",
    ">- 임베딩에 대해 이해하고 얼굴의 임베딩 벡터를 추출합니다.<br>\n",
    ">- 얼굴의 임베딩 벡터로 닮은 꼴인 얼굴을 찾습니다.<br>\n",
    ">- 나와 가까운 연예인을 찾아냅니다."
   ]
  },
  {
   "cell_type": "markdown",
   "id": "executed-success",
   "metadata": {},
   "source": [
    "## 순서\n",
    "> Step1. 사진 모으기<br>\n",
    "Step2. 얼굴 영역 자르기<br>\n",
    "Step3. 얼굴 영역의 임베딩 추출하기<br>\n",
    "Step4. 모은 연예인들과 비교하기<br>\n",
    "Step5. 다양한 재미있는 시각화 시도해 보기<br>"
   ]
  },
  {
   "cell_type": "markdown",
   "id": "prime-responsibility",
   "metadata": {},
   "source": [
    "지금부터 연예인 사진과 나를 비교해 보는 시간을 갖도록 하겠습니다!<br>\n",
    "그 전에 다른 프로그램을 통해 나와 닮은 연예인을 먼저 보고 올까요?"
   ]
  },
  {
   "cell_type": "markdown",
   "id": "tamil-burke",
   "metadata": {},
   "source": []
  },
  {
   "cell_type": "markdown",
   "id": "particular-cowboy",
   "metadata": {},
   "source": [
    "### Step1. 사진 모으기\n",
    "------------------------------\n",
    "비교하려면 사진을 모아야겠죠?  \n",
    "1. 내 사진과 비교해 보고 싶은 연예인 사진을 모아봅시다.  \n",
    "2. 평소에 닮았다고 생각했던 연예인 사진들을 모두 모아보는 것도 좋을 것 같네요.  \n",
    "\n",
    "사진을 하나의 디렉토리 안에 모아 봅시다. 모을 때 사진의 파일명은 가급적 `사람이름.jpg`과 같이 파일명을 지어주세요!"
   ]
  },
  {
   "cell_type": "markdown",
   "id": "innovative-dutch",
   "metadata": {},
   "source": [
    "**1. 내 사진 찍기**\n",
    "\n",
    "- 내 사진을 2장 이상 포함합시다.\n",
    "- 내 사진들끼리의 얼굴 임베딩 벡터 거리를 구해 봅시다. 닮았음을 확인할 수 있는 좋은 베이스라인이 될 수 있습니다.\n",
    "- 혹시 내 사진들끼리의 거리가 멀게 나온다면 왜 그럴지 생각해 봅시다."
   ]
  },
  {
   "cell_type": "markdown",
   "id": "solar-moral",
   "metadata": {},
   "source": [
    "**2. 비교할 연예인 사진 모으기**\n",
    "\n",
    "- 많이 모을수록 나와 더 닮은 연예인을 찾을 가능성이 높아질 것입니다.\n",
    "- 주위의 동료들과 모은 사진을 주고받는 것도 하나의 방법입니다."
   ]
  },
  {
   "cell_type": "markdown",
   "id": "furnished-personality",
   "metadata": {},
   "source": [
    "### Step2. 얼굴 영역 자르기\n",
    "------------------------------\n",
    "임베딩 추출을 위해서는 얼굴 영역을 잘라줘야 합니다.<br>위 Step1.에서 찾은 이미지들을 이전에 만들었던 `get_gropped_face(image_file)`을 통해서 잘라줍시다!<br>자른 이미지는 PIL의 `Image.fromarray`를 통해서 PIL Image로 변환한 뒤에 저장을 해두면 다양한 재미있는 시각화를 시도해 보는 데 도움이 될 것입니다."
   ]
  },
  {
   "cell_type": "markdown",
   "id": "hazardous-cedar",
   "metadata": {},
   "source": [
    "### Step3. 얼굴 영역의 임베딩 추출하기\n",
    "------------------------------\n",
    "이제 얼굴 영역으로 잘린 이미지들이 여럿 생겼을 텐데요.<br>그 이미지를 `face_recognition` 을 사용해서 이미지를 불러오고 임베딩을 추출해 봅시다.<br>다른 사람의 임베딩은 구분할 수 있게 따로 저장해 주세요.<br>이전에 만들었던 다음 함수들을 활용하면 손쉽게 수행 가능합니다.\n",
    "\n",
    "- <span style=\"color:red\">def get_face_embedding(face)</span> : 얼굴영역으로부터 얼굴 임베딩 벡터를 구하는 함수\n",
    "- <span style=\"color:red\">def get_face_embedding_dict(dir_path)</span> : 디렉토리 안에 있는 모든 이미지의 임베딩 딕셔너리를 구하는 함수"
   ]
  },
  {
   "cell_type": "markdown",
   "id": "identified-tongue",
   "metadata": {},
   "source": [
    "### Step4. 모은 연예인들과 비교하기\n",
    "------------------------------\n",
    "모은 연예인 사진들과 자신의 얼굴 사진에서 추출한 임베딩 벡터들 간의 거리를 비교해 보고 가장 작은 연예인이 누구인지 찾아봅시다!\n",
    "\n",
    "이전 스텝에서 만들었던 `get_nearest_face(name, top=5)` 함수들을 응용하면 손쉽게 수행 가능합니다."
   ]
  },
  {
   "cell_type": "markdown",
   "id": "combined-publication",
   "metadata": {},
   "source": [
    "### Step5. 다양한 재미있는 시각화 시도해 보기\n",
    "------------------------------\n",
    "비단 닮은 꼴 연예인을 찾기만 할 것이 아니라, 그들의 얼굴 사진을 활용하여 재미있는 시각화를 시도해 볼 수 있는데요.\n",
    "**<span style=\"color:green\">tkinter</span>**나 **<span style=\"color:green\">flask</span>**를 활용해서 닮은꼴을 찾을 이미지를 업로드한 후 그 이미지와 닮은 얼굴을 찾는 형태로 구현해 보는 것도 재미있을 것입니다.😎"
   ]
  },
  {
   "cell_type": "markdown",
   "id": "economic-notification",
   "metadata": {},
   "source": [
    "## 루브릭 평가\n",
    "\n",
    "> **1. 얼굴임베딩 벡터를 활용해 가장 닮은 연예인 Best 5를 구할 수 있다.**<br>\n",
    "닮은꼴 순위, 이름, 임베딩 거리를 포함한 Top-5 리스트가 정렬되어 출력되었다.\n",
    "\n",
    "> **2. 충분한 수의 이미지에 대한 시도를 통해 매우 닮은꼴의 연예인을 찾아냈다.**<br>\n",
    "다양한 탐색을 통해 본인과 임베딩 거리 0.5 이내로 닮은 연예인을 찾아냈다.\n",
    "\n",
    "> **3. 다양하고 재미있는 결과 시각화를 시도하였다.**<br>\n",
    "matplotlib 등 다양한 시각화 도구를 하나 이상 이용해 재미있는 결과 시각화를 구현하였다."
   ]
  },
  {
   "cell_type": "markdown",
   "id": "historic-terry",
   "metadata": {},
   "source": [
    "## 회고"
   ]
  },
  {
   "cell_type": "markdown",
   "id": "front-sperm",
   "metadata": {},
   "source": [
    "재밌고 코드수정이 많지 않아 부담이 덜했습니다.🤭<br>\n",
    "다만 대상을 조원이나 퍼실님으로 한다면 더욱 재밌게 했을것 같습니다.😝😝😝<br>\n",
    "우수 프로젝트가 되면 공개해야하는데 매우매우매우 부끄러울것 같네요....ㅎㅎㅎㅎㅎ*~~(김칫국 마시기)~~* <br>\n",
    "베이스데이터도 얼만큼 다양하게 넣었는지도 같이 공개가 된다면 더욱 좋을것 같지만😏<br>\n",
    "네...저는 공개하기 매우매우매우 부끄럽기 때문에 채점이 끝나면 비공개로 돌려버릴거에요...............😖😖😖😖😖😖😖😖😖"
   ]
  }
 ],
 "metadata": {
  "kernelspec": {
   "display_name": "Python 3",
   "language": "python",
   "name": "python3"
  },
  "language_info": {
   "codemirror_mode": {
    "name": "ipython",
    "version": 3
   },
   "file_extension": ".py",
   "mimetype": "text/x-python",
   "name": "python",
   "nbconvert_exporter": "python",
   "pygments_lexer": "ipython3",
   "version": "3.7.9"
  }
 },
 "nbformat": 4,
 "nbformat_minor": 5
}
