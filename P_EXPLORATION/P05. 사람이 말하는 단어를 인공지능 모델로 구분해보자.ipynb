{
 "cells": [
  {
   "cell_type": "markdown",
   "id": "trained-conversation",
   "metadata": {},
   "source": [
    "# 사람이 말하는 단어를 인공지능 모델로 구분해보자"
   ]
  },
  {
   "cell_type": "markdown",
   "id": "dress-ballot",
   "metadata": {},
   "source": [
    "2차원 Spectrogram 데이터를 입력받아 모델을 아래 제시된 단계와 같이 수행해 보겠습니다.  \n",
    "기본 버전과 Skip-connection 버전으로 나누어 각각 진행해 보겠습니다."
   ]
  },
  {
   "cell_type": "markdown",
   "id": "acknowledged-shanghai",
   "metadata": {},
   "source": [
    "이제 오늘 만들어볼 음성인식 모델을 위한 학습데이터를 분석해 보겠습니다.  \n",
    "아래와 같이 환경을 구성한 후, 데이터 다운로드를 진행해 주세요.  \n",
    "**(주의 : 1.6GB의 대용량 데이터입니다. 다운로드에 시간이 오래걸릴 수 있으니 주의해 주세요.)**"
   ]
  },
  {
   "cell_type": "markdown",
   "id": "suffering-shuttle",
   "metadata": {},
   "source": [
    "- mkdir -p ~/aiffel/speech_recognition/data  \n",
    "- mkdir -p ~/aiffel/speech_recognition/models  \n",
    "- wget https://aiffelstaticdev.blob.core.windows.net/dataset/speech_wav_8000.npz -P ~/aiffel/speech_recognition/data"
   ]
  },
  {
   "cell_type": "markdown",
   "id": "spread-detector",
   "metadata": {},
   "source": [
    "### 이렇게 다운로드받은 waveform 형태의 데이터에 대해 좀더 자세한 정보를 정리해 봅시다.\n",
    "\n",
    "**Wave 데이터 형식 뜯어보기**  \n",
    "Audio 데이터는 이미지 데이터보다 낮은 차원의 데이터를 다룹니다. 1개의 wav 파일은 1차원으로 이루어진 시계열 데이터입니다. 실제로는 여러 소리 파형이 합쳐진 복합파라고 보아야 합니다.\n",
    "\n",
    "**간단한 단어 인식을 위한 훈련데이터셋**  \n",
    "짧은 단어의 라벨이 달려 있어, 음성들을 텍스트로 구분하는 모델 혹은 간단한 명령어를 구별하는 모델로도 학습이 가능합니다.\n",
    "\n",
    "**Bits per sample**  \n",
    "샘플 하나마다 소리의 세기를 몇 비트로 저장했는지를 나타냅니다.\n",
    "값이 커질 수록 세기를 정확하게 저장할 수 있습니다.\n",
    "예를 들어, Bits rate가 16 bits 라면, 소리의 세기를 \n",
    "2  16, 즉 65,536 단계로 표현할 수 있습니다.\n",
    "4 bits / 8 bits unsigned int / 16 bits int / 24 bits / 32 bits float 등의 자료형으로 표현됩니다.\n",
    "\n",
    "**Sampling frequency**  \n",
    "샘플링 주파수라는 단어입니다. 소리로부터 초당 샘플링한 횟수를 의미합니다.\n",
    "샘플링은 원래 신호를 다시 복원할 수 있는 나이퀴스트(Nyquist) 샘플링 룰에 따라서, 복원해야 할 신호 주파수의 2배 이상으로 샘플링 해야합니다.\n",
    "가청 주파수 20 ~ 24 kHz를 복원하기 위해 사용하며, 음원에서 많이 쓰이는 값은 44.1 kHz입니다.\n",
    "\n",
    "**Channel**  \n",
    "각 채널별로 샘플링된 데이터가 따로 저장되어 있습니다.\n",
    "2채널(Stereo) 음원을 재생하면 왼쪽(L)과 오른쪽(R) 스피커에 다른 값이 출력됩니다.\n",
    "1채널(Mono) 음원의 경우 왼쪽(L) 데이터만 있으며, 재생시엔 왼쪽(L)과 오른쪽(R) 스피커에 같은 값이 출력됩니다."
   ]
  },
  {
   "cell_type": "code",
   "execution_count": 1,
   "id": "stopped-modern",
   "metadata": {},
   "outputs": [],
   "source": [
    "import numpy as np\n",
    "import os\n",
    "import IPython.display as ipd\n",
    "import random\n",
    "import tensorflow as tf\n",
    "import librosa\n",
    "import librosa.display\n",
    "import matplotlib.pyplot as plt\n",
    "from sklearn.model_selection import train_test_split\n",
    "from tensorflow.keras import layers"
   ]
  },
  {
   "cell_type": "markdown",
   "id": "fixed-length",
   "metadata": {},
   "source": [
    "사용할 모듈들 입니다."
   ]
  },
  {
   "cell_type": "code",
   "execution_count": 2,
   "id": "weighted-advocacy",
   "metadata": {},
   "outputs": [
    {
     "name": "stdout",
     "output_type": "stream",
     "text": [
      "✅\n"
     ]
    }
   ],
   "source": [
    "# import numpy as np\n",
    "# import os\n",
    "\n",
    "data_path = os.getenv(\"HOME\")+'/aiffel/speech_recognition/data/speech_wav_8000.npz'\n",
    "speech_data = np.load(data_path)\n",
    "\n",
    "print(\"✅\")"
   ]
  },
  {
   "cell_type": "markdown",
   "id": "sufficient-listening",
   "metadata": {},
   "source": [
    "**데이터셋 살펴보기 : npz 파일로 이뤄진 데이터이며, 각각 데이터는 \"wav_vals\", \"label_vals\"로 저장되어있습니다.**"
   ]
  },
  {
   "cell_type": "code",
   "execution_count": 3,
   "id": "anticipated-portugal",
   "metadata": {},
   "outputs": [
    {
     "name": "stdout",
     "output_type": "stream",
     "text": [
      "Wave data shape :  (50620, 8000)\n",
      "Label data shape :  (50620, 1)\n",
      "✅\n"
     ]
    }
   ],
   "source": [
    "print(\"Wave data shape : \", speech_data[\"wav_vals\"].shape)\n",
    "print(\"Label data shape : \", speech_data[\"label_vals\"].shape)\n",
    "print(\"✅\")"
   ]
  },
  {
   "cell_type": "markdown",
   "id": "intensive-construction",
   "metadata": {},
   "source": [
    "- 데이터셋은 1초 길이의 오디오 음성데이터 **50620개**로 이뤄져 있습니다.  \n",
    "- 데이터셋은 캐글의 음성 인식 챌린지의 데이터입니다.  \n",
    "- 주어진 데이터의 원래 Sample rate는 16000이지만, 8000으로 re-sampling해 사용하겠습니다.  \n",
    "- 모두 1초의 길이를 가지는 오디오 음성데이터이여서 각각 **8000개**의 sample data를 가지고 있습니다."
   ]
  },
  {
   "cell_type": "markdown",
   "id": "attractive-portsmouth",
   "metadata": {},
   "source": [
    "위에서 설명한 데이터가 맞는지 확인해봅시다."
   ]
  },
  {
   "cell_type": "code",
   "execution_count": 4,
   "id": "pacific-experiment",
   "metadata": {},
   "outputs": [
    {
     "name": "stdout",
     "output_type": "stream",
     "text": [
      "rand num :  11874\n",
      "Wave data shape :  (8000,)\n",
      "label :  ['on']\n"
     ]
    },
    {
     "data": {
      "text/html": [
       "\n",
       "                <audio  controls=\"controls\" >\n",
       "                    <source src=\"data:audio/wav;base64,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\" type=\"audio/wav\" />\n",
       "                    Your browser does not support the audio element.\n",
       "                </audio>\n",
       "              "
      ],
      "text/plain": [
       "<IPython.lib.display.Audio object>"
      ]
     },
     "execution_count": 4,
     "metadata": {},
     "output_type": "execute_result"
    }
   ],
   "source": [
    "# import IPython.display as ipd\n",
    "# import random\n",
    "\n",
    "# 데이터 선택 (랜덤하게 선택하고 있으니, 여러번 실행해 보세요)\n",
    "rand = random.randint(0, len(speech_data[\"wav_vals\"]))\n",
    "print(\"rand num : \", rand)\n",
    "\n",
    "sr = 8000 # 1초동안 재생되는 샘플의 갯수\n",
    "data = speech_data[\"wav_vals\"][rand]\n",
    "print(\"Wave data shape : \", data.shape)\n",
    "print(\"label : \", speech_data[\"label_vals\"][rand])\n",
    "\n",
    "ipd.Audio(data, rate=sr)  # 음성을 들을 수 있게 해주는 코드"
   ]
  },
  {
   "cell_type": "markdown",
   "id": "derived-nation",
   "metadata": {},
   "source": [
    "#### 쥬피터 환경에서는 ipd.Audio를 이용하여 오디오처럼 음성을 들을 수 있지만 깃허브에서는 작동이 안된다는 것을 알았습니다...."
   ]
  },
  {
   "cell_type": "markdown",
   "id": "pediatric-helicopter",
   "metadata": {},
   "source": [
    "## 1. 데이터 처리와 분류"
   ]
  },
  {
   "cell_type": "markdown",
   "id": "apart-horizontal",
   "metadata": {},
   "source": [
    "**Label data 처리 : 학습을 위해서는 Text 데이터를 학습가능한 형태로 만들어줘야 합니다.**"
   ]
  },
  {
   "cell_type": "markdown",
   "id": "large-funeral",
   "metadata": {},
   "source": [
    "아래는 구분해야할 label 목록입니다.\n",
    "\n",
    "['yes', 'no', 'up', 'down', 'left', 'right', 'on', 'off', 'stop', 'go' ]\n",
    "\n",
    "이외 데이터들은 'unknown', 'silence'로 분류되어 있습니다."
   ]
  },
  {
   "cell_type": "code",
   "execution_count": 5,
   "id": "domestic-exhaust",
   "metadata": {},
   "outputs": [
    {
     "name": "stdout",
     "output_type": "stream",
     "text": [
      "LABEL :  ['yes', 'no', 'up', 'down', 'left', 'right', 'on', 'off', 'stop', 'go', 'unknown', 'silence']\n",
      "Indexed LABEL :  {'yes': 0, 'no': 1, 'up': 2, 'down': 3, 'left': 4, 'right': 5, 'on': 6, 'off': 7, 'stop': 8, 'go': 9, 'unknown': 10, 'silence': 11}\n"
     ]
    }
   ],
   "source": [
    "target_list = ['yes', 'no', 'up', 'down', 'left', 'right', 'on', 'off', 'stop', 'go']\n",
    "\n",
    "label_value = target_list\n",
    "label_value.append('unknown')\n",
    "label_value.append('silence')\n",
    "\n",
    "print('LABEL : ', label_value)\n",
    "\n",
    "new_label_value = dict()\n",
    "for i, l in enumerate(label_value):\n",
    "    new_label_value[l] = i\n",
    "label_value = new_label_value\n",
    "\n",
    "print('Indexed LABEL : ', new_label_value)"
   ]
  },
  {
   "cell_type": "markdown",
   "id": "effective-livestock",
   "metadata": {},
   "source": [
    "Text로 이루어진 라벨 데이터를 학습에 사용하기 위해서 index 형태로 바꿔주는 작업을 하였습니다.\n",
    "\n",
    "int로 이뤄진 index 작업을 통해서 Label data를 더 쉽게 사용할 수 있습니다."
   ]
  },
  {
   "cell_type": "code",
   "execution_count": 6,
   "id": "fantastic-spanking",
   "metadata": {},
   "outputs": [
    {
     "data": {
      "text/plain": [
       "array([ 3,  3,  3, ..., 11, 11, 11])"
      ]
     },
     "execution_count": 6,
     "metadata": {},
     "output_type": "execute_result"
    }
   ],
   "source": [
    "temp = []\n",
    "for v in speech_data[\"label_vals\"]:  # label_val : 타겟값\n",
    "    temp.append(label_value[v[0]])\n",
    "label_data = np.array(temp)\n",
    "\n",
    "label_data"
   ]
  },
  {
   "cell_type": "markdown",
   "id": "talented-limit",
   "metadata": {},
   "source": [
    "**학습을 위한 데이터 분리 : sklearn의 train_test_split 함수를 이용해 train data와 test data를 분리**"
   ]
  },
  {
   "cell_type": "code",
   "execution_count": 7,
   "id": "rising-vitamin",
   "metadata": {},
   "outputs": [
    {
     "name": "stdout",
     "output_type": "stream",
     "text": [
      "[[-2.4058521e-02 -4.3708041e-02 -4.9608476e-02 ... -3.6756255e-02\n",
      "  -3.5294276e-02 -3.8161710e-02]\n",
      " [ 1.1634251e-04  3.3020528e-04  2.9393041e-04 ...  8.6326523e-05\n",
      "   3.9304679e-05 -1.8435324e-04]\n",
      " [ 4.6606255e-03  7.4515156e-03  1.5126601e-03 ...  4.4279457e-03\n",
      "   5.0916225e-03  1.4847362e-03]\n",
      " ...\n",
      " [-1.1925117e-04 -6.3806510e-04 -1.4535684e-04 ...  1.0328599e-06\n",
      "  -7.8530825e-04 -1.1803984e-03]\n",
      " [ 6.6589727e-04  2.1020578e-04  6.7090057e-04 ...  4.1399867e-04\n",
      "  -3.4852314e-03 -4.6923598e-03]\n",
      " [ 3.0280103e-04  4.8902823e-04  3.8564351e-04 ... -5.2333466e-04\n",
      "  -5.2089855e-04 -6.2755105e-04]]\n",
      "✅\n"
     ]
    }
   ],
   "source": [
    "# from sklearn.model_selection import train_test_split\n",
    "\n",
    "sr = 8000\n",
    "train_wav, test_wav, train_label, test_label = train_test_split(speech_data[\"wav_vals\"], \n",
    "                                                                label_data, \n",
    "                                                                test_size=0.2,  # test_size의 인자를 조절해주면, 설정해 준 값만큼 Test dataset의 비율을 조정할 수 있음!\n",
    "                                                                shuffle=True)\n",
    "print(train_wav)\n",
    "\n",
    "train_wav = train_wav.reshape([-1, sr, 1]) # add channel for CNN\n",
    "test_wav = test_wav.reshape([-1, sr, 1])\n",
    "print(\"✅\")"
   ]
  },
  {
   "cell_type": "markdown",
   "id": "combined-joyce",
   "metadata": {},
   "source": [
    "나눠진 데이터셋을 확인해 볼까요?"
   ]
  },
  {
   "cell_type": "markdown",
   "id": "internal-radar",
   "metadata": {},
   "source": [
    "**Spectrogram이란?**\n",
    "\n",
    "wav 데이터를 해석하는 방법 중 하나로, 일정 시간동안 wav 데이터 안의 다양한 주파수들이 얼마나 포함되어 있는 지를 보여줍니다.  \n",
    "X축은 시간, Y축은 주파수를 나타내며, 해당 시간/주파수에서의 음파 강도에 따라 밝은색으로 표현됩니다.\n",
    "wav 데이터가 단위 시간만큼 Short Time Fourier Transform을 진행해 매 순간의 주파수 데이터들을 얻어서 Spectrogram을 완성합니다."
   ]
  },
  {
   "cell_type": "markdown",
   "id": "individual-blanket",
   "metadata": {},
   "source": [
    "먼저 파이썬에서 제공하는 FFT 관련 라이브러리인 librosa를 설치합니다."
   ]
  },
  {
   "cell_type": "code",
   "execution_count": 8,
   "id": "automotive-shipping",
   "metadata": {},
   "outputs": [],
   "source": [
    "# pip install librosa"
   ]
  },
  {
   "cell_type": "code",
   "execution_count": 9,
   "id": "combined-landscape",
   "metadata": {},
   "outputs": [
    {
     "name": "stdout",
     "output_type": "stream",
     "text": [
      "✅\n"
     ]
    }
   ],
   "source": [
    "# import librosa : spectogram을 만들어주는 librosa 라이브러리\n",
    "\n",
    "def wav2spec(wav, fft_size=258): # spectrogram shape을 맞추기위해서 size 변형\n",
    "    D = np.abs(librosa.stft(wav, n_fft=fft_size))\n",
    "    return D\n",
    "print(\"✅\")"
   ]
  },
  {
   "cell_type": "code",
   "execution_count": 10,
   "id": "extra-reporter",
   "metadata": {},
   "outputs": [
    {
     "name": "stdout",
     "output_type": "stream",
     "text": [
      "Waveform shape :  (8000,)\n",
      "Spectrogram shape :  (130, 126)\n"
     ]
    }
   ],
   "source": [
    "# 위에서 뽑았던 sample data\n",
    "spec = wav2spec(data)\n",
    "print(\"Waveform shape : \",data.shape)\n",
    "print(\"Spectrogram shape : \",spec.shape)"
   ]
  },
  {
   "cell_type": "code",
   "execution_count": 11,
   "id": "turned-child",
   "metadata": {
    "scrolled": true
   },
   "outputs": [
    {
     "ename": "IndexError",
     "evalue": "only integers, slices (`:`), ellipsis (`...`), numpy.newaxis (`None`) and integer or boolean arrays are valid indices",
     "output_type": "error",
     "traceback": [
      "\u001b[0;31m---------------------------------------------------------------------------\u001b[0m",
      "\u001b[0;31mIndexError\u001b[0m                                Traceback (most recent call last)",
      "\u001b[0;32m<ipython-input-11-92cb10a75219>\u001b[0m in \u001b[0;36m<module>\u001b[0;34m\u001b[0m\n\u001b[1;32m      9\u001b[0m     \u001b[0;32mreturn\u001b[0m \u001b[0mspectrograms\u001b[0m\u001b[0;34m\u001b[0m\u001b[0;34m\u001b[0m\u001b[0m\n\u001b[1;32m     10\u001b[0m \u001b[0;34m\u001b[0m\u001b[0m\n\u001b[0;32m---> 11\u001b[0;31m \u001b[0mtrain_wav\u001b[0m \u001b[0;34m=\u001b[0m \u001b[0mspectrogramize\u001b[0m\u001b[0;34m(\u001b[0m\u001b[0mtrain_wav\u001b[0m\u001b[0;34m)\u001b[0m\u001b[0;34m\u001b[0m\u001b[0;34m\u001b[0m\u001b[0m\n\u001b[0m\u001b[1;32m     12\u001b[0m \u001b[0mtest_wav\u001b[0m \u001b[0;34m=\u001b[0m \u001b[0mspectrogramize\u001b[0m\u001b[0;34m(\u001b[0m\u001b[0mtest_wav\u001b[0m\u001b[0;34m)\u001b[0m\u001b[0;34m\u001b[0m\u001b[0;34m\u001b[0m\u001b[0m\n",
      "\u001b[0;32m<ipython-input-11-92cb10a75219>\u001b[0m in \u001b[0;36mspectrogramize\u001b[0;34m(speech_data)\u001b[0m\n\u001b[1;32m      2\u001b[0m     \u001b[0mspectrograms\u001b[0m \u001b[0;34m=\u001b[0m \u001b[0;34m[\u001b[0m\u001b[0;34m]\u001b[0m\u001b[0;34m\u001b[0m\u001b[0;34m\u001b[0m\u001b[0m\n\u001b[1;32m      3\u001b[0m \u001b[0;34m\u001b[0m\u001b[0m\n\u001b[0;32m----> 4\u001b[0;31m     \u001b[0;32mfor\u001b[0m \u001b[0mi\u001b[0m \u001b[0;32min\u001b[0m \u001b[0mspeech_data\u001b[0m\u001b[0;34m[\u001b[0m\u001b[0;34m\"wav_vals\"\u001b[0m\u001b[0;34m]\u001b[0m\u001b[0;34m:\u001b[0m\u001b[0;34m\u001b[0m\u001b[0;34m\u001b[0m\u001b[0m\n\u001b[0m\u001b[1;32m      5\u001b[0m         \u001b[0;31m# print(len(i))\u001b[0m\u001b[0;34m\u001b[0m\u001b[0;34m\u001b[0m\u001b[0;34m\u001b[0m\u001b[0m\n\u001b[1;32m      6\u001b[0m         \u001b[0mspectrograms\u001b[0m\u001b[0;34m.\u001b[0m\u001b[0mappend\u001b[0m\u001b[0;34m(\u001b[0m\u001b[0mwav2spec\u001b[0m\u001b[0;34m(\u001b[0m\u001b[0mi\u001b[0m\u001b[0;34m)\u001b[0m\u001b[0;34m)\u001b[0m\u001b[0;34m\u001b[0m\u001b[0;34m\u001b[0m\u001b[0m\n",
      "\u001b[0;31mIndexError\u001b[0m: only integers, slices (`:`), ellipsis (`...`), numpy.newaxis (`None`) and integer or boolean arrays are valid indices"
     ]
    }
   ],
   "source": [
    "def spectrogramize(speech_data):\n",
    "    spectrograms = []\n",
    "    \n",
    "    for i in speech_data[\"wav_vals\"]:\n",
    "        # print(len(i))\n",
    "        spectrograms.append(wav2spec(i))\n",
    "        \n",
    "    spectrograms = np.array(spectrograms)\n",
    "    return spectrograms\n",
    "\n",
    "train_wav = spectrogramize(train_wav)\n",
    "test_wav = spectrogramize(test_wav)"
   ]
  },
  {
   "cell_type": "code",
   "execution_count": 12,
   "id": "inappropriate-argentina",
   "metadata": {},
   "outputs": [
    {
     "ename": "TypeError",
     "evalue": "'tuple' object is not callable",
     "output_type": "error",
     "traceback": [
      "\u001b[0;31m---------------------------------------------------------------------------\u001b[0m",
      "\u001b[0;31mTypeError\u001b[0m                                 Traceback (most recent call last)",
      "\u001b[0;32m<ipython-input-12-704d6cb616dc>\u001b[0m in \u001b[0;36m<module>\u001b[0;34m\u001b[0m\n\u001b[0;32m----> 1\u001b[0;31m \u001b[0mtrain_wav\u001b[0m\u001b[0;34m[\u001b[0m\u001b[0;36m0\u001b[0m\u001b[0;34m]\u001b[0m\u001b[0;34m.\u001b[0m\u001b[0mshape\u001b[0m\u001b[0;34m(\u001b[0m\u001b[0;34m)\u001b[0m\u001b[0;34m\u001b[0m\u001b[0;34m\u001b[0m\u001b[0m\n\u001b[0m",
      "\u001b[0;31mTypeError\u001b[0m: 'tuple' object is not callable"
     ]
    }
   ],
   "source": [
    "train_wav[0].shape()"
   ]
  },
  {
   "cell_type": "code",
   "execution_count": 13,
   "id": "pleasant-introduction",
   "metadata": {},
   "outputs": [
    {
     "name": "stdout",
     "output_type": "stream",
     "text": [
      "train data :  (40496, 8000, 1)\n",
      "train labels :  (40496,)\n",
      "test data :  (10124, 8000, 1)\n",
      "test labels :  (10124,)\n",
      "✅\n"
     ]
    }
   ],
   "source": [
    "print(\"train data : \", train_wav.shape)\n",
    "print(\"train labels : \", train_label.shape)\n",
    "print(\"test data : \", test_wav.shape)\n",
    "print(\"test labels : \", test_label.shape)\n",
    "print(\"✅\")"
   ]
  },
  {
   "cell_type": "markdown",
   "id": "stainless-brake",
   "metadata": {},
   "source": [
    "## 2. 학습을 위한 하이퍼파라미터 설정"
   ]
  },
  {
   "cell_type": "markdown",
   "id": "combined-scratch",
   "metadata": {},
   "source": [
    "모델 체크포인트 저장을 위한 체크포인트의 경로를 설정해줍니다.  \n",
    "후에 모델 체크포인트 Callback 함수를 설정하거나, 모델을 불러올때 사용합니다."
   ]
  },
  {
   "cell_type": "code",
   "execution_count": 14,
   "id": "theoretical-melbourne",
   "metadata": {
    "scrolled": true
   },
   "outputs": [
    {
     "name": "stdout",
     "output_type": "stream",
     "text": [
      "✅\n"
     ]
    }
   ],
   "source": [
    "batch_size = 32\n",
    "max_epochs = 10\n",
    "\n",
    "# checkpoint, callback(=call-after function) 함수 추가\n",
    "checkpoint_dir = os.getenv('HOME')+'/aiffel/speech_recognition/models/wav'\n",
    "\n",
    "cp_callback = tf.keras.callbacks.ModelCheckpoint(checkpoint_dir,\n",
    "                                                 save_weights_only=True,\n",
    "                                                 monitor='val_loss',\n",
    "                                                 mode='auto',\n",
    "                                                 save_best_only=True,\n",
    "                                                 verbose=1)\n",
    "print(\"✅\")"
   ]
  },
  {
   "cell_type": "markdown",
   "id": "weighted-establishment",
   "metadata": {},
   "source": [
    "- **checkpoint 함수** : 모델 가중치를 저장하는 함수  \n",
    "- **callback(=call-after function) 함수** : 콜백을 넘겨받는 코드는 이 콜백을 필요에 따라 즉시 실행할 수도 있고, 아니면 나중에 실행할 수도 있습니다."
   ]
  },
  {
   "cell_type": "markdown",
   "id": "arctic-window",
   "metadata": {},
   "source": [
    "## 3. 데이터셋 구성"
   ]
  },
  {
   "cell_type": "markdown",
   "id": "recovered-pathology",
   "metadata": {},
   "source": [
    "map 함수는 dataset이 데이터를 불러올때마다 동작시킬 데이터 전처리 함수를 매핑해 주는 역할을 합니다. 첫번째 map 함수는 from_tensor_slice 에 입력한 튜플 형태로 데이터를 받으며 return 값으로 어떤 데이터를 반환할지 결정합니다.\n",
    "map 함수는 중첩해서 사용이 가능합니다.\n",
    "\n",
    "아래와 같이, map 함수에 넘겨줄 데이터 전처리 함수를 작성해 봅시다."
   ]
  },
  {
   "cell_type": "code",
   "execution_count": 15,
   "id": "endless-darwin",
   "metadata": {},
   "outputs": [
    {
     "name": "stdout",
     "output_type": "stream",
     "text": [
      "✅\n"
     ]
    }
   ],
   "source": [
    "def one_hot_label(wav, label):\n",
    "    label = tf.one_hot(label, depth=12)\n",
    "    return wav, label\n",
    "print(\"✅\")"
   ]
  },
  {
   "cell_type": "markdown",
   "id": "nearby-lecture",
   "metadata": {},
   "source": [
    "tf.data.Dataset 함수를 이용해서 데이터셋을 구성하겠습니다.  \n",
    "Tensorflow에 포함된 이 데이터셋 관리 패키지는 데이터셋 전처리, 배치처리 등을 쉽게 할 수 있도록 해 줍니다. 자주 사용하게 되니 사용법을 잘 익혀 둡시다."
   ]
  },
  {
   "cell_type": "code",
   "execution_count": 16,
   "id": "fresh-threshold",
   "metadata": {},
   "outputs": [
    {
     "name": "stdout",
     "output_type": "stream",
     "text": [
      "<BatchDataset shapes: ((None, 8000, 1), (None, 12)), types: (tf.float32, tf.float32)>\n",
      "<BatchDataset shapes: ((None, 8000, 1), (None, 12)), types: (tf.float32, tf.float32)>\n",
      "✅\n"
     ]
    }
   ],
   "source": [
    "# import tensorflow as tf\n",
    "\n",
    "# for train\n",
    "train_dataset = tf.data.Dataset.from_tensor_slices((train_wav, train_label))  # return 받길 원하는 데이터를 튜플 (data, label) 형태로 넣어서 사용할 수 있습니다.\n",
    "train_dataset = train_dataset.map(one_hot_label)\n",
    "train_dataset = train_dataset.repeat().batch(batch_size=batch_size)\n",
    "print(train_dataset)\n",
    "\n",
    "# for test\n",
    "test_dataset = tf.data.Dataset.from_tensor_slices((test_wav, test_label))  # return 받길 원하는 데이터를 튜플 (data, label) 형태로 넣어서 사용할 수 있습니다.\n",
    "test_dataset = test_dataset.map(one_hot_label)\n",
    "test_dataset = test_dataset.batch(batch_size=batch_size)  # dataset에서 제공하는 튜플 형태의 데이터를 얼마나 가져올지 결정하는 함수\n",
    "print(test_dataset)\n",
    "print(\"✅\")"
   ]
  },
  {
   "cell_type": "markdown",
   "id": "fresh-version",
   "metadata": {},
   "source": [
    "## 4. 2차원 Spectrogram 데이터를 처리하는 모델 구성"
   ]
  },
  {
   "cell_type": "markdown",
   "id": "norwegian-delta",
   "metadata": {},
   "source": [
    "- 주의 : waveform을 spectrogram으로 변환하기 위해 추가로 사용하는 메모리 때문에 이후 메모리 부족 현상을 겪게 될수도 있습니다.\n",
    "- tf.data.Dataset이 생성된 이후, 아래 예시와 같이 wav 데이터나 spectrogram 데이터를 담아둔 메모리 버퍼를 비워 주면 도움이 됩니다."
   ]
  },
  {
   "cell_type": "code",
   "execution_count": 17,
   "id": "flexible-gabriel",
   "metadata": {},
   "outputs": [],
   "source": [
    "# del speech_data  \n",
    "# del spec_data"
   ]
  },
  {
   "cell_type": "markdown",
   "id": "intense-resident",
   "metadata": {},
   "source": [
    "어떻습니까? 1차원의 Waveform 데이터가 2차원의 Spectrogram 데이터로 변환되었습니다.\n",
    "\n",
    "그렇다면 방금 변환된 Spectrogram을 출력해보겠습니다.\n",
    "\n",
    "만약에, 우리가 Waveform 데이터 대신 이 Spectrogram 포맷으로 모든 음성 데이터를 변환한 후 음성인식 모델을 학습시킨다면, 과연 Waveform과 비교했을 때 더 나은 성능을 기대할 수 있을까요?"
   ]
  },
  {
   "cell_type": "code",
   "execution_count": 18,
   "id": "fitted-nicholas",
   "metadata": {
    "scrolled": true
   },
   "outputs": [
    {
     "data": {
      "image/png": "[encoded data removed]",
      "text/plain": [
       "<Figure size 432x288 with 2 Axes>"
      ]
     },
     "metadata": {
      "needs_background": "light"
     },
     "output_type": "display_data"
    }
   ],
   "source": [
    "# import librosa.display\n",
    "# import matplotlib.pyplot as plt\n",
    "\n",
    "librosa.display.specshow(librosa.amplitude_to_db(spec, ref=np.max), x_axis='time')\n",
    "plt.title('Power spectrogram')\n",
    "plt.colorbar(format='%+2.0f dB')\n",
    "plt.xticks(range(0, 1))\n",
    "plt.tight_layout()\n",
    "plt.show()"
   ]
  },
  {
   "cell_type": "markdown",
   "id": "forced-promotion",
   "metadata": {},
   "source": [
    "## 5. 학습 후, 학습이 어떻게 진행됐는지 그래프로 출력"
   ]
  },
  {
   "cell_type": "markdown",
   "id": "identified-annex",
   "metadata": {},
   "source": [
    "###### loss, accuracy를 그래프로 표현"
   ]
  },
  {
   "cell_type": "code",
   "execution_count": 19,
   "id": "silver-roberts",
   "metadata": {},
   "outputs": [],
   "source": [
    "# train_wav = train_wav.reshape(-1, 130, 126, 1)\n",
    "# 위의 batch된 데이터들과 맞춰준다\n",
    "#-1옵션은 size를 기반으로 row의 개수를 선정한다\n",
    "# test_wav = test_wav.reshape(-1, 130, 126, 1)\n",
    "\n",
    "# from tensorflow.keras import layers\n",
    "input_tensor = layers.Input(shape=(130, 126, 1))\n",
    "\n",
    "# 2차원 Spectrogram 데이터의 시간축 방향으로 Conv1D layer를 적용, 혹은 Conv2D layer를 적용 가능\n",
    "x = layers.Conv2D(32, 9, padding='same', activation='relu')(input_tensor)\n",
    "x = layers.Conv2D(32, 9, padding='same', activation='relu')(x)\n",
    "skip_1 = layers.MaxPool2D()(x)\n",
    "\n",
    "x = layers.Conv2D(64, 9, padding='same', activation='relu')(skip_1)\n",
    "x = layers.Conv2D(64, 9, padding='same', activation='relu')(x)\n",
    "x = tf.concat([x, skip_1], -1)\n",
    "skip_2 = layers.MaxPool2D()(x)\n",
    "\n",
    "x = layers.Conv2D(128, 9, padding='same', activation='relu')(skip_2)\n",
    "x = layers.Conv2D(128, 9, padding='same', activation='relu')(x)\n",
    "x = layers.Conv2D(128, 9, padding='same', activation='relu')(x)\n",
    "x = tf.concat([x, skip_2], -1)\n",
    "skip_3 = layers.MaxPool2D()(x)\n",
    "\n",
    "x = layers.Conv2D(256, 9, padding='same', activation='relu')(skip_3)\n",
    "x = layers.Conv2D(256, 9, padding='same', activation='relu')(x)\n",
    "x = layers.Conv2D(256, 9, padding='same', activation='relu')(x)\n",
    "x = tf.concat([x, skip_3], -1)\n",
    "# Batchnorm, Dropout, Dense layer등을 이용\n",
    "x = layers.MaxPool2D()(x)\n",
    "x = layers.Dropout(0.3)(x)\n",
    "x = layers.Flatten()(x)\n",
    "x = layers.Dense(256)(x)\n",
    "x = layers.BatchNormalization()(x)\n",
    "x = layers.Activation('relu')(x)\n",
    "\n",
    "output_tensor = layers.Dense(12)(x)\n",
    "\n",
    "model_wav = tf.keras.Model(input_tensor, output_tensor)\n",
    "\n",
    "# 12개의 단어 class를 구분하는 loss를 사용하고 Adam optimizer를 사용\n",
    "model_wav.compile(loss=tf.keras.losses.CategoricalCrossentropy(from_logits=True),\n",
    "                  optimizer=tf.keras.optimizers.Adam(1e-4),\n",
    "                  metrics=['accuracy'])"
   ]
  },
  {
   "cell_type": "code",
   "execution_count": 20,
   "id": "afraid-norway",
   "metadata": {},
   "outputs": [
    {
     "name": "stdout",
     "output_type": "stream",
     "text": [
      "Epoch 1/10\n",
      "WARNING:tensorflow:Model was constructed with shape (None, 130, 126, 1) for input Tensor(\"input_1:0\", shape=(None, 130, 126, 1), dtype=float32), but it was called on an input with incompatible shape (None, 8000, 1, 1).\n"
     ]
    },
    {
     "ename": "ValueError",
     "evalue": "in user code:\n\n    /home/aiffel-dj49/anaconda3/envs/aiffel/lib/python3.7/site-packages/tensorflow/python/keras/engine/training.py:571 train_function  *\n        outputs = self.distribute_strategy.run(\n    /home/aiffel-dj49/anaconda3/envs/aiffel/lib/python3.7/site-packages/tensorflow/python/distribute/distribute_lib.py:951 run  **\n        return self._extended.call_for_each_replica(fn, args=args, kwargs=kwargs)\n    /home/aiffel-dj49/anaconda3/envs/aiffel/lib/python3.7/site-packages/tensorflow/python/distribute/distribute_lib.py:2290 call_for_each_replica\n        return self._call_for_each_replica(fn, args, kwargs)\n    /home/aiffel-dj49/anaconda3/envs/aiffel/lib/python3.7/site-packages/tensorflow/python/distribute/distribute_lib.py:2649 _call_for_each_replica\n        return fn(*args, **kwargs)\n    /home/aiffel-dj49/anaconda3/envs/aiffel/lib/python3.7/site-packages/tensorflow/python/keras/engine/training.py:531 train_step  **\n        y_pred = self(x, training=True)\n    /home/aiffel-dj49/anaconda3/envs/aiffel/lib/python3.7/site-packages/tensorflow/python/keras/engine/base_layer.py:927 __call__\n        outputs = call_fn(cast_inputs, *args, **kwargs)\n    /home/aiffel-dj49/anaconda3/envs/aiffel/lib/python3.7/site-packages/tensorflow/python/keras/engine/network.py:719 call\n        convert_kwargs_to_constants=base_layer_utils.call_context().saving)\n    /home/aiffel-dj49/anaconda3/envs/aiffel/lib/python3.7/site-packages/tensorflow/python/keras/engine/network.py:888 _run_internal_graph\n        output_tensors = layer(computed_tensors, **kwargs)\n    /home/aiffel-dj49/anaconda3/envs/aiffel/lib/python3.7/site-packages/tensorflow/python/keras/engine/base_layer.py:927 __call__\n        outputs = call_fn(cast_inputs, *args, **kwargs)\n    /home/aiffel-dj49/anaconda3/envs/aiffel/lib/python3.7/site-packages/tensorflow/python/keras/layers/pooling.py:296 call\n        data_format=conv_utils.convert_data_format(self.data_format, 4))\n    /home/aiffel-dj49/anaconda3/envs/aiffel/lib/python3.7/site-packages/tensorflow/python/ops/nn_ops.py:3929 max_pool\n        name=name)\n    /home/aiffel-dj49/anaconda3/envs/aiffel/lib/python3.7/site-packages/tensorflow/python/ops/gen_nn_ops.py:5236 max_pool\n        data_format=data_format, name=name)\n    /home/aiffel-dj49/anaconda3/envs/aiffel/lib/python3.7/site-packages/tensorflow/python/framework/op_def_library.py:744 _apply_op_helper\n        attrs=attr_protos, op_def=op_def)\n    /home/aiffel-dj49/anaconda3/envs/aiffel/lib/python3.7/site-packages/tensorflow/python/framework/func_graph.py:595 _create_op_internal\n        compute_device)\n    /home/aiffel-dj49/anaconda3/envs/aiffel/lib/python3.7/site-packages/tensorflow/python/framework/ops.py:3327 _create_op_internal\n        op_def=op_def)\n    /home/aiffel-dj49/anaconda3/envs/aiffel/lib/python3.7/site-packages/tensorflow/python/framework/ops.py:1817 __init__\n        control_input_ops, op_def)\n    /home/aiffel-dj49/anaconda3/envs/aiffel/lib/python3.7/site-packages/tensorflow/python/framework/ops.py:1657 _create_c_op\n        raise ValueError(str(e))\n\n    ValueError: Negative dimension size caused by subtracting 2 from 1 for '{{node model/max_pooling2d/MaxPool}} = MaxPool[T=DT_FLOAT, data_format=\"NHWC\", ksize=[1, 2, 2, 1], padding=\"VALID\", strides=[1, 2, 2, 1]](model/conv2d_1/Relu)' with input shapes: [?,8000,1,32].\n",
     "output_type": "error",
     "traceback": [
      "\u001b[0;31m---------------------------------------------------------------------------\u001b[0m",
      "\u001b[0;31mValueError\u001b[0m                                Traceback (most recent call last)",
      "\u001b[0;32m<ipython-input-20-0a67223a70b7>\u001b[0m in \u001b[0;36m<module>\u001b[0;34m\u001b[0m\n\u001b[1;32m      5\u001b[0m                     \u001b[0mvalidation_data\u001b[0m\u001b[0;34m=\u001b[0m\u001b[0mtest_dataset\u001b[0m\u001b[0;34m,\u001b[0m\u001b[0;34m\u001b[0m\u001b[0;34m\u001b[0m\u001b[0m\n\u001b[1;32m      6\u001b[0m                     \u001b[0mvalidation_steps\u001b[0m\u001b[0;34m=\u001b[0m\u001b[0mlen\u001b[0m\u001b[0;34m(\u001b[0m\u001b[0mtest_wav\u001b[0m\u001b[0;34m)\u001b[0m \u001b[0;34m//\u001b[0m \u001b[0mbatch_size\u001b[0m\u001b[0;34m,\u001b[0m\u001b[0;34m\u001b[0m\u001b[0;34m\u001b[0m\u001b[0m\n\u001b[0;32m----> 7\u001b[0;31m                     \u001b[0mcallbacks\u001b[0m\u001b[0;34m=\u001b[0m\u001b[0;34m[\u001b[0m\u001b[0mcp_callback\u001b[0m\u001b[0;34m]\u001b[0m\u001b[0;34m\u001b[0m\u001b[0;34m\u001b[0m\u001b[0m\n\u001b[0m\u001b[1;32m      8\u001b[0m                     )\n\u001b[1;32m      9\u001b[0m \u001b[0mprint\u001b[0m\u001b[0;34m(\u001b[0m\u001b[0;34m\"✅\"\u001b[0m\u001b[0;34m)\u001b[0m\u001b[0;34m\u001b[0m\u001b[0;34m\u001b[0m\u001b[0m\n",
      "\u001b[0;32m~/anaconda3/envs/aiffel/lib/python3.7/site-packages/tensorflow/python/keras/engine/training.py\u001b[0m in \u001b[0;36m_method_wrapper\u001b[0;34m(self, *args, **kwargs)\u001b[0m\n\u001b[1;32m     64\u001b[0m   \u001b[0;32mdef\u001b[0m \u001b[0m_method_wrapper\u001b[0m\u001b[0;34m(\u001b[0m\u001b[0mself\u001b[0m\u001b[0;34m,\u001b[0m \u001b[0;34m*\u001b[0m\u001b[0margs\u001b[0m\u001b[0;34m,\u001b[0m \u001b[0;34m**\u001b[0m\u001b[0mkwargs\u001b[0m\u001b[0;34m)\u001b[0m\u001b[0;34m:\u001b[0m\u001b[0;34m\u001b[0m\u001b[0;34m\u001b[0m\u001b[0m\n\u001b[1;32m     65\u001b[0m     \u001b[0;32mif\u001b[0m \u001b[0;32mnot\u001b[0m \u001b[0mself\u001b[0m\u001b[0;34m.\u001b[0m\u001b[0m_in_multi_worker_mode\u001b[0m\u001b[0;34m(\u001b[0m\u001b[0;34m)\u001b[0m\u001b[0;34m:\u001b[0m  \u001b[0;31m# pylint: disable=protected-access\u001b[0m\u001b[0;34m\u001b[0m\u001b[0;34m\u001b[0m\u001b[0m\n\u001b[0;32m---> 66\u001b[0;31m       \u001b[0;32mreturn\u001b[0m \u001b[0mmethod\u001b[0m\u001b[0;34m(\u001b[0m\u001b[0mself\u001b[0m\u001b[0;34m,\u001b[0m \u001b[0;34m*\u001b[0m\u001b[0margs\u001b[0m\u001b[0;34m,\u001b[0m \u001b[0;34m**\u001b[0m\u001b[0mkwargs\u001b[0m\u001b[0;34m)\u001b[0m\u001b[0;34m\u001b[0m\u001b[0;34m\u001b[0m\u001b[0m\n\u001b[0m\u001b[1;32m     67\u001b[0m \u001b[0;34m\u001b[0m\u001b[0m\n\u001b[1;32m     68\u001b[0m     \u001b[0;31m# Running inside `run_distribute_coordinator` already.\u001b[0m\u001b[0;34m\u001b[0m\u001b[0;34m\u001b[0m\u001b[0;34m\u001b[0m\u001b[0m\n",
      "\u001b[0;32m~/anaconda3/envs/aiffel/lib/python3.7/site-packages/tensorflow/python/keras/engine/training.py\u001b[0m in \u001b[0;36mfit\u001b[0;34m(self, x, y, batch_size, epochs, verbose, callbacks, validation_split, validation_data, shuffle, class_weight, sample_weight, initial_epoch, steps_per_epoch, validation_steps, validation_batch_size, validation_freq, max_queue_size, workers, use_multiprocessing)\u001b[0m\n\u001b[1;32m    846\u001b[0m                 batch_size=batch_size):\n\u001b[1;32m    847\u001b[0m               \u001b[0mcallbacks\u001b[0m\u001b[0;34m.\u001b[0m\u001b[0mon_train_batch_begin\u001b[0m\u001b[0;34m(\u001b[0m\u001b[0mstep\u001b[0m\u001b[0;34m)\u001b[0m\u001b[0;34m\u001b[0m\u001b[0;34m\u001b[0m\u001b[0m\n\u001b[0;32m--> 848\u001b[0;31m               \u001b[0mtmp_logs\u001b[0m \u001b[0;34m=\u001b[0m \u001b[0mtrain_function\u001b[0m\u001b[0;34m(\u001b[0m\u001b[0miterator\u001b[0m\u001b[0;34m)\u001b[0m\u001b[0;34m\u001b[0m\u001b[0;34m\u001b[0m\u001b[0m\n\u001b[0m\u001b[1;32m    849\u001b[0m               \u001b[0;31m# Catch OutOfRangeError for Datasets of unknown size.\u001b[0m\u001b[0;34m\u001b[0m\u001b[0;34m\u001b[0m\u001b[0;34m\u001b[0m\u001b[0m\n\u001b[1;32m    850\u001b[0m               \u001b[0;31m# This blocks until the batch has finished executing.\u001b[0m\u001b[0;34m\u001b[0m\u001b[0;34m\u001b[0m\u001b[0;34m\u001b[0m\u001b[0m\n",
      "\u001b[0;32m~/anaconda3/envs/aiffel/lib/python3.7/site-packages/tensorflow/python/eager/def_function.py\u001b[0m in \u001b[0;36m__call__\u001b[0;34m(self, *args, **kwds)\u001b[0m\n\u001b[1;32m    578\u001b[0m         \u001b[0mxla_context\u001b[0m\u001b[0;34m.\u001b[0m\u001b[0mExit\u001b[0m\u001b[0;34m(\u001b[0m\u001b[0;34m)\u001b[0m\u001b[0;34m\u001b[0m\u001b[0;34m\u001b[0m\u001b[0m\n\u001b[1;32m    579\u001b[0m     \u001b[0;32melse\u001b[0m\u001b[0;34m:\u001b[0m\u001b[0;34m\u001b[0m\u001b[0;34m\u001b[0m\u001b[0m\n\u001b[0;32m--> 580\u001b[0;31m       \u001b[0mresult\u001b[0m \u001b[0;34m=\u001b[0m \u001b[0mself\u001b[0m\u001b[0;34m.\u001b[0m\u001b[0m_call\u001b[0m\u001b[0;34m(\u001b[0m\u001b[0;34m*\u001b[0m\u001b[0margs\u001b[0m\u001b[0;34m,\u001b[0m \u001b[0;34m**\u001b[0m\u001b[0mkwds\u001b[0m\u001b[0;34m)\u001b[0m\u001b[0;34m\u001b[0m\u001b[0;34m\u001b[0m\u001b[0m\n\u001b[0m\u001b[1;32m    581\u001b[0m \u001b[0;34m\u001b[0m\u001b[0m\n\u001b[1;32m    582\u001b[0m     \u001b[0;32mif\u001b[0m \u001b[0mtracing_count\u001b[0m \u001b[0;34m==\u001b[0m \u001b[0mself\u001b[0m\u001b[0;34m.\u001b[0m\u001b[0m_get_tracing_count\u001b[0m\u001b[0;34m(\u001b[0m\u001b[0;34m)\u001b[0m\u001b[0;34m:\u001b[0m\u001b[0;34m\u001b[0m\u001b[0;34m\u001b[0m\u001b[0m\n",
      "\u001b[0;32m~/anaconda3/envs/aiffel/lib/python3.7/site-packages/tensorflow/python/eager/def_function.py\u001b[0m in \u001b[0;36m_call\u001b[0;34m(self, *args, **kwds)\u001b[0m\n\u001b[1;32m    625\u001b[0m       \u001b[0;31m# This is the first call of __call__, so we have to initialize.\u001b[0m\u001b[0;34m\u001b[0m\u001b[0;34m\u001b[0m\u001b[0;34m\u001b[0m\u001b[0m\n\u001b[1;32m    626\u001b[0m       \u001b[0minitializers\u001b[0m \u001b[0;34m=\u001b[0m \u001b[0;34m[\u001b[0m\u001b[0;34m]\u001b[0m\u001b[0;34m\u001b[0m\u001b[0;34m\u001b[0m\u001b[0m\n\u001b[0;32m--> 627\u001b[0;31m       \u001b[0mself\u001b[0m\u001b[0;34m.\u001b[0m\u001b[0m_initialize\u001b[0m\u001b[0;34m(\u001b[0m\u001b[0margs\u001b[0m\u001b[0;34m,\u001b[0m \u001b[0mkwds\u001b[0m\u001b[0;34m,\u001b[0m \u001b[0madd_initializers_to\u001b[0m\u001b[0;34m=\u001b[0m\u001b[0minitializers\u001b[0m\u001b[0;34m)\u001b[0m\u001b[0;34m\u001b[0m\u001b[0;34m\u001b[0m\u001b[0m\n\u001b[0m\u001b[1;32m    628\u001b[0m     \u001b[0;32mfinally\u001b[0m\u001b[0;34m:\u001b[0m\u001b[0;34m\u001b[0m\u001b[0;34m\u001b[0m\u001b[0m\n\u001b[1;32m    629\u001b[0m       \u001b[0;31m# At this point we know that the initialization is complete (or less\u001b[0m\u001b[0;34m\u001b[0m\u001b[0;34m\u001b[0m\u001b[0;34m\u001b[0m\u001b[0m\n",
      "\u001b[0;32m~/anaconda3/envs/aiffel/lib/python3.7/site-packages/tensorflow/python/eager/def_function.py\u001b[0m in \u001b[0;36m_initialize\u001b[0;34m(self, args, kwds, add_initializers_to)\u001b[0m\n\u001b[1;32m    504\u001b[0m     self._concrete_stateful_fn = (\n\u001b[1;32m    505\u001b[0m         self._stateful_fn._get_concrete_function_internal_garbage_collected(  # pylint: disable=protected-access\n\u001b[0;32m--> 506\u001b[0;31m             *args, **kwds))\n\u001b[0m\u001b[1;32m    507\u001b[0m \u001b[0;34m\u001b[0m\u001b[0m\n\u001b[1;32m    508\u001b[0m     \u001b[0;32mdef\u001b[0m \u001b[0minvalid_creator_scope\u001b[0m\u001b[0;34m(\u001b[0m\u001b[0;34m*\u001b[0m\u001b[0munused_args\u001b[0m\u001b[0;34m,\u001b[0m \u001b[0;34m**\u001b[0m\u001b[0munused_kwds\u001b[0m\u001b[0;34m)\u001b[0m\u001b[0;34m:\u001b[0m\u001b[0;34m\u001b[0m\u001b[0;34m\u001b[0m\u001b[0m\n",
      "\u001b[0;32m~/anaconda3/envs/aiffel/lib/python3.7/site-packages/tensorflow/python/eager/function.py\u001b[0m in \u001b[0;36m_get_concrete_function_internal_garbage_collected\u001b[0;34m(self, *args, **kwargs)\u001b[0m\n\u001b[1;32m   2444\u001b[0m       \u001b[0margs\u001b[0m\u001b[0;34m,\u001b[0m \u001b[0mkwargs\u001b[0m \u001b[0;34m=\u001b[0m \u001b[0;32mNone\u001b[0m\u001b[0;34m,\u001b[0m \u001b[0;32mNone\u001b[0m\u001b[0;34m\u001b[0m\u001b[0;34m\u001b[0m\u001b[0m\n\u001b[1;32m   2445\u001b[0m     \u001b[0;32mwith\u001b[0m \u001b[0mself\u001b[0m\u001b[0;34m.\u001b[0m\u001b[0m_lock\u001b[0m\u001b[0;34m:\u001b[0m\u001b[0;34m\u001b[0m\u001b[0;34m\u001b[0m\u001b[0m\n\u001b[0;32m-> 2446\u001b[0;31m       \u001b[0mgraph_function\u001b[0m\u001b[0;34m,\u001b[0m \u001b[0m_\u001b[0m\u001b[0;34m,\u001b[0m \u001b[0m_\u001b[0m \u001b[0;34m=\u001b[0m \u001b[0mself\u001b[0m\u001b[0;34m.\u001b[0m\u001b[0m_maybe_define_function\u001b[0m\u001b[0;34m(\u001b[0m\u001b[0margs\u001b[0m\u001b[0;34m,\u001b[0m \u001b[0mkwargs\u001b[0m\u001b[0;34m)\u001b[0m\u001b[0;34m\u001b[0m\u001b[0;34m\u001b[0m\u001b[0m\n\u001b[0m\u001b[1;32m   2447\u001b[0m     \u001b[0;32mreturn\u001b[0m \u001b[0mgraph_function\u001b[0m\u001b[0;34m\u001b[0m\u001b[0;34m\u001b[0m\u001b[0m\n\u001b[1;32m   2448\u001b[0m \u001b[0;34m\u001b[0m\u001b[0m\n",
      "\u001b[0;32m~/anaconda3/envs/aiffel/lib/python3.7/site-packages/tensorflow/python/eager/function.py\u001b[0m in \u001b[0;36m_maybe_define_function\u001b[0;34m(self, args, kwargs)\u001b[0m\n\u001b[1;32m   2775\u001b[0m \u001b[0;34m\u001b[0m\u001b[0m\n\u001b[1;32m   2776\u001b[0m       \u001b[0mself\u001b[0m\u001b[0;34m.\u001b[0m\u001b[0m_function_cache\u001b[0m\u001b[0;34m.\u001b[0m\u001b[0mmissed\u001b[0m\u001b[0;34m.\u001b[0m\u001b[0madd\u001b[0m\u001b[0;34m(\u001b[0m\u001b[0mcall_context_key\u001b[0m\u001b[0;34m)\u001b[0m\u001b[0;34m\u001b[0m\u001b[0;34m\u001b[0m\u001b[0m\n\u001b[0;32m-> 2777\u001b[0;31m       \u001b[0mgraph_function\u001b[0m \u001b[0;34m=\u001b[0m \u001b[0mself\u001b[0m\u001b[0;34m.\u001b[0m\u001b[0m_create_graph_function\u001b[0m\u001b[0;34m(\u001b[0m\u001b[0margs\u001b[0m\u001b[0;34m,\u001b[0m \u001b[0mkwargs\u001b[0m\u001b[0;34m)\u001b[0m\u001b[0;34m\u001b[0m\u001b[0;34m\u001b[0m\u001b[0m\n\u001b[0m\u001b[1;32m   2778\u001b[0m       \u001b[0mself\u001b[0m\u001b[0;34m.\u001b[0m\u001b[0m_function_cache\u001b[0m\u001b[0;34m.\u001b[0m\u001b[0mprimary\u001b[0m\u001b[0;34m[\u001b[0m\u001b[0mcache_key\u001b[0m\u001b[0;34m]\u001b[0m \u001b[0;34m=\u001b[0m \u001b[0mgraph_function\u001b[0m\u001b[0;34m\u001b[0m\u001b[0;34m\u001b[0m\u001b[0m\n\u001b[1;32m   2779\u001b[0m       \u001b[0;32mreturn\u001b[0m \u001b[0mgraph_function\u001b[0m\u001b[0;34m,\u001b[0m \u001b[0margs\u001b[0m\u001b[0;34m,\u001b[0m \u001b[0mkwargs\u001b[0m\u001b[0;34m\u001b[0m\u001b[0;34m\u001b[0m\u001b[0m\n",
      "\u001b[0;32m~/anaconda3/envs/aiffel/lib/python3.7/site-packages/tensorflow/python/eager/function.py\u001b[0m in \u001b[0;36m_create_graph_function\u001b[0;34m(self, args, kwargs, override_flat_arg_shapes)\u001b[0m\n\u001b[1;32m   2665\u001b[0m             \u001b[0marg_names\u001b[0m\u001b[0;34m=\u001b[0m\u001b[0marg_names\u001b[0m\u001b[0;34m,\u001b[0m\u001b[0;34m\u001b[0m\u001b[0;34m\u001b[0m\u001b[0m\n\u001b[1;32m   2666\u001b[0m             \u001b[0moverride_flat_arg_shapes\u001b[0m\u001b[0;34m=\u001b[0m\u001b[0moverride_flat_arg_shapes\u001b[0m\u001b[0;34m,\u001b[0m\u001b[0;34m\u001b[0m\u001b[0;34m\u001b[0m\u001b[0m\n\u001b[0;32m-> 2667\u001b[0;31m             capture_by_value=self._capture_by_value),\n\u001b[0m\u001b[1;32m   2668\u001b[0m         \u001b[0mself\u001b[0m\u001b[0;34m.\u001b[0m\u001b[0m_function_attributes\u001b[0m\u001b[0;34m,\u001b[0m\u001b[0;34m\u001b[0m\u001b[0;34m\u001b[0m\u001b[0m\n\u001b[1;32m   2669\u001b[0m         \u001b[0;31m# Tell the ConcreteFunction to clean up its graph once it goes out of\u001b[0m\u001b[0;34m\u001b[0m\u001b[0;34m\u001b[0m\u001b[0;34m\u001b[0m\u001b[0m\n",
      "\u001b[0;32m~/anaconda3/envs/aiffel/lib/python3.7/site-packages/tensorflow/python/framework/func_graph.py\u001b[0m in \u001b[0;36mfunc_graph_from_py_func\u001b[0;34m(name, python_func, args, kwargs, signature, func_graph, autograph, autograph_options, add_control_dependencies, arg_names, op_return_value, collections, capture_by_value, override_flat_arg_shapes)\u001b[0m\n\u001b[1;32m    979\u001b[0m         \u001b[0m_\u001b[0m\u001b[0;34m,\u001b[0m \u001b[0moriginal_func\u001b[0m \u001b[0;34m=\u001b[0m \u001b[0mtf_decorator\u001b[0m\u001b[0;34m.\u001b[0m\u001b[0munwrap\u001b[0m\u001b[0;34m(\u001b[0m\u001b[0mpython_func\u001b[0m\u001b[0;34m)\u001b[0m\u001b[0;34m\u001b[0m\u001b[0;34m\u001b[0m\u001b[0m\n\u001b[1;32m    980\u001b[0m \u001b[0;34m\u001b[0m\u001b[0m\n\u001b[0;32m--> 981\u001b[0;31m       \u001b[0mfunc_outputs\u001b[0m \u001b[0;34m=\u001b[0m \u001b[0mpython_func\u001b[0m\u001b[0;34m(\u001b[0m\u001b[0;34m*\u001b[0m\u001b[0mfunc_args\u001b[0m\u001b[0;34m,\u001b[0m \u001b[0;34m**\u001b[0m\u001b[0mfunc_kwargs\u001b[0m\u001b[0;34m)\u001b[0m\u001b[0;34m\u001b[0m\u001b[0;34m\u001b[0m\u001b[0m\n\u001b[0m\u001b[1;32m    982\u001b[0m \u001b[0;34m\u001b[0m\u001b[0m\n\u001b[1;32m    983\u001b[0m       \u001b[0;31m# invariant: `func_outputs` contains only Tensors, CompositeTensors,\u001b[0m\u001b[0;34m\u001b[0m\u001b[0;34m\u001b[0m\u001b[0;34m\u001b[0m\u001b[0m\n",
      "\u001b[0;32m~/anaconda3/envs/aiffel/lib/python3.7/site-packages/tensorflow/python/eager/def_function.py\u001b[0m in \u001b[0;36mwrapped_fn\u001b[0;34m(*args, **kwds)\u001b[0m\n\u001b[1;32m    439\u001b[0m         \u001b[0;31m# __wrapped__ allows AutoGraph to swap in a converted function. We give\u001b[0m\u001b[0;34m\u001b[0m\u001b[0;34m\u001b[0m\u001b[0;34m\u001b[0m\u001b[0m\n\u001b[1;32m    440\u001b[0m         \u001b[0;31m# the function a weak reference to itself to avoid a reference cycle.\u001b[0m\u001b[0;34m\u001b[0m\u001b[0;34m\u001b[0m\u001b[0;34m\u001b[0m\u001b[0m\n\u001b[0;32m--> 441\u001b[0;31m         \u001b[0;32mreturn\u001b[0m \u001b[0mweak_wrapped_fn\u001b[0m\u001b[0;34m(\u001b[0m\u001b[0;34m)\u001b[0m\u001b[0;34m.\u001b[0m\u001b[0m__wrapped__\u001b[0m\u001b[0;34m(\u001b[0m\u001b[0;34m*\u001b[0m\u001b[0margs\u001b[0m\u001b[0;34m,\u001b[0m \u001b[0;34m**\u001b[0m\u001b[0mkwds\u001b[0m\u001b[0;34m)\u001b[0m\u001b[0;34m\u001b[0m\u001b[0;34m\u001b[0m\u001b[0m\n\u001b[0m\u001b[1;32m    442\u001b[0m     \u001b[0mweak_wrapped_fn\u001b[0m \u001b[0;34m=\u001b[0m \u001b[0mweakref\u001b[0m\u001b[0;34m.\u001b[0m\u001b[0mref\u001b[0m\u001b[0;34m(\u001b[0m\u001b[0mwrapped_fn\u001b[0m\u001b[0;34m)\u001b[0m\u001b[0;34m\u001b[0m\u001b[0;34m\u001b[0m\u001b[0m\n\u001b[1;32m    443\u001b[0m \u001b[0;34m\u001b[0m\u001b[0m\n",
      "\u001b[0;32m~/anaconda3/envs/aiffel/lib/python3.7/site-packages/tensorflow/python/framework/func_graph.py\u001b[0m in \u001b[0;36mwrapper\u001b[0;34m(*args, **kwargs)\u001b[0m\n\u001b[1;32m    966\u001b[0m           \u001b[0;32mexcept\u001b[0m \u001b[0mException\u001b[0m \u001b[0;32mas\u001b[0m \u001b[0me\u001b[0m\u001b[0;34m:\u001b[0m  \u001b[0;31m# pylint:disable=broad-except\u001b[0m\u001b[0;34m\u001b[0m\u001b[0;34m\u001b[0m\u001b[0m\n\u001b[1;32m    967\u001b[0m             \u001b[0;32mif\u001b[0m \u001b[0mhasattr\u001b[0m\u001b[0;34m(\u001b[0m\u001b[0me\u001b[0m\u001b[0;34m,\u001b[0m \u001b[0;34m\"ag_error_metadata\"\u001b[0m\u001b[0;34m)\u001b[0m\u001b[0;34m:\u001b[0m\u001b[0;34m\u001b[0m\u001b[0;34m\u001b[0m\u001b[0m\n\u001b[0;32m--> 968\u001b[0;31m               \u001b[0;32mraise\u001b[0m \u001b[0me\u001b[0m\u001b[0;34m.\u001b[0m\u001b[0mag_error_metadata\u001b[0m\u001b[0;34m.\u001b[0m\u001b[0mto_exception\u001b[0m\u001b[0;34m(\u001b[0m\u001b[0me\u001b[0m\u001b[0;34m)\u001b[0m\u001b[0;34m\u001b[0m\u001b[0;34m\u001b[0m\u001b[0m\n\u001b[0m\u001b[1;32m    969\u001b[0m             \u001b[0;32melse\u001b[0m\u001b[0;34m:\u001b[0m\u001b[0;34m\u001b[0m\u001b[0;34m\u001b[0m\u001b[0m\n\u001b[1;32m    970\u001b[0m               \u001b[0;32mraise\u001b[0m\u001b[0;34m\u001b[0m\u001b[0;34m\u001b[0m\u001b[0m\n",
      "\u001b[0;31mValueError\u001b[0m: in user code:\n\n    /home/aiffel-dj49/anaconda3/envs/aiffel/lib/python3.7/site-packages/tensorflow/python/keras/engine/training.py:571 train_function  *\n        outputs = self.distribute_strategy.run(\n    /home/aiffel-dj49/anaconda3/envs/aiffel/lib/python3.7/site-packages/tensorflow/python/distribute/distribute_lib.py:951 run  **\n        return self._extended.call_for_each_replica(fn, args=args, kwargs=kwargs)\n    /home/aiffel-dj49/anaconda3/envs/aiffel/lib/python3.7/site-packages/tensorflow/python/distribute/distribute_lib.py:2290 call_for_each_replica\n        return self._call_for_each_replica(fn, args, kwargs)\n    /home/aiffel-dj49/anaconda3/envs/aiffel/lib/python3.7/site-packages/tensorflow/python/distribute/distribute_lib.py:2649 _call_for_each_replica\n        return fn(*args, **kwargs)\n    /home/aiffel-dj49/anaconda3/envs/aiffel/lib/python3.7/site-packages/tensorflow/python/keras/engine/training.py:531 train_step  **\n        y_pred = self(x, training=True)\n    /home/aiffel-dj49/anaconda3/envs/aiffel/lib/python3.7/site-packages/tensorflow/python/keras/engine/base_layer.py:927 __call__\n        outputs = call_fn(cast_inputs, *args, **kwargs)\n    /home/aiffel-dj49/anaconda3/envs/aiffel/lib/python3.7/site-packages/tensorflow/python/keras/engine/network.py:719 call\n        convert_kwargs_to_constants=base_layer_utils.call_context().saving)\n    /home/aiffel-dj49/anaconda3/envs/aiffel/lib/python3.7/site-packages/tensorflow/python/keras/engine/network.py:888 _run_internal_graph\n        output_tensors = layer(computed_tensors, **kwargs)\n    /home/aiffel-dj49/anaconda3/envs/aiffel/lib/python3.7/site-packages/tensorflow/python/keras/engine/base_layer.py:927 __call__\n        outputs = call_fn(cast_inputs, *args, **kwargs)\n    /home/aiffel-dj49/anaconda3/envs/aiffel/lib/python3.7/site-packages/tensorflow/python/keras/layers/pooling.py:296 call\n        data_format=conv_utils.convert_data_format(self.data_format, 4))\n    /home/aiffel-dj49/anaconda3/envs/aiffel/lib/python3.7/site-packages/tensorflow/python/ops/nn_ops.py:3929 max_pool\n        name=name)\n    /home/aiffel-dj49/anaconda3/envs/aiffel/lib/python3.7/site-packages/tensorflow/python/ops/gen_nn_ops.py:5236 max_pool\n        data_format=data_format, name=name)\n    /home/aiffel-dj49/anaconda3/envs/aiffel/lib/python3.7/site-packages/tensorflow/python/framework/op_def_library.py:744 _apply_op_helper\n        attrs=attr_protos, op_def=op_def)\n    /home/aiffel-dj49/anaconda3/envs/aiffel/lib/python3.7/site-packages/tensorflow/python/framework/func_graph.py:595 _create_op_internal\n        compute_device)\n    /home/aiffel-dj49/anaconda3/envs/aiffel/lib/python3.7/site-packages/tensorflow/python/framework/ops.py:3327 _create_op_internal\n        op_def=op_def)\n    /home/aiffel-dj49/anaconda3/envs/aiffel/lib/python3.7/site-packages/tensorflow/python/framework/ops.py:1817 __init__\n        control_input_ops, op_def)\n    /home/aiffel-dj49/anaconda3/envs/aiffel/lib/python3.7/site-packages/tensorflow/python/framework/ops.py:1657 _create_c_op\n        raise ValueError(str(e))\n\n    ValueError: Negative dimension size caused by subtracting 2 from 1 for '{{node model/max_pooling2d/MaxPool}} = MaxPool[T=DT_FLOAT, data_format=\"NHWC\", ksize=[1, 2, 2, 1], padding=\"VALID\", strides=[1, 2, 2, 1]](model/conv2d_1/Relu)' with input shapes: [?,8000,1,32].\n"
     ]
    }
   ],
   "source": [
    "#30분 내외 소요\n",
    "\n",
    "history_wav = model_wav.fit(train_dataset, epochs=max_epochs,\n",
    "                    steps_per_epoch=len(train_wav) // batch_size,\n",
    "                    validation_data=test_dataset,\n",
    "                    validation_steps=len(test_wav) // batch_size,\n",
    "                    callbacks=[cp_callback]\n",
    "                    )\n",
    "print(\"✅\")"
   ]
  },
  {
   "cell_type": "markdown",
   "id": "crucial-twenty",
   "metadata": {},
   "source": [
    "## 6. Test dataset을 이용해서 모델의 성능을 평가"
   ]
  },
  {
   "cell_type": "code",
   "execution_count": 22,
   "id": "respective-profile",
   "metadata": {},
   "outputs": [
    {
     "ename": "NameError",
     "evalue": "name 'history_wav' is not defined",
     "output_type": "error",
     "traceback": [
      "\u001b[0;31m---------------------------------------------------------------------------\u001b[0m",
      "\u001b[0;31mNameError\u001b[0m                                 Traceback (most recent call last)",
      "\u001b[0;32m<ipython-input-22-24cdf3f4eebc>\u001b[0m in \u001b[0;36m<module>\u001b[0;34m\u001b[0m\n\u001b[1;32m      1\u001b[0m \u001b[0;31m# import matplotlib.pyplot as plt\u001b[0m\u001b[0;34m\u001b[0m\u001b[0;34m\u001b[0m\u001b[0;34m\u001b[0m\u001b[0m\n\u001b[1;32m      2\u001b[0m \u001b[0;34m\u001b[0m\u001b[0m\n\u001b[0;32m----> 3\u001b[0;31m \u001b[0macc\u001b[0m \u001b[0;34m=\u001b[0m \u001b[0mhistory_wav\u001b[0m\u001b[0;34m.\u001b[0m\u001b[0mhistory\u001b[0m\u001b[0;34m[\u001b[0m\u001b[0;34m'accuracy'\u001b[0m\u001b[0;34m]\u001b[0m\u001b[0;34m\u001b[0m\u001b[0;34m\u001b[0m\u001b[0m\n\u001b[0m\u001b[1;32m      4\u001b[0m \u001b[0mval_acc\u001b[0m \u001b[0;34m=\u001b[0m \u001b[0mhistory_wav_skip\u001b[0m\u001b[0;34m.\u001b[0m\u001b[0mhistory\u001b[0m\u001b[0;34m[\u001b[0m\u001b[0;34m'val_accuracy'\u001b[0m\u001b[0;34m]\u001b[0m\u001b[0;34m\u001b[0m\u001b[0;34m\u001b[0m\u001b[0m\n\u001b[1;32m      5\u001b[0m \u001b[0;34m\u001b[0m\u001b[0m\n",
      "\u001b[0;31mNameError\u001b[0m: name 'history_wav' is not defined"
     ]
    }
   ],
   "source": [
    "# import matplotlib.pyplot as plt\n",
    "\n",
    "acc = history_wav.history['accuracy']\n",
    "val_acc = history_wav_skip.history['val_accuracy']\n",
    "\n",
    "loss=history_wav.history['loss']\n",
    "val_loss=history_wav.history['val_loss']\n",
    "\n",
    "epochs_range = range(len(acc))\n",
    "\n",
    "plt.figure(figsize=(8, 8))\n",
    "plt.subplot(1, 2, 1)\n",
    "plt.plot(epochs_range, acc, label='Training Accuracy')\n",
    "plt.plot(epochs_range, val_acc, label='Validation Accuracy')\n",
    "plt.legend(loc='lower right')\n",
    "plt.title('Training and Validation Accuracy')\n",
    "\n",
    "plt.subplot(1, 2, 2)\n",
    "plt.plot(epochs_range, loss, label='Training Loss')\n",
    "plt.plot(epochs_range, val_loss, label='Validation Loss')\n",
    "plt.legend(loc='upper right')\n",
    "plt.title('Training and Validation Loss')\n",
    "plt.show()"
   ]
  },
  {
   "cell_type": "code",
   "execution_count": null,
   "id": "compact-pavilion",
   "metadata": {},
   "outputs": [],
   "source": [
    "# 성능평가\n",
    "\n",
    "model_wav_skip.load_weights(checkpoint_dir)\n",
    "results = model_wav_skip.evaluate(test_dataset)\n",
    "\n",
    "print(\"loss value: {:.3f}\".format(results[0]))  # loss\n",
    "print(\"accuracy value: {:.4f}%\".format(results[1]*100))  # accuracy"
   ]
  },
  {
   "cell_type": "markdown",
   "id": "solid-surfing",
   "metadata": {},
   "source": [
    "## 회고"
   ]
  },
  {
   "cell_type": "markdown",
   "id": "preliminary-pilot",
   "metadata": {},
   "source": [
    "프로젝트 3과 4를 날려먹은 만큼 이번 프로젝트는 꼭 제출하고 싶었는데요, 막막한건 여전했습니다. ㅠㅠㅠ\n",
    "날잡고 다시 한번 개념을 정독해야겠습니다.\n",
    "저를 다독여가며 챙겨운 우리 조원들에게 고마움이 큽니다.♥\n",
    "더 열심히 배워나가서 저도 도움이 되고 싶네요:D"
   ]
  }
 ],
 "metadata": {
  "kernelspec": {
   "display_name": "Python 3",
   "language": "python",
   "name": "python3"
  },
  "language_info": {
   "codemirror_mode": {
    "name": "ipython",
    "version": 3
   },
   "file_extension": ".py",
   "mimetype": "text/x-python",
   "name": "python",
   "nbconvert_exporter": "python",
   "pygments_lexer": "ipython3",
   "version": "3.7.9"
  }
 },
 "nbformat": 4,
 "nbformat_minor": 5
}
