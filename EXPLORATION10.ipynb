{
 "cells": [
  {
   "cell_type": "markdown",
   "metadata": {},
   "source": [
    "# <span stlye=\"talign:center\">인물사진을 만들어 보자</span>\n",
    "---\n",
    "### <span stlye=\"talign:center\">프로젝트 - 인물 모드 문제점 찾기</span>"
   ]
  },
  {
   "cell_type": "markdown",
   "metadata": {},
   "source": [
    "## <span style=\"color:purple\">순서</span>\n",
    "> <span style=\"color:green\">**Step1.** 인물모드 직접 해 보기<br>\n",
    "**Step2.** 사진에서 문제점 찾기<br>\n",
    "**Step3.** 해결 방법을 제안해 보기<br>"
   ]
  },
  {
   "cell_type": "markdown",
   "metadata": {},
   "source": [
    "#### 우리는 다음과 같은 후가공으로 '인물사진 모드'인 사진을 만들 겁니다.\n",
    "---\n",
    ">1. 배경이 있는 셀카를 촬영합니다.(배경과 사람의 거리가 약간 멀리 있으면 좋습니다.)\n",
    ">2. 시멘틱 세그멘테이션(Semantic segmentation)으로 피사체(사람)와 배경을 분리합니다.\n",
    ">3. 블러링(blurring) 기술로 배경을 흐리게 합니다.\n",
    ">4. 피사체를 배경의 원래 위치에 합성 합니다."
   ]
  },
  {
   "cell_type": "markdown",
   "metadata": {},
   "source": [
    "오늘 사용할 패키지를 불러옵니다.<br>아래 패키지가 없다면 터미널에서 **`pip install [패키지명]`**을 사용해 필요한 패키지를 설치해 주세요.<br>cv2 패키지의 경우 아래 명령어를 사용하시면 됩니다."
   ]
  },
  {
   "cell_type": "markdown",
   "metadata": {},
   "source": [
    "> $ pip install opencv-python"
   ]
  },
  {
   "cell_type": "markdown",
   "metadata": {},
   "source": [
    "### <span style=\"color:green\">Step1. 인물모드 직접 해 보기</span>\n",
    "---\n",
    ">- 셀카를 이용해서 프로젝트를 수행해 봅시다. 아래와 같은 이미지를 얻어야 합니다. 최소 **3장 이상**의 인물모드 사진을 만들어 봅시다.\n",
    ">- 인물이 주인공이 아닌, 귀여운 고양이에 대한 아웃포커싱 사진도 만들어 볼 수 있을 것입니다. 시맨틱 세그멘테이션 스텝에서 힌트를 찾아봅시다.\n",
    "> - 배경을 blur하는 인물모드 사진이 아니라 배경사진을 다른 이미지로 교체하는 크로마키 배경합성을 시도해 볼 수도 있을 것입니다. 환상적인 사진을 만들어 보면 어떨까요?"
   ]
  },
  {
   "cell_type": "code",
   "execution_count": 1,
   "metadata": {},
   "outputs": [],
   "source": [
    "import cv2\n",
    "import numpy as np\n",
    "import os\n",
    "from glob import glob\n",
    "from os.path import join\n",
    "import tarfile\n",
    "import urllib  # 웹에서 데이터를 다운로드 받을 때 사용\n",
    "\n",
    "from matplotlib import pyplot as plt\n",
    "import tensorflow as tf"
   ]
  },
  {
   "cell_type": "code",
   "execution_count": 2,
   "metadata": {},
   "outputs": [
    {
     "name": "stdout",
     "output_type": "stream",
     "text": [
      "(225, 225, 3)\n"
     ]
    }
   ],
   "source": [
    "# import os\n",
    "\n",
    "img_path = os.getenv('HOME')+'/aiffel/human_segmentation/images/my_image.png'  # 본인이 선택한 이미지의 경로에 맞게 바꿔 주세요. \n",
    "img_orig = cv2.imread(img_path)\n",
    "\n",
    "print (img_orig.shape)"
   ]
  },
  {
   "cell_type": "markdown",
   "metadata": {},
   "source": [
    "로명은 본인의 컴퓨터 디렉토리에 맞게 바꾸어 주세요. 리눅스 명령어 **`pwd`** 를 사용하면 손쉽게 파일의 절대경로를 찾을 수 있습니다."
   ]
  },
  {
   "cell_type": "markdown",
   "metadata": {},
   "source": [
    "**Error]** **<span style=\"color:Orange\">에러명</span>**: 사유"
   ]
  },
  {
   "cell_type": "markdown",
   "metadata": {},
   "source": [
    "### <span style=\"color:green\">Step2. 사진에서 문제점 찾기</span>\n",
    "---\n",
    "아래 사진에도 문제점이 몇가지 있었습니다.<br>예를 들어 뒤에 걸린 옷이 인물 영역에 포함되어 blur되지지 않고 나온다던가 하는 경우입니다. ㅠㅠ<br>그 외 다른 문제들이 눈에 띄시나요?<br>아래 사진에는 이상한 점이 최소 2개 이상 더 있습니다. 어떤 문제가 있는지 찾아서 아래 사진처럼 표시해 봅시다.\n",
    "\n",
    "추가로 직접 만들어 낸 인물 모드 사진 중 하나에서도 이상한 위치를 찾아 아래 사진처럼 표시해 봅시다."
   ]
  },
  {
   "cell_type": "markdown",
   "metadata": {},
   "source": [
    "![](https://aiffelstaticprd.blob.core.windows.net/media/images/E-14-3.max-800x600_KwXP73b.png)"
   ]
  },
  {
   "cell_type": "code",
   "execution_count": null,
   "metadata": {},
   "outputs": [],
   "source": []
  },
  {
   "cell_type": "code",
   "execution_count": null,
   "metadata": {},
   "outputs": [],
   "source": []
  },
  {
   "cell_type": "markdown",
   "metadata": {},
   "source": [
    "### <span style=\"color:green\">Step3. 해결 방법을 제안해 보기</span>"
   ]
  },
  {
   "cell_type": "markdown",
   "metadata": {},
   "source": [
    "엔지니어로서 본인이 선택한 솔루션을 잘 설명해 주세요.<br>가능하다면 순서도(Flow Chart)를 활용하면 좋습니다. 멋진 아이디어를 기대하겠습니다!!\n",
    "\n",
    "- 세그멘테이션의 한계\n",
    "- 피사계 심도 이해하기\n",
    "- 3D Depth Camera 활용하기\n",
    "- 깊이 영상(Depth image) 활용하기\n",
    "- IR(적외선)을 활용한 사례"
   ]
  },
  {
   "cell_type": "markdown",
   "metadata": {},
   "source": [
    "# <span style=\"color:purple\">루브릭 평가 기준</span>\n",
    "---\n",
    "번호|<center>평가문항</center>|<center>상세기준</center>\n",
    "---|---|---\n",
    "1 |<center>인물모드 사진을 성공적으로 제작하였다.</center> |</center>**`아웃포커싱 효과`**가 적용된 본인의 인물모드 사진과 고양이 사진, 배경전환 크로마키사진을 **각각 1장 이상** 성공적으로 제작하였다.</center>\n",
    "2 |<center>제작한 인물모드 사진들에서 나타나는 문제점을 정확히 지적하였다.</center> |</center>인물사진에서 발생한 문제점을 정확히 지적한 사진을 제출하였다.</center>\n",
    "3 |<center>인물모드 사진의 문제점을 개선할 수 있는 솔루션을 적절히 제시하였다.</center> |</center>추가적인 depth 정보를 활용하여 **semantic segmentation mask의 오류를 보완**할 수 있는 좋은 솔루션을 구체적으로 제시하였다.</center>"
   ]
  },
  {
   "cell_type": "markdown",
   "metadata": {},
   "source": [
    "# <span style=\"color:purple\">회고</span>\n",
    "---"
   ]
  }
 ],
 "metadata": {
  "kernelspec": {
   "display_name": "Python 3",
   "language": "python",
   "name": "python3"
  },
  "language_info": {
   "codemirror_mode": {
    "name": "ipython",
    "version": 3
   },
   "file_extension": ".py",
   "mimetype": "text/x-python",
   "name": "python",
   "nbconvert_exporter": "python",
   "pygments_lexer": "ipython3",
   "version": "3.7.9"
  }
 },
 "nbformat": 4,
 "nbformat_minor": 4
}
