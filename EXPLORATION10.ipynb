{
 "cells": [
  {
   "cell_type": "markdown",
   "metadata": {},
   "source": [
    "# 인물사진을 만들어 보자\n",
    "---\n",
    "### 프로젝트 - 인물 모드 문제점 찾기"
   ]
  },
  {
   "cell_type": "markdown",
   "metadata": {},
   "source": [
    "## <span style=\"color:purple\">순서</span>\n",
    "> <span style=\"color:green\">**Step1.** 인물모드 직접 해 보기<br>\n",
    "**Step2.** 사진에서 문제점 찾기<br>\n",
    "**Step3.** 해결 방법을 제안해 보기<br>"
   ]
  },
  {
   "cell_type": "markdown",
   "metadata": {},
   "source": [
    "### 이번에 활용할 데이터셋은 추천시스템의 MNIST라고 부를만한 Movielens 데이터입니다.\n",
    "----\n",
    ">- 유저가 영화에 대해 평점을 매긴 데이터가 데이터 크기 별로 있습니다. **`MovieLens 1M Dataset`** 사용을 권장합니다.\n",
    ">- 별점 데이터는 대표적인 explicit 데이터입니다. 하지만 implicit 데이터로 간주하고 테스트해볼 수 있습니다.\n",
    ">- 별점을 **시청횟수**로 해석해서 생각하겠습니다.\n",
    "또한 유저가 <span style=\"color:red\">3점 미만</span>으로 준 데이터는 선호하지 않는다고 가정하고 제외하겠습니다."
   ]
  },
  {
   "cell_type": "markdown",
   "metadata": {},
   "source": [
    "**`MovieLens 1M Dataset`** 데이터셋의 경우는 크기가 작아서 아래와 같이 직접 다운 받고 압축해제 하겠습니다."
   ]
  },
  {
   "cell_type": "markdown",
   "metadata": {},
   "source": [
    "**1) wget으로 데이터 다운로드**\n",
    "> $ wget http://files.grouplens.org/datasets/movielens/ml-1m.zip\n",
    "\n",
    "**2) 다운받은 데이터를 작업디렉토리로 옮김**\n",
    "> $ mv ml-1m.zip ~/aiffel/recommendata_iu/data\n",
    "\n",
    "**3) 작업디렉토리로 이동**\n",
    "> $ cd ~/aiffel/recommendata_iu/data\n",
    "\n",
    "**4) 압축 해제**\n",
    "> $ unzip ml-1m.zip"
   ]
  },
  {
   "cell_type": "markdown",
   "metadata": {},
   "source": [
    "### <span style=\"color:green\">Step1. 인물모드 직접 해 보기</span>\n",
    "---\n",
    ">- 셀카를 이용해서 프로젝트를 수행해 봅시다. 아래와 같은 이미지를 얻어야 합니다. 최소 **3장 이상**의 인물모드 사진을 만들어 봅시다.\n",
    ">- 인물이 주인공이 아닌, 귀여운 고양이에 대한 아웃포커싱 사진도 만들어 볼 수 있을 것입니다. 시맨틱 세그멘테이션 스텝에서 힌트를 찾아봅시다.\n",
    "> - 배경을 blur하는 인물모드 사진이 아니라 배경사진을 다른 이미지로 교체하는 크로마키 배경합성을 시도해 볼 수도 있을 것입니다. 환상적인 사진을 만들어 보면 어떨까요?"
   ]
  },
  {
   "cell_type": "code",
   "execution_count": 1,
   "metadata": {},
   "outputs": [],
   "source": [
    "import os\n",
    "import pandas as pd\n",
    "import numpy as np\n",
    "from scipy.sparse import csr_matrix\n",
    "from implicit.als import AlternatingLeastSquares\n",
    "import os\n",
    "import numpy as np"
   ]
  },
  {
   "cell_type": "markdown",
   "metadata": {},
   "source": [
    "**Error]** **<span style=\"color:Orange\">UnicodeDecodeError</span>**: 'utf-8' codec can't decode byte 0xe9 in position 3114: invalid continuation byte 발생하여 따로 **`encoding`**을 지정해주니 해결되었습니다."
   ]
  },
  {
   "cell_type": "markdown",
   "metadata": {},
   "source": [
    "### <span style=\"color:green\">Step2. 사진에서 문제점 찾기</span>\n",
    "---\n",
    "아래 사진에도 문제점이 몇가지 있었습니다.<br>예를 들어 뒤에 걸린 옷이 인물 영역에 포함되어 blur되지지 않고 나온다던가 하는 경우입니다. ㅠㅠ<br>그 외 다른 문제들이 눈에 띄시나요?<br>아래 사진에는 이상한 점이 최소 2개 이상 더 있습니다. 어떤 문제가 있는지 찾아서 아래 사진처럼 표시해 봅시다.\n",
    "\n",
    "추가로 직접 만들어 낸 인물 모드 사진 중 하나에서도 이상한 위치를 찾아 아래 사진처럼 표시해 봅시다."
   ]
  },
  {
   "cell_type": "markdown",
   "metadata": {},
   "source": [
    "### <span style=\"color:green\">Step3. 해결 방법을 제안해 보기</span>"
   ]
  },
  {
   "cell_type": "markdown",
   "metadata": {},
   "source": [
    "엔지니어로서 본인이 선택한 솔루션을 잘 설명해 주세요.<br>가능하다면 순서도(Flow Chart)를 활용하면 좋습니다. 멋진 아이디어를 기대하겠습니다!!\n",
    "\n",
    "- 세그멘테이션의 한계\n",
    "- 피사계 심도 이해하기\n",
    "- 3D Depth Camera 활용하기\n",
    "- 깊이 영상(Depth image) 활용하기\n",
    "- IR(적외선)을 활용한 사례"
   ]
  },
  {
   "cell_type": "markdown",
   "metadata": {},
   "source": [
    "# <span style=\"color:purple\">루브릭 평가 기준</span>\n",
    "---\n",
    "번호|<center>평가문항</center>|<center>상세기준</center>\n",
    "---|---|---\n",
    "1 |<center>인물모드 사진을 성공적으로 제작하였다.</center> |</center>**`아웃포커싱 효과`**가 적용된 본인의 인물모드 사진과 고양이 사진, 배경전환 크로마키사진을 **각각 1장 이상** 성공적으로 제작하였다.</center>\n",
    "2 |<center>제작한 인물모드 사진들에서 나타나는 문제점을 정확히 지적하였다.</center> |</center>인물사진에서 발생한 문제점을 정확히 지적한 사진을 제출하였다.</center>\n",
    "3 |<center>인물모드 사진의 문제점을 개선할 수 있는 솔루션을 적절히 제시하였다.</center> |</center>추가적인 depth 정보를 활용하여 **semantic segmentation mask의 오류를 보완**할 수 있는 좋은 솔루션을 구체적으로 제시하였다.</center>"
   ]
  },
  {
   "cell_type": "markdown",
   "metadata": {},
   "source": [
    "# <span style=\"color:purple\">회고</span>\n",
    "---\n",
    "2주의 시간이 무척 행복했어요."
   ]
  }
 ],
 "metadata": {
  "kernelspec": {
   "display_name": "Python 3",
   "language": "python",
   "name": "python3"
  },
  "language_info": {
   "codemirror_mode": {
    "name": "ipython",
    "version": 3
   },
   "file_extension": ".py",
   "mimetype": "text/x-python",
   "name": "python",
   "nbconvert_exporter": "python",
   "pygments_lexer": "ipython3",
   "version": "3.7.9"
  }
 },
 "nbformat": 4,
 "nbformat_minor": 4
}
