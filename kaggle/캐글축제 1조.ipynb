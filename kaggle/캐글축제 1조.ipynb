{
 "cells": [
  {
   "cell_type": "markdown",
   "id": "breeding-partition",
   "metadata": {},
   "source": [
    "# <center>제 1차 해커톤 (대전) : 캐글 축제</center>\n",
    "---------\n",
    "## <center>주제 : Predict Future Sales</center>\n",
    "<center>1조 : 박은지, 이준택, 임선옥</center>"
   ]
  },
  {
   "cell_type": "markdown",
   "id": "environmental-disposition",
   "metadata": {},
   "source": [
    "**`평가기준`**\n",
    "- 제출 파일은 jupyter notebook이고, 형식은 Exploration 노드 과제 제출 형식과 동일합니다. (결과 출력, 로그 및 주요사항 reporting)\n",
    "- 캐글 Public Score 기준 순위 확인\n",
    "> - My Submission Page를 캡쳐하여 제출\n",
    ">- Public Score Leaderboard 캡쳐하여 제출\n",
    ">- 단, 해당 점수 획득과정이 기술된 jupyter notebook 미제출시 불인정\n",
    "\n",
    "- 분석 과정 및 시각화등 우수 조 추가 시상 (특별상)\n",
    "> - **EDA 및 Visualization이 독특하고 우수한 조**\n",
    "> - **전체 프로젝트의 과정(History)이 창의적으로 정리된 조**\n",
    "> - `jupyter notebook`에 팀원간의 협력이 효과적으로 드러난 조"
   ]
  },
  {
   "cell_type": "markdown",
   "id": "hearing-butterfly",
   "metadata": {},
   "source": [
    " "
   ]
  },
  {
   "cell_type": "markdown",
   "id": "awful-proof",
   "metadata": {},
   "source": [
    "**`순서`**\n",
    ">1. **개요**\n",
    ">2. **설명**\n",
    ">3. **데이터 이해하기**\n",
    ">4. **모델설계 및 튜닝**\n",
    ">5. **결과**"
   ]
  },
  {
   "cell_type": "markdown",
   "id": "durable-standing",
   "metadata": {},
   "source": [
    " "
   ]
  },
  {
   "cell_type": "markdown",
   "id": "developed-easter",
   "metadata": {},
   "source": [
    "## 1. 개요\n",
    "---\n",
    "이 과제는 \"How to win a data science competition(데이터 과학 경쟁에서 이기는 방법)\" 과정의 최종 프로젝트입니다.\n",
    "\n",
    "이 대회에서는 러시아 최대 소프트웨어 회사인 1C Company에서 제공하는 일일 판매 데이터로 구성된 까다로운 시계열 데이터 세트로 작업합니다.\n",
    "\n",
    "**<span style = color:red>다음 달의 모든 제품 및 상점에 대한 총 매출액을 예측</span>**하도록 요청하고 있습니다.<br>이 경쟁을 해결함으로써 여러분은 데이터 과학 기술을 적용하고 향상시킬 수 있을 것입니다."
   ]
  },
  {
   "cell_type": "markdown",
   "id": "arctic-secretariat",
   "metadata": {},
   "source": [
    "## 2. 설명\n",
    "\n",
    "#### Data Description\n",
    "> You are provided with daily historical sales data.<br>The task is to forecast the total amount of products sold in every shop for the test set. Note that the list of shops and products slightly changes every month.<br>Creating a robust model that can handle such situations is part of the challenge."
   ]
  },
  {
   "cell_type": "markdown",
   "id": "inclusive-hopkins",
   "metadata": {},
   "source": [
    "#### `File descriptions`\n",
    "- **<span style = color:blue>sales_train.csv</span>** : the training set. Daily historical data from January 2013 to October 2015.\n",
    "- **<span style = color:blue>test.csv</span>** : the test set. You need to forecast the sales for these shops and products for November 2015.\n",
    "- **<span style = color:blue>sample_submission.csv</span>** : a sample submission file in the correct format.\n",
    "- **<span style = color:blue>items.csv</span>** : supplemental information about the items/products.\n",
    "- **<span style = color:blue>item_categories.csv</span>**  : supplemental information about the items categories.\n",
    "- **<span style = color:blue>shops.csv</span>** : supplemental information about the shops."
   ]
  },
  {
   "cell_type": "markdown",
   "id": "endangered-original",
   "metadata": {},
   "source": [
    "#### `Data fields`\n",
    "- **<span style = color:green>ID</span>** : an Id that represents a (Shop, Item) tuple within the test set\n",
    "- **<span style = color:green>shop_id</span>** : unique identifier of a shop\n",
    "- **<span style = color:green>item_id</span>** : unique identifier of a product\n",
    "- **<span style = color:green>item_category_id</span>** : unique identifier of item category\n",
    "- **<span style = color:green>item_cnt_day</span>** : number of products sold. You are predicting a monthly amount of this measure\n",
    "- **<span style = color:green>item_price</span>** : current price of an item\n",
    "- **<span style = color:green>date</span>** : date in format dd/mm/yyyy\n",
    "- **<span style = color:green>date_block_num</span>** : a consecutive month number, used for convenience. January 2013 is 0, February 2013 is 1,..., October 2015 is 33\n",
    "- **<span style = color:green>item_name</span>** : name of item\n",
    "- **<span style = color:green>shop_name</span>** : name of shop\n",
    "- **<span style = color:green>item_category_name</span>** : name of item category"
   ]
  },
  {
   "cell_type": "markdown",
   "id": "unauthorized-terrace",
   "metadata": {},
   "source": [
    "**This dataset is permitted to be used for any purpose, including commercial use.**"
   ]
  },
  {
   "cell_type": "markdown",
   "id": "buried-finnish",
   "metadata": {},
   "source": [
    "**✓ 필요한 라이브러리 import 하기**"
   ]
  },
  {
   "cell_type": "code",
   "execution_count": 1,
   "id": "southwest-crystal",
   "metadata": {},
   "outputs": [
    {
     "name": "stdout",
     "output_type": "stream",
     "text": [
      "얍💢\n"
     ]
    }
   ],
   "source": [
    "import warnings\n",
    "warnings.filterwarnings(\"ignore\")\n",
    "import os\n",
    "import pandas as pd\n",
    "import numpy as np\n",
    "import xgboost as xgb\n",
    "import lightgbm as lgb\n",
    "import matplotlib.pyplot as plt\n",
    "import seaborn as sns\n",
    "import missingno as msno\n",
    "\n",
    "from os.path import join\n",
    "from sklearn.ensemble import GradientBoostingRegressor\n",
    "from sklearn.model_selection import KFold, cross_val_score\n",
    "\n",
    "print('얍💢')"
   ]
  },
  {
   "cell_type": "markdown",
   "id": "technological-insider",
   "metadata": {},
   "source": [
    "**`✓ 데이터 경로 지정하기(우리가 로컬에서 사용할 때 알맞은 파일 경로)`**"
   ]
  },
  {
   "cell_type": "code",
   "execution_count": 2,
   "id": "standard-cowboy",
   "metadata": {},
   "outputs": [
    {
     "name": "stdout",
     "output_type": "stream",
     "text": [
      "/home/aiffel-dj49/aiffel/kaggle_festival/data/sales_train.csv\n",
      "/home/aiffel-dj49/aiffel/kaggle_festival/data/test.csv\n"
     ]
    }
   ],
   "source": [
    "data_dir = os.getenv('HOME')+'/aiffel/kaggle_festival/data'\n",
    "\n",
    "train_data_path = join(data_dir, 'sales_train.csv')\n",
    "sub_data_path = join(data_dir, 'test.csv') \n",
    "\n",
    "print(train_data_path)\n",
    "print(sub_data_path)"
   ]
  },
  {
   "cell_type": "markdown",
   "id": "underlying-submission",
   "metadata": {},
   "source": [
    "**✓ 데이터 불러오기**"
   ]
  },
  {
   "cell_type": "code",
   "execution_count": 3,
   "id": "closing-apache",
   "metadata": {},
   "outputs": [
    {
     "name": "stdout",
     "output_type": "stream",
     "text": [
      "train_data dim : (2935849, 6)\n",
      "sub data dim : (214200, 3)\n"
     ]
    }
   ],
   "source": [
    "data = pd.read_csv(train_data_path)\n",
    "sub = pd.read_csv(sub_data_path)\n",
    "\n",
    "# 데이터수와 컬럼수 출력\n",
    "print('train_data dim : {}'.format(data.shape))\n",
    "print('sub data dim : {}'.format(sub.shape))"
   ]
  },
  {
   "cell_type": "markdown",
   "id": "departmental-swaziland",
   "metadata": {},
   "source": [
    "학습 데이터는 약 2만 9천 개, 테스트 데이터는 약 2만 개로 이루어져 있군요.<br>\n",
    "어떤 컬럼들로 이뤄져 있는지 봅시다."
   ]
  },
  {
   "cell_type": "code",
   "execution_count": 4,
   "id": "sunset-thompson",
   "metadata": {},
   "outputs": [
    {
     "name": "stdout",
     "output_type": "stream",
     "text": [
      "train keys : Index(['date', 'date_block_num', 'shop_id', 'item_id', 'item_price',\n",
      "       'item_cnt_day'],\n",
      "      dtype='object')\n",
      "sub keys : Index(['ID', 'shop_id', 'item_id'], dtype='object')\n"
     ]
    }
   ],
   "source": [
    "print(\"train keys :\", data.keys())\n",
    "print(\"sub keys :\", sub.keys())"
   ]
  },
  {
   "cell_type": "code",
   "execution_count": 5,
   "id": "banned-state",
   "metadata": {},
   "outputs": [
    {
     "data": {
      "text/html": [
       "<div>\n",
       "<style scoped>\n",
       "    .dataframe tbody tr th:only-of-type {\n",
       "        vertical-align: middle;\n",
       "    }\n",
       "\n",
       "    .dataframe tbody tr th {\n",
       "        vertical-align: top;\n",
       "    }\n",
       "\n",
       "    .dataframe thead th {\n",
       "        text-align: right;\n",
       "    }\n",
       "</style>\n",
       "<table border=\"1\" class=\"dataframe\">\n",
       "  <thead>\n",
       "    <tr style=\"text-align: right;\">\n",
       "      <th></th>\n",
       "      <th>date</th>\n",
       "      <th>date_block_num</th>\n",
       "      <th>shop_id</th>\n",
       "      <th>item_id</th>\n",
       "      <th>item_price</th>\n",
       "      <th>item_cnt_day</th>\n",
       "    </tr>\n",
       "  </thead>\n",
       "  <tbody>\n",
       "    <tr>\n",
       "      <th>0</th>\n",
       "      <td>02.01.2013</td>\n",
       "      <td>0</td>\n",
       "      <td>59</td>\n",
       "      <td>22154</td>\n",
       "      <td>999.00</td>\n",
       "      <td>1.0</td>\n",
       "    </tr>\n",
       "    <tr>\n",
       "      <th>1</th>\n",
       "      <td>03.01.2013</td>\n",
       "      <td>0</td>\n",
       "      <td>25</td>\n",
       "      <td>2552</td>\n",
       "      <td>899.00</td>\n",
       "      <td>1.0</td>\n",
       "    </tr>\n",
       "    <tr>\n",
       "      <th>2</th>\n",
       "      <td>05.01.2013</td>\n",
       "      <td>0</td>\n",
       "      <td>25</td>\n",
       "      <td>2552</td>\n",
       "      <td>899.00</td>\n",
       "      <td>-1.0</td>\n",
       "    </tr>\n",
       "    <tr>\n",
       "      <th>3</th>\n",
       "      <td>06.01.2013</td>\n",
       "      <td>0</td>\n",
       "      <td>25</td>\n",
       "      <td>2554</td>\n",
       "      <td>1709.05</td>\n",
       "      <td>1.0</td>\n",
       "    </tr>\n",
       "    <tr>\n",
       "      <th>4</th>\n",
       "      <td>15.01.2013</td>\n",
       "      <td>0</td>\n",
       "      <td>25</td>\n",
       "      <td>2555</td>\n",
       "      <td>1099.00</td>\n",
       "      <td>1.0</td>\n",
       "    </tr>\n",
       "    <tr>\n",
       "      <th>...</th>\n",
       "      <td>...</td>\n",
       "      <td>...</td>\n",
       "      <td>...</td>\n",
       "      <td>...</td>\n",
       "      <td>...</td>\n",
       "      <td>...</td>\n",
       "    </tr>\n",
       "    <tr>\n",
       "      <th>2935844</th>\n",
       "      <td>10.10.2015</td>\n",
       "      <td>33</td>\n",
       "      <td>25</td>\n",
       "      <td>7409</td>\n",
       "      <td>299.00</td>\n",
       "      <td>1.0</td>\n",
       "    </tr>\n",
       "    <tr>\n",
       "      <th>2935845</th>\n",
       "      <td>09.10.2015</td>\n",
       "      <td>33</td>\n",
       "      <td>25</td>\n",
       "      <td>7460</td>\n",
       "      <td>299.00</td>\n",
       "      <td>1.0</td>\n",
       "    </tr>\n",
       "    <tr>\n",
       "      <th>2935846</th>\n",
       "      <td>14.10.2015</td>\n",
       "      <td>33</td>\n",
       "      <td>25</td>\n",
       "      <td>7459</td>\n",
       "      <td>349.00</td>\n",
       "      <td>1.0</td>\n",
       "    </tr>\n",
       "    <tr>\n",
       "      <th>2935847</th>\n",
       "      <td>22.10.2015</td>\n",
       "      <td>33</td>\n",
       "      <td>25</td>\n",
       "      <td>7440</td>\n",
       "      <td>299.00</td>\n",
       "      <td>1.0</td>\n",
       "    </tr>\n",
       "    <tr>\n",
       "      <th>2935848</th>\n",
       "      <td>03.10.2015</td>\n",
       "      <td>33</td>\n",
       "      <td>25</td>\n",
       "      <td>7460</td>\n",
       "      <td>299.00</td>\n",
       "      <td>1.0</td>\n",
       "    </tr>\n",
       "  </tbody>\n",
       "</table>\n",
       "<p>2935849 rows × 6 columns</p>\n",
       "</div>"
      ],
      "text/plain": [
       "               date  date_block_num  shop_id  item_id  item_price  \\\n",
       "0        02.01.2013               0       59    22154      999.00   \n",
       "1        03.01.2013               0       25     2552      899.00   \n",
       "2        05.01.2013               0       25     2552      899.00   \n",
       "3        06.01.2013               0       25     2554     1709.05   \n",
       "4        15.01.2013               0       25     2555     1099.00   \n",
       "...             ...             ...      ...      ...         ...   \n",
       "2935844  10.10.2015              33       25     7409      299.00   \n",
       "2935845  09.10.2015              33       25     7460      299.00   \n",
       "2935846  14.10.2015              33       25     7459      349.00   \n",
       "2935847  22.10.2015              33       25     7440      299.00   \n",
       "2935848  03.10.2015              33       25     7460      299.00   \n",
       "\n",
       "         item_cnt_day  \n",
       "0                 1.0  \n",
       "1                 1.0  \n",
       "2                -1.0  \n",
       "3                 1.0  \n",
       "4                 1.0  \n",
       "...               ...  \n",
       "2935844           1.0  \n",
       "2935845           1.0  \n",
       "2935846           1.0  \n",
       "2935847           1.0  \n",
       "2935848           1.0  \n",
       "\n",
       "[2935849 rows x 6 columns]"
      ]
     },
     "execution_count": 5,
     "metadata": {},
     "output_type": "execute_result"
    }
   ],
   "source": [
    "s = pd.DataFrame(data)\n",
    "s"
   ]
  },
  {
   "cell_type": "code",
   "execution_count": 6,
   "id": "lesbian-miniature",
   "metadata": {},
   "outputs": [
    {
     "data": {
      "text/html": [
       "<div>\n",
       "<style scoped>\n",
       "    .dataframe tbody tr th:only-of-type {\n",
       "        vertical-align: middle;\n",
       "    }\n",
       "\n",
       "    .dataframe tbody tr th {\n",
       "        vertical-align: top;\n",
       "    }\n",
       "\n",
       "    .dataframe thead th {\n",
       "        text-align: right;\n",
       "    }\n",
       "</style>\n",
       "<table border=\"1\" class=\"dataframe\">\n",
       "  <thead>\n",
       "    <tr style=\"text-align: right;\">\n",
       "      <th></th>\n",
       "      <th>ID</th>\n",
       "      <th>shop_id</th>\n",
       "      <th>item_id</th>\n",
       "    </tr>\n",
       "  </thead>\n",
       "  <tbody>\n",
       "    <tr>\n",
       "      <th>0</th>\n",
       "      <td>0</td>\n",
       "      <td>5</td>\n",
       "      <td>5037</td>\n",
       "    </tr>\n",
       "    <tr>\n",
       "      <th>1</th>\n",
       "      <td>1</td>\n",
       "      <td>5</td>\n",
       "      <td>5320</td>\n",
       "    </tr>\n",
       "    <tr>\n",
       "      <th>2</th>\n",
       "      <td>2</td>\n",
       "      <td>5</td>\n",
       "      <td>5233</td>\n",
       "    </tr>\n",
       "    <tr>\n",
       "      <th>3</th>\n",
       "      <td>3</td>\n",
       "      <td>5</td>\n",
       "      <td>5232</td>\n",
       "    </tr>\n",
       "    <tr>\n",
       "      <th>4</th>\n",
       "      <td>4</td>\n",
       "      <td>5</td>\n",
       "      <td>5268</td>\n",
       "    </tr>\n",
       "    <tr>\n",
       "      <th>...</th>\n",
       "      <td>...</td>\n",
       "      <td>...</td>\n",
       "      <td>...</td>\n",
       "    </tr>\n",
       "    <tr>\n",
       "      <th>214195</th>\n",
       "      <td>214195</td>\n",
       "      <td>45</td>\n",
       "      <td>18454</td>\n",
       "    </tr>\n",
       "    <tr>\n",
       "      <th>214196</th>\n",
       "      <td>214196</td>\n",
       "      <td>45</td>\n",
       "      <td>16188</td>\n",
       "    </tr>\n",
       "    <tr>\n",
       "      <th>214197</th>\n",
       "      <td>214197</td>\n",
       "      <td>45</td>\n",
       "      <td>15757</td>\n",
       "    </tr>\n",
       "    <tr>\n",
       "      <th>214198</th>\n",
       "      <td>214198</td>\n",
       "      <td>45</td>\n",
       "      <td>19648</td>\n",
       "    </tr>\n",
       "    <tr>\n",
       "      <th>214199</th>\n",
       "      <td>214199</td>\n",
       "      <td>45</td>\n",
       "      <td>969</td>\n",
       "    </tr>\n",
       "  </tbody>\n",
       "</table>\n",
       "<p>214200 rows × 3 columns</p>\n",
       "</div>"
      ],
      "text/plain": [
       "            ID  shop_id  item_id\n",
       "0            0        5     5037\n",
       "1            1        5     5320\n",
       "2            2        5     5233\n",
       "3            3        5     5232\n",
       "4            4        5     5268\n",
       "...        ...      ...      ...\n",
       "214195  214195       45    18454\n",
       "214196  214196       45    16188\n",
       "214197  214197       45    15757\n",
       "214198  214198       45    19648\n",
       "214199  214199       45      969\n",
       "\n",
       "[214200 rows x 3 columns]"
      ]
     },
     "execution_count": 6,
     "metadata": {},
     "output_type": "execute_result"
    }
   ],
   "source": [
    "a = pd.DataFrame(sub)\n",
    "a"
   ]
  },
  {
   "cell_type": "markdown",
   "id": "printable-yugoslavia",
   "metadata": {},
   "source": [
    "**✓ 간단한 전처리 : 결측치 확인**"
   ]
  },
  {
   "cell_type": "markdown",
   "id": "double-weekend",
   "metadata": {},
   "source": [
    "아래에 출력된 것은 **data**라는 **DataFrame**을 매트릭스 모양 그대로 시각화한 것입니다.<br>만약 특정 row, col에 NaN이라는 결측치가 있었다면 해당 부분이 `하얗게` 나옵니다.<br>결측치가 없다면 매트릭스 전체가 까맣게 나올 겁니다. "
   ]
  },
  {
   "cell_type": "code",
   "execution_count": 7,
   "id": "verbal-thirty",
   "metadata": {},
   "outputs": [
    {
     "data": {
      "text/plain": [
       "<AxesSubplot:>"
      ]
     },
     "execution_count": 7,
     "metadata": {},
     "output_type": "execute_result"
    },
    {
     "data": {
      "image/png": "[encoded data removed]",
      "text/plain": [
       "<Figure size 720x144 with 2 Axes>"
      ]
     },
     "metadata": {
      "needs_background": "light"
     },
     "output_type": "display_data"
    },
    {
     "data": {
      "image/png": "[encoded data removed]",
      "text/plain": [
       "<Figure size 720x144 with 2 Axes>"
      ]
     },
     "metadata": {
      "needs_background": "light"
     },
     "output_type": "display_data"
    }
   ],
   "source": [
    "# missingno 라이브러리의 matrix 함수를 사용하여 데이터의 결측 상태 시각화\n",
    "msno.matrix(data, figsize=(10, 2))\n",
    "msno.matrix(sub, figsize=(10,2))"
   ]
  },
  {
   "cell_type": "markdown",
   "id": "single-roommate",
   "metadata": {},
   "source": [
    "아래와 같이 직접 결측치의 개수를 출력해서 확인할 수도 있습니다."
   ]
  },
  {
   "cell_type": "code",
   "execution_count": 8,
   "id": "strange-fever",
   "metadata": {},
   "outputs": [
    {
     "name": "stdout",
     "output_type": "stream",
     "text": [
      "date : 0\n",
      "date_block_num : 0\n",
      "shop_id : 0\n",
      "item_id : 0\n",
      "item_price : 0\n",
      "item_cnt_day : 0\n"
     ]
    }
   ],
   "source": [
    "for c in data.columns:\n",
    "    print('{} : {}'.format(c, len(data.loc[pd.isnull(data[c]), c].values)))"
   ]
  },
  {
   "cell_type": "code",
   "execution_count": 9,
   "id": "focal-musician",
   "metadata": {},
   "outputs": [
    {
     "name": "stdout",
     "output_type": "stream",
     "text": [
      "ID : 0\n",
      "shop_id : 0\n",
      "item_id : 0\n"
     ]
    }
   ],
   "source": [
    "for c in sub.columns:\n",
    "    print('{} : {}'.format(c, len(sub.loc[pd.isnull(sub[c]), c].values)))"
   ]
  },
  {
   "cell_type": "markdown",
   "id": "demographic-finish",
   "metadata": {},
   "source": [
    "**✓ outlier 제거 : 이상치 데이터를 제거** "
   ]
  },
  {
   "cell_type": "code",
   "execution_count": 12,
   "id": "coated-neutral",
   "metadata": {},
   "outputs": [
    {
     "ename": "NameError",
     "evalue": "name 'train' is not defined",
     "output_type": "error",
     "traceback": [
      "\u001b[0;31m---------------------------------------------------------------------------\u001b[0m",
      "\u001b[0;31mNameError\u001b[0m                                 Traceback (most recent call last)",
      "\u001b[0;32m<ipython-input-12-94136925e35e>\u001b[0m in \u001b[0;36m<module>\u001b[0;34m\u001b[0m\n\u001b[1;32m      1\u001b[0m \u001b[0mplt\u001b[0m\u001b[0;34m.\u001b[0m\u001b[0mfigure\u001b[0m\u001b[0;34m(\u001b[0m\u001b[0mfigsize\u001b[0m\u001b[0;34m=\u001b[0m\u001b[0;34m(\u001b[0m\u001b[0;36m10\u001b[0m\u001b[0;34m,\u001b[0m\u001b[0;36m3\u001b[0m\u001b[0;34m)\u001b[0m\u001b[0;34m)\u001b[0m\u001b[0;34m\u001b[0m\u001b[0;34m\u001b[0m\u001b[0m\n\u001b[0;32m----> 2\u001b[0;31m \u001b[0msns\u001b[0m\u001b[0;34m.\u001b[0m\u001b[0mboxplot\u001b[0m\u001b[0;34m(\u001b[0m\u001b[0mx\u001b[0m\u001b[0;34m=\u001b[0m\u001b[0;34m'item_cnt_day'\u001b[0m\u001b[0;34m,\u001b[0m \u001b[0mdata\u001b[0m\u001b[0;34m=\u001b[0m\u001b[0mtrain\u001b[0m\u001b[0;34m)\u001b[0m\u001b[0;34m\u001b[0m\u001b[0;34m\u001b[0m\u001b[0m\n\u001b[0m\u001b[1;32m      3\u001b[0m \u001b[0;34m\u001b[0m\u001b[0m\n\u001b[1;32m      4\u001b[0m \u001b[0mplt\u001b[0m\u001b[0;34m.\u001b[0m\u001b[0mfigure\u001b[0m\u001b[0;34m(\u001b[0m\u001b[0mfigsize\u001b[0m\u001b[0;34m=\u001b[0m\u001b[0;34m(\u001b[0m\u001b[0;36m10\u001b[0m\u001b[0;34m,\u001b[0m\u001b[0;36m3\u001b[0m\u001b[0;34m)\u001b[0m\u001b[0;34m)\u001b[0m\u001b[0;34m\u001b[0m\u001b[0;34m\u001b[0m\u001b[0m\n\u001b[1;32m      5\u001b[0m \u001b[0msns\u001b[0m\u001b[0;34m.\u001b[0m\u001b[0mboxplot\u001b[0m\u001b[0;34m(\u001b[0m\u001b[0mx\u001b[0m\u001b[0;34m=\u001b[0m\u001b[0;34m'item_price'\u001b[0m\u001b[0;34m,\u001b[0m \u001b[0mdata\u001b[0m\u001b[0;34m=\u001b[0m\u001b[0mtrain\u001b[0m\u001b[0;34m)\u001b[0m\u001b[0;34m\u001b[0m\u001b[0;34m\u001b[0m\u001b[0m\n",
      "\u001b[0;31mNameError\u001b[0m: name 'train' is not defined"
     ]
    },
    {
     "data": {
      "text/plain": [
       "<Figure size 720x216 with 0 Axes>"
      ]
     },
     "metadata": {},
     "output_type": "display_data"
    }
   ],
   "source": [
    "plt.figure(figsize=(10,3))\n",
    "sns.boxplot(x='item_cnt_day', data=train)\n",
    "\n",
    "plt.figure(figsize=(10,3))\n",
    "sns.boxplot(x='item_price', data=train)"
   ]
  },
  {
   "cell_type": "code",
   "execution_count": 13,
   "id": "reflected-seating",
   "metadata": {},
   "outputs": [
    {
     "ename": "NameError",
     "evalue": "name 'train' is not defined",
     "output_type": "error",
     "traceback": [
      "\u001b[0;31m---------------------------------------------------------------------------\u001b[0m",
      "\u001b[0;31mNameError\u001b[0m                                 Traceback (most recent call last)",
      "\u001b[0;32m<ipython-input-13-2f88e3055191>\u001b[0m in \u001b[0;36m<module>\u001b[0;34m\u001b[0m\n\u001b[0;32m----> 1\u001b[0;31m \u001b[0mtrain\u001b[0m \u001b[0;34m=\u001b[0m \u001b[0mtrain\u001b[0m\u001b[0;34m[\u001b[0m\u001b[0mtrain\u001b[0m\u001b[0;34m.\u001b[0m\u001b[0mitem_cnt_day\u001b[0m \u001b[0;34m<\u001b[0m \u001b[0;36m500\u001b[0m\u001b[0;34m]\u001b[0m\u001b[0;34m\u001b[0m\u001b[0;34m\u001b[0m\u001b[0m\n\u001b[0m\u001b[1;32m      2\u001b[0m \u001b[0mtrain\u001b[0m \u001b[0;34m=\u001b[0m \u001b[0mtrain\u001b[0m\u001b[0;34m[\u001b[0m\u001b[0mtrain\u001b[0m\u001b[0;34m.\u001b[0m\u001b[0mitem_price\u001b[0m \u001b[0;34m<\u001b[0m \u001b[0;36m50000\u001b[0m\u001b[0;34m]\u001b[0m\u001b[0;34m\u001b[0m\u001b[0;34m\u001b[0m\u001b[0m\n",
      "\u001b[0;31mNameError\u001b[0m: name 'train' is not defined"
     ]
    }
   ],
   "source": [
    "train = train[train.item_cnt_day < 500]\n",
    "train = train[train.item_price < 50000]"
   ]
  },
  {
   "cell_type": "code",
   "execution_count": 14,
   "id": "engaging-television",
   "metadata": {},
   "outputs": [
    {
     "ename": "NameError",
     "evalue": "name 'train' is not defined",
     "output_type": "error",
     "traceback": [
      "\u001b[0;31m---------------------------------------------------------------------------\u001b[0m",
      "\u001b[0;31mNameError\u001b[0m                                 Traceback (most recent call last)",
      "\u001b[0;32m<ipython-input-14-94136925e35e>\u001b[0m in \u001b[0;36m<module>\u001b[0;34m\u001b[0m\n\u001b[1;32m      1\u001b[0m \u001b[0mplt\u001b[0m\u001b[0;34m.\u001b[0m\u001b[0mfigure\u001b[0m\u001b[0;34m(\u001b[0m\u001b[0mfigsize\u001b[0m\u001b[0;34m=\u001b[0m\u001b[0;34m(\u001b[0m\u001b[0;36m10\u001b[0m\u001b[0;34m,\u001b[0m\u001b[0;36m3\u001b[0m\u001b[0;34m)\u001b[0m\u001b[0;34m)\u001b[0m\u001b[0;34m\u001b[0m\u001b[0;34m\u001b[0m\u001b[0m\n\u001b[0;32m----> 2\u001b[0;31m \u001b[0msns\u001b[0m\u001b[0;34m.\u001b[0m\u001b[0mboxplot\u001b[0m\u001b[0;34m(\u001b[0m\u001b[0mx\u001b[0m\u001b[0;34m=\u001b[0m\u001b[0;34m'item_cnt_day'\u001b[0m\u001b[0;34m,\u001b[0m \u001b[0mdata\u001b[0m\u001b[0;34m=\u001b[0m\u001b[0mtrain\u001b[0m\u001b[0;34m)\u001b[0m\u001b[0;34m\u001b[0m\u001b[0;34m\u001b[0m\u001b[0m\n\u001b[0m\u001b[1;32m      3\u001b[0m \u001b[0;34m\u001b[0m\u001b[0m\n\u001b[1;32m      4\u001b[0m \u001b[0mplt\u001b[0m\u001b[0;34m.\u001b[0m\u001b[0mfigure\u001b[0m\u001b[0;34m(\u001b[0m\u001b[0mfigsize\u001b[0m\u001b[0;34m=\u001b[0m\u001b[0;34m(\u001b[0m\u001b[0;36m10\u001b[0m\u001b[0;34m,\u001b[0m\u001b[0;36m3\u001b[0m\u001b[0;34m)\u001b[0m\u001b[0;34m)\u001b[0m\u001b[0;34m\u001b[0m\u001b[0;34m\u001b[0m\u001b[0m\n\u001b[1;32m      5\u001b[0m \u001b[0msns\u001b[0m\u001b[0;34m.\u001b[0m\u001b[0mboxplot\u001b[0m\u001b[0;34m(\u001b[0m\u001b[0mx\u001b[0m\u001b[0;34m=\u001b[0m\u001b[0;34m'item_price'\u001b[0m\u001b[0;34m,\u001b[0m \u001b[0mdata\u001b[0m\u001b[0;34m=\u001b[0m\u001b[0mtrain\u001b[0m\u001b[0;34m)\u001b[0m\u001b[0;34m\u001b[0m\u001b[0;34m\u001b[0m\u001b[0m\n",
      "\u001b[0;31mNameError\u001b[0m: name 'train' is not defined"
     ]
    },
    {
     "data": {
      "text/plain": [
       "<Figure size 720x216 with 0 Axes>"
      ]
     },
     "metadata": {},
     "output_type": "display_data"
    }
   ],
   "source": [
    "plt.figure(figsize=(10,3))\n",
    "sns.boxplot(x='item_cnt_day', data=train)\n",
    "\n",
    "plt.figure(figsize=(10,3))\n",
    "sns.boxplot(x='item_price', data=train)"
   ]
  },
  {
   "cell_type": "code",
   "execution_count": null,
   "id": "frequent-banking",
   "metadata": {},
   "outputs": [],
   "source": [
    "train.describe()"
   ]
  },
  {
   "cell_type": "code",
   "execution_count": null,
   "id": "subject-habitat",
   "metadata": {},
   "outputs": [],
   "source": [
    "train = train[train.item_cnt_day >= 0]\n",
    "train = train[train.item_price >= 0]"
   ]
  },
  {
   "cell_type": "markdown",
   "id": "harmful-watershed",
   "metadata": {},
   "source": [
    "**✓ 학습 데이터에서 라벨 제거하기**"
   ]
  },
  {
   "cell_type": "code",
   "execution_count": null,
   "id": "electoral-supplement",
   "metadata": {},
   "outputs": [],
   "source": [
    "print(data.columns)"
   ]
  },
  {
   "cell_type": "code",
   "execution_count": null,
   "id": "funky-literacy",
   "metadata": {},
   "outputs": [],
   "source": [
    "# 학습 데이터에서 date, item_price제거\n",
    "del train['date']\n",
    "del train['item_price']\n",
    "\n",
    "# 정답 데이터 저장 후, 삭제\n",
    "y = train['item_cnt_day']\n",
    "del train['item_cnt_day']\n",
    "\n",
    "print(data.columns)\n",
    "print(sub.columns)"
   ]
  },
  {
   "cell_type": "markdown",
   "id": "under-pakistan",
   "metadata": {},
   "source": [
    "**✓ 학습 데이터와 테스트 데이터 합치기**"
   ]
  },
  {
   "cell_type": "markdown",
   "id": "cathedral-attitude",
   "metadata": {},
   "source": [
    "모델을 학습시키기 전에, 전체 데이터에 대해 탐색해보기 위해 두 데이터를 **`pd.concat`**으로 합쳐봅니다.\n",
    "\n",
    "물론, 모델 학습을 진행할 때에는 다시 분리해서 사용해야 하기 때문에 데이터를 합치기 전 **`train_len`**에 **`training data`**의 개수를 저장해서 추후에 학습데이터만 불러올 수 있는 인덱스로 사용합니다.\n",
    "\n"
   ]
  },
  {
   "cell_type": "code",
   "execution_count": null,
   "id": "unauthorized-failure",
   "metadata": {},
   "outputs": [],
   "source": [
    "train_len = len(data)\n",
    "data = pd.concat((data, sub), axis=0)\n",
    "\n",
    "print(len(data))"
   ]
  },
  {
   "cell_type": "code",
   "execution_count": null,
   "id": "confident-manitoba",
   "metadata": {},
   "outputs": [],
   "source": [
    "data.head()"
   ]
  },
  {
   "cell_type": "markdown",
   "id": "spare-object",
   "metadata": {},
   "source": [
    "**✓ <span style = color:green>id, date</span> 변수 정리**"
   ]
  },
  {
   "cell_type": "code",
   "execution_count": null,
   "id": "coated-economy",
   "metadata": {},
   "outputs": [],
   "source": [
    "sub_id = data['ID'][train_len:]\n",
    "del data['ID']\n",
    "\n",
    "print(data.columns)"
   ]
  },
  {
   "cell_type": "code",
   "execution_count": null,
   "id": "advisory-arbitration",
   "metadata": {},
   "outputs": [],
   "source": [
    "# data['date'] = data['date'].apply(lambda i: i[:6]).astype(int)\n",
    "data.head()"
   ]
  },
  {
   "cell_type": "markdown",
   "id": "seventh-document",
   "metadata": {},
   "source": [
    "**✓ 각 변수들의 분포 확인**"
   ]
  },
  {
   "cell_type": "code",
   "execution_count": null,
   "id": "liked-arabic",
   "metadata": {},
   "outputs": [],
   "source": [
    "fig, ax = plt.subplots(9, 2, figsize=(12, 50))   # 가로스크롤 때문에 그래프 확인이 불편하다면 figsize의 x값을 조절해 보세요. \n",
    "\n",
    "# id 변수(count==0인 경우)는 제외하고 분포를 확인합니다.\n",
    "count = 1\n",
    "columns = data.columns\n",
    "for row in range(5):\n",
    "    for col in range(2):\n",
    "        sns.kdeplot(data[columns[count]], ax=ax[row][col])\n",
    "        ax[row][col].set_title(columns[count], fontsize=15)\n",
    "        count += 1\n",
    "        if count == 4 :\n",
    "            break"
   ]
  },
  {
   "cell_type": "code",
   "execution_count": null,
   "id": "religious-cleaners",
   "metadata": {},
   "outputs": [],
   "source": [
    "skew_columns = ['bedrooms', 'sqft_living', 'sqft_lot', 'sqft_above', 'sqft_basement']\n",
    "\n",
    "for c in skew_columns:\n",
    "    data[c] = np.log1p(data[c].values)\n",
    "\n",
    "print('얍💢')"
   ]
  },
  {
   "cell_type": "code",
   "execution_count": null,
   "id": "angry-distribution",
   "metadata": {},
   "outputs": [],
   "source": [
    "fig, ax = plt.subplots(3, 2, figsize=(12, 15))\n",
    "\n",
    "count = 0\n",
    "for row in range(3):\n",
    "    for col in range(2):\n",
    "        if count == 5:\n",
    "            break\n",
    "        sns.kdeplot(data[skew_columns[count]], ax=ax[row][col])\n",
    "        ax[row][col].set_title(skew_columns[count], fontsize=15)\n",
    "        count += 1"
   ]
  },
  {
   "cell_type": "code",
   "execution_count": null,
   "id": "immune-perth",
   "metadata": {},
   "outputs": [],
   "source": [
    "xx = np.linspace(0, 10, 500)\n",
    "yy = np.log(xx)\n",
    "\n",
    "plt.hlines(0, 0, 10)\n",
    "plt.vlines(0, -5, 5)\n",
    "plt.plot(xx, yy, c='r')\n",
    "plt.show()"
   ]
  },
  {
   "cell_type": "code",
   "execution_count": null,
   "id": "conditional-factor",
   "metadata": {},
   "outputs": [],
   "source": [
    "sns.kdeplot(y)\n",
    "plt.show()"
   ]
  },
  {
   "cell_type": "code",
   "execution_count": null,
   "id": "portable-planet",
   "metadata": {},
   "outputs": [],
   "source": [
    "y_log_transformation = np.log1p(y)\n",
    "\n",
    "sns.kdeplot(y_log_transformation)\n",
    "plt.show()"
   ]
  },
  {
   "cell_type": "markdown",
   "id": "micro-radio",
   "metadata": {},
   "source": [
    "여기까지 로그 변환이 필요한 데이터에 대해 처리를 마무리하였으니, 아래와 같이 전체 데이터를 다시 나누어 줍니다.<br>\n",
    "\n",
    "위에서 저장해두었던 **train_len**을 인덱스로 활용해서 **:train_len**까지는 학습 데이터, 즉 **x**에 저장하고, **train_len:** 부터는 실제로 추론을 해야 하는 테스트 데이터, 즉 **sub** 변수에 저장합니다."
   ]
  },
  {
   "cell_type": "code",
   "execution_count": null,
   "id": "ruled-platinum",
   "metadata": {},
   "outputs": [],
   "source": [
    "sub = data.iloc[train_len:, :]\n",
    "x = data.iloc[:train_len, :]\n",
    "\n",
    "print(x.shape)\n",
    "print(sub.shape)"
   ]
  },
  {
   "cell_type": "markdown",
   "id": "integrated-essex",
   "metadata": {},
   "source": [
    "**✓ 모델링**"
   ]
  },
  {
   "cell_type": "markdown",
   "id": "political-circuit",
   "metadata": {},
   "source": [
    "이제 본격적으로 학습시킬 모델을 준비합니다.<br>Baseline 커널에서는 여러 가지 모델을 함께 사용해서 결과를 섞는, **`블렌딩(blending)`** 이라는 기법을 활용합니다.<br>블렌딩은 **`앙상블 기법`**이라고 하기도 하는데요.<br>하나의 강한 머신러닝 알고리즘보다 여러 개의 약한 머신러닝 알고리즘이 낫다는 아이디어로부터 시작되었습니다."
   ]
  },
  {
   "cell_type": "markdown",
   "id": "internal-canada",
   "metadata": {},
   "source": [
    "**✓ Average Blending**"
   ]
  },
  {
   "cell_type": "markdown",
   "id": "aware-franklin",
   "metadata": {},
   "source": [
    "여러 가지 모델의 결과를 산술평균하여 블렌딩 모델을 만들겠습니다.\n",
    "\n",
    "모델은 부스팅 계열인 **`gboost`, `xgboost`, `lightgbm`** 세 가지를 사용합니다."
   ]
  },
  {
   "cell_type": "code",
   "execution_count": null,
   "id": "divided-yorkshire",
   "metadata": {},
   "outputs": [],
   "source": [
    "gboost = GradientBoostingRegressor(random_state=2019)\n",
    "xgboost = xgb.XGBRegressor(random_state=2019)\n",
    "lightgbm = lgb.LGBMRegressor(random_state=2019)\n",
    "\n",
    "models = [{'model':gboost, 'name':'GradientBoosting'}, {'model':xgboost, 'name':'XGBoost'},\n",
    "          {'model':lightgbm, 'name':'LightGBM'}]\n",
    "\n",
    "print('얍💢')"
   ]
  },
  {
   "cell_type": "markdown",
   "id": "nuclear-wellington",
   "metadata": {},
   "source": [
    "**✓ Cross Validation**"
   ]
  },
  {
   "cell_type": "markdown",
   "id": "adolescent-straight",
   "metadata": {},
   "source": [
    "교차 검증을 통해 모델의 성능을 간단히 평가하겠습니다."
   ]
  },
  {
   "cell_type": "code",
   "execution_count": null,
   "id": "moral-exchange",
   "metadata": {},
   "outputs": [],
   "source": [
    "def get_cv_score(models):\n",
    "    kfold = KFold(n_splits=5, random_state=2019).get_n_splits(x.values)\n",
    "    for m in models:\n",
    "        print(\"Model {} CV score : {:.4f}\".format(m['name'], np.mean(cross_val_score(m['model'], x.values, y)), \n",
    "                                                  kf=kfold))\n",
    "print('얍💢')"
   ]
  },
  {
   "cell_type": "code",
   "execution_count": null,
   "id": "better-taylor",
   "metadata": {},
   "outputs": [],
   "source": [
    "get_cv_score(models)"
   ]
  },
  {
   "cell_type": "markdown",
   "id": "indirect-oklahoma",
   "metadata": {},
   "source": [
    "**✓ Make Submission File**"
   ]
  },
  {
   "cell_type": "code",
   "execution_count": null,
   "id": "inclusive-settlement",
   "metadata": {},
   "outputs": [],
   "source": [
    "def AveragingBlending(models, x, y, sub_x):\n",
    "    for m in models : \n",
    "        m['model'].fit(x.values, y)\n",
    "    \n",
    "    predictions = np.column_stack([\n",
    "        m['model'].predict(sub_x.values) for m in models\n",
    "    ])\n",
    "    return np.mean(predictions, axis=1)\n",
    "\n",
    "print('얍💢')"
   ]
  },
  {
   "cell_type": "markdown",
   "id": "disabled-intranet",
   "metadata": {},
   "source": [
    "좋습니다! 함수를 활용해서 예측값을 생성해 볼까요?"
   ]
  },
  {
   "cell_type": "code",
   "execution_count": null,
   "id": "steady-direction",
   "metadata": {},
   "outputs": [],
   "source": [
    "y_pred = AveragingBlending(models, x, y, sub)\n",
    "print(len(y_pred))\n",
    "y_pred"
   ]
  },
  {
   "cell_type": "markdown",
   "id": "least-friday",
   "metadata": {},
   "source": [
    "우리는 이 결과를 캐글에 제출하기 위해 어떻게 해야 할까요?\n",
    "\n",
    "제출해야 하는 csv 파일의 샘플이 바로 **`data`** 폴더에 있는 **`sample_submission.csv`** 입니다.<br>\n",
    "다음 코드로 **`sample_submission.csv`** 파일을 확인해보겠습니다."
   ]
  },
  {
   "cell_type": "code",
   "execution_count": null,
   "id": "certain-proof",
   "metadata": {},
   "outputs": [],
   "source": [
    "data_dir = os.getenv('HOME')+'/aiffel/kaggle_festival/data'\n",
    "\n",
    "submission_path = join(data_dir, 'sample_submission.csv')\n",
    "submission = pd.read_csv(submission_path)\n",
    "submission.head()"
   ]
  },
  {
   "cell_type": "code",
   "execution_count": null,
   "id": "regulated-korean",
   "metadata": {},
   "outputs": [],
   "source": [
    "result = pd.DataFrame({\n",
    "    'id' : sub_id, \n",
    "    'price' : y_pred\n",
    "})\n",
    "\n",
    "result.head()"
   ]
  },
  {
   "cell_type": "markdown",
   "id": "extra-oracle",
   "metadata": {},
   "source": [
    "좋습니다! 이제 제출할 일만 남았습니다.<br>다음 코드로 **`submission.csv`** 파일을 저장해 주세요!"
   ]
  },
  {
   "cell_type": "code",
   "execution_count": null,
   "id": "posted-magnet",
   "metadata": {},
   "outputs": [],
   "source": [
    "my_submission_path = join(data_dir, 'submission.csv')\n",
    "result.to_csv(my_submission_path, index=False)\n",
    "\n",
    "print(my_submission_path)"
   ]
  },
  {
   "cell_type": "markdown",
   "id": "pending-router",
   "metadata": {},
   "source": []
  }
 ],
 "metadata": {
  "kernelspec": {
   "display_name": "Python 3",
   "language": "python",
   "name": "python3"
  },
  "language_info": {
   "codemirror_mode": {
    "name": "ipython",
    "version": 3
   },
   "file_extension": ".py",
   "mimetype": "text/x-python",
   "name": "python",
   "nbconvert_exporter": "python",
   "pygments_lexer": "ipython3",
   "version": "3.7.9"
  }
 },
 "nbformat": 4,
 "nbformat_minor": 5
}
