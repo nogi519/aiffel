{
 "cells": [
  {
   "cell_type": "markdown",
   "id": "imported-publication",
   "metadata": {},
   "source": [
    "# <center><span style=\"color:#2C786C\">프로젝트 : 커스텀 프로젝트 직접 만들기</span></center>"
   ]
  },
  {
   "cell_type": "markdown",
   "id": "neutral-accordance",
   "metadata": {},
   "source": [
    " "
   ]
  },
  {
   "cell_type": "markdown",
   "id": "casual-librarian",
   "metadata": {},
   "source": [
    " "
   ]
  },
  {
   "cell_type": "markdown",
   "id": "silver-extraction",
   "metadata": {},
   "source": [
    "## <span style=\"color:#F33830\">주의</span>\n",
    "> **<span style=\"color:#2C786C\">❗*버전*<br>\n",
    "tensorflow 2.3 이상 버전을 설치해주시기 바랍니다.</span>**"
   ]
  },
  {
   "cell_type": "markdown",
   "id": "compliant-necessity",
   "metadata": {},
   "source": [
    "## <span style=\"color:#F7B400\">목표</span>\n",
    "> **<span style=\"color:#2C786C\">대표적인 NLP framework인 Huggingface transformers를 활용하여 자기만의 커스텀 프로젝트를 제작하는 실습을 진행해 본다.</span>**"
   ]
  },
  {
   "cell_type": "markdown",
   "id": "collaborative-heading",
   "metadata": {},
   "source": [
    " "
   ]
  },
  {
   "cell_type": "markdown",
   "id": "obvious-luther",
   "metadata": {},
   "source": [
    "## <span style=\"color:#F7B400\">순서</span>\n",
    "> **<span style=\"color:#2C786C\">Step 1. `mnli` 데이터셋을 분석해 보기</span>**<br>\n",
    "**<span style=\"color:#2C786C\">Step 2. `MNLIProcessor` 클래스를 구현하기</span>**<br>\n",
    "**<span style=\"color:#2C786C\">Step 3. 위에서 구현한 processor 및 Huggingface에서 제공하는 tokenizer를 활용하여 데이터셋 구성하기</span>**<br>\n",
    "**<span style=\"color:#2C786C\">Step 4. model을 생성하여 학습 및 테스트를 진행해 보기\n",
    "</span>**<br>\n",
    "**<span style=\"color:#2C786C\">Step 5. 루브릭 평가</span>**<br>\n",
    "**<span style=\"color:#2C786C\">Step 6. 회고</span>**"
   ]
  },
  {
   "cell_type": "markdown",
   "id": "operational-nickel",
   "metadata": {},
   "source": [
    " "
   ]
  },
  {
   "cell_type": "markdown",
   "id": "varied-harbor",
   "metadata": {},
   "source": [
    "### <span style=\"color:#926DD6\">참고</span>\n",
    ">* []()\n",
    ">* []()"
   ]
  },
  {
   "cell_type": "markdown",
   "id": "concerned-active",
   "metadata": {},
   "source": [
    " "
   ]
  },
  {
   "cell_type": "markdown",
   "id": "characteristic-street",
   "metadata": {},
   "source": [
    "### <span style=\"color:#926DD6\">개념</span>\n",
    ">* \n",
    ">>*\n",
    ">>*\n",
    "\n",
    ">* \n",
    ">>*\n",
    ">>*"
   ]
  },
  {
   "cell_type": "markdown",
   "id": "american-portable",
   "metadata": {},
   "source": [
    " "
   ]
  },
  {
   "cell_type": "markdown",
   "id": "labeled-testimony",
   "metadata": {},
   "source": [
    "실습코드에서 수행해 본 내용을 토대로, 이번에는 GLUE dataset의 **`mnli task`**를 수행하는 프로젝트를 커스텀 프로젝트 형태로 진행해 봅시다"
   ]
  },
  {
   "cell_type": "markdown",
   "id": "broken-championship",
   "metadata": {},
   "source": [
    "그냥 **`run_glue.py`**를 돌려보는 방식으로 진행하는 것을 원하는 것은 아닙니다. 아래와 같은 순서를 지켜서 진행해 주세요."
   ]
  },
  {
   "cell_type": "markdown",
   "id": "handed-cargo",
   "metadata": {},
   "source": [
    " "
   ]
  },
  {
   "cell_type": "markdown",
   "id": "electric-wagner",
   "metadata": {},
   "source": [
    "#### <span style=\"color:#45C5CC\">✓ </span>"
   ]
  },
  {
   "cell_type": "markdown",
   "id": "polish-fifth",
   "metadata": {},
   "source": [
    " "
   ]
  },
  {
   "cell_type": "markdown",
   "id": "adapted-accessory",
   "metadata": {},
   "source": [
    "## <span style=\"color:#124445\">Step 1. `mnli` 데이터셋을 분석해 보기</span>\n",
    "---"
   ]
  },
  {
   "cell_type": "markdown",
   "id": "solved-eligibility",
   "metadata": {},
   "source": [
    " "
   ]
  },
  {
   "cell_type": "markdown",
   "id": "wired-hopkins",
   "metadata": {},
   "source": [
    " "
   ]
  },
  {
   "cell_type": "markdown",
   "id": "crazy-green",
   "metadata": {},
   "source": [
    " "
   ]
  },
  {
   "cell_type": "markdown",
   "id": "collectible-nomination",
   "metadata": {},
   "source": [
    " "
   ]
  },
  {
   "cell_type": "markdown",
   "id": "corresponding-element",
   "metadata": {},
   "source": [
    "## <span style=\"color:#124445\">Step 2. `MNLIProcessor` 클래스를 구현하기</span>\n",
    "---\n"
   ]
  },
  {
   "cell_type": "markdown",
   "id": "mediterranean-penguin",
   "metadata": {},
   "source": [
    " "
   ]
  },
  {
   "cell_type": "markdown",
   "id": "matched-relations",
   "metadata": {},
   "source": [
    "## <span style=\"color:#124445\">Step 3. 위에서 구현한 processor 및 Huggingface에서 제공하는 tokenizer를 활용하여 데이터셋 구성하기</span>\n",
    "---\n"
   ]
  },
  {
   "cell_type": "markdown",
   "id": "champion-outreach",
   "metadata": {},
   "source": [
    " "
   ]
  },
  {
   "cell_type": "markdown",
   "id": "infinite-stroke",
   "metadata": {},
   "source": [
    "## <span style=\"color:#124445\">Step 4. model을 생성하여 학습 및 테스트를 진행해 보기</span>\n",
    "---\n",
    "> ***💡 힌트***<br>\n",
    "혹시 STEP 2의 진행에 어려움을 겪고 계신다면 transformer 프로젝트 내부를 살펴보시면 참고할만한 예시코드를 찾아볼 수 있을 것입니다."
   ]
  },
  {
   "cell_type": "markdown",
   "id": "advanced-vault",
   "metadata": {},
   "source": [
    " "
   ]
  },
  {
   "cell_type": "markdown",
   "id": "cutting-criterion",
   "metadata": {},
   "source": [
    "## <span style=\"color:#124445\">Step 5. 루브릭 평가</span>\n",
    "---"
   ]
  },
  {
   "cell_type": "markdown",
   "id": "short-collector",
   "metadata": {},
   "source": [
    "|평가문항|상세기준|\n",
    "|-------|--------|\n",
    "|1. MNLI 데이터셋을 처리하는 전용 Processor 클래스를 정상적으로 구현하였다.|Processor 클래스에 대해 1개 이상의 example에 대한 단위테스트가 정상 진행되었다.|\n",
    "|2. BERT tokenizer와 Processor를 결합하여 데이터셋을 정상적으로 생성하였다.|MNLI 데이터셋의 입력과 라벨의 정의에 잘 맞는 tf.data.Dataset 인스턴스가 얻어졌다.|\n",
    "|3. MNLI 데이터셋에 대해 BERT 모델을 fine-tuning한 결과 기대한 수준의 모델 성능을 확인하였다.|테스트셋에 대해 80% 이상의 accuracy를 확인하였다.|"
   ]
  },
  {
   "cell_type": "markdown",
   "id": "specified-blond",
   "metadata": {},
   "source": [
    " "
   ]
  },
  {
   "cell_type": "markdown",
   "id": "incomplete-latitude",
   "metadata": {},
   "source": [
    "## <span style=\"color:#124445\">Step 6. 회고</span>\n",
    "---"
   ]
  },
  {
   "cell_type": "markdown",
   "id": "realistic-criterion",
   "metadata": {},
   "source": [
    " "
   ]
  }
 ],
 "metadata": {
  "kernelspec": {
   "display_name": "aiffel",
   "language": "python",
   "name": "aiffel"
  },
  "language_info": {
   "codemirror_mode": {
    "name": "ipython",
    "version": 3
   },
   "file_extension": ".py",
   "mimetype": "text/x-python",
   "name": "python",
   "nbconvert_exporter": "python",
   "pygments_lexer": "ipython3",
   "version": "3.7.9"
  }
 },
 "nbformat": 4,
 "nbformat_minor": 5
}
