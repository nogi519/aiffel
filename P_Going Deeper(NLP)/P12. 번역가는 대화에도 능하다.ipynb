{
 "cells": [
  {
   "cell_type": "markdown",
   "id": "functioning-laser",
   "metadata": {},
   "source": [
    "# <center><span style=\"color:#2C786C\">프로젝트 : 멋진 챗봇 만들기</span></center>"
   ]
  },
  {
   "cell_type": "markdown",
   "id": "recognized-demographic",
   "metadata": {},
   "source": [
    " "
   ]
  },
  {
   "cell_type": "markdown",
   "id": "ambient-offense",
   "metadata": {},
   "source": [
    "지난 노드에서 **챗봇과 번역기는 같은 집안**이라고 했던 말을 기억하시나요?\n",
    "앞서 배운 Seq2seq번역기와 Transfomer번역기에 적용할 수도 있겠지만, 이번 노드에서 배운 번역기 성능 측정법을 챗봇에도 적용해봅시다. 배운 지식을 다양하게 활용할 수 있는 것도 중요한 능력이겠죠. 이번 프로젝트를 통해서 챗봇과 번역기가 같은 집안인지 확인해보세요!"
   ]
  },
  {
   "cell_type": "markdown",
   "id": "baking-adapter",
   "metadata": {},
   "source": [
    " "
   ]
  },
  {
   "cell_type": "markdown",
   "id": "working-automation",
   "metadata": {},
   "source": [
    "## <span style=\"color:#F7B400\">목표</span>\n",
    "> **<span style=\"color:#2C786C\">1. </span>**<br>\n",
    "**<span style=\"color:#2C786C\">2. </span>**<br>\n",
    "**<span style=\"color:#2C786C\">3. </span>**<br>"
   ]
  },
  {
   "cell_type": "markdown",
   "id": "demographic-dayton",
   "metadata": {},
   "source": [
    " "
   ]
  },
  {
   "cell_type": "markdown",
   "id": "false-opposition",
   "metadata": {},
   "source": [
    "## <span style=\"color:#F7B400\">순서</span>\n",
    "> **<span style=\"color:#2C786C\">Step 1. 데이터 다운로드</span>**<br>\n",
    "**<span style=\"color:#2C786C\">Step 2. 데이터 정제</span>**<br>\n",
    "**<span style=\"color:#2C786C\">Step 3. 데이터 토큰화</span>**<br>\n",
    "**<span style=\"color:#2C786C\">Step 4. Augmentation</span>**<br>\n",
    "**<span style=\"color:#2C786C\">Step 5. 데이터 벡터화</span>**<br>\n",
    "**<span style=\"color:#2C786C\">Step 6. 훈련하기</span>**<br>\n",
    "**<span style=\"color:#2C786C\">Step 7. 성능 측정하기</span>**<br>\n",
    "**<span style=\"color:#2C786C\">Step 8. 정리</span>**<br>\n",
    "**<span style=\"color:#2C786C\">Step 9. 루브릭 평가</span>**<br>\n",
    "**<span style=\"color:#2C786C\">Step 10. 회고</span>**"
   ]
  },
  {
   "cell_type": "markdown",
   "id": "distant-setup",
   "metadata": {},
   "source": [
    " "
   ]
  },
  {
   "cell_type": "markdown",
   "id": "completed-boundary",
   "metadata": {},
   "source": [
    "### <span style=\"color:#926DD6\">참고</span>\n",
    ">* []()\n",
    ">* []()"
   ]
  },
  {
   "cell_type": "markdown",
   "id": "interesting-girlfriend",
   "metadata": {},
   "source": [
    " "
   ]
  },
  {
   "cell_type": "markdown",
   "id": "hundred-shuttle",
   "metadata": {},
   "source": [
    "### <span style=\"color:#926DD6\">개념</span>\n",
    ">* \n",
    ">>*\n",
    ">>*\n",
    "\n",
    ">* \n",
    ">>*\n",
    ">>*"
   ]
  },
  {
   "cell_type": "markdown",
   "id": "south-albany",
   "metadata": {},
   "source": [
    " "
   ]
  },
  {
   "cell_type": "markdown",
   "id": "legislative-carter",
   "metadata": {},
   "source": [
    "## <span style=\"color:#2C786C\">Step 1. 데이터 다운로드</span>\n",
    "---"
   ]
  },
  {
   "cell_type": "markdown",
   "id": "handy-blade",
   "metadata": {},
   "source": [
    " "
   ]
  },
  {
   "cell_type": "markdown",
   "id": "fiscal-service",
   "metadata": {},
   "source": [
    "## <span style=\"color:#2C786C\">Step 2. 추출된 결과로 embedding model 만들기</span>\n",
    "---"
   ]
  },
  {
   "cell_type": "markdown",
   "id": "collective-encyclopedia",
   "metadata": {},
   "source": [
    " "
   ]
  },
  {
   "cell_type": "markdown",
   "id": "natural-isolation",
   "metadata": {},
   "source": [
    "## <span style=\"color:#2C786C\">Step 3. target, attribute 단어 셋 만들기</span>\n",
    "---\n",
    "이전 스텝에서는 TF-IDF를 사용해서 단어 셋을 만들었습니다. 이 방법으로도 어느 정도는 대표 단어를 잘 선정할 수 있습니다. 그러나 TF-IDF가 높은 단어를 골랐음에도 불구하고 중복되는 단어가 발생하는 문제가 있었습니다.\n",
    "개념축을 표현하는 단어가 제대로 선정되지 않은 것은 WEAT 계산 결과에 악영향을 미칩니다."
   ]
  },
  {
   "cell_type": "markdown",
   "id": "romantic-nebraska",
   "metadata": {},
   "source": [
    "혹시 TF-IDF를 적용했을 때의 문제점이 무엇인지 지적 가능하다면 그 문제점을 지적하고 스스로 방법을 개선하여 대표 단어 셋을 구축해 보기 바랍니다. TF-IDF 방식을 쓰더라도 중복된 단어를 잘 제거하면 여전히 유용한 방식이 될 수 있습니다."
   ]
  },
  {
   "cell_type": "markdown",
   "id": "technological-hostel",
   "metadata": {},
   "source": [
    " "
   ]
  },
  {
   "cell_type": "code",
   "execution_count": 1,
   "id": "reported-ribbon",
   "metadata": {},
   "outputs": [],
   "source": [
    "genre_txt = ['synopsis_SF.txt', 'synopsis_family.txt', 'synopsis_show.txt', 'synopsis_horror.txt', 'synopsis_etc.txt', \n",
    "             'synopsis_documentary.txt', 'synopsis_drama.txt', 'synopsis_romance.txt', 'synopsis_musical.txt', \n",
    "             'synopsis_mystery.txt', 'synopsis_crime.txt', 'synopsis_historical.txt', 'synopsis_western.txt', \n",
    "             'synopsis_adult.txt', 'synopsis_thriller.txt', 'synopsis_animation.txt', 'synopsis_action.txt', \n",
    "             'synopsis_adventure.txt', 'synopsis_war.txt', 'synopsis_comedy.txt', 'synopsis_fantasy.txt']\n",
    "genre_name = ['SF', '가족', '공연', '공포(호러)', '기타', '다큐멘터리', '드라마', '멜로로맨스', '뮤지컬', '미스터리', '범죄', '사극', '서부극(웨스턴)',\n",
    "         '성인물(에로)', '스릴러', '애니메이션', '액션', '어드벤처', '전쟁', '코미디', '판타지']"
   ]
  },
  {
   "cell_type": "markdown",
   "id": "outer-intro",
   "metadata": {},
   "source": [
    " "
   ]
  },
  {
   "cell_type": "markdown",
   "id": "valid-combat",
   "metadata": {},
   "source": [
    "## <span style=\"color:#2C786C\">Step 4. WEAT score 계산과 시각화</span>\n",
    "---\n",
    "영화 구분, 영화 장르에 따른 편향성을 측정하여 WEAT score로 계산해 보고 이를 Heatmap 형태로 시각화해 봅시다. 편향성이 두드러지는 영화장르 attribute 구성에는 어떤 케이스가 있는지 시각적으로 두드러지게 구성되면 좋습니다."
   ]
  },
  {
   "cell_type": "markdown",
   "id": "covered-default",
   "metadata": {},
   "source": [
    " "
   ]
  },
  {
   "cell_type": "markdown",
   "id": "continent-hollow",
   "metadata": {},
   "source": [
    "## <span style=\"color:#2C786C\">Step 5. 정리</span>\n",
    "---"
   ]
  },
  {
   "cell_type": "markdown",
   "id": "sitting-emission",
   "metadata": {},
   "source": [
    " "
   ]
  },
  {
   "cell_type": "markdown",
   "id": "grateful-factor",
   "metadata": {},
   "source": [
    "## <span style=\"color:#2C786C\">Step 6. 루브릭 평가</span>\n",
    "---"
   ]
  },
  {
   "cell_type": "markdown",
   "id": "environmental-mailman",
   "metadata": {},
   "source": [
    "|평가문항|상세기준|\n",
    "|-------|--------|\n",
    "|1. 챗봇 훈련데이터 전처리 과정이 체계적으로 진행되었는가?|챗봇 훈련데이터를 위한 전처리와 augmentation이 적절히 수행되어 3만개 가량의 훈련데이터셋이 구축되었다.|\n",
    "|2. transformer 모델을 활용한 챗봇 모델이 과적합을 피해 안정적으로 훈련되었는가?|과적합을 피할 수 있는 하이퍼파라미터 셋이 적절히 제시되었다.|\n",
    "|3. 챗봇이 사용자의 질문에 그럴듯한 형태로 답하는 사례가 있는가?|주어진 예문을 포함하여 챗봇에 던진 질문에 적절히 답하는 사례가 제출되었다.|"
   ]
  },
  {
   "cell_type": "markdown",
   "id": "remarkable-adelaide",
   "metadata": {},
   "source": [
    " "
   ]
  },
  {
   "cell_type": "markdown",
   "id": "alleged-adjustment",
   "metadata": {},
   "source": [
    "## <span style=\"color:#2C786C\">Step 7. 회고</span>\n",
    "---"
   ]
  },
  {
   "cell_type": "markdown",
   "id": "legal-budapest",
   "metadata": {},
   "source": [
    " "
   ]
  }
 ],
 "metadata": {
  "kernelspec": {
   "display_name": "aiffel",
   "language": "python",
   "name": "aiffel"
  },
  "language_info": {
   "codemirror_mode": {
    "name": "ipython",
    "version": 3
   },
   "file_extension": ".py",
   "mimetype": "text/x-python",
   "name": "python",
   "nbconvert_exporter": "python",
   "pygments_lexer": "ipython3",
   "version": "3.7.9"
  }
 },
 "nbformat": 4,
 "nbformat_minor": 5
}
