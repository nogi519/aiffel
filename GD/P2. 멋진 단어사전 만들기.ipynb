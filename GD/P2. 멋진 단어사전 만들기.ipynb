{
 "cells": [
  {
   "cell_type": "markdown",
   "id": "honey-mortality",
   "metadata": {},
   "source": [
    "# <center><span style=\"color:#2C786C\">2. 프로젝트: SentencePiece 사용하기</span></center>"
   ]
  },
  {
   "cell_type": "markdown",
   "id": "other-pixel",
   "metadata": {},
   "source": [
    " "
   ]
  },
  {
   "cell_type": "markdown",
   "id": "isolated-turtle",
   "metadata": {},
   "source": [
    "## <span style=\"color:#F7B400\">순서</span>\n",
    "> **<span style=\"color:#2C786C\">Step 1. SentencePiece 설치하기</span>**<br>\n",
    "**<span style=\"color:#2C786C\">Step 2. SentencePiece 모델 학습</span>**<br>\n",
    "**<span style=\"color:#2C786C\">Step 3. Tokenizer 함수 작성</span>**<br>\n",
    "**<span style=\"color:#2C786C\">Step 4. 네이버 영화리뷰 감정분석 문제에 SentencePiece 적용해 보기</span>**<br>\n",
    "**<span style=\"color:#2C786C\">Step 5. 정리</span>**<br>\n",
    "**<span style=\"color:#2C786C\">Step 6. 루브릭 평가</span>**<br>\n",
    "**<span style=\"color:#2C786C\">Step 7. 회고</span>**"
   ]
  },
  {
   "cell_type": "markdown",
   "id": "african-quarterly",
   "metadata": {},
   "source": [
    "### <span style=\"color:#926DD6\">참고</span>\n",
    ">* [EXPLORATION_DJ 4. 영화리뷰 텍스트 감성분석하기]()\n",
    ">* [딥 러닝을 이용한 자연어 처리 입문(wikidocs) : 네이버 영화 리뷰 감성 분류하기(Naver Movie Review Sentiment Analysis)](https://wikidocs.net/44249)"
   ]
  },
  {
   "cell_type": "markdown",
   "id": "sunset-tuner",
   "metadata": {},
   "source": [
    " "
   ]
  },
  {
   "cell_type": "markdown",
   "id": "sapphire-regression",
   "metadata": {},
   "source": [
    "## <span style=\"color:#2C786C\">Step 1. SentencePiece 설치하기</span>\n",
    "---\n",
    "SentencePiece는 Google에서 제공하는 오픈소스 기반 Sentence Tokenizer/Detokenizer 로서, BPE와 unigram 2가지 subword 토크나이징 모델 중 하나를 선택해서 사용할 수 있도록 패키징한 것입니다. 아래 링크의 페이지에서 상세한 내용을 파악할 수 있습니다.\n",
    "\n",
    "* [google/sentencepiece](https://github.com/google/sentencepiece)"
   ]
  },
  {
   "cell_type": "markdown",
   "id": "forbidden-string",
   "metadata": {},
   "source": [
    "위 페이지의 서두에서도 언급하고 있듯, SentencePiece는 딥러닝 자연어처리 모델의 앞부분에 사용할 목적으로 최적화되어 있는데, 최근 pretrained model들이 대부분 SentencePiece를 tokenizer로 채용하면서 사실상 표준의 역할을 하고 있습니다. 앞으로의 실습 과정에서 자주 만나게 될 것이므로 꼭 친숙해지시기를 당부드립니다."
   ]
  },
  {
   "cell_type": "markdown",
   "id": "higher-precipitation",
   "metadata": {},
   "source": [
    "다음과 같이 설치를 진행합니다. SentencePiece는 python에서 쓰라고 만들어진 라이브러리는 아니지만 편리한 파이썬 wrapper를 아래와 같이 제공하고 있습니다."
   ]
  },
  {
   "cell_type": "markdown",
   "id": "restricted-tours",
   "metadata": {},
   "source": [
    "    $ pip install sentencepiece"
   ]
  },
  {
   "cell_type": "markdown",
   "id": "continental-parade",
   "metadata": {},
   "source": [
    " "
   ]
  },
  {
   "cell_type": "markdown",
   "id": "chinese-university",
   "metadata": {},
   "source": [
    "## <span style=\"color:#2C786C\">Step 2. SentencePiece 모델 학습</span>\n",
    "---\n",
    "앞서 배운 **`tokenize()`** 함수를 기억하나요? 다시 한번 상기시켜드릴게요!"
   ]
  },
  {
   "cell_type": "markdown",
   "id": "opened-premises",
   "metadata": {},
   "source": [
    "```{.python}\n",
    "def tokenize(corpus):  # corpus: Tokenized Sentence's List\n",
    "    tokenizer = tf.keras.preprocessing.text.Tokenizer(filters='')\n",
    "    tokenizer.fit_on_texts(corpus)\n",
    "\n",
    "    tensor = tokenizer.texts_to_sequences(corpus)\n",
    "\n",
    "    tensor = tf.keras.preprocessing.sequence.pad_sequences(tensor, padding='post')\n",
    "\n",
    "    return tensor, tokenizer\n",
    "```"
   ]
  },
  {
   "cell_type": "markdown",
   "id": "original-sustainability",
   "metadata": {},
   "source": [
    "위와 같이 **`tf.keras.preprocessing.text.Tokenizer`**에 corpus을 주고 **`tokenizer.fit_on_texts(corpus)`**을 하면 토크나이저 내부적으로 단어 사전과 토크나이저 기능을 corpus에 맞춤형으로 자동생성해 주는 것입니다."
   ]
  },
  {
   "cell_type": "markdown",
   "id": "congressional-station",
   "metadata": {},
   "source": [
    "그럼 이를 위해서 SentencePiece 모델을 학습하는 과정을 거쳐야 합니다."
   ]
  },
  {
   "cell_type": "markdown",
   "id": "automotive-restriction",
   "metadata": {},
   "source": [
    " "
   ]
  },
  {
   "cell_type": "code",
   "execution_count": 1,
   "id": "ultimate-equity",
   "metadata": {},
   "outputs": [],
   "source": [
    "import os\n",
    "\n",
    "import matplotlib.pyplot as plt\n",
    "import tensorflow as tf\n",
    "import numpy as np\n",
    "\n",
    "%matplotlib inline"
   ]
  },
  {
   "cell_type": "code",
   "execution_count": 2,
   "id": "endless-nature",
   "metadata": {},
   "outputs": [
    {
     "name": "stdout",
     "output_type": "stream",
     "text": [
      "Data Size: 94123\n",
      "Example:\n",
      ">> 개인용 컴퓨터 사용의 상당 부분은 \"이것보다 뛰어날 수 있느냐?\"\n",
      ">> 북한의 핵무기 계획을 포기하도록 하려는 압력이 거세지고 있는 가운데, 일본과 북한의 외교관들이 외교 관계를 정상화하려는 회담을 재개했다.\n",
      ">> \"경호 로보트가 침입자나 화재를 탐지하기 위해서 개인적으로, 그리고 전문적으로 사용되고 있습니다.\"\n",
      ">> 수자원부 당국은 논란이 되고 있고, 막대한 비용이 드는 이 사업에 대해 내년에 건설을 시작할 계획이다.\n",
      ">> 또한 근력 운동은 활발하게 걷는 것이나 최소한 20분 동안 뛰는 것과 같은 유산소 활동에서 얻는 운동 효과를 심장과 폐에 주지 않기 때문에, 연구학자들은 근력 운동이 심장에 큰 영향을 미치는지 여부에 대해 논쟁을 해왔다.\n"
     ]
    }
   ],
   "source": [
    "# 학습에 쓰인 데이터 : 한국어의 형태소 분석과 품사 태깅, 기계 번역 연구를 위해 공개된 것\n",
    "path_to_file = os.getenv('HOME')+'/aiffel/sp_tokenizer/data/korean-english-park.train.ko'\n",
    "\n",
    "with open(path_to_file, \"r\") as f:\n",
    "    raw = f.read().splitlines()\n",
    "\n",
    "print(\"Data Size:\", len(raw))\n",
    "\n",
    "print(\"Example:\")\n",
    "for sen in raw[0:100][::20]: print(\">>\", sen)"
   ]
  },
  {
   "cell_type": "code",
   "execution_count": 3,
   "id": "prompt-musician",
   "metadata": {
    "scrolled": false
   },
   "outputs": [
    {
     "name": "stdout",
     "output_type": "stream",
     "text": [
      "문장의 최단 길이: 1\n",
      "문장의 최장 길이: 377\n",
      "문장의 평균 길이: 60\n"
     ]
    },
    {
     "data": {
      "image/png": "[encoded data removed]",
      "text/plain": [
       "<Figure size 432x288 with 1 Axes>"
      ]
     },
     "metadata": {
      "needs_background": "light"
     },
     "output_type": "display_data"
    }
   ],
   "source": [
    "min_len = 999\n",
    "max_len = 0\n",
    "sum_len = 0\n",
    "\n",
    "for sen in raw:\n",
    "    length = len(sen)\n",
    "    if min_len > length: min_len = length\n",
    "    if max_len < length: max_len = length\n",
    "    sum_len += length\n",
    "\n",
    "print(\"문장의 최단 길이:\", min_len)\n",
    "print(\"문장의 최장 길이:\", max_len)\n",
    "print(\"문장의 평균 길이:\", sum_len // len(raw))\n",
    "\n",
    "sentence_length = np.zeros((max_len), dtype=np.int)\n",
    "\n",
    "for sen in raw:\n",
    "    sentence_length[len(sen)-1] += 1\n",
    "\n",
    "plt.bar(range(max_len), sentence_length, width=1.0)\n",
    "plt.title(\"Sentence Length Distribution\")\n",
    "plt.show()"
   ]
  },
  {
   "cell_type": "markdown",
   "id": "minimal-opinion",
   "metadata": {},
   "source": [
    " "
   ]
  },
  {
   "cell_type": "markdown",
   "id": "noted-departure",
   "metadata": {},
   "source": [
    "최단 길이 1, 최장 길이 377… 그리고 제법 그럴듯한 막대그래프가 나왔습니다만, 이 결과를 확인하고 드는 생각은 아래와 크게 다르지 않으실 거예요..!\n",
    "\n",
    "*1) 길이 1 짜리 문장은 도대체 어떻게 생겨먹었지?*\n",
    "\n",
    "*2) 앞에 치솟는 임의의 구간은 뭐지? 유의미한 데이터가 담겨있는 부분인가?*\n",
    "\n",
    "*3) 어디서부터 어디까지 잘라서 쓰지?*\n",
    "\n",
    "궁금증을 하나하나 해결해 봅시다! 대체 길이가 1인 문장은 뭘까요?"
   ]
  },
  {
   "cell_type": "markdown",
   "id": "intellectual-richards",
   "metadata": {},
   "source": [
    " "
   ]
  },
  {
   "cell_type": "code",
   "execution_count": 4,
   "id": "economic-credit",
   "metadata": {},
   "outputs": [
    {
     "name": "stdout",
     "output_type": "stream",
     "text": [
      "’\n"
     ]
    }
   ],
   "source": [
    "# 문장 길이별로 확인할 수 있는 함수를 정의\n",
    "def check_sentence_with_length(raw, length):\n",
    "    count = 0\n",
    "    \n",
    "    for sen in raw:\n",
    "        if len(sen) == length:\n",
    "            print(sen)\n",
    "            count += 1\n",
    "            if count > 100: return\n",
    "\n",
    "check_sentence_with_length(raw, 1)"
   ]
  },
  {
   "cell_type": "markdown",
   "id": "continent-plaintiff",
   "metadata": {},
   "source": [
    " "
   ]
  },
  {
   "cell_type": "markdown",
   "id": "bottom-monitor",
   "metadata": {},
   "source": [
    "오잉? 하마터면 완전 노이즈인 데이터를 그대로 사용할 뻔했습니다! 왠지 길이별로 확인할 일이 많을 것 같아 함수를 미리 정의해두었는데, 이를 이용해 확인이 필요해 보이는 문장은 모두 확인해보죠."
   ]
  },
  {
   "cell_type": "markdown",
   "id": "applicable-variety",
   "metadata": {},
   "source": [
    " "
   ]
  },
  {
   "cell_type": "code",
   "execution_count": 5,
   "id": "protective-estonia",
   "metadata": {},
   "outputs": [
    {
     "name": "stdout",
     "output_type": "stream",
     "text": [
      "Outlier Index: 11\n",
      "Outlier Index: 19\n",
      "Outlier Index: 21\n"
     ]
    }
   ],
   "source": [
    "for idx, _sum in enumerate(sentence_length):\n",
    "    # 문장의 수가 1500을 초과하는 문장 길이를 추출합니다.\n",
    "    if _sum > 1500:\n",
    "        print(\"Outlier Index:\", idx+1)"
   ]
  },
  {
   "cell_type": "code",
   "execution_count": 6,
   "id": "confident-variety",
   "metadata": {},
   "outputs": [
    {
     "name": "stdout",
     "output_type": "stream",
     "text": [
      "라고 조던이 말했다.\n",
      "- 모르고 있습니다.\n",
      "- 네, 보이는군요.\n",
      "디즈니사만이 아니다.\n",
      "큰 파티는 아니지요.\n",
      "의자는 비어 있었다.\n",
      "이 일은 계속됩니다.\n",
      "나는 크게 실망했다.\n",
      "그 이유는 간단하다.\n",
      "이력서와 자기 소개서\n",
      "시대가 변하고 있다.\n",
      "는 돌발질문을 했다.\n",
      "9. 몇 분간의 명상\n",
      "하와이, 빅 아일랜드\n",
      "키스를 잘 하는 방법\n",
      "키스를 잘 하는 방법\n",
      "스피어스가 뚱뚱한가?\n",
      "산 위를 나는 느낌.\n",
      "세 시간쯤 걸었을까?\n",
      "(아직 읽고있습니까?\n",
      "처음에는 장난이었다.\n",
      "우리는 운이 좋았다.\n",
      "아기가 숨을 멈출 때\n",
      "건물 전체 무너져내려\n",
      "그녀의 아름다운 눈.\n",
      "대답은 다음과 같다.\n",
      "\"사과할 것이 없다.\n",
      "폭탄테러가 공포 유발\n",
      "그는 \"잘 모르겠다.\n",
      "그는 \"잘 모르겠다.\n",
      "그는 \"잘 모르겠다.\n",
      "그는 \"잘 모르겠다.\n",
      "그는 \"잘 모르겠다.\n",
      "그는 \"잘 모르겠다.\n",
      "그는 \"잘 모르겠다.\n",
      "그는 \"잘 모르겠다.\n",
      "그는 \"잘 모르겠다.\n",
      "케냐 야생동물 고아원\n",
      "경유 1200원대로…\n",
      "더 내려야 하는 이유\n",
      "케냐 야생동물 고아원\n",
      "경유 1200원대로…\n",
      "더 내려야 하는 이유\n",
      "케냐 야생동물 고아원\n",
      "경유 1200원대로…\n",
      "더 내려야 하는 이유\n",
      "케냐 야생동물 고아원\n",
      "경유 1200원대로…\n",
      "더 내려야 하는 이유\n",
      "케냐 야생동물 고아원\n",
      "경유 1200원대로…\n",
      "더 내려야 하는 이유\n",
      "케냐 야생동물 고아원\n",
      "경유 1200원대로…\n",
      "더 내려야 하는 이유\n",
      "케냐 야생동물 고아원\n",
      "경유 1200원대로…\n",
      "더 내려야 하는 이유\n",
      "케냐 야생동물 고아원\n",
      "경유 1200원대로…\n",
      "더 내려야 하는 이유\n",
      "케냐 야생동물 고아원\n",
      "경유 1200원대로…\n",
      "더 내려야 하는 이유\n",
      "케냐 야생동물 고아원\n",
      "경유 1200원대로…\n",
      "더 내려야 하는 이유\n",
      "케냐 야생동물 고아원\n",
      "경유 1200원대로…\n",
      "더 내려야 하는 이유\n",
      "케냐 야생동물 고아원\n",
      "경유 1200원대로…\n",
      "더 내려야 하는 이유\n",
      "케냐 야생동물 고아원\n",
      "경유 1200원대로…\n",
      "더 내려야 하는 이유\n",
      "케냐 야생동물 고아원\n",
      "경유 1200원대로…\n",
      "더 내려야 하는 이유\n",
      "케냐 야생동물 고아원\n",
      "경유 1200원대로…\n",
      "더 내려야 하는 이유\n",
      "케냐 야생동물 고아원\n",
      "경유 1200원대로…\n",
      "더 내려야 하는 이유\n",
      "케냐 야생동물 고아원\n",
      "경유 1200원대로…\n",
      "더 내려야 하는 이유\n",
      "케냐 야생동물 고아원\n",
      "경유 1200원대로…\n",
      "더 내려야 하는 이유\n",
      "케냐 야생동물 고아원\n",
      "경유 1200원대로…\n",
      "더 내려야 하는 이유\n",
      "케냐 야생동물 고아원\n",
      "경유 1200원대로…\n",
      "더 내려야 하는 이유\n",
      "조금은 새침한 샬롯？\n",
      "조금은 새침한 샬롯？\n",
      "케냐 야생동물 고아원\n",
      "경유 1200원대로…\n"
     ]
    }
   ],
   "source": [
    "check_sentence_with_length(raw, 11)"
   ]
  },
  {
   "cell_type": "code",
   "execution_count": 7,
   "id": "convertible-baker",
   "metadata": {},
   "outputs": [
    {
     "name": "stdout",
     "output_type": "stream",
     "text": [
      "성공할 수 있는 일들이 있습니다.\"\n",
      "두번째 목적은 상품을 파는 것이다.\n",
      "그것들은 무엇을 하기 위한 것인가?\n",
      "- 어째서 그렇게 대단한 것입니까?\n",
      "불매운동가들의 시선을 끌고 싶은가?\n",
      "그리고 우리는 계속해서 외식을 하며\n",
      "(나는 그가 정직하다고 생각한다.)\n",
      "박스데일도 동일한 기법을 사용한다.\n",
      "\"우리는 전속력으로 달려야 합니다.\n",
      "수익은 연 25%씩 늘어나고 있다.\n",
      "미국인 반체제 인사 해리 우의 운명\n",
      "국가를 위해 좋은 일이 될 것이라고\n",
      "무역 적자는 무역 흑자로 돌아섰으며\n",
      "경찰에서조차 수사를 벌이고 있습니다\n",
      "다음 번이 3월1일로 예정되어있다.\n",
      "우리는 허구적인 시대에 살고 있다.\n",
      "모 아니면 도였지요’’라고 말했다.\n",
      "이씨는 짧았던 결혼을 세 번 했다.\n",
      "하지만 성인이 되려면 아직 멀었다.\n",
      "양국은 상호 3위의 교역상대국이다.\n",
      "어떻게 지속적인 동기부여를 받느냐?\n",
      "편지는 의사소통 이상의 일을 한다.\n",
      "식량 부족으로 고통받는 북한 주민들\n",
      "그는 뉴욕 금융지구에 살고 있었다.\n",
      "6. “교회에 열심히 나가는가요?”\n",
      "신문사가 발견된 기밀문서를 받았다.\n",
      "3.인맥을 두루 갖춰놓지 못하는 것\n",
      "15.면접 질문에 집중하지 않는 것\n",
      "20.월급 이야기를 일찍 꺼내는 것\n",
      "디아즈는 진지해지려고 하지 않는다.\n",
      "전갈은 월마트 직원에 의해 잡혔다.\n",
      "4.여성은 증상을 스스로 진단한다.\n",
      "당시 휴스는 \"나는 다스 베이더다!\n",
      "회사에 대해 약간의 조사를 한다.:\n",
      "스폰지에 물을 묻혀 청소해도 된다.\n",
      "그러나 이를 뒷받침할 증거는 없다.\n",
      "그는 올해 가을 손자를 보게 된다.\n",
      "린은 칼을 이용해 쓰레기를 뒤진다.\n",
      "거주지가 소아과 병원 인근일 경우.\n",
      "언제든 메모해 두고 가지고 다닌다.\n",
      "대법원의 심리는 6일부터 시작됐다.\n",
      "* 원하는 가격에 흥정을 하는 방법\n",
      "그는 치료 중이던 26일 사망했다.\n",
      "무샤라프 대통령은 참석하지 않았다.\n",
      "이미 경영진 2500명이 해임됐다.\n",
      "스피처는 3명의 자녀를 두고 있다.\n",
      "이들은 보통 10일 내로 사망한다.\n",
      "그는 “왜 대통령이 되려 하느냐?”\n",
      "* 뗏목, 카누등을 타고 구경할 때\n",
      "유대인연합은 법원 결정을 환영했다.\n",
      "\"반사적으로 유도 기술을 사용했다.\n",
      "위원회는 4월 최종 결론을 내린다.\n",
      "기자와 승무원은 얼마 후 석방됐다.\n",
      "그는 아버지와 닮은 것을 인정했다.\n",
      "대부분 서신 시작 내용은 평범하다.\n",
      "그러나 예기치 못한 반전이 있었다.\n",
      "그러던 닌이 이번 에 은퇴를 한다.\n",
      "선거의 최종결과는 24일 발표된다.\n",
      "그는 “위험이 존재한다”고 말했다.\n",
      "아유무라는 침팬지가 가장 잘 했다.\n",
      "이들은 테러 관련 혐의로 수감됐다.\n",
      "*물건은 포장지로 포장하지 않는다.\n",
      "윤리적이고 정치적인 장애물이 있다.\n",
      "유로스타의 운행은 중단되지 않는다.\n",
      "반면 유럽 증시는 보합세를 보였다.\n",
      "고 탄성을 지르는 것을 알고 있다.\n",
      "버섯은 저칼로이지만 영양가는 낮다.\n",
      "소도시와 대도시간 통신도 중단됐다.\n",
      "추락 원인은 아직 알려지지 않았다.\n",
      "실제 아무 문제가 없다”고 전했다.\n",
      "그는 인명피해는 없었다고 덧붙였다.\n",
      "또 최소 30명이 다쳤다고 전했다.\n",
      "이 교전에서 반군 65명이 숨졌다.\n",
      "‘불비’가 3일 동안 계속 내렸다.\n",
      "물론 아이들은 이 주형을 좋아했다.\n",
      "공항 근처의 보안도 한층 강화됐다.\n",
      "체코에서 맥주는 기본적인 음료이다.\n",
      "그러나 체코 사람들은 그렇지 않다.\n",
      "내년 여름에는 자동차를 이용할 것.\n",
      "마샬은 정교하고 신중한 사람이었다.\n",
      "무엇이 이 변질을 가속화 시키는가?\n",
      "팩은 라이스와 함께 운전 중이었다.\n",
      "이 교회는 신석기 시대 묘지였었다.\n",
      "이라크의 인구는 2600만명이이다.\n",
      "비록 짧은 모험이지만 ‘트랜스포머:\n",
      "랜즈먼은 또 다른 문제에 직면했다.\n",
      "브랜든 톰슨 소방관, 27 (4년)\n",
      "최종 결정은 오는 26일 내려진다.\n",
      "젊은 부부는 벨스에 집을 장만했다.\n",
      "그의 아버지도 이 사실을 확인했다.\n",
      "이 시계가 땅바닥에 떨어진 것일까?\n",
      "또한 인명 피해도 없었다고 말했다.\n",
      "그러나 우리를 너무 무시하고 있다.\n",
      "마가 말한것은 옳지않다\"고 말했다.\n",
      "\"이전 탄압은 매우 복잡한 문제다.\n",
      "뱀의 가격은 아직 알려지지 않았다.\n",
      "이 컴퓨터가 얼마나 환경친화적인가?\n",
      "최근 이라크 유치원 졸업식의 풍경.\n",
      "▲오바마, \"1등은 장난이 아니야\"\n",
      "그 모든 것은 오래전부터 시작됐다.\n",
      "금속 지붕은 폭발로 떨어져 나갔다.\n"
     ]
    }
   ],
   "source": [
    "check_sentence_with_length(raw, 19)"
   ]
  },
  {
   "cell_type": "code",
   "execution_count": 8,
   "id": "digital-counter",
   "metadata": {},
   "outputs": [
    {
     "name": "stdout",
     "output_type": "stream",
     "text": [
      "미국과 영국의 과학자들이 악수를 했다.\n",
      "인력은 기계에 의해 보강되어야만 했다.\n",
      "\"시장은 그들에게 넓게 열려 있습니다.\n",
      "아디다스는 또 다른 이점도 갖고 있다.\n",
      "공부를 위해서만 이용하겠다고 말입니다.\n",
      "환경법규의 도입은 고통스러운 과정이다.\n",
      "- 여보, 이쪽이야, 아니면 저쪽이야?\n",
      "인도는 훨씬 늦게 게임에 뛰어 들었다.\n",
      "요즘 대부분의 기업들이 그렇지 않은가?\n",
      "카리스마적인 지도자들은 위험을 즐긴다.\n",
      "우리가 하려고 하는 일의 모델은 없다.\n",
      "정상 회담은 오늘 늦게 끝날 것입니다.\n",
      "그리고 공화당의 추정은 절반만 맞았다.\n",
      "하지만 증가하고 있는 노인 인구수에따라\n",
      "민간부문에서 그런 일을 할 수는 없다고\n",
      "금년초 이라크 정보부는 \"사담 후세인:\n",
      "실제로 이 방법은 만족스럽지가 못하다.\n",
      "카자흐스탄으로부터 중국으로 입국하려다가\n",
      "클립퍼 칩에 대한 이야기로 들어 가자.\n",
      "북한의 무기 개발에 대한 CIA 보고서\n",
      "어려움을 겪고 있는 멕시코 경제에 대한\n",
      "그는 ''미국은 우리의 최악의 적이다.\n",
      "수로가 오염되고 야생동물이 밀렵되었다.\n",
      "이런 지역들을 보살피고 보호해야 한다.\n",
      "학습 방법은 훨씬 더 흠칫한 것입니다.\n",
      "포옹은 심장에 좋은 약 일 수 도 있다\n",
      "(경찰은 심문을 위해 그를 구금했다.)\n",
      "금년에는 이 숫자가 58%로 증가했다.\n",
      "(금고를 뒤져 많은 서류를 가져갔다.)\n",
      "김치는 열량은 적고 비타민은 풍부하다.\n",
      "smear campaign (흑색선전)\n",
      "아들은 아버지로부터 사업을 이어받는다.\n",
      "그것은 한계 효과가 나타나는 시기이다.\n",
      "\"사람들에게 선택권이 주어져야 합니다.\n",
      "로야 저가는 임시 의사 결정 집단이다.\n",
      "160석이 여성 대표들에게 보장되었다.\n",
      "걷기 용으로 고안된 신발이 가장 좋다.\n",
      "이것을 일주일에 5번 정도 해야 한다.\n",
      "해외 판권은 이미 16개국에서 팔렸다.\n",
      "그리고 나는 이렇게 엄숙히 서약합니다:\n",
      "하지만 오늘의 주제를 그는 알것입니다:\n",
      "(그 사건들은 전쟁 발발로 발전했다.)\n",
      "\"그는 정말로 국민들을 실망시켰습니다.\n",
      "\"제국의 반격\"과 새 영화 \"스타워즈:\n",
      "남북간 해상 교전으로 남한 경비정 침몰\n",
      "공룡들은 필연적으로 굶어 죽게 되었다.\n",
      "新 나치주의자의 시락 대통령 암살 기도\n",
      "그는 또 사무실 출입문에 불을 질렀다.\n",
      "영화 ‘월E’는 완벽한 영화는 아니다.\n",
      "부상자수는 지난주 초 12명 증가했다.\n",
      "이는 지난 2005년 사실상 중단됐다.\n",
      "프라나브 메타는 빛이 없이 살고 있다.\n",
      "일부 학부모들은 황당함을 금치 못했다.\n",
      "부상자 중 8명은 경찰관으로 알려졌다.\n",
      "그는 자전거로 통근하는 것을 좋아한다.\n",
      "짐바브웨 대선은 3월 29일 실시됐다.\n",
      "시이저 흉상 만으로도 대단한 발견이다.\n",
      "은퇴를 결정한 것에 대한 후회는 없다.\n",
      "이 교회 소속 신도는 약 30명 이다.\n",
      "이 공격으로 의원 포함 3명이 숨졌다.\n",
      "기내에서 맨 앞 좌석이 가장 한적하다.\n",
      "8명의 대의원은 아직 배정되지 않았다.\n",
      "남아공은 2010년 월드컵을 개최한다.\n",
      "그는 군인들과 무사히 탈출에 성공했다.\n",
      "경찰 당국은 부상자는 없었다고 밝혔다.\n",
      "이들은 매일 같은 일상을 되풀이 한다.\n",
      "이 경우,탐정처럼 병원을 찾아야 한다.\n",
      "미국은 그를 매우 악한 인물로 평했다.\n",
      "이들이 펼친 현수막에는 “하나의 세계.\n",
      "최근들어 남성 게이샤가 증가하고 있다.\n",
      "아직 구속수사 여부는 밝혀지지 않았다.\n",
      "Eyewitness to Murder:\n",
      "상점으로서는 현금 지불을 더 선호한다.\n",
      "이번 사고로 고속도로 전체가 폐쇄됐다.\n",
      "이라크 전쟁은 지난주 5주년을 맞았다.\n",
      "또한 고령화에 따른 문제점도 제기했다.\n",
      "2004년 총선의 투표율은 75%였다.\n",
      "강아지의 생사 여부는 밝혀지지 않았다.\n",
      "텍사스주 프라이머리도 결과는 비슷했다.\n",
      "남편 앤서니에게는 3명의 자식이 있다.\n",
      "텍사스는 193명의 대의원이 걸려있다.\n",
      "이번 비행에는 승객이 탑승하지 않았다.\n",
      "마다가스카르 인구는 1940만 명이다.\n",
      "* 죠셉 라이델 워싱턴주 아메리칸 대학\n",
      "취미로 수집한 페니가 대박을 터뜨렸다.\n",
      "무엇인가를 기념하는 것은 좋은 것이다.\n",
      "미 경기후퇴가 현실화되고 있는 것이다.\n",
      "그는 5일 동안 집에서 병을 앓았었다.\n",
      "관계당국은 검거사실을 18일 발표했다.\n",
      "ABC가 이 시상식을 방영할 계획이다.\n",
      "자살폭탄테러로 민간인도 희생되고 있다.\n",
      "현재 수천명이 교회 뜰에 대피해 있다.\n",
      "한편 CES는 일반에 공개되지 않는다.\n",
      "이 조사의 표본오차는 ±5%포인트였다.\n",
      "이들은 성명을 통해 “쿠퍼는 누구인가?\n",
      "신드는 부토의 고향이며 지지 기반이다.\n",
      "할렘은 최근 관광객들로 넘쳐나고 있다.\n",
      "존 레논의 머리카락이 경매에 올라왔다.\n",
      "팍톤은 머리를 숙인 채 평결을 들었다.\n",
      "그는 4일 오후 사기 혐의로 체포됐다.\n",
      "경찰은 그의 소지품 대부분을 압수했다.\n"
     ]
    }
   ],
   "source": [
    "check_sentence_with_length(raw, 21)"
   ]
  },
  {
   "cell_type": "markdown",
   "id": "honest-wilson",
   "metadata": {},
   "source": [
    " "
   ]
  },
  {
   "cell_type": "markdown",
   "id": "going-housing",
   "metadata": {},
   "source": [
    "이런… 심지어 중복에 대한 처리도 제대로 하지 않았었네요. 중복 제거는 Python의 기본 자료형 **`set`**을 활용할 겁니다. **`set`**은 집합을 정의하는 자료형인데, 중복을 허용하지 않아 **변환 과정에서 자동으로 중복된 요소를 제거**해주거든요! 대신 **`list`**의 순서가 뒤죽박죽될 수 있으니, 만약 번역 데이터처럼 쌍을 이뤄야 하는 경우라면 주의해서 사용하셔야 합니다!"
   ]
  },
  {
   "cell_type": "markdown",
   "id": "everyday-surrey",
   "metadata": {},
   "source": [
    " "
   ]
  },
  {
   "cell_type": "code",
   "execution_count": 9,
   "id": "massive-baptist",
   "metadata": {
    "scrolled": false
   },
   "outputs": [
    {
     "name": "stdout",
     "output_type": "stream",
     "text": [
      "Data Size: 77591\n",
      "문장의 최단 길이: 1\n",
      "문장의 최장 길이: 377\n",
      "문장의 평균 길이: 64\n"
     ]
    },
    {
     "data": {
      "image/png": "[encoded data removed]",
      "text/plain": [
       "<Figure size 432x288 with 1 Axes>"
      ]
     },
     "metadata": {
      "needs_background": "light"
     },
     "output_type": "display_data"
    }
   ],
   "source": [
    "# 중복을 제거한 후, 앞에서 분포를 확인한 소스를 다시 실행\n",
    "min_len = 999\n",
    "max_len = 0\n",
    "sum_len = 0\n",
    "\n",
    "cleaned_corpus = list(set(raw))  # set를 사용해서 중복을 제거합니다.\n",
    "print(\"Data Size:\", len(cleaned_corpus))\n",
    "\n",
    "for sen in cleaned_corpus:\n",
    "    length = len(sen)\n",
    "    if min_len > length: min_len = length\n",
    "    if max_len < length: max_len = length\n",
    "    sum_len += length\n",
    "\n",
    "print(\"문장의 최단 길이:\", min_len)\n",
    "print(\"문장의 최장 길이:\", max_len)\n",
    "print(\"문장의 평균 길이:\", sum_len // len(cleaned_corpus))\n",
    "\n",
    "sentence_length = np.zeros((max_len), dtype=np.int)\n",
    "\n",
    "for sen in cleaned_corpus:   # 중복이 제거된 코퍼스 기준\n",
    "    sentence_length[len(sen)-1] += 1\n",
    "\n",
    "plt.bar(range(max_len), sentence_length, width=1.0)\n",
    "plt.title(\"Sentence Length Distribution\")\n",
    "plt.show()"
   ]
  },
  {
   "cell_type": "markdown",
   "id": "anticipated-protein",
   "metadata": {},
   "source": [
    " "
   ]
  },
  {
   "cell_type": "markdown",
   "id": "secure-logan",
   "metadata": {},
   "source": [
    "마지막으로 '모든 데이터를 다 사용할 것이냐' 가 문제인데, 후에 미니 배치를 만들 것을 생각하면 모든 데이터를 다 사용하는 것은 연산 측면에서 비효율적입니다. 미니 배치 특성상 각 데이터의 크기가 모두 동일해야 하기 때문에 가장 긴 데이터를 기준으로 Padding 처리를 해야 합니다."
   ]
  },
  {
   "cell_type": "markdown",
   "id": "federal-huntington",
   "metadata": {},
   "source": [
    "길이별로 정렬하여 미니 배치를 구성해 Padding을 최소화하는 방법도 있지만 이는 데이터를 섞는 데 편향성이 생길 수 있으므로 지양해야 합니다. 여기서는 길이 150 이상의 데이터를 제거하고 사용하도록 할게요!"
   ]
  },
  {
   "cell_type": "markdown",
   "id": "public-surgeon",
   "metadata": {},
   "source": [
    "그리고 앞서 확인한 것처럼 너무 짧은 데이터는 오히려 노이즈로 작용할 수 있습니다. 따라서 길이가 10 미만인 데이터도 제거하도록 하죠!"
   ]
  },
  {
   "cell_type": "markdown",
   "id": "pharmaceutical-sixth",
   "metadata": {},
   "source": [
    " "
   ]
  },
  {
   "cell_type": "code",
   "execution_count": 10,
   "id": "tropical-volleyball",
   "metadata": {},
   "outputs": [
    {
     "data": {
      "image/png": "[encoded data removed]",
      "text/plain": [
       "<Figure size 432x288 with 1 Axes>"
      ]
     },
     "metadata": {
      "needs_background": "light"
     },
     "output_type": "display_data"
    }
   ],
   "source": [
    "max_len = 150\n",
    "min_len = 10\n",
    "\n",
    "# 길이 조건에 맞는 문장만 선택합니다.\n",
    "filtered_corpus = [s for s in cleaned_corpus if (len(s) < max_len) & (len(s) >= min_len)]\n",
    "\n",
    "# 분포도를 다시 그려봅니다.\n",
    "sentence_length = np.zeros((max_len), dtype=np.int)\n",
    "\n",
    "for sen in filtered_corpus:\n",
    "    sentence_length[len(sen)-1] += 1\n",
    "\n",
    "plt.bar(range(max_len), sentence_length, width=1.0)\n",
    "plt.title(\"Sentence Length Distribution\")\n",
    "plt.show()"
   ]
  },
  {
   "cell_type": "code",
   "execution_count": 11,
   "id": "severe-attack",
   "metadata": {
    "scrolled": true
   },
   "outputs": [
    {
     "name": "stdout",
     "output_type": "stream",
     "text": [
      "-rw-r--r-- 1 aiffel-dj49 aiffel-dj49 376902  4월 25 03:12 korean_spm.model\r\n",
      "-rw-r--r-- 1 aiffel-dj49 aiffel-dj49 146388  4월 25 03:12 korean_spm.vocab\r\n",
      "-rw-r--r-- 1 aiffel-dj49 aiffel-dj49 413717  4월 25 00:31 korean_spm_10k.model\r\n",
      "-rw-r--r-- 1 aiffel-dj49 aiffel-dj49 184956  4월 25 00:31 korean_spm_10k.vocab\r\n",
      "-rw-r--r-- 1 aiffel-dj49 aiffel-dj49 317166  4월 25 00:32 korean_spm_5k.model\r\n",
      "-rw-r--r-- 1 aiffel-dj49 aiffel-dj49  83935  4월 25 00:32 korean_spm_5k.vocab\r\n",
      "-rw-r--r-- 1 aiffel-dj49 aiffel-dj49 407852  4월 25 00:32 korean_spm_bpe_10k.model\r\n",
      "-rw-r--r-- 1 aiffel-dj49 aiffel-dj49 149062  4월 25 00:32 korean_spm_bpe_10k.vocab\r\n",
      "-rw-r--r-- 1 aiffel-dj49 aiffel-dj49 315042  4월 25 00:32 korean_spm_bpe_5k.model\r\n",
      "-rw-r--r-- 1 aiffel-dj49 aiffel-dj49  66253  4월 25 00:32 korean_spm_bpe_5k.vocab\r\n"
     ]
    }
   ],
   "source": [
    "import sentencepiece as spm\n",
    "\n",
    "temp_file = os.getenv('HOME')+'/aiffel/sp_tokenizer/data/korean-english-park.train.ko.temp'\n",
    "\n",
    "vocab_size = 8000\n",
    "\n",
    "with open(temp_file, 'w') as f:\n",
    "    for row in filtered_corpus:   # 이전 스텝에서 정제했던 corpus를 활용합니다.\n",
    "        f.write(str(row) + '\\n')\n",
    "\n",
    "spm.SentencePieceTrainer.Train(\n",
    "    '--input={} --model_prefix=korean_spm --vocab_size={}'.format(temp_file, vocab_size)    \n",
    ")\n",
    "#위 Train에서  --model_type = 'unigram'이 디폴트 적용되어 있습니다. --model_type = 'bpe' 로 옵션을 주어 변경할 수 있습니다.\n",
    "\n",
    "!ls -l korean_spm*"
   ]
  },
  {
   "cell_type": "markdown",
   "id": "sixth-sector",
   "metadata": {},
   "source": [
    " "
   ]
  },
  {
   "cell_type": "markdown",
   "id": "fitted-repair",
   "metadata": {},
   "source": [
    "위 코드를 실행하면 정상적으로 SentencePiece 모델 학습이 완료된 후 koreanspm.model 파일과 koreanspm.vocab vocabulary 파일이 생성되었음을 확인할 수 있습니다."
   ]
  },
  {
   "cell_type": "markdown",
   "id": "correct-enlargement",
   "metadata": {},
   "source": [
    "그럼 이렇게 학습된 SentencePiece 모델을 어떻게 활용하는지 살펴보겠습니다."
   ]
  },
  {
   "cell_type": "markdown",
   "id": "referenced-hello",
   "metadata": {},
   "source": [
    " "
   ]
  },
  {
   "cell_type": "code",
   "execution_count": 12,
   "id": "quarterly-netherlands",
   "metadata": {},
   "outputs": [
    {
     "name": "stdout",
     "output_type": "stream",
     "text": [
      "[1244, 11, 306, 7, 3599, 11, 286, 38, 3]\n",
      "['▁아버지', '가', '방', '에', '들어', '가', '신', '다', '.']\n",
      "아버지가방에들어가신다.\n"
     ]
    }
   ],
   "source": [
    "s = spm.SentencePieceProcessor()\n",
    "s.Load('korean_spm.model')\n",
    "\n",
    "# SentencePiece를 활용한 sentence -> encoding\n",
    "tokensIDs = s.EncodeAsIds('아버지가방에들어가신다.')\n",
    "print(tokensIDs)\n",
    "\n",
    "# SentencePiece를 활용한 sentence -> encoded pieces\n",
    "print(s.SampleEncodeAsPieces('아버지가방에들어가신다.',1, 0.0))\n",
    "\n",
    "# SentencePiece를 활용한 encoding -> sentence 복원\n",
    "print(s.DecodeIds(tokensIDs))"
   ]
  },
  {
   "cell_type": "markdown",
   "id": "inappropriate-bench",
   "metadata": {},
   "source": [
    " "
   ]
  },
  {
   "cell_type": "markdown",
   "id": "modern-parish",
   "metadata": {},
   "source": [
    "어떻습니까? SentencePiece의 토크나이징 실력이 괜찮은 것 같습니다."
   ]
  },
  {
   "cell_type": "markdown",
   "id": "physical-transition",
   "metadata": {},
   "source": [
    " "
   ]
  },
  {
   "cell_type": "markdown",
   "id": "auburn-convert",
   "metadata": {},
   "source": [
    "## <span style=\"color:#2C786C\">Step 3. Tokenizer 함수 작성</span>\n",
    "---\n",
    "우리는 위에서 훈련한 SentencePiece를 활용하여 위 함수와 유사한 기능을 하는 **`sp_tokenize()`** 함수를 정의할 겁니다. 하지만 SentencePiece가 동작하는 방식이 단순 토큰화와는 달라 완전히 동일하게는 정의하기 어렵습니다. 그러니 아래 조건을 만족하는 함수를 정의하도록 하겠습니다."
   ]
  },
  {
   "cell_type": "markdown",
   "id": "accompanied-principal",
   "metadata": {},
   "source": [
    ">*1) 매개변수로 토큰화된 문장의 **`list`** 전달하는 대신 온전한 문장의 **`list`**를 전달합니다.*<br><br>\n",
    ">*2) **생성된 vocab 파일**을 읽어와 **`{ <word> : <idx> }`** 형태를 가지는 **`word_index`** 사전과 **`{ <idx> : <word>}`** 형태를 가지는 **`index_word`** 사전을 생성하고 함께 **반환**합니다.*<br><br>\n",
    ">*3) 반환값인 **`tensor`**는 앞의 함수와 같이 토큰화한 후 Encoding 된 문장입니다. 바로 학습에 사용할 수 있게 Padding은 당연히 해야겠죠?*<br>"
   ]
  },
  {
   "cell_type": "markdown",
   "id": "capable-platinum",
   "metadata": {},
   "source": [
    " "
   ]
  },
  {
   "cell_type": "code",
   "execution_count": 13,
   "id": "renewable-python",
   "metadata": {},
   "outputs": [],
   "source": [
    "def sp_tokenize(s, corpus):\n",
    "\n",
    "    tensor = []\n",
    "\n",
    "    for sen in corpus:\n",
    "        tensor.append(s.EncodeAsIds(sen))\n",
    "\n",
    "    with open(\"./korean_spm.vocab\", 'r') as f:\n",
    "        vocab = f.readlines()\n",
    "\n",
    "    word_index = {}\n",
    "    index_word = {}\n",
    "\n",
    "    for idx, line in enumerate(vocab):\n",
    "        word = line.split(\"\\t\")[0]\n",
    "\n",
    "        word_index.update({idx:word})\n",
    "        index_word.update({word:idx})\n",
    "\n",
    "    tensor = tf.keras.preprocessing.sequence.pad_sequences(tensor, padding='post')\n",
    "\n",
    "    return tensor, word_index, index_word"
   ]
  },
  {
   "cell_type": "code",
   "execution_count": 14,
   "id": "realistic-superior",
   "metadata": {},
   "outputs": [
    {
     "name": "stdout",
     "output_type": "stream",
     "text": [
      "[[1949 5662    5    4 7975 1983    3    0    0    0    0    0    0    0]\n",
      " [ 107 1638  101    4    0  419   11    4   14    0 1969    3    3    3]]\n"
     ]
    }
   ],
   "source": [
    "#sp_tokenize(s, corpus) 사용예제\n",
    "\n",
    "my_corpus = ['나는 밥을 먹었습니다.', '그러나 여전히 ㅠㅠ 배가 고픕니다...']\n",
    "tensor, word_index, index_word = sp_tokenize(s, my_corpus)\n",
    "print(tensor)"
   ]
  },
  {
   "cell_type": "markdown",
   "id": "sixth-sugar",
   "metadata": {},
   "source": [
    " "
   ]
  },
  {
   "cell_type": "markdown",
   "id": "owned-envelope",
   "metadata": {},
   "source": [
    "## <span style=\"color:#2C786C\">Step 4. 네이버 영화리뷰 감정분석 문제에 SentencePiece 적용해 보기</span>\n",
    "---\n",
    "아마 여러분들은 [네이버 영화리뷰 감정분석 태스크](https://github.com/e9t/nsmc/)를 한 번쯤은 다루어 보았을 것입니다. 한국어로 된 corpus를 다루어야 하므로 주로 KoNLPy에서 제공하는 형태소 분석기를 사용하여 텍스트를 전처리해서 RNN 모델을 분류기로 사용했을 것입니다."
   ]
  },
  {
   "cell_type": "markdown",
   "id": "stylish-humanity",
   "metadata": {},
   "source": [
    "만약 이 문제에서 tokenizer를 sentencepiece로 바꾸어 다시 풀어본다면 더 성능이 좋아질까요? 비교해 보는 것도 흥미로울 것입니다.\n",
    "\n",
    ">* 네이버 영화리뷰 감정분석 코퍼스에 sentencepiece를 적용한 모델 학습하기\n",
    ">*학습된 모델로 sp_tokenize() 메소드 구현하기\n",
    ">*구현된 토크나이저를 적용하여 네이버 영화리뷰 감정분석 모델을 재학습하기\n",
    ">*KoNLPy 형태소 분석기를 사용한 모델과 성능 비교하기\n",
    ">***(보너스)** SentencePiece 모델의 model_type, vocab_size 등을 변경해 가면서 성능 개선 여부 확인하기\n",
    ">*Word Vector는 활용할 필요가 없습니다. 활용이 가능하지도 않을 것입니다.\n",
    ">*머지않아 SentencePiece와 BERT 등의 pretrained 모델을 함께 활용하는 태스크를 다루게 될 것입니다."
   ]
  },
  {
   "cell_type": "markdown",
   "id": "driving-rescue",
   "metadata": {},
   "source": [
    " "
   ]
  },
  {
   "cell_type": "markdown",
   "id": "spanish-triangle",
   "metadata": {},
   "source": [
    "**<span style=\"color:#124445\">✓ 패키지(라이브러리)들을 import</span>**"
   ]
  },
  {
   "cell_type": "code",
   "execution_count": 15,
   "id": "sharing-cooperation",
   "metadata": {},
   "outputs": [
    {
     "name": "stdout",
     "output_type": "stream",
     "text": [
      "import 완료!\n"
     ]
    }
   ],
   "source": [
    "import os\n",
    "import pandas as pd\n",
    "import numpy as np\n",
    "import urllib.request\n",
    "import matplotlib.pyplot as plt\n",
    "import re\n",
    "\n",
    "from konlpy.tag import Mecab\n",
    "from konlpy.tag import Okt\n",
    "from tensorflow import keras\n",
    "from tensorflow.keras.preprocessing.text import Tokenizer\n",
    "from tensorflow.keras.preprocessing.sequence import pad_sequences\n",
    "from collections import Counter\n",
    "\n",
    "%matplotlib inline\n",
    "\n",
    "print(\"import 완료!\")"
   ]
  },
  {
   "cell_type": "markdown",
   "id": "median-belle",
   "metadata": {},
   "source": [
    " "
   ]
  },
  {
   "cell_type": "markdown",
   "id": "forward-chase",
   "metadata": {},
   "source": [
    "**<span style=\"color:#124445\">✓ data load</span>**"
   ]
  },
  {
   "cell_type": "code",
   "execution_count": 16,
   "id": "exposed-coupon",
   "metadata": {
    "scrolled": true
   },
   "outputs": [
    {
     "data": {
      "text/html": [
       "<div>\n",
       "<style scoped>\n",
       "    .dataframe tbody tr th:only-of-type {\n",
       "        vertical-align: middle;\n",
       "    }\n",
       "\n",
       "    .dataframe tbody tr th {\n",
       "        vertical-align: top;\n",
       "    }\n",
       "\n",
       "    .dataframe thead th {\n",
       "        text-align: right;\n",
       "    }\n",
       "</style>\n",
       "<table border=\"1\" class=\"dataframe\">\n",
       "  <thead>\n",
       "    <tr style=\"text-align: right;\">\n",
       "      <th></th>\n",
       "      <th>id</th>\n",
       "      <th>document</th>\n",
       "      <th>label</th>\n",
       "    </tr>\n",
       "  </thead>\n",
       "  <tbody>\n",
       "    <tr>\n",
       "      <th>0</th>\n",
       "      <td>9976970</td>\n",
       "      <td>아 더빙.. 진짜 짜증나네요 목소리</td>\n",
       "      <td>0</td>\n",
       "    </tr>\n",
       "    <tr>\n",
       "      <th>1</th>\n",
       "      <td>3819312</td>\n",
       "      <td>흠...포스터보고 초딩영화줄....오버연기조차 가볍지 않구나</td>\n",
       "      <td>1</td>\n",
       "    </tr>\n",
       "    <tr>\n",
       "      <th>2</th>\n",
       "      <td>10265843</td>\n",
       "      <td>너무재밓었다그래서보는것을추천한다</td>\n",
       "      <td>0</td>\n",
       "    </tr>\n",
       "    <tr>\n",
       "      <th>3</th>\n",
       "      <td>9045019</td>\n",
       "      <td>교도소 이야기구먼 ..솔직히 재미는 없다..평점 조정</td>\n",
       "      <td>0</td>\n",
       "    </tr>\n",
       "    <tr>\n",
       "      <th>4</th>\n",
       "      <td>6483659</td>\n",
       "      <td>사이몬페그의 익살스런 연기가 돋보였던 영화!스파이더맨에서 늙어보이기만 했던 커스틴 ...</td>\n",
       "      <td>1</td>\n",
       "    </tr>\n",
       "  </tbody>\n",
       "</table>\n",
       "</div>"
      ],
      "text/plain": [
       "         id                                           document  label\n",
       "0   9976970                                아 더빙.. 진짜 짜증나네요 목소리      0\n",
       "1   3819312                  흠...포스터보고 초딩영화줄....오버연기조차 가볍지 않구나      1\n",
       "2  10265843                                  너무재밓었다그래서보는것을추천한다      0\n",
       "3   9045019                      교도소 이야기구먼 ..솔직히 재미는 없다..평점 조정      0\n",
       "4   6483659  사이몬페그의 익살스런 연기가 돋보였던 영화!스파이더맨에서 늙어보이기만 했던 커스틴 ...      1"
      ]
     },
     "execution_count": 16,
     "metadata": {},
     "output_type": "execute_result"
    }
   ],
   "source": [
    "train_data = pd.read_table('~/aiffel/sentiment_classification/ratings_train.txt')\n",
    "train_data.head()"
   ]
  },
  {
   "cell_type": "code",
   "execution_count": 17,
   "id": "suitable-encyclopedia",
   "metadata": {
    "scrolled": false
   },
   "outputs": [
    {
     "data": {
      "text/html": [
       "<div>\n",
       "<style scoped>\n",
       "    .dataframe tbody tr th:only-of-type {\n",
       "        vertical-align: middle;\n",
       "    }\n",
       "\n",
       "    .dataframe tbody tr th {\n",
       "        vertical-align: top;\n",
       "    }\n",
       "\n",
       "    .dataframe thead th {\n",
       "        text-align: right;\n",
       "    }\n",
       "</style>\n",
       "<table border=\"1\" class=\"dataframe\">\n",
       "  <thead>\n",
       "    <tr style=\"text-align: right;\">\n",
       "      <th></th>\n",
       "      <th>id</th>\n",
       "      <th>document</th>\n",
       "      <th>label</th>\n",
       "    </tr>\n",
       "  </thead>\n",
       "  <tbody>\n",
       "    <tr>\n",
       "      <th>0</th>\n",
       "      <td>6270596</td>\n",
       "      <td>굳 ㅋ</td>\n",
       "      <td>1</td>\n",
       "    </tr>\n",
       "    <tr>\n",
       "      <th>1</th>\n",
       "      <td>9274899</td>\n",
       "      <td>GDNTOPCLASSINTHECLUB</td>\n",
       "      <td>0</td>\n",
       "    </tr>\n",
       "    <tr>\n",
       "      <th>2</th>\n",
       "      <td>8544678</td>\n",
       "      <td>뭐야 이 평점들은.... 나쁘진 않지만 10점 짜리는 더더욱 아니잖아</td>\n",
       "      <td>0</td>\n",
       "    </tr>\n",
       "    <tr>\n",
       "      <th>3</th>\n",
       "      <td>6825595</td>\n",
       "      <td>지루하지는 않은데 완전 막장임... 돈주고 보기에는....</td>\n",
       "      <td>0</td>\n",
       "    </tr>\n",
       "    <tr>\n",
       "      <th>4</th>\n",
       "      <td>6723715</td>\n",
       "      <td>3D만 아니었어도 별 다섯 개 줬을텐데.. 왜 3D로 나와서 제 심기를 불편하게 하죠??</td>\n",
       "      <td>0</td>\n",
       "    </tr>\n",
       "  </tbody>\n",
       "</table>\n",
       "</div>"
      ],
      "text/plain": [
       "        id                                           document  label\n",
       "0  6270596                                                굳 ㅋ      1\n",
       "1  9274899                               GDNTOPCLASSINTHECLUB      0\n",
       "2  8544678             뭐야 이 평점들은.... 나쁘진 않지만 10점 짜리는 더더욱 아니잖아      0\n",
       "3  6825595                   지루하지는 않은데 완전 막장임... 돈주고 보기에는....      0\n",
       "4  6723715  3D만 아니었어도 별 다섯 개 줬을텐데.. 왜 3D로 나와서 제 심기를 불편하게 하죠??      0"
      ]
     },
     "execution_count": 17,
     "metadata": {},
     "output_type": "execute_result"
    }
   ],
   "source": [
    "test_data = pd.read_table('~/aiffel/sentiment_classification/ratings_test.txt')\n",
    "test_data.head()"
   ]
  },
  {
   "cell_type": "code",
   "execution_count": 18,
   "id": "descending-office",
   "metadata": {
    "scrolled": true
   },
   "outputs": [
    {
     "name": "stdout",
     "output_type": "stream",
     "text": [
      "훈련용 리뷰 개수 : 150000\n",
      "테스트용 리뷰 개수 : 50000\n"
     ]
    }
   ],
   "source": [
    "print('훈련용 리뷰 개수 :',len(train_data)) # 훈련용 리뷰 개수 출력\n",
    "print('테스트용 리뷰 개수 :',len(test_data)) # 테스트용 리뷰 개수 출력"
   ]
  },
  {
   "cell_type": "markdown",
   "id": "injured-southwest",
   "metadata": {},
   "source": [
    " "
   ]
  },
  {
   "cell_type": "markdown",
   "id": "crucial-newman",
   "metadata": {},
   "source": [
    "**<span style=\"color:#124445\">✓ 데이터 전처리 : 중복, 결측치 제거</span>**"
   ]
  },
  {
   "cell_type": "code",
   "execution_count": 19,
   "id": "orange-reservoir",
   "metadata": {
    "scrolled": true
   },
   "outputs": [],
   "source": [
    "train_data.drop_duplicates(subset=['document'], inplace=True)  # 데이터의 중복 제거 \n",
    "train_data = train_data.dropna(how = 'any')  # NaN 결측치 제거 \n",
    "test_data.drop_duplicates(subset=['document'], inplace=True)  # 데이터의 중복 제거 \n",
    "test_data = test_data.dropna(how = 'any')  # NaN 결측치 제거 "
   ]
  },
  {
   "cell_type": "code",
   "execution_count": 20,
   "id": "unlikely-program",
   "metadata": {},
   "outputs": [
    {
     "name": "stdout",
     "output_type": "stream",
     "text": [
      "data의 중복이 제거됐다면 False, 남아있다면 True로 출력됩니다.\n",
      "train_data : False\n",
      "중복이 제거된 train_data의 수 : 146182\n",
      "test_data : False\n",
      "중복이 제거된 test_data의 수 : 49157\n",
      "총 데이터의 수 : 195339\n"
     ]
    }
   ],
   "source": [
    "print(\"data의 중복이 제거됐다면 False, 남아있다면 True로 출력됩니다.\")\n",
    "print(\"train_data :\", train_data.isnull().values.any())\n",
    "print(\"중복이 제거된 train_data의 수 :\", len(train_data))\n",
    "print(\"test_data :\", test_data.isnull().values.any())\n",
    "print(\"중복이 제거된 test_data의 수 :\", len(test_data))\n",
    "print(\"총 데이터의 수 :\", len(train_data)+len(test_data))"
   ]
  },
  {
   "cell_type": "code",
   "execution_count": 21,
   "id": "military-prefix",
   "metadata": {},
   "outputs": [
    {
     "name": "stdout",
     "output_type": "stream",
     "text": [
      "data size : 195339\n",
      "예시 :\n",
      ">> 아 더빙.. 진짜 짜증나네요 목소리\n",
      ">> 나름 심오한 뜻도 있는 듯. 그냥 학생이 선생과 놀아나는 영화는 절대 아님\n",
      ">> 단순하면서 은은한 매력의 영화\n",
      ">> 보는내내 그대로 들어맞는 예측 카리스마 없는 악역\n",
      ">> 뭐냐..시작하고 3분만에 나왔다. 리플릿 사진 보며 불안하더니만..\n"
     ]
    }
   ],
   "source": [
    "raw = list(train_data['document']) + list(test_data['document'])\n",
    "print(\"data size :\", len(raw))\n",
    "list(map(str, raw))\n",
    "\n",
    "print(\"예시 :\")\n",
    "for sen in raw[0:100][::20]: print(\">>\", sen)"
   ]
  },
  {
   "cell_type": "code",
   "execution_count": 22,
   "id": "indirect-showcase",
   "metadata": {},
   "outputs": [
    {
     "name": "stdout",
     "output_type": "stream",
     "text": [
      "문장의 최단 길이: 1\n",
      "문장의 최장 길이: 146\n",
      "문장의 평균 길이: 35\n"
     ]
    },
    {
     "data": {
      "image/png": "[encoded data removed]",
      "text/plain": [
       "<Figure size 432x288 with 1 Axes>"
      ]
     },
     "metadata": {
      "needs_background": "light"
     },
     "output_type": "display_data"
    }
   ],
   "source": [
    "min_len = 999\n",
    "max_len = 0\n",
    "sum_len = 0\n",
    "\n",
    "for sen in raw:\n",
    "    length = len(sen)\n",
    "    if min_len > length: min_len = length\n",
    "    if max_len < length: max_len = length\n",
    "    sum_len += length\n",
    "\n",
    "print(\"문장의 최단 길이:\", min_len)\n",
    "print(\"문장의 최장 길이:\", max_len)\n",
    "print(\"문장의 평균 길이:\", sum_len // len(raw))\n",
    "\n",
    "sentence_length = np.zeros((max_len), dtype=np.int)\n",
    "\n",
    "for sen in raw:\n",
    "    sentence_length[len(sen)-1] += 1\n",
    "\n",
    "plt.bar(range(max_len), sentence_length, width=1.0)\n",
    "plt.title(\"Sentence Length Distribution\")\n",
    "plt.show()"
   ]
  },
  {
   "cell_type": "code",
   "execution_count": 23,
   "id": "hearing-ghost",
   "metadata": {
    "scrolled": true
   },
   "outputs": [
    {
     "name": "stdout",
     "output_type": "stream",
     "text": [
      "아\n",
      "잼\n",
      "1\n",
      "4\n",
      "굿\n",
      "짱\n",
      "휴\n",
      ".\n",
      "음\n",
      "?\n",
      "ㅎ\n",
      "ㅋ\n",
      "즐\n",
      "♥\n",
      "굳\n",
      "네\n",
      "ㅇ\n",
      "k\n",
      "ㅠ\n",
      "쒯\n",
      "♬\n"
     ]
    }
   ],
   "source": [
    "def check_sentence_with_length(raw, length):\n",
    "    count = 0\n",
    "    \n",
    "    for sen in raw:\n",
    "        if len(sen) == length:\n",
    "            print(sen)\n",
    "            count += 1\n",
    "            if count > 20: return\n",
    "\n",
    "check_sentence_with_length(raw, 1)"
   ]
  },
  {
   "cell_type": "markdown",
   "id": "every-beauty",
   "metadata": {},
   "source": [
    " "
   ]
  },
  {
   "cell_type": "markdown",
   "id": "light-actress",
   "metadata": {},
   "source": [
    "대체로 별 의미 없는 평가네요!"
   ]
  },
  {
   "cell_type": "markdown",
   "id": "third-andorra",
   "metadata": {},
   "source": [
    " "
   ]
  },
  {
   "cell_type": "code",
   "execution_count": 24,
   "id": "planned-equality",
   "metadata": {},
   "outputs": [
    {
     "name": "stdout",
     "output_type": "stream",
     "text": [
      "Outlier Index: 5\n",
      "Outlier Index: 6\n",
      "Outlier Index: 7\n",
      "Outlier Index: 8\n",
      "Outlier Index: 9\n",
      "Outlier Index: 10\n",
      "Outlier Index: 11\n",
      "Outlier Index: 12\n",
      "Outlier Index: 13\n",
      "Outlier Index: 14\n",
      "Outlier Index: 15\n",
      "Outlier Index: 16\n",
      "Outlier Index: 17\n",
      "Outlier Index: 18\n",
      "Outlier Index: 19\n",
      "Outlier Index: 20\n",
      "Outlier Index: 21\n",
      "Outlier Index: 22\n",
      "Outlier Index: 23\n",
      "Outlier Index: 24\n",
      "Outlier Index: 25\n",
      "Outlier Index: 26\n",
      "Outlier Index: 27\n",
      "Outlier Index: 28\n",
      "Outlier Index: 29\n",
      "Outlier Index: 30\n",
      "Outlier Index: 31\n",
      "Outlier Index: 32\n",
      "Outlier Index: 33\n",
      "Outlier Index: 34\n",
      "Outlier Index: 35\n",
      "Outlier Index: 36\n",
      "Outlier Index: 37\n",
      "Outlier Index: 38\n",
      "Outlier Index: 39\n",
      "Outlier Index: 40\n",
      "Outlier Index: 41\n",
      "Outlier Index: 42\n",
      "Outlier Index: 43\n",
      "Outlier Index: 44\n",
      "Outlier Index: 45\n",
      "Outlier Index: 46\n",
      "Outlier Index: 47\n"
     ]
    }
   ],
   "source": [
    "for idx, _sum in enumerate(sentence_length):\n",
    "    # 문장의 수가 1500을 초과하는 문장 길이를 추출합니다.\n",
    "    if _sum > 1500:\n",
    "        print(\"Outlier Index:\", idx+1)"
   ]
  },
  {
   "cell_type": "code",
   "execution_count": 25,
   "id": "pending-iceland",
   "metadata": {},
   "outputs": [
    {
     "name": "stdout",
     "output_type": "stream",
     "text": [
      "재미있어요\n",
      "전 좋아요\n",
      "아 빵점~\n",
      "ㅠㅠ 슬픔\n",
      "최고의영화\n",
      "잘봤습니다\n",
      "쓰레기영화\n",
      "볼만 한데\n",
      "짝퉁쓰래기\n",
      "잼없네요넘\n",
      "재밌따!!\n",
      "반지의제왕\n",
      "ㅄ같은영화\n",
      "옛다 평점\n",
      "글쎄...\n",
      "8점만들자\n",
      "재밌군..\n",
      "할말 없음\n",
      "좋다...\n",
      "좋았다..\n",
      "시시하다.\n"
     ]
    }
   ],
   "source": [
    "check_sentence_with_length(raw, 5)"
   ]
  },
  {
   "cell_type": "code",
   "execution_count": 26,
   "id": "cleared-testing",
   "metadata": {
    "scrolled": true
   },
   "outputs": [
    {
     "name": "stdout",
     "output_type": "stream",
     "text": [
      "어린시절 너무 무섭고 재미있게 봤던 추억의 판타지영화.절대 나쁜짓은 금물.지옥가요..\n",
      "진짜 한번만더 이런영화 상영하면 용서하지 않는다지금 영화보면서 카톡하고잇음 아놔 진짜\n",
      "영화 첫 도입부 부터 카메라 각도라든지 화질이라든지 겁나 구림.. 영화 아닌줄 알았음\n",
      "싸구려 왜색 영화, 키작고 교활한 일본원숭이들의 망상, 사무라이 정신..토나온다...\n",
      "무슨 내용인지 도통 모르겠다... 쓸데없이 특별해 보이려는 시도에만 열중이었던 영화.\n",
      "보지말아라 재미있든 재미없든 진짜 찝찝하고 기분 드러운 영화공포영화 싸이코 영화...\n",
      "기존 한국 영화에서 느끼지 못한 색다른 느낌상업적이기 보다는 새로움에 도전한듯한 ..\n",
      "오늘 아이데리고 봤는데...아이는 좋아하데요...ㅎㅎ 미취학, 초등 어린이에게 추천~\n",
      "기방난동사건이후 최악의 영화 .재밌다는 사람들 믿고 봤더니 다 알바생인듯 ... ㅜㅜ\n",
      "지금 첨봤는데 1회만 봐볼까하고 봤다가 주말 밤새완주하였다. 여운이 많이 남는 드라마\n",
      "많이 알려지지 않은 작품인데 스탤론에 대해 관심을 있으면 한번쯤 보게될 수작 재난영화\n",
      "출가 후 이 영화 첨으로 보았습니다. 김해 은하사 좋네요. 액션 코미디 재밌었습니다.\n",
      "언론의 맹점과 군중심리. 개인의심리까지 파헤치면서도 재미까지 균형을 잘 맞춘 멋진영화\n",
      "좋은소재 못 살린 OO 감독. 연출만 잘 했어도 대단한 영화가 되었을텐데...쯧쯧..\n",
      "이런 영화를 볼 수 있어서 ... ㅠㅠ 이제 정말 아픔이 없었으면 좋겠는데 말이죠..\n",
      "짱재밌다!!! 김지수, 이하나 ,한재석, 정겨운, 최정희 교수님 , 장태문 회장님 ,\n",
      "진짜 유키스 동호 목소리 안좋다 배우 유선님은 목소리가 나레이션 성우 아나운서 같던데\n",
      "스파이더맨을 가장 좋아하는 1人~ 스파이더맨 완전 사랑합니다. 영원했으면 좋겠네요!!\n",
      "제니 라이트 존나 이쁘다 .... 제니 라이트 때매 10점 내 손가락도 주고싶다 ㅠㅠ\n",
      "평점 남기기도 민망함~ 포스터가 맘에 들어서서 1점 줌~그냥 소소한 일상을 담은 영화\n",
      "1점 2점 뭐냐 이명작을 ㄷㄷ... 1990년대 이정도퀼리티영화가 얼마나 있나보고와라\n"
     ]
    }
   ],
   "source": [
    "check_sentence_with_length(raw, 47)"
   ]
  },
  {
   "cell_type": "code",
   "execution_count": 27,
   "id": "lesser-working",
   "metadata": {},
   "outputs": [
    {
     "name": "stdout",
     "output_type": "stream",
     "text": [
      "Data Size: 194543\n",
      "문장의 최단 길이: 1\n",
      "문장의 최장 길이: 146\n",
      "문장의 평균 길이: 36\n"
     ]
    },
    {
     "data": {
      "image/png": "[encoded data removed]",
      "text/plain": [
       "<Figure size 432x288 with 1 Axes>"
      ]
     },
     "metadata": {
      "needs_background": "light"
     },
     "output_type": "display_data"
    }
   ],
   "source": [
    "min_len = 999\n",
    "max_len = 0\n",
    "sum_len = 0\n",
    "\n",
    "cleaned_corpus = list(set(raw))  # set를 사용해서 중복을 제거합니다.\n",
    "print(\"Data Size:\", len(cleaned_corpus))\n",
    "\n",
    "for sen in cleaned_corpus:\n",
    "    length = len(sen)\n",
    "    if min_len > length: min_len = length\n",
    "    if max_len < length: max_len = length\n",
    "    sum_len += length\n",
    "\n",
    "print(\"문장의 최단 길이:\", min_len)\n",
    "print(\"문장의 최장 길이:\", max_len)\n",
    "print(\"문장의 평균 길이:\", sum_len // len(cleaned_corpus))\n",
    "\n",
    "sentence_length = np.zeros((max_len), dtype=np.int)\n",
    "\n",
    "for sen in cleaned_corpus:   # 중복이 제거된 코퍼스 기준\n",
    "    sentence_length[len(sen)-1] += 1\n",
    "\n",
    "plt.bar(range(max_len), sentence_length, width=1.0)\n",
    "plt.title(\"Sentence Length Distribution\")\n",
    "plt.show()"
   ]
  },
  {
   "cell_type": "code",
   "execution_count": 28,
   "id": "daily-development",
   "metadata": {},
   "outputs": [
    {
     "data": {
      "image/png": "[encoded data removed]",
      "text/plain": [
       "<Figure size 432x288 with 1 Axes>"
      ]
     },
     "metadata": {
      "needs_background": "light"
     },
     "output_type": "display_data"
    }
   ],
   "source": [
    "# 길이별로 정렬하여 제거\n",
    "max_len = 100\n",
    "min_len = 10\n",
    "\n",
    "# 길이 조건에 맞는 문장만 선택합니다.\n",
    "filtered_corpus = [s for s in cleaned_corpus if (len(s) < max_len) & (len(s) >= min_len)]\n",
    "\n",
    "# 분포도를 다시 그려봅니다.\n",
    "sentence_length = np.zeros((max_len), dtype=np.int)\n",
    "\n",
    "for sen in filtered_corpus:\n",
    "    sen = str(sen)\n",
    "    sentence_length[len(sen)-1] += 1\n",
    "\n",
    "plt.bar(range(max_len), sentence_length, width=1.0)\n",
    "plt.title(\"Sentence Length Distribution\")\n",
    "plt.show()"
   ]
  },
  {
   "cell_type": "markdown",
   "id": "catholic-farmer",
   "metadata": {},
   "source": [
    " "
   ]
  },
  {
   "cell_type": "markdown",
   "id": "baking-plate",
   "metadata": {},
   "source": [
    "**<span style=\"color:#124445\">✓ SentencePiece 학습</span>**"
   ]
  },
  {
   "cell_type": "code",
   "execution_count": 29,
   "id": "operating-stanley",
   "metadata": {},
   "outputs": [
    {
     "name": "stdout",
     "output_type": "stream",
     "text": [
      "-rw-r--r-- 1 aiffel-dj49 aiffel-dj49 376902  4월 25 03:12 korean_spm.model\r\n",
      "-rw-r--r-- 1 aiffel-dj49 aiffel-dj49 146388  4월 25 03:12 korean_spm.vocab\r\n",
      "-rw-r--r-- 1 aiffel-dj49 aiffel-dj49 414311  4월 25 03:12 korean_spm_10k.model\r\n",
      "-rw-r--r-- 1 aiffel-dj49 aiffel-dj49 185523  4월 25 03:12 korean_spm_10k.vocab\r\n",
      "-rw-r--r-- 1 aiffel-dj49 aiffel-dj49 317346  4월 25 03:13 korean_spm_5k.model\r\n",
      "-rw-r--r-- 1 aiffel-dj49 aiffel-dj49  84118  4월 25 03:13 korean_spm_5k.vocab\r\n",
      "-rw-r--r-- 1 aiffel-dj49 aiffel-dj49 408278  4월 25 03:12 korean_spm_bpe_10k.model\r\n",
      "-rw-r--r-- 1 aiffel-dj49 aiffel-dj49 149488  4월 25 03:12 korean_spm_bpe_10k.vocab\r\n",
      "-rw-r--r-- 1 aiffel-dj49 aiffel-dj49 315124  4월 25 03:13 korean_spm_bpe_5k.model\r\n",
      "-rw-r--r-- 1 aiffel-dj49 aiffel-dj49  66335  4월 25 03:13 korean_spm_bpe_5k.vocab\r\n"
     ]
    }
   ],
   "source": [
    "temp_file = os.getenv('HOME')+'/aiffel/sp_tokenizer/data/korean-english-park.train.ko.temp'\n",
    "\n",
    "vocab_size = 10000\n",
    "\n",
    "with open(temp_file, 'w') as f:\n",
    "    for row in filtered_corpus:   # 이전 스텝에서 정제했던 corpus를 활용합니다.\n",
    "        f.write(str(row) + '\\n')\n",
    "\n",
    "spm.SentencePieceTrainer.Train(\n",
    "    '--input={} --model_prefix=korean_spm_10k --vocab_size={}'.format(temp_file, vocab_size)    \n",
    ")\n",
    "spm.SentencePieceTrainer.Train(\n",
    "    '--input={} --model_type=bpe --model_prefix=korean_spm_bpe_10k --vocab_size={}'.format(temp_file, vocab_size)    \n",
    ")\n",
    "spm.SentencePieceTrainer.Train(\n",
    "    '--input={} --model_prefix=korean_spm_5k --vocab_size={}'.format(temp_file, vocab_size // 2)    \n",
    ")\n",
    "spm.SentencePieceTrainer.Train(\n",
    "    '--input={} --model_type=bpe --model_prefix=korean_spm_bpe_5k --vocab_size={}'.format(temp_file, vocab_size // 2)    \n",
    ")\n",
    "#위 Train에서  --model_type = 'unigram'이 디폴트 적용되어 있습니다. --model_type = 'bpe' 로 옵션을 주어 변경할 수 있습니다.\n",
    "\n",
    "!ls -l korean_spm*"
   ]
  },
  {
   "cell_type": "markdown",
   "id": "smaller-vessel",
   "metadata": {},
   "source": [
    " "
   ]
  },
  {
   "cell_type": "markdown",
   "id": "purple-hammer",
   "metadata": {},
   "source": [
    "**<span style=\"color:#124445\">✓ 모델 성능 분석 : 간단한 LSTM 모델을 사용하여 SentencePiece와 Mecab을 비교 분석</span>**"
   ]
  },
  {
   "cell_type": "code",
   "execution_count": 30,
   "id": "electronic-staff",
   "metadata": {},
   "outputs": [],
   "source": [
    "def sp_tokenize(s, corpus):\n",
    "\n",
    "    tensor = []\n",
    "\n",
    "    for sen in corpus:\n",
    "        tensor.append(s.EncodeAsIds(sen))\n",
    "\n",
    "    with open(\"./korean_spm.vocab\", 'r') as f:\n",
    "        vocab = f.readlines()\n",
    "\n",
    "    word_index = {}\n",
    "    index_word = {}\n",
    "\n",
    "    for idx, line in enumerate(vocab):\n",
    "        word = line.split(\"\\t\")[0]\n",
    "\n",
    "        word_index.update({idx:word})\n",
    "        index_word.update({word:idx})\n",
    "\n",
    "    tensor = tf.keras.preprocessing.sequence.pad_sequences(tensor, padding='pre',maxlen=80)\n",
    "\n",
    "    return tensor, word_index, index_word"
   ]
  },
  {
   "cell_type": "code",
   "execution_count": 31,
   "id": "fiscal-cleveland",
   "metadata": {},
   "outputs": [
    {
     "name": "stdout",
     "output_type": "stream",
     "text": [
      "[[   0    0    0    0    0    0    0    0    0    0    0    0    0    0\n",
      "     0    0    0    0    0    0    0    0    0    0    0    0    0    0\n",
      "     0    0    0    0    0    0    0    0    0    0    0    0    0    0\n",
      "     0    0    0    0    0    0    0    0    0    0    0    0    0    0\n",
      "     0    0    0    0    0    0    0    0    0    0    0    0    0    0\n",
      "     0    0    0 1949 5662    5    4 7975 1983    3]\n",
      " [   0    0    0    0    0    0    0    0    0    0    0    0    0    0\n",
      "     0    0    0    0    0    0    0    0    0    0    0    0    0    0\n",
      "     0    0    0    0    0    0    0    0    0    0    0    0    0    0\n",
      "     0    0    0    0    0    0    0    0    0    0    0    0    0    0\n",
      "     0    0    0    0    0    0    0    0    0    0  107 1638  101    4\n",
      "     0  419   11    4   14    0 1969    3    3    3]]\n"
     ]
    }
   ],
   "source": [
    "#sp_tokenize(s, corpus) 사용예제\n",
    "my_corpus = ['나는 밥을 먹었습니다.', '그러나 여전히 ㅠㅠ 배가 고픕니다...']\n",
    "tensor, word_index, index_word = sp_tokenize(s, my_corpus)\n",
    "print(tensor)"
   ]
  },
  {
   "cell_type": "code",
   "execution_count": 32,
   "id": "collective-bible",
   "metadata": {},
   "outputs": [],
   "source": [
    "s.Load('korean_spm.model')\n",
    "train_test, word_index, index_word = sp_tokenize(s, raw)"
   ]
  },
  {
   "cell_type": "code",
   "execution_count": 33,
   "id": "solid-johns",
   "metadata": {},
   "outputs": [
    {
     "data": {
      "text/plain": [
       "(195339, 80)"
      ]
     },
     "execution_count": 33,
     "metadata": {},
     "output_type": "execute_result"
    }
   ],
   "source": [
    "train_test.shape"
   ]
  },
  {
   "cell_type": "code",
   "execution_count": 34,
   "id": "graphic-immunology",
   "metadata": {},
   "outputs": [
    {
     "name": "stdout",
     "output_type": "stream",
     "text": [
      "(96182, 80)\n",
      "(96182,)\n"
     ]
    }
   ],
   "source": [
    "# 데이터 분할\n",
    "X_train = train_test[:146182]\n",
    "X_test = train_test[146182:]\n",
    "\n",
    "y_train = np.array(list(train_data['label']))\n",
    "y_test = np.array(list(test_data['label']))\n",
    "\n",
    "# validation set 50000건 분리\n",
    "x_val = X_train[:50000]   \n",
    "y_val = y_train[:50000]\n",
    "\n",
    "# validation set을 제외한 나머지 \n",
    "partial_X_train = X_train[50000:]  \n",
    "partial_y_train = y_train[50000:]\n",
    "\n",
    "print(partial_X_train.shape)\n",
    "print(partial_y_train.shape)"
   ]
  },
  {
   "cell_type": "markdown",
   "id": "municipal-hypothetical",
   "metadata": {},
   "source": [
    " "
   ]
  },
  {
   "cell_type": "markdown",
   "id": "satisfactory-vertex",
   "metadata": {},
   "source": [
    "**<span style=\"color:#124445\">✓ 모델 만들기</span>**"
   ]
  },
  {
   "cell_type": "code",
   "execution_count": 35,
   "id": "alive-visitor",
   "metadata": {},
   "outputs": [
    {
     "name": "stdout",
     "output_type": "stream",
     "text": [
      "Model: \"sequential\"\n",
      "_________________________________________________________________\n",
      "Layer (type)                 Output Shape              Param #   \n",
      "=================================================================\n",
      "embedding (Embedding)        (None, None, 200)         2000000   \n",
      "_________________________________________________________________\n",
      "lstm (LSTM)                  (None, 200)               320800    \n",
      "_________________________________________________________________\n",
      "dense (Dense)                (None, 10)                2010      \n",
      "_________________________________________________________________\n",
      "dense_1 (Dense)              (None, 1)                 11        \n",
      "=================================================================\n",
      "Total params: 2,322,821\n",
      "Trainable params: 2,322,821\n",
      "Non-trainable params: 0\n",
      "_________________________________________________________________\n"
     ]
    }
   ],
   "source": [
    "vocab_size = 10000  # 어휘 사전의 크기입니다.\n",
    "word_vector_dim = 200  # 워드 벡터의 차원수\n",
    "\n",
    "# model 설계\n",
    "model1 = keras.Sequential()\n",
    "model1.add(keras.layers.Embedding(vocab_size, word_vector_dim, input_shape=(None,)))\n",
    "model1.add(keras.layers.LSTM(word_vector_dim))   # 가장 널리 쓰이는 RNN인 LSTM 레이어를 사용하였습니다. 이때 LSTM state 벡터의 차원수는 8로 하였습니다. (변경가능)\n",
    "model1.add(keras.layers.Dense(10, activation='relu'))\n",
    "model1.add(keras.layers.Dense(1, activation='sigmoid'))  # 최종 출력은 긍정/부정을 나타내는 1dim 입니다.\n",
    "\n",
    "model1.summary()"
   ]
  },
  {
   "cell_type": "markdown",
   "id": "collaborative-sacramento",
   "metadata": {},
   "source": [
    " "
   ]
  },
  {
   "cell_type": "markdown",
   "id": "completed-train",
   "metadata": {},
   "source": [
    "**<span style=\"color:#124445\">✓ 모델 훈련 및 성능 평가 : SentencePiece</span>**"
   ]
  },
  {
   "cell_type": "code",
   "execution_count": 36,
   "id": "ready-spain",
   "metadata": {},
   "outputs": [
    {
     "name": "stdout",
     "output_type": "stream",
     "text": [
      "Epoch 1/10\n",
      "188/188 [==============================] - 12s 63ms/step - loss: 0.4668 - accuracy: 0.7764 - val_loss: 0.3955 - val_accuracy: 0.8220\n",
      "Epoch 2/10\n",
      "188/188 [==============================] - 11s 58ms/step - loss: 0.3751 - accuracy: 0.8329 - val_loss: 0.3770 - val_accuracy: 0.8310\n",
      "Epoch 3/10\n",
      "188/188 [==============================] - 11s 59ms/step - loss: 0.3410 - accuracy: 0.8501 - val_loss: 0.3694 - val_accuracy: 0.8363\n",
      "Epoch 4/10\n",
      "188/188 [==============================] - 11s 59ms/step - loss: 0.3145 - accuracy: 0.8634 - val_loss: 0.3621 - val_accuracy: 0.8403\n",
      "Epoch 5/10\n",
      "188/188 [==============================] - 11s 59ms/step - loss: 0.2900 - accuracy: 0.8755 - val_loss: 0.3768 - val_accuracy: 0.8392\n",
      "Epoch 6/10\n",
      "188/188 [==============================] - 11s 59ms/step - loss: 0.2704 - accuracy: 0.8855 - val_loss: 0.3750 - val_accuracy: 0.8373\n",
      "Epoch 7/10\n",
      "188/188 [==============================] - 11s 59ms/step - loss: 0.2495 - accuracy: 0.8959 - val_loss: 0.3896 - val_accuracy: 0.8372\n",
      "Epoch 8/10\n",
      "188/188 [==============================] - 11s 59ms/step - loss: 0.2301 - accuracy: 0.9052 - val_loss: 0.4042 - val_accuracy: 0.8382\n",
      "Epoch 9/10\n",
      "188/188 [==============================] - 11s 59ms/step - loss: 0.2110 - accuracy: 0.9140 - val_loss: 0.4236 - val_accuracy: 0.8363\n",
      "Epoch 10/10\n",
      "188/188 [==============================] - 11s 59ms/step - loss: 0.1943 - accuracy: 0.9217 - val_loss: 0.4490 - val_accuracy: 0.8374\n"
     ]
    }
   ],
   "source": [
    "model1.compile(optimizer='adam',\n",
    "              loss='binary_crossentropy',\n",
    "              metrics=['accuracy'])\n",
    "              \n",
    "epochs=10\n",
    "\n",
    "history1 = model1.fit(partial_X_train,\n",
    "                    partial_y_train,\n",
    "                    epochs=epochs,\n",
    "                    batch_size=512,\n",
    "                    validation_data=(x_val, y_val),\n",
    "                    verbose=1)"
   ]
  },
  {
   "cell_type": "code",
   "execution_count": 37,
   "id": "following-output",
   "metadata": {},
   "outputs": [
    {
     "name": "stdout",
     "output_type": "stream",
     "text": [
      "1537/1537 - 4s - loss: 0.4554 - accuracy: 0.8319\n",
      "[0.45535749197006226, 0.8318652510643005]\n"
     ]
    }
   ],
   "source": [
    "results = model1.evaluate(X_test,  y_test, verbose=2)\n",
    "print(results)"
   ]
  },
  {
   "cell_type": "code",
   "execution_count": 38,
   "id": "jewish-journal",
   "metadata": {},
   "outputs": [],
   "source": [
    "def pipeline(spms, vocab):\n",
    "    s = spm.SentencePieceProcessor()\n",
    "    s.load(spms)\n",
    "    train_test, word_index, index_word = sp_tokenize(s, raw)\n",
    "    X_train = train_test[:146182]\n",
    "    X_test = train_test[146182:]\n",
    "\n",
    "    y_train = np.array(list(train_data['label']))\n",
    "    y_test = np.array(list(test_data['label']))\n",
    "\n",
    "    # validation set 50000건 분리\n",
    "    x_val = X_train[:50000]   \n",
    "    y_val = y_train[:50000]\n",
    "\n",
    "    # validation set을 제외한 나머지 \n",
    "    partial_X_train = X_train[50000:]  \n",
    "    partial_y_train = y_train[50000:]\n",
    "    \n",
    "    vocab_size = vocab    # 어휘 사전의 크기입니다.\n",
    "    word_vector_dim = 200  # 워드 벡터의 차원수 (변경가능한 하이퍼파라미터)\n",
    "\n",
    "    # model 설계\n",
    "    model = keras.Sequential()\n",
    "    model.add(keras.layers.Embedding(vocab_size, word_vector_dim, input_shape=(None,)))\n",
    "    model.add(keras.layers.LSTM(word_vector_dim))   # 가장 널리 쓰이는 RNN인 LSTM 레이어를 사용하였습니다. 이때 LSTM state 벡터의 차원수는 8로 하였습니다. (변경가능)\n",
    "    model.add(keras.layers.Dense(10, activation='relu'))\n",
    "    model.add(keras.layers.Dense(1, activation='sigmoid'))  # 최종 출력은 긍정/부정을 나타내는 1dim 입니다.\n",
    "\n",
    "    model.summary()\n",
    "    model.compile(optimizer='adam',\n",
    "              loss='binary_crossentropy',\n",
    "              metrics=['accuracy'])\n",
    "\n",
    "    epochs=10 \n",
    "\n",
    "    history = model.fit(partial_X_train,\n",
    "                        partial_y_train,\n",
    "                        epochs=epochs,\n",
    "                        batch_size=512,\n",
    "                        validation_data=(x_val, y_val),\n",
    "                        verbose=1)\n",
    "    results = model.evaluate(X_test,  y_test, verbose=2)\n",
    "    print(results)\n",
    "    return history"
   ]
  },
  {
   "cell_type": "code",
   "execution_count": 39,
   "id": "manufactured-today",
   "metadata": {},
   "outputs": [
    {
     "name": "stdout",
     "output_type": "stream",
     "text": [
      "Model: \"sequential_1\"\n",
      "_________________________________________________________________\n",
      "Layer (type)                 Output Shape              Param #   \n",
      "=================================================================\n",
      "embedding_1 (Embedding)      (None, None, 200)         1000000   \n",
      "_________________________________________________________________\n",
      "lstm_1 (LSTM)                (None, 200)               320800    \n",
      "_________________________________________________________________\n",
      "dense_2 (Dense)              (None, 10)                2010      \n",
      "_________________________________________________________________\n",
      "dense_3 (Dense)              (None, 1)                 11        \n",
      "=================================================================\n",
      "Total params: 1,322,821\n",
      "Trainable params: 1,322,821\n",
      "Non-trainable params: 0\n",
      "_________________________________________________________________\n",
      "Epoch 1/10\n",
      "188/188 [==============================] - 11s 57ms/step - loss: 0.5510 - accuracy: 0.7717 - val_loss: 0.4912 - val_accuracy: 0.8325\n",
      "Epoch 2/10\n",
      "188/188 [==============================] - 10s 55ms/step - loss: 0.4676 - accuracy: 0.8417 - val_loss: 0.4621 - val_accuracy: 0.8393\n",
      "Epoch 3/10\n",
      "188/188 [==============================] - 10s 55ms/step - loss: 0.4303 - accuracy: 0.8535 - val_loss: 0.4389 - val_accuracy: 0.8414\n",
      "Epoch 4/10\n",
      "188/188 [==============================] - 10s 55ms/step - loss: 0.3979 - accuracy: 0.8650 - val_loss: 0.4380 - val_accuracy: 0.8400\n",
      "Epoch 5/10\n",
      "188/188 [==============================] - 10s 55ms/step - loss: 0.3688 - accuracy: 0.8750 - val_loss: 0.4225 - val_accuracy: 0.8406\n",
      "Epoch 6/10\n",
      "188/188 [==============================] - 10s 55ms/step - loss: 0.3439 - accuracy: 0.8841 - val_loss: 0.4200 - val_accuracy: 0.8403\n",
      "Epoch 7/10\n",
      "188/188 [==============================] - 10s 55ms/step - loss: 0.3212 - accuracy: 0.8922 - val_loss: 0.4232 - val_accuracy: 0.8418\n",
      "Epoch 8/10\n",
      "188/188 [==============================] - 11s 56ms/step - loss: 0.2998 - accuracy: 0.8998 - val_loss: 0.4375 - val_accuracy: 0.8405\n",
      "Epoch 9/10\n",
      "188/188 [==============================] - 11s 58ms/step - loss: 0.2797 - accuracy: 0.9078 - val_loss: 0.4380 - val_accuracy: 0.8359\n",
      "Epoch 10/10\n",
      "188/188 [==============================] - 11s 57ms/step - loss: 0.2632 - accuracy: 0.9132 - val_loss: 0.4541 - val_accuracy: 0.8389\n",
      "1537/1537 - 4s - loss: 0.4588 - accuracy: 0.8337\n",
      "[0.4587942957878113, 0.8336554169654846]\n",
      "Model: \"sequential_2\"\n",
      "_________________________________________________________________\n",
      "Layer (type)                 Output Shape              Param #   \n",
      "=================================================================\n",
      "embedding_2 (Embedding)      (None, None, 200)         1000000   \n",
      "_________________________________________________________________\n",
      "lstm_2 (LSTM)                (None, 200)               320800    \n",
      "_________________________________________________________________\n",
      "dense_4 (Dense)              (None, 10)                2010      \n",
      "_________________________________________________________________\n",
      "dense_5 (Dense)              (None, 1)                 11        \n",
      "=================================================================\n",
      "Total params: 1,322,821\n",
      "Trainable params: 1,322,821\n",
      "Non-trainable params: 0\n",
      "_________________________________________________________________\n",
      "Epoch 1/10\n",
      "188/188 [==============================] - 11s 60ms/step - loss: 0.4300 - accuracy: 0.7985 - val_loss: 0.3537 - val_accuracy: 0.8470\n",
      "Epoch 2/10\n",
      "188/188 [==============================] - 11s 58ms/step - loss: 0.3383 - accuracy: 0.8516 - val_loss: 0.3405 - val_accuracy: 0.8517\n",
      "Epoch 3/10\n",
      "188/188 [==============================] - 11s 59ms/step - loss: 0.3092 - accuracy: 0.8641 - val_loss: 0.3344 - val_accuracy: 0.8536\n",
      "Epoch 4/10\n",
      "188/188 [==============================] - 11s 57ms/step - loss: 0.2793 - accuracy: 0.8784 - val_loss: 0.3381 - val_accuracy: 0.8509\n",
      "Epoch 5/10\n",
      "188/188 [==============================] - 11s 58ms/step - loss: 0.2564 - accuracy: 0.8895 - val_loss: 0.3491 - val_accuracy: 0.8497\n",
      "Epoch 6/10\n",
      "188/188 [==============================] - 11s 56ms/step - loss: 0.2367 - accuracy: 0.8990 - val_loss: 0.3631 - val_accuracy: 0.8504\n",
      "Epoch 7/10\n",
      "188/188 [==============================] - 11s 60ms/step - loss: 0.2155 - accuracy: 0.9098 - val_loss: 0.3848 - val_accuracy: 0.8461\n",
      "Epoch 8/10\n",
      "188/188 [==============================] - 10s 55ms/step - loss: 0.1955 - accuracy: 0.9185 - val_loss: 0.4097 - val_accuracy: 0.8472\n",
      "Epoch 9/10\n",
      "188/188 [==============================] - 11s 57ms/step - loss: 0.1753 - accuracy: 0.9277 - val_loss: 0.4353 - val_accuracy: 0.8358\n",
      "Epoch 10/10\n",
      "188/188 [==============================] - 11s 56ms/step - loss: 0.1559 - accuracy: 0.9358 - val_loss: 0.4792 - val_accuracy: 0.8379\n",
      "1537/1537 - 4s - loss: 0.4943 - accuracy: 0.8356\n",
      "[0.4943430721759796, 0.8355676531791687]\n",
      "Model: \"sequential_3\"\n",
      "_________________________________________________________________\n",
      "Layer (type)                 Output Shape              Param #   \n",
      "=================================================================\n",
      "embedding_3 (Embedding)      (None, None, 200)         2000000   \n",
      "_________________________________________________________________\n",
      "lstm_3 (LSTM)                (None, 200)               320800    \n",
      "_________________________________________________________________\n",
      "dense_6 (Dense)              (None, 10)                2010      \n",
      "_________________________________________________________________\n",
      "dense_7 (Dense)              (None, 1)                 11        \n",
      "=================================================================\n",
      "Total params: 2,322,821\n",
      "Trainable params: 2,322,821\n",
      "Non-trainable params: 0\n",
      "_________________________________________________________________\n",
      "Epoch 1/10\n",
      "188/188 [==============================] - 12s 66ms/step - loss: 0.4470 - accuracy: 0.7874 - val_loss: 0.3470 - val_accuracy: 0.8495\n",
      "Epoch 2/10\n",
      "188/188 [==============================] - 12s 63ms/step - loss: 0.3149 - accuracy: 0.8653 - val_loss: 0.3358 - val_accuracy: 0.8534\n",
      "Epoch 3/10\n",
      "188/188 [==============================] - 12s 63ms/step - loss: 0.2770 - accuracy: 0.8819 - val_loss: 0.3428 - val_accuracy: 0.8520\n",
      "Epoch 4/10\n",
      "188/188 [==============================] - 12s 62ms/step - loss: 0.2420 - accuracy: 0.8973 - val_loss: 0.3576 - val_accuracy: 0.8494\n",
      "Epoch 5/10\n",
      "188/188 [==============================] - 12s 63ms/step - loss: 0.2122 - accuracy: 0.9082 - val_loss: 0.3954 - val_accuracy: 0.8481\n",
      "Epoch 6/10\n",
      "188/188 [==============================] - 12s 63ms/step - loss: 0.1800 - accuracy: 0.9211 - val_loss: 0.4270 - val_accuracy: 0.8425\n",
      "Epoch 7/10\n",
      "188/188 [==============================] - 13s 69ms/step - loss: 0.1537 - accuracy: 0.9324 - val_loss: 0.4771 - val_accuracy: 0.8416\n",
      "Epoch 8/10\n",
      "188/188 [==============================] - 12s 66ms/step - loss: 0.1330 - accuracy: 0.9417 - val_loss: 0.5394 - val_accuracy: 0.8368\n",
      "Epoch 9/10\n",
      "188/188 [==============================] - 12s 66ms/step - loss: 0.1086 - accuracy: 0.9530 - val_loss: 0.6404 - val_accuracy: 0.8361\n",
      "Epoch 10/10\n",
      "188/188 [==============================] - 12s 62ms/step - loss: 0.0900 - accuracy: 0.9610 - val_loss: 0.7467 - val_accuracy: 0.8298\n",
      "1537/1537 - 4s - loss: 0.7761 - accuracy: 0.8254\n",
      "[0.7760563492774963, 0.8254368901252747]\n"
     ]
    },
    {
     "data": {
      "text/plain": [
       "<tensorflow.python.keras.callbacks.History at 0x7fba2722b190>"
      ]
     },
     "execution_count": 39,
     "metadata": {},
     "output_type": "execute_result"
    }
   ],
   "source": [
    "pipeline('korean_spm_5k.model',5000)\n",
    "pipeline('korean_spm_bpe_5k.model',5000)\n",
    "pipeline('korean_spm_bpe_10k.model',10000)"
   ]
  },
  {
   "cell_type": "markdown",
   "id": "removable-parliament",
   "metadata": {},
   "source": [
    " "
   ]
  },
  {
   "cell_type": "markdown",
   "id": "external-windsor",
   "metadata": {},
   "source": [
    "**<span style=\"color:#124445\">✓ 모델 훈련 및 성능 평가 : Mecab 모델</span>**"
   ]
  },
  {
   "cell_type": "code",
   "execution_count": 40,
   "id": "improved-sigma",
   "metadata": {},
   "outputs": [],
   "source": [
    "# using konlpy\n",
    "from konlpy.tag import Mecab\n",
    "tokenizer = Mecab()\n",
    "#미리 정의한 불용어\n",
    "stopwords = ['의','가','이','은','들','는','좀','잘','걍','과','도','를','으로','자','에','와','한','하다'] \n",
    "num_words = 10000\n",
    "\n",
    "# 함수 기능\n",
    "# 데이터의 중복 제거   \n",
    "# NaN 결측치 제거   \n",
    "# 한국어 토크나이저로 토큰화   \n",
    "# 불용어(Stopwords) 제거   \n",
    "# 사전word_to_index 구성   \n",
    "# 텍스트 스트링을 사전 인덱스 스트링으로 변환   \n",
    "# X_train, y_train, X_test, y_test, word_to_index 리턴   \n",
    "def load_data(train_data, test_data, num_words=num_words):\n",
    "    # 중복, 결측치 제거\n",
    "    train_data.drop_duplicates(subset=['document'], inplace=True)\n",
    "    train_data = train_data.dropna(how = 'any') \n",
    "    test_data.drop_duplicates(subset=['document'], inplace=True)\n",
    "    test_data = test_data.dropna(how = 'any') \n",
    "\n",
    "    X_train = []\n",
    "    for sentence in train_data['document']:\n",
    "        temp_X = tokenizer.morphs(sentence) # 토큰화\n",
    "        temp_X = [word for word in temp_X if not word in stopwords] # 불용어 제거\n",
    "        X_train.append(temp_X)\n",
    "\n",
    "    X_test = []\n",
    "    for sentence in test_data['document']:\n",
    "        temp_X = tokenizer.morphs(sentence) # 토큰화\n",
    "        temp_X = [word for word in temp_X if not word in stopwords] # 불용어 제거\n",
    "        X_test.append(temp_X)\n",
    "\n",
    "    words = np.concatenate(X_train).tolist()\n",
    "    counter = Counter(words)\n",
    "    counter = counter.most_common(num_words-4)\n",
    "    vocab = ['<PAD>', '<BOS>', '<UNK>', '<UNUSED>'] + [key for key, _ in counter]\n",
    "    # 사전 구성\n",
    "    word_to_index = {word:index for index, word in enumerate(vocab)}\n",
    "\n",
    "    def wordlist_to_indexlist(wordlist):\n",
    "        return [word_to_index[word] if word in word_to_index else word_to_index['<UNK>'] for word in wordlist]\n",
    "    # 변환 text to index\n",
    "    X_train = list(map(wordlist_to_indexlist, X_train))\n",
    "    X_test = list(map(wordlist_to_indexlist, X_test))\n",
    "\n",
    "    return X_train, np.array(list(train_data['label'])), X_test, np.array(list(test_data['label'])), word_to_index\n",
    "    \n",
    "X_train, y_train, X_test, y_test, word_to_index = load_data(train_data, test_data)"
   ]
  },
  {
   "cell_type": "code",
   "execution_count": 41,
   "id": "general-confidence",
   "metadata": {},
   "outputs": [],
   "source": [
    "# index to text 사전\n",
    "index_to_word = {index:word for word, index in word_to_index.items()}"
   ]
  },
  {
   "cell_type": "code",
   "execution_count": 42,
   "id": "mature-insured",
   "metadata": {},
   "outputs": [],
   "source": [
    "# 문장 1개를 활용할 딕셔너리와 함께 주면, 단어 인덱스 리스트 벡터로 변환해 주는 함수입니다. \n",
    "# 단, 모든 문장은 <BOS>로 시작하는 것으로 합니다. \n",
    "def get_encoded_sentence(sentence, word_to_index):\n",
    "    return [word_to_index['<BOS>']]+[word_to_index[word] if word in word_to_index else word_to_index['<UNK>'] for word in sentence.split()]\n",
    "\n",
    "# 여러 개의 문장 리스트를 한꺼번에 단어 인덱스 리스트 벡터로 encode해 주는 함수입니다. \n",
    "def get_encoded_sentences(sentences, word_to_index):\n",
    "    return [get_encoded_sentence(sentence, word_to_index) for sentence in sentences]\n",
    "\n",
    "# 숫자 벡터로 encode된 문장을 원래대로 decode하는 함수입니다. \n",
    "def get_decoded_sentence(encoded_sentence, index_to_word):\n",
    "    return ' '.join(index_to_word[index] if index in index_to_word else '<UNK>' for index in encoded_sentence[1:])  #[1:]를 통해 <BOS>를 제외\n",
    "\n",
    "# 여러개의 숫자 벡터로 encode된 문장을 한꺼번에 원래대로 decode하는 함수입니다. \n",
    "def get_decoded_sentences(encoded_sentences, index_to_word):\n",
    "    return [get_decoded_sentence(encoded_sentence, index_to_word) for encoded_sentence in encoded_sentences]"
   ]
  },
  {
   "cell_type": "code",
   "execution_count": 43,
   "id": "confirmed-bench",
   "metadata": {},
   "outputs": [
    {
     "name": "stdout",
     "output_type": "stream",
     "text": [
      "문장길이 평균 :  15.96938143432699\n",
      "문장길이 최대 :  116\n",
      "문장길이 표준편차 :  12.843571939469296\n",
      "pad_sequences maxlen :  41\n",
      "전체 문장의 0.9342988343341575%가 maxlen 설정값 이내에 포함됩니다. \n"
     ]
    }
   ],
   "source": [
    "total_data_text = list(X_train) + list(X_test)\n",
    "# 텍스트데이터 문장길이의 리스트를 생성한 후\n",
    "num_tokens = [len(tokens) for tokens in total_data_text]\n",
    "num_tokens = np.array(num_tokens)\n",
    "# 문장길이의 평균값, 최대값, 표준편차를 계산해 본다. \n",
    "print('문장길이 평균 : ', np.mean(num_tokens))\n",
    "print('문장길이 최대 : ', np.max(num_tokens))\n",
    "print('문장길이 표준편차 : ', np.std(num_tokens))\n",
    "\n",
    "# 최대 길이를 (평균 + 2*표준편차)로 한다  \n",
    "max_tokens = np.mean(num_tokens) + 2 * np.std(num_tokens)\n",
    "maxlen = int(max_tokens)\n",
    "print('pad_sequences maxlen : ', maxlen)\n",
    "print('전체 문장의 {}%가 maxlen 설정값 이내에 포함됩니다. '.format(np.sum(num_tokens < max_tokens) / len(num_tokens)))"
   ]
  },
  {
   "cell_type": "code",
   "execution_count": 44,
   "id": "regulation-circular",
   "metadata": {},
   "outputs": [
    {
     "name": "stdout",
     "output_type": "stream",
     "text": [
      "(146182, 41)\n"
     ]
    }
   ],
   "source": [
    "# 패딩 추가 (using keras.preprocessing.sequence.pad_sequences)\n",
    "X_train = keras.preprocessing.sequence.pad_sequences(X_train,\n",
    "                                                        value=word_to_index[\"<PAD>\"],\n",
    "                                                        padding='pre', # 혹은 'post'\n",
    "                                                        maxlen=maxlen)\n",
    "\n",
    "X_test = keras.preprocessing.sequence.pad_sequences(X_test,\n",
    "                                                       value=word_to_index[\"<PAD>\"],\n",
    "                                                       padding='pre', # 혹은 'post'\n",
    "                                                       maxlen=maxlen)\n",
    "\n",
    "print(X_train.shape)"
   ]
  },
  {
   "cell_type": "code",
   "execution_count": 45,
   "id": "facial-advantage",
   "metadata": {},
   "outputs": [
    {
     "name": "stdout",
     "output_type": "stream",
     "text": [
      "Model: \"sequential_4\"\n",
      "_________________________________________________________________\n",
      "Layer (type)                 Output Shape              Param #   \n",
      "=================================================================\n",
      "embedding_4 (Embedding)      (None, None, 200)         2000000   \n",
      "_________________________________________________________________\n",
      "lstm_4 (LSTM)                (None, 200)               320800    \n",
      "_________________________________________________________________\n",
      "dense_8 (Dense)              (None, 8)                 1608      \n",
      "_________________________________________________________________\n",
      "dense_9 (Dense)              (None, 1)                 9         \n",
      "=================================================================\n",
      "Total params: 2,322,417\n",
      "Trainable params: 2,322,417\n",
      "Non-trainable params: 0\n",
      "_________________________________________________________________\n"
     ]
    }
   ],
   "source": [
    "vocab_size = 10000    # 어휘 사전의 크기입니다(10,000개의 단어)\n",
    "word_vector_dim = 200  # 워드 벡터의 차원수 (변경가능한 하이퍼파라미터)\n",
    "\n",
    "# model 설계\n",
    "model = keras.Sequential()\n",
    "model.add(keras.layers.Embedding(vocab_size, word_vector_dim, input_shape=(None,)))\n",
    "model.add(keras.layers.LSTM(word_vector_dim))   # 가장 널리 쓰이는 RNN인 LSTM 레이어를 사용하였습니다. 이때 LSTM state 벡터의 차원수는 8로 하였습니다. (변경가능)\n",
    "model.add(keras.layers.Dense(8, activation='relu'))\n",
    "model.add(keras.layers.Dense(1, activation='sigmoid'))  # 최종 출력은 긍정/부정을 나타내는 1dim 입니다.\n",
    "\n",
    "model.summary()"
   ]
  },
  {
   "cell_type": "code",
   "execution_count": 46,
   "id": "grateful-accountability",
   "metadata": {},
   "outputs": [
    {
     "name": "stdout",
     "output_type": "stream",
     "text": [
      "(96182, 41)\n",
      "(96182,)\n"
     ]
    }
   ],
   "source": [
    "# validation set 50000건 분리\n",
    "x_val = X_train[:50000]   \n",
    "y_val = y_train[:50000]\n",
    "\n",
    "# validation set을 제외한 나머지 \n",
    "partial_X_train = X_train[50000:]  \n",
    "partial_y_train = y_train[50000:]\n",
    "\n",
    "print(partial_X_train.shape)\n",
    "print(partial_y_train.shape)"
   ]
  },
  {
   "cell_type": "code",
   "execution_count": 47,
   "id": "bigger-astrology",
   "metadata": {
    "scrolled": true
   },
   "outputs": [
    {
     "name": "stdout",
     "output_type": "stream",
     "text": [
      "Epoch 1/10\n",
      "188/188 [==============================] - 7s 39ms/step - loss: 0.4267 - accuracy: 0.7975 - val_loss: 0.3486 - val_accuracy: 0.8475\n",
      "Epoch 2/10\n",
      "188/188 [==============================] - 7s 38ms/step - loss: 0.3170 - accuracy: 0.8654 - val_loss: 0.3346 - val_accuracy: 0.8538\n",
      "Epoch 3/10\n",
      "188/188 [==============================] - 7s 39ms/step - loss: 0.2767 - accuracy: 0.8825 - val_loss: 0.3365 - val_accuracy: 0.8564\n",
      "Epoch 4/10\n",
      "188/188 [==============================] - 7s 39ms/step - loss: 0.2415 - accuracy: 0.8990 - val_loss: 0.3570 - val_accuracy: 0.8568\n",
      "Epoch 5/10\n",
      "188/188 [==============================] - 7s 39ms/step - loss: 0.2108 - accuracy: 0.9127 - val_loss: 0.3636 - val_accuracy: 0.8550\n",
      "Epoch 6/10\n",
      "188/188 [==============================] - 8s 40ms/step - loss: 0.1863 - accuracy: 0.9244 - val_loss: 0.3999 - val_accuracy: 0.8497\n",
      "Epoch 7/10\n",
      "188/188 [==============================] - 8s 40ms/step - loss: 0.1637 - accuracy: 0.9337 - val_loss: 0.4349 - val_accuracy: 0.8509\n",
      "Epoch 8/10\n",
      "188/188 [==============================] - 8s 42ms/step - loss: 0.1419 - accuracy: 0.9431 - val_loss: 0.5036 - val_accuracy: 0.8494\n",
      "Epoch 9/10\n",
      "188/188 [==============================] - 8s 42ms/step - loss: 0.1253 - accuracy: 0.9497 - val_loss: 0.5201 - val_accuracy: 0.8459\n",
      "Epoch 10/10\n",
      "188/188 [==============================] - 8s 41ms/step - loss: 0.1123 - accuracy: 0.9554 - val_loss: 0.5547 - val_accuracy: 0.8459\n"
     ]
    }
   ],
   "source": [
    "model.compile(optimizer='adam',\n",
    "              loss='binary_crossentropy',\n",
    "              metrics=['accuracy'])\n",
    "              \n",
    "epochs=10 \n",
    "\n",
    "history = model.fit(partial_X_train,\n",
    "                    partial_y_train,\n",
    "                    epochs=epochs,\n",
    "                    batch_size=512,\n",
    "                    validation_data=(x_val, y_val),\n",
    "                    verbose=1)"
   ]
  },
  {
   "cell_type": "code",
   "execution_count": 48,
   "id": "independent-complexity",
   "metadata": {
    "scrolled": false
   },
   "outputs": [
    {
     "name": "stdout",
     "output_type": "stream",
     "text": [
      "1537/1537 - 4s - loss: 0.5658 - accuracy: 0.8412\n",
      "[0.5657880306243896, 0.8412026762962341]\n"
     ]
    }
   ],
   "source": [
    "results = model.evaluate(X_test,  y_test, verbose=2)\n",
    "print(results)"
   ]
  },
  {
   "cell_type": "markdown",
   "id": "ambient-helen",
   "metadata": {},
   "source": [
    " "
   ]
  },
  {
   "cell_type": "markdown",
   "id": "pleased-massachusetts",
   "metadata": {},
   "source": [
    "## <span style=\"color:#2C786C\">Step 5. 정리</span>\n",
    "---\n",
    ">* SentencePiece 모델의 accuracy : 0.8319\n",
    ">* Mecab 모델의 accuracy : 0.8412\n",
    "\n",
    "둘 다 거의 차이가 없군요!"
   ]
  },
  {
   "cell_type": "markdown",
   "id": "statutory-playback",
   "metadata": {},
   "source": [
    " "
   ]
  },
  {
   "cell_type": "markdown",
   "id": "compatible-kuwait",
   "metadata": {},
   "source": [
    "## <span style=\"color:#2C786C\">Step 6. 루브릭 평가</span>\n",
    "---"
   ]
  },
  {
   "cell_type": "markdown",
   "id": "convertible-specialist",
   "metadata": {},
   "source": [
    "|평가문항|상세기준|\n",
    "|-------|--------|\n",
    "|1. SentencePiece를 이용하여 모델을 만들기까지의 과정이 정상적으로 진행되었는가?|코퍼스 분석, 전처리, SentencePiece 적용, 토크나이저 구현 및 동작이 빠짐없이 진행되었는가?|\n",
    "|2. SentencePiece를 통해 만든 Tokenizer가 자연어처리 모델과 결합하여 동작하는가?|SentencePiece 토크나이저가 적용된 Text Classifier 모델이 정상적으로 수렴하여 80% 이상의 test accuracy가 확인되었다.|\n",
    "|3. SentencePiece의 성능을 다각도로 비교·분석하였는가?|SentencePiece 토크나이저를 활용했을 때의 성능을 다른 토크나이저 혹은 SentencePiece의 다른 옵션의 경우와 비교하여 분석을 체계적으로 진행하였다.|"
   ]
  },
  {
   "cell_type": "markdown",
   "id": "white-congress",
   "metadata": {},
   "source": [
    " "
   ]
  },
  {
   "cell_type": "markdown",
   "id": "economic-albuquerque",
   "metadata": {},
   "source": [
    "## <span style=\"color:#2C786C\">Step 7. 회고</span>\n",
    "---\n",
    "첫 번째 고잉디퍼 과제인 만큼 새로운 마음가짐으로 임하였습니다.😊<br>\n",
    "같은 관심사로 공부하는 사람들끼리 모이니 렉쳐 학습할 때도 즐거웠습니다.<br>\n",
    "더불어 개인적으로 과거에 제대로 하지 못했던 익스도 같이 복습하는 시간을 가져볼 수 있어 좋았습니다.<br>\n",
    "다만 에포크 돌릴 때 끼릭끼릭 소리나는데 왜그런지 잘 모르겠습니다.🤔<br>\n",
    "2주의 시간이라 넉넉할 줄 알았는데 조삼모사였다는 깨달음을 얻어 남은 프로젝트는 서둘러 마무리 져야겠어요.😭😭😭😭😭😭😭"
   ]
  },
  {
   "cell_type": "markdown",
   "id": "closing-advertiser",
   "metadata": {},
   "source": [
    " "
   ]
  },
  {
   "cell_type": "markdown",
   "id": "operational-cheese",
   "metadata": {},
   "source": [
    "---"
   ]
  }
 ],
 "metadata": {
  "kernelspec": {
   "display_name": "aiffel",
   "language": "python",
   "name": "aiffel"
  },
  "language_info": {
   "codemirror_mode": {
    "name": "ipython",
    "version": 3
   },
   "file_extension": ".py",
   "mimetype": "text/x-python",
   "name": "python",
   "nbconvert_exporter": "python",
   "pygments_lexer": "ipython3",
   "version": "3.7.9"
  }
 },
 "nbformat": 4,
 "nbformat_minor": 5
}
