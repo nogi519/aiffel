{
 "cells": [
  {
   "cell_type": "markdown",
   "id": "elder-parade",
   "metadata": {},
   "source": [
    "# <center><span style=\"color:#2C786C\">프로젝트 : 모든 장르 간 편향성 측정해 보기</span></center>"
   ]
  },
  {
   "cell_type": "markdown",
   "id": "pursuant-kruger",
   "metadata": {},
   "source": [
    " "
   ]
  },
  {
   "cell_type": "markdown",
   "id": "gentle-document",
   "metadata": {},
   "source": [
    "지금까지 우리는 영화 시놉시스 코퍼스를 가지고 영화 구분과 영화 장르 간에 내재된 편향성을 측정하는 작업을 진행해 보았습니다. 어느 정도는 우리의 상식과 일치하는 편향성이 측정되었을 것입니다."
   ]
  },
  {
   "cell_type": "markdown",
   "id": "internal-grain",
   "metadata": {},
   "source": [
    "이번에는 모든 장르에 대해 영화 구분과의 편향성 정도를 측정해 보겠습니다. 대부분의 과정은 이전 스텝에서 이미 진행한 내용을 참고해서 동일하게 진행 가능할 것입니다."
   ]
  },
  {
   "cell_type": "markdown",
   "id": "known-philadelphia",
   "metadata": {},
   "source": [
    " "
   ]
  },
  {
   "cell_type": "markdown",
   "id": "pregnant-virginia",
   "metadata": {},
   "source": [
    "## <span style=\"color:#F7B400\">목표</span>\n",
    ">* **<span style=\"color:#2C786C\">데이터의 편향성에 대한 문제의식을 갖는다.</span>**\n",
    ">* **<span style=\"color:#2C786C\">임베딩 모델의 편향성을 체크하는 방법 중 하나인 Word Embedding Association Test (WEAT)를 알아본다.</span>**\n",
    ">* **<span style=\"color:#2C786C\">WEAT 수식의 의미를 이해하고 이를 구현해본다.</span>**\n",
    ">* **<span style=\"color:#2C786C\">pre-train된 모델을 불러와서 WEAT score를 구해본다.**</span>"
   ]
  },
  {
   "cell_type": "markdown",
   "id": "gross-lightning",
   "metadata": {},
   "source": [
    " "
   ]
  },
  {
   "cell_type": "markdown",
   "id": "alpha-welcome",
   "metadata": {},
   "source": [
    "## <span style=\"color:#F7B400\">순서</span>\n",
    "> **<span style=\"color:#2C786C\">Step 1. 형태소 분석기를 이용하여 품사가 명사인 경우 해당 단어를 추출하기</span>**<br>\n",
    "**<span style=\"color:#2C786C\">Step 2. 추출된 결과로 embedding model 만들기</span>**<br>\n",
    "**<span style=\"color:#2C786C\">Step 3. target, attribute 단어 셋 만들기</span>**<br>\n",
    "**<span style=\"color:#2C786C\">Step 4. WEAT score 계산과 시각화</span>**<br>\n",
    "**<span style=\"color:#2C786C\">Step 5. 정리</span>**<br>\n",
    "**<span style=\"color:#2C786C\">Step 6. 루브릭 평가</span>**<br>\n",
    "**<span style=\"color:#2C786C\">Step 7. 회고</span>**"
   ]
  },
  {
   "cell_type": "markdown",
   "id": "laughing-bristol",
   "metadata": {},
   "source": [
    " "
   ]
  },
  {
   "cell_type": "markdown",
   "id": "accurate-engineering",
   "metadata": {},
   "source": [
    "### <span style=\"color:#926DD6\">참고</span>\n",
    ">* []()\n",
    ">* []()"
   ]
  },
  {
   "cell_type": "markdown",
   "id": "hazardous-glasgow",
   "metadata": {},
   "source": [
    " "
   ]
  },
  {
   "cell_type": "markdown",
   "id": "configured-commercial",
   "metadata": {},
   "source": [
    "### <span style=\"color:#926DD6\">개념</span>\n",
    ">*\n",
    "\n",
    ">*"
   ]
  },
  {
   "cell_type": "markdown",
   "id": "speaking-timing",
   "metadata": {},
   "source": [
    " "
   ]
  },
  {
   "cell_type": "markdown",
   "id": "angry-upgrade",
   "metadata": {},
   "source": [
    "## <span style=\"color:#2C786C\">Step 1. 형태소 분석기를 이용하여 품사가 명사인 경우 해당 단어를 추출하기</span>\n",
    "---"
   ]
  },
  {
   "cell_type": "markdown",
   "id": "european-reservation",
   "metadata": {},
   "source": [
    " "
   ]
  },
  {
   "cell_type": "markdown",
   "id": "primary-swing",
   "metadata": {},
   "source": [
    "## <span style=\"color:#2C786C\">Step 2. 추출된 결과로 embedding model 만들기</span>\n",
    "---"
   ]
  },
  {
   "cell_type": "markdown",
   "id": "severe-kennedy",
   "metadata": {},
   "source": [
    " "
   ]
  },
  {
   "cell_type": "markdown",
   "id": "violent-metropolitan",
   "metadata": {},
   "source": [
    "## <span style=\"color:#2C786C\">Step 3. target, attribute 단어 셋 만들기</span>\n",
    "---\n",
    "이전 스텝에서는 TF-IDF를 사용해서 단어 셋을 만들었습니다. 이 방법으로도 어느 정도는 대표 단어를 잘 선정할 수 있습니다. 그러나 TF-IDF가 높은 단어를 골랐음에도 불구하고 중복되는 단어가 발생하는 문제가 있었습니다.\n",
    "개념축을 표현하는 단어가 제대로 선정되지 않은 것은 WEAT 계산 결과에 악영향을 미칩니다."
   ]
  },
  {
   "cell_type": "markdown",
   "id": "exact-garlic",
   "metadata": {},
   "source": [
    "혹시 TF-IDF를 적용했을 때의 문제점이 무엇인지 지적 가능하다면 그 문제점을 지적하고 스스로 방법을 개선하여 대표 단어 셋을 구축해 보기 바랍니다. TF-IDF 방식을 쓰더라도 중복된 단어를 잘 제거하면 여전히 유용한 방식이 될 수 있습니다."
   ]
  },
  {
   "cell_type": "markdown",
   "id": "hydraulic-produce",
   "metadata": {},
   "source": [
    " "
   ]
  },
  {
   "cell_type": "code",
   "execution_count": 2,
   "id": "stylish-tobago",
   "metadata": {},
   "outputs": [],
   "source": [
    "genre_txt = ['synopsis_SF.txt', 'synopsis_family.txt', 'synopsis_show.txt', 'synopsis_horror.txt', 'synopsis_etc.txt', \n",
    "             'synopsis_documentary.txt', 'synopsis_drama.txt', 'synopsis_romance.txt', 'synopsis_musical.txt', \n",
    "             'synopsis_mystery.txt', 'synopsis_crime.txt', 'synopsis_historical.txt', 'synopsis_western.txt', \n",
    "             'synopsis_adult.txt', 'synopsis_thriller.txt', 'synopsis_animation.txt', 'synopsis_action.txt', \n",
    "             'synopsis_adventure.txt', 'synopsis_war.txt', 'synopsis_comedy.txt', 'synopsis_fantasy.txt']\n",
    "genre_name = ['SF', '가족', '공연', '공포(호러)', '기타', '다큐멘터리', '드라마', '멜로로맨스', '뮤지컬', '미스터리', '범죄', '사극', '서부극(웨스턴)',\n",
    "         '성인물(에로)', '스릴러', '애니메이션', '액션', '어드벤처', '전쟁', '코미디', '판타지']"
   ]
  },
  {
   "cell_type": "markdown",
   "id": "important-assignment",
   "metadata": {},
   "source": [
    " "
   ]
  },
  {
   "cell_type": "markdown",
   "id": "informative-search",
   "metadata": {},
   "source": [
    "## <span style=\"color:#2C786C\">Step 4. WEAT score 계산과 시각화</span>\n",
    "---\n",
    "영화 구분, 영화 장르에 따른 편향성을 측정하여 WEAT score로 계산해 보고 이를 Heatmap 형태로 시각화해 봅시다. 편향성이 두드러지는 영화장르 attribute 구성에는 어떤 케이스가 있는지 시각적으로 두드러지게 구성되면 좋습니다."
   ]
  },
  {
   "cell_type": "markdown",
   "id": "regulation-escape",
   "metadata": {},
   "source": [
    " "
   ]
  },
  {
   "cell_type": "markdown",
   "id": "aquatic-broadcast",
   "metadata": {},
   "source": [
    "## <span style=\"color:#2C786C\">Step 5. 정리</span>\n",
    "---"
   ]
  },
  {
   "cell_type": "markdown",
   "id": "enabling-basics",
   "metadata": {},
   "source": [
    " "
   ]
  },
  {
   "cell_type": "markdown",
   "id": "disciplinary-quantum",
   "metadata": {},
   "source": [
    "## <span style=\"color:#2C786C\">Step 6. 루브릭 평가</span>\n",
    "---"
   ]
  },
  {
   "cell_type": "markdown",
   "id": "adequate-passing",
   "metadata": {},
   "source": [
    "|평가문항|상세기준|\n",
    "|-------|--------|\n",
    "|1. 주어진 영화 코퍼스를 바탕으로 워드임베딩 모델을 정상적으로 만들었다.|워드임베딩의 most_similar() 메소드 결과가 의미상 바르게 나왔다.|\n",
    "|2. 영화 구분, 장르별로 target, attribute에 대한 대표성있는 단어 셋을 생성하였다.|타당한 방법론을 통해 중복이 잘 제거되고 개념축을 의미적으로 잘 대표하는 단어 셋이 만들어졌다.|\n",
    "|3. WEAT score 계산 및 시각화를 정상적으로 진행하였다.|전체 영화 장르별로 예술/일반 영화에 대한 편향성 WEAT score가 상식에 부합하는 수치로 얻어졌으며 이를 잘 시각화하였다.|"
   ]
  },
  {
   "cell_type": "markdown",
   "id": "loose-combining",
   "metadata": {},
   "source": [
    " "
   ]
  },
  {
   "cell_type": "markdown",
   "id": "short-recording",
   "metadata": {},
   "source": [
    "## <span style=\"color:#2C786C\">Step 7. 회고</span>\n",
    "---"
   ]
  },
  {
   "cell_type": "markdown",
   "id": "charitable-format",
   "metadata": {},
   "source": [
    " "
   ]
  }
 ],
 "metadata": {
  "kernelspec": {
   "display_name": "aiffel",
   "language": "python",
   "name": "aiffel"
  },
  "language_info": {
   "codemirror_mode": {
    "name": "ipython",
    "version": 3
   },
   "file_extension": ".py",
   "mimetype": "text/x-python",
   "name": "python",
   "nbconvert_exporter": "python",
   "pygments_lexer": "ipython3",
   "version": "3.7.9"
  }
 },
 "nbformat": 4,
 "nbformat_minor": 5
}
