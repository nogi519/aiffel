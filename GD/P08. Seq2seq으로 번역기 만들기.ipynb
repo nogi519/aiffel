{
 "cells": [
  {
   "cell_type": "markdown",
   "id": "checked-stress",
   "metadata": {},
   "source": [
    "# <center><span style=\"color:#2C786C\">프로젝트 : 한영 번역기 만들기</span></center>"
   ]
  },
  {
   "cell_type": "markdown",
   "id": "inner-merit",
   "metadata": {},
   "source": [
    " "
   ]
  },
  {
   "cell_type": "markdown",
   "id": "broken-puppy",
   "metadata": {},
   "source": [
    "## <span style=\"color:#F7B400\">순서</span>\n",
    "> **<span style=\"color:#2C786C\">Step 1. 데이터 다운로드</span>**<br>\n",
    "**<span style=\"color:#2C786C\">Step 2. 데이터 정제</span>**<br>\n",
    "**<span style=\"color:#2C786C\">Step 3. 데이터 토큰화</span>**<br>\n",
    "**<span style=\"color:#2C786C\">Step 4. 모델 설계</span>**<br>\n",
    "**<span style=\"color:#2C786C\">Step 5. 훈련하기</span>**<br>\n",
    "**<span style=\"color:#2C786C\">Step 6. 정리</span>**<br>\n",
    "**<span style=\"color:#2C786C\">Step 7. 루브릭 평가</span>**<br>\n",
    "**<span style=\"color:#2C786C\">Step 8. 회고</span>**"
   ]
  },
  {
   "cell_type": "markdown",
   "id": "earlier-haven",
   "metadata": {},
   "source": [
    " "
   ]
  },
  {
   "cell_type": "markdown",
   "id": "elementary-money",
   "metadata": {},
   "source": [
    "### <span style=\"color:#926DD6\">참고</span>\n",
    ">* []()\n",
    ">* []()"
   ]
  },
  {
   "cell_type": "markdown",
   "id": "trying-confusion",
   "metadata": {},
   "source": [
    " "
   ]
  },
  {
   "cell_type": "markdown",
   "id": "better-scene",
   "metadata": {},
   "source": [
    "### <span style=\"color:#926DD6\">개념</span>\n",
    ">*\n",
    "\n",
    ">*"
   ]
  },
  {
   "cell_type": "markdown",
   "id": "sophisticated-democracy",
   "metadata": {},
   "source": [
    " "
   ]
  },
  {
   "cell_type": "markdown",
   "id": "concrete-study",
   "metadata": {},
   "source": [
    "## <span style=\"color:#2C786C\">Step 1. 데이터 다운로드</span>\n",
    "---\n",
    "아래 링크에서 **`korean-english-park.train.tar.gz`**를 다운로드받아 한영 병렬 데이터를 확보합니다.\n",
    "* [jungyeul/korean-parallel-corpora](https://github.com/jungyeul/korean-parallel-corpora/tree/master/korean-english-news-v1)"
   ]
  },
  {
   "cell_type": "markdown",
   "id": "statistical-flavor",
   "metadata": {},
   "source": [
    " "
   ]
  },
  {
   "cell_type": "markdown",
   "id": "wanted-ancient",
   "metadata": {},
   "source": [
    "## <span style=\"color:#2C786C\">Step 2. 데이터 정제</span>\n",
    "---\n",
    "1) **`set`** 데이터형이 **중복을 허용하지 않는다는 것을 활용**해 중복된 데이터를 제거하도록 합니다. 데이터의 **병렬 쌍이 흐트러지지 않게 주의**하세요! 중복을 제거한 데이터를 **`cleaned_corpus`**에 저장합니다.\n",
    "\n",
    "2) 앞서 정의한 **`preprocessing()`** 함수는 한글에 대해 동작하지 않습니다. **한글에 적용할 수 있는 정규식**을 추가하여 함수를 재정의하세요!\n",
    "\n",
    "3) 타겟 언어인 영문엔 **`<start>`**토큰과 **`<end>`**토큰을 추가하고 **`split()`** 함수로 토큰화합니다. 한글 토큰화는 KoNLPy의 **`mecab`** 클래스를 사용합니다. KoNLPy가 설치되어 있지 않다면 아래 문서를 참고해 설치해 주세요.\n",
    "\n",
    "* [설치하기-KoNLPy](https://konlpy.org/ko/latest/install/#ubuntu)\n",
    "\n",
    "모든 데이터를 사용할 경우 학습에 굉장히 오랜 시간이 걸립니다. **`cleaned_corpus`**로부터 **토큰의 길이가 40 이하인 데이터를 선별**하여 **`eng_corpus`**와 **`kor_corpus`**를 각각 구축하세요."
   ]
  },
  {
   "cell_type": "markdown",
   "id": "according-prospect",
   "metadata": {},
   "source": [
    " "
   ]
  },
  {
   "cell_type": "markdown",
   "id": "traditional-colleague",
   "metadata": {},
   "source": [
    "## <span style=\"color:#2C786C\">Step 3. 데이터 토큰화</span>\n",
    "---\n",
    "앞서 정의한 **`tokenize()`** 함수를 사용해 데이터를 텐서로 변환하고 각각의 **`tokenizer`**를 얻으세요! 단어의 수는 실험을 통해 적당한 값을 맞춰주도록 합니다! *(최소 10,000 이상!)*\n",
    "\n",
    "*난이도에 비해 데이터가 많지 않아 훈련 데이터와 검증 데이터를 따로 나누지는 않습니다.*"
   ]
  },
  {
   "cell_type": "markdown",
   "id": "proof-annotation",
   "metadata": {},
   "source": [
    " "
   ]
  },
  {
   "cell_type": "markdown",
   "id": "charming-sydney",
   "metadata": {},
   "source": [
    "## <span style=\"color:#2C786C\">Step 4. 모델 설계</span>\n",
    "---\n",
    "한국어를 영어로 잘 번역해 줄 멋진 **Attention 기반 Seq2seq 모델을 설계**하세요! 앞서 만든 모델에**`Dropout`** 모듈을 추가하면 성능이 더 좋아질 거랍니다! **`Embedding Size`**와 **`Hidden Size`**는 실험을 통해 적당한 값을 맞춰 주도록 합니다!"
   ]
  },
  {
   "cell_type": "markdown",
   "id": "prime-reservation",
   "metadata": {},
   "source": [
    " "
   ]
  },
  {
   "cell_type": "markdown",
   "id": "encouraging-editing",
   "metadata": {},
   "source": [
    "## <span style=\"color:#2C786C\">Step 5. 훈련하기</span>\n",
    "---\n",
    "훈련엔 위에서 사용한 코드를 그대로 사용하되, eval_step() 부분이 없음에 유의합니다! 매 스텝 아래의 예문에 대한 번역을 생성하여 본인이 생각하기에 가장 멋지게 번역한 Case를 제출하세요! (Attention Map을 시각화해보는 것도 재밌을 거예요!)"
   ]
  },
  {
   "cell_type": "markdown",
   "id": "extended-receipt",
   "metadata": {},
   "source": [
    "*참고: 데이터의 난이도가 높은 편이므로 생각만큼 결과가 잘 안나올 수 있습니다.*"
   ]
  },
  {
   "cell_type": "markdown",
   "id": "perceived-burden",
   "metadata": {},
   "source": [
    "    ## 예문 ##\n",
    "    K1) 오바마는 대통령이다.\n",
    "    K2) 시민들은 도시 속에 산다.\n",
    "    K3) 커피는 필요 없다.\n",
    "    K4) 일곱 명의 사망자가 발생했다.\n",
    "\n",
    "    ## 제출 ##\n",
    "    E1) obama is the president . <end>\n",
    "    E2) people are victims of the city . <end>\n",
    "    E2) the price is not enough . <end>\n",
    "    E2) seven people have died . <end>"
   ]
  },
  {
   "cell_type": "markdown",
   "id": "alleged-sapphire",
   "metadata": {},
   "source": [
    "![](https://aiffelstaticprd.blob.core.windows.net/media/images/GN-4-P-4.max-800x600.jpg)"
   ]
  },
  {
   "cell_type": "markdown",
   "id": "qualified-hypothesis",
   "metadata": {},
   "source": [
    " "
   ]
  },
  {
   "cell_type": "markdown",
   "id": "inside-controversy",
   "metadata": {},
   "source": [
    "## <span style=\"color:#2C786C\">Step 6. 정리</span>\n",
    "---"
   ]
  },
  {
   "cell_type": "markdown",
   "id": "legitimate-compatibility",
   "metadata": {},
   "source": [
    " "
   ]
  },
  {
   "cell_type": "markdown",
   "id": "architectural-composer",
   "metadata": {},
   "source": [
    "## <span style=\"color:#2C786C\">Step 7. 루브릭 평가</span>\n",
    "---"
   ]
  },
  {
   "cell_type": "markdown",
   "id": "suited-noise",
   "metadata": {},
   "source": [
    "|평가문항|상세기준|\n",
    "|-------|--------|\n",
    "|1. 번역기 모델 학습에 필요한 텍스트 데이터 전처리가 한국어 포함하여 잘 이루어졌다.|구두점, 대소문자, 띄어쓰기, 한글 형태소분석 등 번역기 모델에 요구되는 전처리가 정상적으로 진행되었다.|\n",
    "|2. Attentional Seq2seq 모델이 정상적으로 구동된다.|seq2seq 모델 훈련 과정에서 training loss가 안정적으로 떨어지면서 학습이 진행됨이 확인되었다.|\n",
    "|3. 테스트 결과 의미가 통하는 수준의 번역문이 생성되었다.|테스트용 디코더 모델이 정상적으로 만들어져서, 정답과 어느 정도 유사한 영어 번역이 진행됨을 확인하였다.|"
   ]
  },
  {
   "cell_type": "markdown",
   "id": "veterinary-desire",
   "metadata": {},
   "source": [
    " "
   ]
  },
  {
   "cell_type": "markdown",
   "id": "arctic-phrase",
   "metadata": {},
   "source": [
    "## <span style=\"color:#2C786C\">Step 8. 회고</span>\n",
    "---"
   ]
  },
  {
   "cell_type": "markdown",
   "id": "divided-latitude",
   "metadata": {},
   "source": [
    " "
   ]
  }
 ],
 "metadata": {
  "kernelspec": {
   "display_name": "aiffel",
   "language": "python",
   "name": "aiffel"
  },
  "language_info": {
   "codemirror_mode": {
    "name": "ipython",
    "version": 3
   },
   "file_extension": ".py",
   "mimetype": "text/x-python",
   "name": "python",
   "nbconvert_exporter": "python",
   "pygments_lexer": "ipython3",
   "version": "3.7.9"
  }
 },
 "nbformat": 4,
 "nbformat_minor": 5
}
