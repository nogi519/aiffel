{
 "cells": [
  {
   "cell_type": "markdown",
   "id": "affiliated-mandate",
   "metadata": {},
   "source": [
    "# <span style=\"color:#2C786C\">4 프로젝트: Vocabulary Size를 변경해서 시도해보기</span>"
   ]
  },
  {
   "cell_type": "markdown",
   "id": "massive-auckland",
   "metadata": {},
   "source": [
    "지금까지는 모델을 변경하고, 모델을 조합해서 성능을 올리는 일에 힘썼습니다. 그런데 어쩌면 성능을 높이는 방법은 단순히 모델을 조정하는 일이 한정되지 않을 수 있습니다. 데이터의 전처리는 모델의 성능에 영향을 직접적으로 줍니다. 특히나 Bag of Words를 기반으로 하는 DTM이나 TF-IDF의 경우, 사용하는 단어의 수를 어떻게 결정하느냐에 따라서 성능에 영향을 줄 수 있겠죠."
   ]
  },
  {
   "cell_type": "markdown",
   "id": "broke-situation",
   "metadata": {},
   "source": [
    "중요도가 낮은 단어들까지 포함해서 너무 많은 단어를 사용하는 경우에도 성능이 저하될 수 있고, 반대로 너무 적은 단어들을 사용해도 성능이 저하될 수 있습니다. 그리고 이렇게 변화된 단어의 수는 또 어떤 모델을 사용하느냐에 따라 유리할 수도, 불리할 수도 있습니다."
   ]
  },
  {
   "cell_type": "markdown",
   "id": "thick-pottery",
   "metadata": {},
   "source": [
    "단어의 수에 따라서 모델의 성능이 어떻게 변하는지 테스트해 봅시다."
   ]
  },
  {
   "cell_type": "markdown",
   "id": "designing-dictionary",
   "metadata": {},
   "source": [
    "(x_train, y_train), (x_test, y_test) = reuters.load_data(num_words=10000, test_split=0.2)"
   ]
  },
  {
   "cell_type": "markdown",
   "id": "painted-bunny",
   "metadata": {},
   "source": [
    "앞서 **`num_words`**로 사용할 단어의 수를 조정할 수 있다는 것을 배웠습니다. 빈도수가 많은 순서대로 나열했을 때, **`num_words`**의 인자로 준 정숫값만큼의 단어를 사용하고 나머지 단어는 전부 **`<unk>`**로 처리하는 원리였었죠."
   ]
  },
  {
   "cell_type": "markdown",
   "id": "convenient-orbit",
   "metadata": {},
   "source": [
    "아래의 두 가지 경우에 대해서 지금까지 사용했던 모델들의 정확도를 직접 확인해 보세요."
   ]
  },
  {
   "cell_type": "markdown",
   "id": "simplified-healing",
   "metadata": {},
   "source": [
    "## <span style=\"color:#F7B400\">순서</span>\n",
    "> **<span style=\"color:#2C786C\">Step 1. 모든 단어 사용</span>**<br>\n",
    "**<span style=\"color:#2C786C\">Step 2. 빈도수 상위 5,000개의 단어만 사용</span>**<br>\n",
    "**<span style=\"color:#2C786C\">Step 3. 직접 단어 갯수를 설정해서 사용</span>**<br>\n",
    "**<span style=\"color:#2C786C\">Step 4. 딥러닝 모델과 비교해 보기</span>**<br>\n",
    "**<span style=\"color:#2C786C\">Step 5. 루브릭 평가</span>**<br>\n",
    "**<span style=\"color:#2C786C\">Step 6. 회고</span>**"
   ]
  },
  {
   "cell_type": "markdown",
   "id": "twenty-concert",
   "metadata": {},
   "source": [
    " "
   ]
  },
  {
   "cell_type": "markdown",
   "id": "accomplished-nicaragua",
   "metadata": {},
   "source": [
    "## <span style=\"color:#124445\">Step 1. 모든 단어 사용</span>\n",
    "---"
   ]
  },
  {
   "cell_type": "markdown",
   "id": "derived-equilibrium",
   "metadata": {},
   "source": [
    "    (x_train, y_train), (x_test, y_test) = reuters.load_data(num_words=None, test_split=0.2)"
   ]
  },
  {
   "cell_type": "markdown",
   "id": "engaged-carroll",
   "metadata": {},
   "source": [
    " "
   ]
  },
  {
   "cell_type": "markdown",
   "id": "forbidden-decision",
   "metadata": {},
   "source": [
    "## <span style=\"color:#124445\">Step 2. 빈도수 상위 5,000개의 단어만 사용</span>\n",
    "---"
   ]
  },
  {
   "cell_type": "markdown",
   "id": "capable-aberdeen",
   "metadata": {},
   "source": [
    "    (x_train, y_train), (x_test, y_test) = reuters.load_data(num_words=5000, test_split=0.2)"
   ]
  },
  {
   "cell_type": "markdown",
   "id": "incorporated-interpretation",
   "metadata": {},
   "source": [
    " "
   ]
  },
  {
   "cell_type": "markdown",
   "id": "significant-elder",
   "metadata": {},
   "source": [
    "## <span style=\"color:#124445\">Step 3. 직접 단어 갯수를 설정해서 사용</span>\n",
    "---\n",
    "위 단계에서 5000으로 제시된 **`num_words`**를 다양하게 바꾸어 가며 성능을 확인해보세요. 변화된 단어 수에 따른 모델의 성능을 연구해 보세요. **최소 3가지 경우 이상을 실험**해 보기를 권합니다."
   ]
  },
  {
   "cell_type": "markdown",
   "id": "associate-upper",
   "metadata": {},
   "source": [
    "> ***사용할 모델***<br>\n",
    "> *나이브 베이즈 분류기, CNB, 로지스틱 회귀, 서포트 벡터 머신, 결정 트리, 랜덤 포레스트, 그래디언트 부스팅 트리, 보팅*"
   ]
  },
  {
   "cell_type": "markdown",
   "id": "logical-confidence",
   "metadata": {},
   "source": [
    " "
   ]
  },
  {
   "cell_type": "markdown",
   "id": "original-salon",
   "metadata": {},
   "source": [
    "## <span style=\"color:#124445\">Step 4. 딥러닝 모델과 비교해 보기</span>\n",
    "---\n",
    "위 과정을 통해 나온 최적의 모델과 단어 수 조건에서, 본인이 선택한 다른 모델을 적용한 결과와 비교해 봅시다. 감정분석 등에 사용했던 RNN이나 1-D CNN 등의 딥러닝 모델 중 하나를 선택해서 오늘 사용했던 데이터셋을 학습해 보고 나오는 결과를 비교해 봅시다. 단, 공정한 비교를 위해 이때 Word2Vec 등의 pretrained model은 사용하지 않도록 합니다."
   ]
  },
  {
   "cell_type": "markdown",
   "id": "median-daisy",
   "metadata": {},
   "source": [
    " "
   ]
  },
  {
   "cell_type": "markdown",
   "id": "radio-authority",
   "metadata": {},
   "source": [
    "## <span style=\"color:#124445\">Step 5. 루브릭 평가</span>\n",
    "---"
   ]
  },
  {
   "cell_type": "markdown",
   "id": "adaptive-stewart",
   "metadata": {},
   "source": [
    "|평가문항|상세기준|\n",
    "|-------|--------|\n",
    "|1. 분류 모델의 accuracy가 기준 이상 높게 나왔는가?|3가지 단어 개수에 대해 8가지 머신러닝 기법을 적용하여 그중 최적의 솔루션을 도출하였다.|\n",
    "|2. 분류 모델의 F1 score가 기준 이상 높게 나왔는가?|Vocabulary size에 따른 각 머신러닝 모델의 성능변화 추이를 살피고, 해당 머신러닝 알고리즘의 특성에 근거해 원인을 분석하였다.|\n",
    "|3. 생성모델의 metric(BLEU 등) 기준 이상 높은 성능이 확인되었는가?|동일한 데이터셋과 전처리 조건으로 딥러닝 모델의 성능과 비교하여 결과에 따른 원인을 분석하였다.|"
   ]
  },
  {
   "cell_type": "markdown",
   "id": "diagnostic-hammer",
   "metadata": {},
   "source": [
    " "
   ]
  },
  {
   "cell_type": "markdown",
   "id": "unnecessary-poison",
   "metadata": {},
   "source": [
    "## <span style=\"color:#2C786C\">Step 6. 회고</span>\n",
    "---"
   ]
  },
  {
   "cell_type": "markdown",
   "id": "municipal-foundation",
   "metadata": {},
   "source": [
    " "
   ]
  },
  {
   "cell_type": "markdown",
   "id": "banner-priest",
   "metadata": {},
   "source": [
    "---"
   ]
  }
 ],
 "metadata": {
  "kernelspec": {
   "display_name": "aiffel",
   "language": "python",
   "name": "aiffel"
  },
  "language_info": {
   "codemirror_mode": {
    "name": "ipython",
    "version": 3
   },
   "file_extension": ".py",
   "mimetype": "text/x-python",
   "name": "python",
   "nbconvert_exporter": "python",
   "pygments_lexer": "ipython3",
   "version": "3.7.9"
  }
 },
 "nbformat": 4,
 "nbformat_minor": 5
}
