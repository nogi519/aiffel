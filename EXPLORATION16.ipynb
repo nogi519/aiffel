{
 "cells": [
  {
   "cell_type": "markdown",
   "id": "wound-heath",
   "metadata": {},
   "source": [
    "# SRGAN 활용하기\n",
    "-----\n",
    "### 프로젝트 1 : 직접 고른 이미지로 SRGAN 실험하기\n",
    "### 프로젝트 2 : SRGAN을 이용해 고해상도 gif 생성하기"
   ]
  },
  {
   "cell_type": "markdown",
   "id": "dominican-music",
   "metadata": {},
   "source": [
    "### 프로젝트 1 : 직접 고른 이미지로 SRGAN 실험하기\n",
    "---\n",
    "앞서 사용했던 **`DIV2K`** 데이터셋은 bicubic interpolation을 이용해 가로 및 세로 픽셀 수를 1/4로 줄인 저해상도 이미지와 원래 고해상도 이미지 사이에서 학습되었습니다. 이 데이터셋으로 학습된 SRGAN를 이용해 좋은 결과를 얻기 위해서는 위와 같은 과정이 동일하게 진행되는 것이 좋습니다.\n",
    "\n",
    "아래와 같이 두 가지 다른 단계를 거쳐서 직접 고른 이미지에 대해 SRGAN을 적용해 봅시다. (모델 학습을 진행하는 건 아닙니다❗) 테스트할 이미지를 고를 때, **`DIV2K`** 의 학습 데이터셋과 비슷한 종류의 이미지가 좋습니다. 일반적으로 자연, 동물, 건물 등의 이미지가 학습에 사용되었으며, 이와 달리 애니메이션 등의 이미지는 고해상도로 잘 변환되지 않을 수 있습니다.\n",
    "\n",
    "특정 데이터셋에서만 학습되었기 때문에, 일반적으로 좋지 않은 결과가 나올 가능성이 높습니다. 결과와 상관없이 아래 과정만 잘 수행해봅시다."
   ]
  },
  {
   "cell_type": "markdown",
   "id": "generic-destination",
   "metadata": {},
   "source": [
    "**프로젝트 1-1.**\n",
    "\n",
    "1. (적당히) 높은 해상도를 가진 이미지를 검색해서 한 장 고른 후 저장하고 불러옵니다.\n",
    "2. 불러온 이미지에 bicubic interpolation을 적용해 가로 및 세로 픽셀 수를 1/4로 줄입니다. cv2.resize()를 사용해 봅시다.\n",
    "3. 줄인 저해상도 이미지를 입력으로 SRGAN을 이용해 고해상도 이미지를 생성합니다. 이전에 사용한 apply_srgan 함수를 사용하면 쉽습니다.\n",
    "4. 2.의 이미지에 bicubic interpolation을 적용해 가로 및 세로 픽셀 수를 다시 4배로 늘립니다. 마찬가지로 cv2.resize()를 사용해 봅시다.\n",
    "5. 3개 이미지(4.의 Bicubic의 결과, 3.의 SRGAN의 결과, 1.의 원래 고해상도 이미지)를 나란히 시각화합니다. 각 이미지의 제목에 어떤 방법에 대한 결과인지 표시해 주세요. 이전 시각화에 사용했던 코드를 참고하면 어렵지 않습니다.\n",
    "6. 선택한 이미지를 DIV2K 데이터셋에서 학습된 모델로 Super Resolution했을 때 어떠한 결과가 나왔으며, 왜 이러한 결과가 출력되었는지 설명해 봅시다. (정답은 없습니다)"
   ]
  },
  {
   "cell_type": "markdown",
   "id": "corporate-basic",
   "metadata": {},
   "source": [
    "**프로젝트 1-2.**\n",
    "\n",
    "1. (적당히) 낮은 해상도를 가진 이미지를 검색해서 한 장 고른 후 저장하고 불러옵니다.\n",
    "2. 불러온 이미지를 입력으로 SRGAN을 이용해 고해상도 이미지를 생성합니다. 이전에 사용한 **apply_srgan** 함수를 사용하면 쉽습니다.\n",
    "3. 1.에서 불러온 이미지에 bicubic interpolation을 적용해 가로 및 세로 픽셀 수를 다시 4배로 늘립니다. **cv2.resize()**를 사용해 봅시다.\n",
    "4. 2개 이미지(3.의 Bicubic의 결과, 2.의 SRGAN의 결과)를 나란히 시각화합니다. 각 이미지의 제목에 어떤 방법에 대한 결과인지 표시해 주세요. 이전 시각화에 사용했던 코드를 참고하면 어렵지 않습니다.\n",
    "5. 선택한 이미지를 DIV2K 데이터셋에서 학습된 모델로 Super Resolution했을 때 어떠한 결과가 나왔으며, 왜 이러한 결과가 출력되었는지 설명해 봅시다. (정답은 없습니다)"
   ]
  },
  {
   "cell_type": "markdown",
   "id": "acoustic-wallet",
   "metadata": {},
   "source": [
    "### 프로젝트 2 : SRGAN을 이용해 고해상도 gif 생성하기\n",
    "---\n",
    "이전 Super Resolution의 활용 사례에 대해 살펴봤을 때, 단일 이미지가 아닌 영상에 대해 Super Resolution을 적용한 사례가 있었습니다. 이번에는 이미 학습된 SRGAN을 이용해 저해상도 영상을 고해상도 영상으로 바꿔보는 프로젝트를 수행해 봅시다.\n",
    "\n",
    "실제로 동영상의 Super Resolution은 시간 순서에 따른 다수의 프레임 정보를 고려하는 것이 더 좋지만, 처음부터 학습시키기에 많은 시간이 소요됩니다. 여기서는 이전에 사용했던 SRGAN을 이용해 한 프레임씩 고해상도 이미지로 변환 시켜 모든 프레임에 대해 적용하고, 그 프레임들을 합쳐 동영상으로 만들어 봅시다.\n",
    "\n",
    "각 프레임들을 모아 gif 파일을 만드는데 아래 라이브러리의 설치가 필요합니다."
   ]
  },
  {
   "cell_type": "markdown",
   "id": "exterior-german",
   "metadata": {},
   "source": [
    "> $ pip install imageio"
   ]
  },
  {
   "cell_type": "markdown",
   "id": "artistic-bridge",
   "metadata": {},
   "source": [
    "## 순서\n",
    "> **Step1.**  gif 파일 불러오기<br>\n",
    "**Step2.** 프레임별 Super Resolution 진행하기<br>\n",
    "**Step3.** 프레임을 합쳐 gif 만들기<br>\n",
    "**Step4.** Jupyter notebook에 gif 표시하기<br>"
   ]
  },
  {
   "cell_type": "markdown",
   "id": "occupational-thailand",
   "metadata": {},
   "source": [
    "### Step1. gif 파일 불러오기\n",
    "---\n",
    "아래 주소에 몇 개의 gif 파일이 있습니다. 이 중 하나를 골라 다운 로드하여 아래 과정을 수행합시다. (한 개 이상의 gif 파일에 대해 아래 과정을 수행해야 합니다!)\n",
    "\n",
    "[GIF files](https://drive.google.com/drive/folders/1OLsa4btdwNUiVJcOJgZe_C6-lwEoNr4e)\n",
    "\n",
    "다운받은 gif 파일을 아래와 같은 과정을 통해 각 프레임(이미지)을 불러올 수 있습니다. **`frames`**이란 리스트 안에 각각의 프레임이 들어 있습니다"
   ]
  },
  {
   "cell_type": "code",
   "execution_count": 1,
   "id": "presidential-belfast",
   "metadata": {
    "scrolled": true
   },
   "outputs": [
    {
     "name": "stdout",
     "output_type": "stream",
     "text": [
      "frame 수 : 0\n"
     ]
    },
    {
     "ename": "IndexError",
     "evalue": "list index out of range",
     "output_type": "error",
     "traceback": [
      "\u001b[0;31m---------------------------------------------------------------------------\u001b[0m",
      "\u001b[0;31mIndexError\u001b[0m                                Traceback (most recent call last)",
      "\u001b[0;32m<ipython-input-1-12aa62adc9d9>\u001b[0m in \u001b[0;36m<module>\u001b[0;34m\u001b[0m\n\u001b[1;32m     13\u001b[0m \u001b[0;34m\u001b[0m\u001b[0m\n\u001b[1;32m     14\u001b[0m \u001b[0mprint\u001b[0m\u001b[0;34m(\u001b[0m\u001b[0;34m\"frame 수 :\"\u001b[0m\u001b[0;34m,\u001b[0m \u001b[0mlen\u001b[0m\u001b[0;34m(\u001b[0m\u001b[0mframes\u001b[0m\u001b[0;34m)\u001b[0m\u001b[0;34m)\u001b[0m\u001b[0;34m\u001b[0m\u001b[0;34m\u001b[0m\u001b[0m\n\u001b[0;32m---> 15\u001b[0;31m \u001b[0mprint\u001b[0m\u001b[0;34m(\u001b[0m\u001b[0;34m\"frame 크기 :\"\u001b[0m\u001b[0;34m,\u001b[0m \u001b[0;34m(\u001b[0m\u001b[0mframes\u001b[0m\u001b[0;34m[\u001b[0m\u001b[0;36m0\u001b[0m\u001b[0;34m]\u001b[0m\u001b[0;34m.\u001b[0m\u001b[0mshape\u001b[0m\u001b[0;34m)\u001b[0m\u001b[0;34m)\u001b[0m\u001b[0;34m\u001b[0m\u001b[0;34m\u001b[0m\u001b[0m\n\u001b[0m",
      "\u001b[0;31mIndexError\u001b[0m: list index out of range"
     ]
    }
   ],
   "source": [
    "import cv2\n",
    "\n",
    "# 다운받은 파일의 경로를 설정해 주세요.\n",
    "gif = cv2.VideoCapture(\"저해상도.gif\")\n",
    "\n",
    "isTrue = True\n",
    "frames = []\n",
    "while isTrue:\n",
    "    isTrue, frame = gif.read()\n",
    "    if isTrue:\n",
    "        frame = cv2.cvtColor(frame, cv2.COLOR_BGR2RGB)\n",
    "        frames.append(frame)\n",
    "\n",
    "print(\"frame 수 :\", len(frames))\n",
    "print(\"frame 크기 :\", (frames[0].shape))"
   ]
  },
  {
   "cell_type": "markdown",
   "id": "handled-delight",
   "metadata": {},
   "source": [
    "### Step2. 프레임별 Super Resolution 진행하기\n",
    "---\n",
    "Bicubic interpolation과 SRGAN을 이용해 각각의 가로, 세로 픽셀 수를 4배로 늘려봅시다. Super Resolution이 완료된 각각의 결과를 **`frames_sr`**이라는 리스트에 넣어주세요."
   ]
  },
  {
   "cell_type": "markdown",
   "id": "hired-behavior",
   "metadata": {},
   "source": [
    "### Step3. 프레임을 합쳐 gif 만들기\n",
    "---\n",
    "위에서 **`frame_sr`**을 만들었다면 아래 코드와 같이 gif 파일을 생성할 수 있습니다. Bicubic 및 SRGAN의 결과를 각각 저장하여 2개 파일을 만들어 주세요."
   ]
  },
  {
   "cell_type": "code",
   "execution_count": null,
   "id": "rolled-february",
   "metadata": {},
   "outputs": [],
   "source": [
    "import imageio\n",
    "\n",
    "imageio.mimsave(\"고해상도.gif\", frames_sr)"
   ]
  },
  {
   "cell_type": "markdown",
   "id": "traditional-thriller",
   "metadata": {},
   "source": [
    "### Step4. Jupyter notebook에 gif 표시하기\n",
    "---\n",
    "아래와 같이 다운받은 저해상도 gif 파일과 고해상도 gif 파일을 각각 jupyter 내에 출력하여 최종 제출해 주시면 됩니다. jupyter 내에 출력이 어려운 경우, GitHub에 저해상도, 고해상도 gif파일을 업로드 후 링크를 첨부해주시기바랍니다. Super Resolution이 잘 적용되었는지 시각적으로 확인하기 위해 아래의 width 옵션을 적당히 크게 해주세요. 저해상도 및 고해상도 시각화의 width 값은 같도록 설정해주세요."
   ]
  },
  {
   "cell_type": "code",
   "execution_count": null,
   "id": "silent-editing",
   "metadata": {},
   "outputs": [],
   "source": [
    "from IPython.display import Image as show_gif\n",
    "\n",
    "show_gif(\"저해상도.gif\", width=800) # width 는 적당히 큰 값으로 설정해주세요"
   ]
  },
  {
   "cell_type": "code",
   "execution_count": null,
   "id": "enabling-decrease",
   "metadata": {},
   "outputs": [],
   "source": [
    "show_gif(\"고해상도.gif\", width=800) # 위에서 설정한 width와 같은 값으로 설정해주세요"
   ]
  },
  {
   "cell_type": "markdown",
   "id": "under-lender",
   "metadata": {},
   "source": [
    "# 루브릭 평가 기준\n",
    "---\n",
    "번호|평가문항|상세기준\n",
    "---|---|---\n",
    "1 |SRGAN을 이용해 고해상도의 이미지를 생성하였다.|데이터셋의 면밀한 분석을 토대로 세션단위 정의 과정(길이분석, 시간분석)을 합리적으로 수행한 과정이 기술되었다.\n",
    "2 |RNN 기반의 예측 모델이 정상적으로 구성되어 안정적으로 훈련이 진행되었다.|적절한 epoch만큼의 학습이 진행되는 과정에서 train loss가 안정적으로 감소하고, validation 단계에서의 Recall, MRR이 개선되는 것이 확인된다.\n",
    "3 |세션정의, 모델구조, 하이퍼파라미터 등을 변경해서 실험하여 Recall, MRR 등의 변화추이를 관찰하였다.|3가지 이상의 변화를 시도하고 그 실험결과를 체계적으로 분석하였다."
   ]
  },
  {
   "cell_type": "markdown",
   "id": "described-brass",
   "metadata": {},
   "source": [
    "# 회고\n",
    "---"
   ]
  },
  {
   "cell_type": "markdown",
   "id": "alternate-ratio",
   "metadata": {},
   "source": []
  },
  {
   "cell_type": "markdown",
   "id": "fitting-daughter",
   "metadata": {},
   "source": []
  },
  {
   "cell_type": "markdown",
   "id": "horizontal-greece",
   "metadata": {},
   "source": []
  },
  {
   "cell_type": "markdown",
   "id": "retained-japanese",
   "metadata": {},
   "source": []
  },
  {
   "cell_type": "markdown",
   "id": "abroad-version",
   "metadata": {},
   "source": []
  },
  {
   "cell_type": "markdown",
   "id": "applied-wagon",
   "metadata": {},
   "source": []
  },
  {
   "cell_type": "markdown",
   "id": "spoken-mechanism",
   "metadata": {},
   "source": []
  },
  {
   "cell_type": "markdown",
   "id": "clinical-province",
   "metadata": {},
   "source": []
  },
  {
   "cell_type": "markdown",
   "id": "pressed-sixth",
   "metadata": {},
   "source": []
  },
  {
   "cell_type": "markdown",
   "id": "agreed-hospital",
   "metadata": {},
   "source": []
  },
  {
   "cell_type": "markdown",
   "id": "capable-incentive",
   "metadata": {},
   "source": []
  }
 ],
 "metadata": {
  "kernelspec": {
   "display_name": "aiffel",
   "language": "python",
   "name": "aiffel"
  },
  "language_info": {
   "codemirror_mode": {
    "name": "ipython",
    "version": 3
   },
   "file_extension": ".py",
   "mimetype": "text/x-python",
   "name": "python",
   "nbconvert_exporter": "python",
   "pygments_lexer": "ipython3",
   "version": "3.7.9"
  }
 },
 "nbformat": 4,
 "nbformat_minor": 5
}
